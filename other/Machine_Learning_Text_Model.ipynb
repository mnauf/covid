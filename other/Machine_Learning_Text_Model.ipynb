{
  "nbformat": 4,
  "nbformat_minor": 0,
  "metadata": {
    "colab": {
      "name": "Machine_Learning_Text_Model.ipynb",
      "provenance": [],
      "collapsed_sections": []
    },
    "kernelspec": {
      "name": "python3",
      "display_name": "Python 3"
    }
  },
  "cells": [
    {
      "cell_type": "code",
      "metadata": {
        "id": "7PnU1260K4ou",
        "colab_type": "code",
        "colab": {
          "base_uri": "https://localhost:8080/",
          "height": 89
        },
        "outputId": "bcaffa75-cd74-4e77-d4c8-185d149a4d56"
      },
      "source": [
        "# Imports\n",
        "\n",
        "import pandas as pd\n",
        "import numpy as np\n",
        "import re\n",
        "from sklearn.ensemble import RandomForestClassifier as rf\n",
        "from sklearn.model_selection import train_test_split\n",
        "from keras.preprocessing.sequence import pad_sequences\n",
        "from sklearn.svm import SVC\n",
        "from sklearn.metrics import confusion_matrix\n",
        "import seaborn\n",
        "import matplotlib.pyplot as plt\n",
        "from sklearn.utils import resample\n",
        "from sklearn.linear_model import LogisticRegression\n",
        "from sklearn.model_selection import cross_val_score\n",
        "from sklearn.metrics import f1_score\n"
      ],
      "execution_count": 1,
      "outputs": [
        {
          "output_type": "stream",
          "text": [
            "Using TensorFlow backend.\n",
            "/usr/local/lib/python3.6/dist-packages/statsmodels/tools/_testing.py:19: FutureWarning: pandas.util.testing is deprecated. Use the functions in the public API at pandas.testing instead.\n",
            "  import pandas.util.testing as tm\n"
          ],
          "name": "stderr"
        }
      ]
    },
    {
      "cell_type": "code",
      "metadata": {
        "id": "6zmx2l8e0UwQ",
        "colab_type": "code",
        "outputId": "ef553a4f-f69e-4704-a9d5-8b65d0a6c86b",
        "colab": {
          "base_uri": "https://localhost:8080/",
          "height": 124
        }
      },
      "source": [
        "from google.colab import drive\n",
        "drive.mount('/content/drive')"
      ],
      "execution_count": 2,
      "outputs": [
        {
          "output_type": "stream",
          "text": [
            "Go to this URL in a browser: https://accounts.google.com/o/oauth2/auth?client_id=947318989803-6bn6qk8qdgf4n4g3pfee6491hc0brc4i.apps.googleusercontent.com&redirect_uri=urn%3aietf%3awg%3aoauth%3a2.0%3aoob&response_type=code&scope=email%20https%3a%2f%2fwww.googleapis.com%2fauth%2fdocs.test%20https%3a%2f%2fwww.googleapis.com%2fauth%2fdrive%20https%3a%2f%2fwww.googleapis.com%2fauth%2fdrive.photos.readonly%20https%3a%2f%2fwww.googleapis.com%2fauth%2fpeopleapi.readonly\n",
            "\n",
            "Enter your authorization code:\n",
            "··········\n",
            "Mounted at /content/drive\n"
          ],
          "name": "stdout"
        }
      ]
    },
    {
      "cell_type": "code",
      "metadata": {
        "id": "Xc1b6hkvI0uc",
        "colab_type": "code",
        "colab": {}
      },
      "source": [
        "# Read the curated .csv file into a pandas df\n",
        "\n",
        "\n",
        "curated_results = pd.read_excel(r<PATH>, error_bad_lines=False)\n",
        "curated_results\n",
        "\n",
        "\n",
        "\n"
      ],
      "execution_count": 0,
      "outputs": []
    },
    {
      "cell_type": "code",
      "metadata": {
        "id": "qIWbizsiCxqv",
        "colab_type": "code",
        "colab": {
          "base_uri": "https://localhost:8080/",
          "height": 72
        },
        "outputId": "79385497-b6d2-4f1b-99d4-94e432035558"
      },
      "source": [
        "# Extract only the POSITIVE and NEGATIVE labeled data\n",
        "\n",
        "#curated_results_f1 = curated_results[curated_results.patient_mrn != 'UNMAPPED']\n",
        "\n",
        "# TODO: Fix this filter, as it is not working\n",
        "#curated_results_f2 = curated_results_f1[curated_results.corona_test\t!= 'REPEAT ']\n",
        "\n",
        "curated_results_f2 = curated_results[curated_results.corona_test\t!= 'REPEAT ']\n",
        "curated_results_f2 = curated_results_f2[curated_results.corona_test\t!= 'Not Tested']\n",
        "\n"
      ],
      "execution_count": 9,
      "outputs": [
        {
          "output_type": "stream",
          "text": [
            "/usr/local/lib/python3.6/dist-packages/ipykernel_launcher.py:3: UserWarning: Boolean Series key will be reindexed to match DataFrame index.\n",
            "  This is separate from the ipykernel package so we can avoid doing imports until\n"
          ],
          "name": "stderr"
        }
      ]
    },
    {
      "cell_type": "code",
      "metadata": {
        "id": "hV8i7iuzF3GA",
        "colab_type": "code",
        "outputId": "76da7b7c-6b2e-4c30-d4d1-9bd8cff054d3",
        "colab": {
          "base_uri": "https://localhost:8080/",
          "height": 52
        }
      },
      "source": [
        "# Convert to a np array \n",
        "\n",
        "\n",
        "\n",
        "curated_results_f2.loc[curated_results_f2['corona_test'] == 'POSTIVE', 'corona_test'] = 'POSITIVE'\n",
        "positive_sample_df =  curated_results_f2[curated_results_f2.corona_test == 'POSITIVE']\n",
        "negative_sample_df = curated_results_f2[curated_results_f2.corona_test == 'NEGATIVE']\n",
        "\n",
        "\n",
        "\n",
        "\n",
        "curated_results_f2.loc[curated_results_f2['gender'] == 'male', 'gender'] = 'MALE'\n",
        "curated_results_f2.loc[curated_results_f2['gender'] == 'female', 'gender'] = 'FEMALE'\n",
        "positive_sample_array = np.asarray(positive_sample_df)\n",
        "negative_sample_array = np.asarray(negative_sample_df)\n",
        "\n",
        "\n",
        "print(\"There are \" , positive_sample_array.shape[0] , \"positive samples in total\")\n",
        "print(\"There are \" , negative_sample_array.shape[0] , \"negative samples in total\")\n",
        "\n",
        "\n",
        "\n",
        "# Save the curated_results_f2 df to a .csv file\n",
        "save_path = <PATH>\n",
        "curated_results_f2.to_csv(save_path)"
      ],
      "execution_count": 11,
      "outputs": [
        {
          "output_type": "stream",
          "text": [
            "There are  16 positive samples in total\n",
            "There are  66 negative samples in total\n"
          ],
          "name": "stdout"
        }
      ]
    },
    {
      "cell_type": "code",
      "metadata": {
        "id": "2pPCLQxR_Vc_",
        "colab_type": "code",
        "colab": {}
      },
      "source": [
        "\n",
        "negative_num_samples = len(negative_sample_df)\n",
        "\n",
        "# Upsample minority class\n",
        "df_pos_upsampled = resample(positive_sample_df, \n",
        "                                 replace=True,     # sample with replacement\n",
        "                                 n_samples=negative_num_samples,    # to match majority class\n",
        "                                 random_state=123) # reproducible results\n",
        "\n",
        "\n",
        "df_upsampled = pd.concat([negative_sample_df, df_pos_upsampled])"
      ],
      "execution_count": 0,
      "outputs": []
    },
    {
      "cell_type": "code",
      "metadata": {
        "id": "J_5jaXWy_18B",
        "colab_type": "code",
        "outputId": "7667b293-e2ce-47b5-8c17-d94640b24856",
        "colab": {
          "base_uri": "https://localhost:8080/",
          "height": 52
        }
      },
      "source": [
        "\n",
        "print(\"There are \" , negative_num_samples, \"positive upsampled samples in total\")\n",
        "print(\"There are \" ,  negative_num_samples, \"negative upsampled samples in total\")"
      ],
      "execution_count": 13,
      "outputs": [
        {
          "output_type": "stream",
          "text": [
            "There are  66 positive upsampled samples in total\n",
            "There are  66 negative upsampled samples in total\n"
          ],
          "name": "stdout"
        }
      ]
    },
    {
      "cell_type": "code",
      "metadata": {
        "id": "5o0cYQj6LS7V",
        "colab_type": "code",
        "outputId": "80af8687-0c96-4da7-f7d9-71dad34dbb53",
        "colab": {
          "base_uri": "https://localhost:8080/",
          "height": 55
        }
      },
      "source": [
        "# Extract Medical History and convert to dictionary with numbers\n",
        "\n",
        "med_history_array = df_upsampled['medical_history']\n",
        "\n",
        "\n",
        "\n",
        "#med_history_array = str(med_history_array)\n",
        "\n",
        "\n",
        "## Parse the med_history_array and find unique comma seperated strings \n",
        "\n",
        "med_history_dict = {}\n",
        "index = 0\n",
        "\n",
        "for entry in med_history_array:\n",
        "    entry = str(entry)\n",
        "    history_list = entry.split(\",\")\n",
        "    for hist in history_list:\n",
        "      hist = hist.strip()\n",
        "      hist_string = str(hist)\n",
        "      if hist_string not in med_history_dict and 'None' not in hist and hist is not '' and 'nan' not in hist_string:    \n",
        "        med_history_dict[hist_string] = index       \n",
        "        index += 1\n",
        "\n",
        "\n",
        "print(\"The dictionary with numbers: \", med_history_dict)\n"
      ],
      "execution_count": 14,
      "outputs": [
        {
          "output_type": "stream",
          "text": [
            "The dictionary with numbers:  {'Diabetes with complications': 0, 'Asthma or chronic lung disease': 1, 'Disease or conditions that make it harder to cough': 2, 'Congestive heart failure': 3, 'Extreme obesity': 4}\n"
          ],
          "name": "stdout"
        }
      ]
    },
    {
      "cell_type": "code",
      "metadata": {
        "id": "BIO-NOHWRwAV",
        "colab_type": "code",
        "outputId": "74c26be0-1944-471e-812d-47b5dc783046",
        "colab": {
          "base_uri": "https://localhost:8080/",
          "height": 35
        }
      },
      "source": [
        "# Assign the patients numerical history combination to an array\n",
        "\n",
        "x_hist_text_train = []\n",
        "\n",
        "\n",
        "for entry in df_upsampled['medical_history']:\n",
        "  entry = str(entry)\n",
        "  num_seq = []\n",
        "  if 'None' not in entry:\n",
        "    for string in entry.split(\",\"):\n",
        "      if string is not '' and 'nan' not in string:\n",
        "        num_seq.append(med_history_dict[string])\n",
        "\n",
        "\n",
        "  final_array = np.asarray(num_seq) \n",
        "\n",
        "  x_hist_text_train.append(final_array)\n",
        "\n",
        "\n",
        "x_hist_text_train = np.asarray(x_hist_text_train)\n",
        "print('The shape of the x_text_train is ' , x_hist_text_train.shape)\n",
        "\n",
        "x_hist_text_train = pad_sequences(x_hist_text_train)\n",
        "\n",
        "\n"
      ],
      "execution_count": 16,
      "outputs": [
        {
          "output_type": "stream",
          "text": [
            "The shape of the x_text_train is  (132,)\n"
          ],
          "name": "stdout"
        }
      ]
    },
    {
      "cell_type": "code",
      "metadata": {
        "id": "0l5jU_sChzSC",
        "colab_type": "code",
        "outputId": "4d192da7-63e4-4b0e-c6e2-4ccaf4ccb6f4",
        "colab": {
          "base_uri": "https://localhost:8080/",
          "height": 55
        }
      },
      "source": [
        "# Extract patient reported symptoms and convert to dictionary with numbers \n",
        "\n",
        "\n",
        "## Parse the med_history_array and find unique comma seperated strings \n",
        "\n",
        "symptom_dict = {}\n",
        "index = 7\n",
        "\n",
        "for entry in df_upsampled['patient_reported_symptoms']:\n",
        "    entry = str(entry)\n",
        "    split_entry = re.findall('[A-Z][^A-Z]*', entry)\n",
        "    for symptom in split_entry:\n",
        "      symptom = symptom.strip().replace(',' , '')\n",
        "      \n",
        "      if symptom not in symptom_dict and 'None' not in symptom and 'nan' not in symptom:\n",
        "        symptom_dict[symptom] = index\n",
        "        index += 1\n",
        "\n",
        "print(\"The dictionary with numbers: \", symptom_dict)\n"
      ],
      "execution_count": 17,
      "outputs": [
        {
          "output_type": "stream",
          "text": [
            "The dictionary with numbers:  {'Fever chills or sweating': 7, 'New or worsening cough': 8, 'Shortness of breath': 9, 'Loss of taste': 10, 'Loss of smell': 11, 'Sore throat': 12, 'Body aches': 13}\n"
          ],
          "name": "stdout"
        }
      ]
    },
    {
      "cell_type": "code",
      "metadata": {
        "id": "jg4wy2FsnATn",
        "colab_type": "code",
        "outputId": "29e8929b-51c2-4ff8-aab5-9862fd043a6f",
        "colab": {
          "base_uri": "https://localhost:8080/",
          "height": 35
        }
      },
      "source": [
        "# Assign the patients numerical symptom combination to an array\n",
        "\n",
        "x_symp_text_train =  [] \n",
        "\n",
        "\n",
        "for entry in df_upsampled['patient_reported_symptoms']:\n",
        "  entry = str(entry)\n",
        "  num_seq = []\n",
        "  \n",
        "    \n",
        "  split_entry = re.findall('[A-Z][^A-Z]*', entry)\n",
        "\n",
        "  for symptom in split_entry:\n",
        "      symptom = symptom.strip().replace(',' , '')\n",
        "\n",
        "      if 'None' not in symptom and 'nan' not in symptom:\n",
        "        num_seq.append(symptom_dict[symptom])\n",
        "\n",
        "  final_array = np.asarray(num_seq) \n",
        "\n",
        "  x_symp_text_train.append(final_array)\n",
        "    \n",
        "\n",
        "x_symp_text_train = np.asarray(x_symp_text_train)\n",
        "print('The shape of the x_text_train is ' , x_symp_text_train.shape)\n",
        "\n",
        "x_symp_text_train = pad_sequences(x_symp_text_train)\n",
        "\n",
        "\n",
        "\n"
      ],
      "execution_count": 18,
      "outputs": [
        {
          "output_type": "stream",
          "text": [
            "The shape of the x_text_train is  (132,)\n"
          ],
          "name": "stdout"
        }
      ]
    },
    {
      "cell_type": "code",
      "metadata": {
        "id": "S_9KCZRZGn-m",
        "colab_type": "code",
        "colab": {}
      },
      "source": [
        "# Convert the smoking info into digits \n",
        "\n",
        "df_upsampled.loc[df_upsampled['smoker'] == 'no', 'smoker'] = 0.0\n",
        "df_upsampled.loc[df_upsampled['smoker'] == 'yes', 'smoker'] = 1.0\n",
        "\n",
        "\n",
        "df_upsampled.loc[df_upsampled['gender'] == 'FEMALE', 'gender'] = 1.0\n",
        "df_upsampled.loc[df_upsampled['gender'] == 'MALE', 'gender'] = 0.0\n",
        "smoker_array = df_upsampled['smoker'].fillna(-1.0)\n",
        "\n",
        "\n",
        "smoking_array = np.asarray(df_upsampled['smoker'])\n",
        "\n",
        "\n",
        "\n",
        "age_array = np.asarray(df_upsampled['age'])\n",
        "\n",
        "#Discretize age\n",
        "for i in range (0 , age_array.size):\n",
        "  if age_array[i] >= 18 and age_array[i] <= 30:\n",
        "    age_array[i] = 0\n",
        "  elif age_array[i] >= 31 and age_array[i] <= 40:\n",
        "    age_array[i] = 1\n",
        "  elif age_array[i] >= 41 and age_array[i] <= 55:\n",
        "    age_array[i] = 2\n",
        "  elif age_array[i] > 55:\n",
        "    age_array[i] = 3\n",
        "\n",
        "gender_array = np.asarray(df_upsampled['gender'])\n",
        "\n"
      ],
      "execution_count": 0,
      "outputs": []
    },
    {
      "cell_type": "code",
      "metadata": {
        "id": "ZoMt2OpUS-8G",
        "colab_type": "code",
        "colab": {}
      },
      "source": [
        "# Convert the y strings to digits\n",
        "\n",
        "df_upsampled.loc[df_upsampled['corona_test'] == 'NEGATIVE', 'corona_test'] = 0.0\n",
        "df_upsampled.loc[df_upsampled['corona_test'] == 'POSITIVE', 'corona_test'] = 1.0\n",
        "#df.loc[df['corona_test'] == 'Not Tested', 'corona_test'] = -1\n",
        "\n",
        "y_text_array = np.asarray(df_upsampled['corona_test'])\n",
        "\n",
        "\n"
      ],
      "execution_count": 0,
      "outputs": []
    },
    {
      "cell_type": "code",
      "metadata": {
        "id": "0PR9NmKPo7sc",
        "colab_type": "code",
        "outputId": "9a1dc29e-9b9e-439a-b2c9-2e5fb4ab224f",
        "colab": {
          "base_uri": "https://localhost:8080/",
          "height": 35
        }
      },
      "source": [
        "\n",
        "print('The shape of the y_text_train is ' , y_text_array.shape)\n"
      ],
      "execution_count": 37,
      "outputs": [
        {
          "output_type": "stream",
          "text": [
            "The shape of the y_text_train is  (132,)\n"
          ],
          "name": "stdout"
        }
      ]
    },
    {
      "cell_type": "code",
      "metadata": {
        "id": "Lfyc8xDbM8Wi",
        "colab_type": "code",
        "colab": {}
      },
      "source": [
        "# Combine the medical history input x, the symptom x ,\n",
        "# the age x , and the smoking x , the gender x into one final x array\n",
        "\n",
        "input_x_array = np.hstack((x_hist_text_train , x_symp_text_train))\n",
        "\n",
        "# Sort the sequences \n",
        "input_x_array.sort(axis=1)\n",
        "# Conver to binary values\n",
        "input_x_array[input_x_array != 0] = 1.0\n",
        "input_x_array[input_x_array == 0] = 0.0\n",
        "\n",
        "age_array_2d = np.expand_dims(age_array , axis =1)\n",
        "smoker_array_2d = np.expand_dims(smoker_array , axis=1)\n",
        "gender_array_2d = np.expand_dims(gender_array , axis=1)\n",
        "\n",
        "input_x_array = np.hstack((input_x_array , age_array_2d , smoker_array_2d , gender_array_2d))\n",
        "# Use the input_x_array to feed into both deep learning and statistical models.\n",
        "\n",
        "y_text_array = y_text_array.astype('int')"
      ],
      "execution_count": 0,
      "outputs": []
    },
    {
      "cell_type": "code",
      "metadata": {
        "id": "7XkIBouSezc4",
        "colab_type": "code",
        "colab": {}
      },
      "source": [
        "# Split into train, validate, and test\n",
        "\n",
        "## Question: How should we split the data-sets?\n",
        "\n",
        "\n",
        "def split_data(input_x_array , y_text_array , test_size=0.2 , random_state=1 ):\n",
        "\n",
        "\n",
        "  X_train, X_test, y_train, y_test = train_test_split(input_x_array, y_text_array, test_size=0.2, random_state=1) # What shouldd the X be?\n",
        "\n",
        "  X_train, X_val, y_train, y_val = train_test_split(X_train, y_train, test_size=0.5, random_state=1) # 0.5 x 0.8 = 0.4\n",
        "\n",
        "  \n",
        "  return X_train, X_val, y_train, y_val , X_test , y_test\n",
        "\n"
      ],
      "execution_count": 0,
      "outputs": []
    },
    {
      "cell_type": "code",
      "metadata": {
        "id": "FfWSIAusabF5",
        "colab_type": "code",
        "outputId": "d6227d87-4a84-4d8a-93b3-c9e8555d2524",
        "colab": {
          "base_uri": "https://localhost:8080/",
          "height": 69
        }
      },
      "source": [
        "# Random Forest Classifer\n",
        "\n",
        "def rf_model(x_train , y_train , x_val , y_val , x_test , y_test):\n",
        "  model = rf()\n",
        "  model.fit(x_train , y_train)\n",
        "  \n",
        "  # Evaluate the model\n",
        "\n",
        "\n",
        "  \n",
        "  score = model.score(x_val , y_val)\n",
        "  predictions = model.predict(x_val)\n",
        "  return score , predictions\n",
        "\n",
        "\n",
        "# Perfrom ten times and average the results\n",
        "\n",
        "\n",
        "num_times = 50\n",
        "total_acc = np.zeros(num_times)\n",
        "\n",
        "predictions_rf = []\n",
        "\n",
        "for i in range(0, num_times):\n",
        "  X_train, X_val, y_train, y_val , X_test , y_test = split_data(input_x_array , y_text_array)\n",
        "  acc , predictions_rf = rf_model(X_train , y_train, X_val , y_val , X_test , y_test)\n",
        "  total_acc[i] = acc\n",
        "\n",
        "mean = np.mean(total_acc)\n",
        "\n",
        "print('The mean accuracy after ' , num_times , ' times is '  , mean)\n",
        "\n",
        "# K fold cross val\n",
        "\n",
        "cv=10\n",
        "model = rf()\n",
        "\n",
        "\n",
        "\n",
        "X_train, X_test, y_train, y_test = train_test_split(input_x_array, y_text_array, test_size=0.1, random_state=1) # What shouldd the X be?\n",
        "scores = cross_val_score(model, X_train, y_train, cv=cv)\n",
        "rf_cv_acc , rf_cv_std = scores.mean() , scores.std()\n",
        "print(\"Accuracy after \" , cv , \" fold cross validation is : %0.2f (+/- %0.2f)\" % (scores.mean(), scores.std() * 2))\n",
        "\n",
        "rf_f1_score = f1_score(y_val, predictions_rf, average='macro')\n",
        "print(\"Random Forest F1 score is : %0.2f\" % (rf_f1_score))"
      ],
      "execution_count": 40,
      "outputs": [
        {
          "output_type": "stream",
          "text": [
            "The mean accuracy after  50  times is  0.8079245283018868\n",
            "Accuracy after  10  fold cross validation is : 0.93 (+/- 0.13)\n",
            "Random Forest F1 score is : 0.83\n"
          ],
          "name": "stdout"
        }
      ]
    },
    {
      "cell_type": "code",
      "metadata": {
        "id": "AWrDZrNaUOaw",
        "colab_type": "code",
        "outputId": "b53a870d-9c4b-4a84-adf2-bc5db5a78a7a",
        "colab": {
          "base_uri": "https://localhost:8080/",
          "height": 475
        }
      },
      "source": [
        "# RF Heatmap \n",
        "\n",
        "\n",
        "CM = confusion_matrix(y_val, predictions_rf)\n",
        "\n",
        "\n",
        "\n",
        "df_cm = pd.DataFrame(CM, index = [\"Pos\" , \"Neg\"],\n",
        "                  columns = [\"Pos\" , \"Neg\"])\n",
        "plt.figure(figsize = (10,7))\n",
        "\n",
        "plt.title('Confusion Matrix for Random Forest Text Classifier')\n",
        "df_cm.index.name = 'Actual'\n",
        "df_cm.columns.name = 'Predicted'\n",
        "seaborn.heatmap(df_cm, annot=True)\n"
      ],
      "execution_count": 41,
      "outputs": [
        {
          "output_type": "execute_result",
          "data": {
            "text/plain": [
              "<matplotlib.axes._subplots.AxesSubplot at 0x7fda6b639208>"
            ]
          },
          "metadata": {
            "tags": []
          },
          "execution_count": 41
        },
        {
          "output_type": "display_data",
          "data": {
            "image/png": "[encoded data removed]",
            "text/plain": [
              "<Figure size 720x504 with 2 Axes>"
            ]
          },
          "metadata": {
            "tags": [],
            "needs_background": "light"
          }
        }
      ]
    },
    {
      "cell_type": "code",
      "metadata": {
        "id": "DZ7xCMb1zmOJ",
        "colab_type": "code",
        "outputId": "d67adb65-494c-4451-a18a-056db201c072",
        "colab": {
          "base_uri": "https://localhost:8080/",
          "height": 69
        }
      },
      "source": [
        "#  SVM \n",
        "def svm_model(x_train , y_train , x_test , y_test , kernel , C):\n",
        "  model = SVC(C=C ,  kernel=kernel)\n",
        "  model.fit(x_train , y_train)\n",
        "  \n",
        "  predictions_svm = model.predict(x_test)\n",
        "  # Evaluate the model\n",
        "  score = model.score(x_test , y_test)\n",
        "  return score , predictions_svm\n",
        "\n",
        "\n",
        "num_times = 50\n",
        "total_acc = np.zeros(num_times)\n",
        "predictions_svm = []\n",
        "for i in range(0, num_times):\n",
        "  X_train, X_val, y_train, y_val , X_test , y_test = split_data(input_x_array , y_text_array) #Ensure class balance\n",
        "  acc , predictions_svm = svm_model(X_train , y_train, X_val , y_val , kernel='rbf' , C=1.0) \n",
        "\n",
        "  total_acc[i] = acc\n",
        "\n",
        "mean = np.mean(total_acc)\n",
        "\n",
        "print('The mean accuracy after ' , num_times , ' times is '  , mean)\n",
        "\n",
        "# K fold cross val\n",
        "\n",
        "cv=10\n",
        "C=1\n",
        "\n",
        "kernel = 'rbf'\n",
        "\n",
        "model = SVC(C=C ,  kernel=kernel)\n",
        "\n",
        "\n",
        "\n",
        "X_train, X_test, y_train, y_test = train_test_split(input_x_array, y_text_array, test_size=0.1, random_state=1) # What shouldd the X be?\n",
        "scores = cross_val_score(model, X_train, y_train, cv=cv)\n",
        "svm_cv_acc , svm_cv_std = scores.mean() , scores.std()\n",
        "print(\"Accuracy after \" , cv , \" fold cross validation is : %0.2f (+/- %0.2f)\" % (scores.mean(), scores.std() * 2))\n",
        "\n",
        "svm_f1_score = f1_score(y_val, predictions_svm, average='macro')\n",
        "print(\"The SVM F1 score is : %0.2f\" % (svm_f1_score))"
      ],
      "execution_count": 42,
      "outputs": [
        {
          "output_type": "stream",
          "text": [
            "The mean accuracy after  50  times is  0.7358490566037736\n",
            "Accuracy after  10  fold cross validation is : 0.75 (+/- 0.28)\n",
            "The SVM F1 score is : 0.74\n"
          ],
          "name": "stdout"
        }
      ]
    },
    {
      "cell_type": "code",
      "metadata": {
        "id": "Gfgzryu0YqmE",
        "colab_type": "code",
        "outputId": "2d9c08f1-76f6-4b11-8533-777bc25e2b9e",
        "colab": {
          "base_uri": "https://localhost:8080/",
          "height": 475
        }
      },
      "source": [
        "# SVM Heatmap \n",
        "\n",
        "\n",
        "CM = confusion_matrix(y_val, predictions_svm)\n",
        "\n",
        "\n",
        "\n",
        "df_cm = pd.DataFrame(CM, index = [\"Pos\" , \"Neg\"],\n",
        "                  columns = [\"Pos\" , \"Neg\"])\n",
        "plt.figure(figsize = (10,7))\n",
        "df_cm.index.name = 'Actual'\n",
        "df_cm.columns.name = 'Predicted'\n",
        "plt.title('Confusion Matrix for SVM Text Classifier')\n",
        "seaborn.heatmap(df_cm, annot=True)"
      ],
      "execution_count": 43,
      "outputs": [
        {
          "output_type": "execute_result",
          "data": {
            "text/plain": [
              "<matplotlib.axes._subplots.AxesSubplot at 0x7fda6b6390f0>"
            ]
          },
          "metadata": {
            "tags": []
          },
          "execution_count": 43
        },
        {
          "output_type": "display_data",
          "data": {
            "image/png": "[encoded data removed]",
            "text/plain": [
              "<Figure size 720x504 with 2 Axes>"
            ]
          },
          "metadata": {
            "tags": [],
            "needs_background": "light"
          }
        }
      ]
    },
    {
      "cell_type": "code",
      "metadata": {
        "id": "itR6UITYqk4K",
        "colab_type": "code",
        "outputId": "ebb9c85d-dfb4-4333-a771-0b5e3fd73ba8",
        "colab": {
          "base_uri": "https://localhost:8080/",
          "height": 69
        }
      },
      "source": [
        "# Logistic Regression\n",
        "\n",
        "\n",
        "def logistic_reg_model(x_train , y_train , x_test , y_test):\n",
        "  model =  LogisticRegression()\n",
        "  model.fit(x_train , y_train)\n",
        "  \n",
        "  predictions_log = model.predict(x_test)\n",
        "  # Evaluate the model\n",
        "  score = model.score(x_test , y_test)\n",
        "  return score , predictions_log\n",
        "\n",
        "\n",
        "num_times = 50\n",
        "total_acc = np.zeros(num_times)\n",
        "predictions_log = []\n",
        "for i in range(0, num_times):\n",
        "  X_train, X_val, y_train, y_val , X_test , y_test = split_data(input_x_array , y_text_array) #Ensure class balance\n",
        "  acc , predictions_log = logistic_reg_model(X_train , y_train, X_val , y_val)\n",
        "\n",
        "  total_acc[i] = acc\n",
        "\n",
        "mean = np.mean(total_acc)\n",
        "\n",
        "print('The mean accuracy after ' , num_times , ' times is '  , mean)\n",
        "\n",
        "# K fold cross val\n",
        "cv=10\n",
        "X_train, X_test, y_train, y_test = train_test_split(input_x_array, y_text_array, test_size=0.1, random_state=1) # What shouldd the X be?\n",
        "model =  LogisticRegression(max_iter=1000)\n",
        "scores = cross_val_score(model, X_train, y_train, cv=cv)\n",
        "\n",
        "log_cv_acc , log_cv_std = scores.mean() , scores.std()\n",
        "print(\"Accuracy after \" , cv , \" fold cross validation is : %0.2f (+/- %0.2f)\" % (scores.mean(), scores.std() * 2))\n",
        "\n",
        "log_reg_f1_score = f1_score(y_val, predictions_log, average='macro')\n",
        "print(\"The Logistic Regression F1 score is : %0.2f\" % (log_reg_f1_score))"
      ],
      "execution_count": 44,
      "outputs": [
        {
          "output_type": "stream",
          "text": [
            "The mean accuracy after  50  times is  0.660377358490566\n",
            "Accuracy after  10  fold cross validation is : 0.71 (+/- 0.26)\n",
            "The Logistic Regression F1 score is : 0.66\n"
          ],
          "name": "stdout"
        }
      ]
    },
    {
      "cell_type": "code",
      "metadata": {
        "id": "rWlcQwzduW57",
        "colab_type": "code",
        "outputId": "fc25e083-fba8-4d4d-d25b-b8ff61ad3399",
        "colab": {
          "base_uri": "https://localhost:8080/",
          "height": 475
        }
      },
      "source": [
        "# Logistic Regression Heatmap \n",
        "\n",
        "CM = confusion_matrix(y_val, predictions_log)\n",
        "\n",
        "\n",
        "\n",
        "df_cm = pd.DataFrame(CM, index = [\"Pos\" , \"Neg\"],\n",
        "                  columns = [\"Pos\" , \"Neg\"])\n",
        "plt.figure(figsize = (10,7))\n",
        "df_cm.index.name = 'Actual'\n",
        "df_cm.columns.name = 'Predicted'\n",
        "plt.title('Confusion Matrix for Logistic Regression Text Classifier')\n",
        "seaborn.heatmap(df_cm, annot=True)\n"
      ],
      "execution_count": 45,
      "outputs": [
        {
          "output_type": "execute_result",
          "data": {
            "text/plain": [
              "<matplotlib.axes._subplots.AxesSubplot at 0x7fda6b416080>"
            ]
          },
          "metadata": {
            "tags": []
          },
          "execution_count": 45
        },
        {
          "output_type": "display_data",
          "data": {
            "image/png": "[encoded data removed]",
            "text/plain": [
              "<Figure size 720x504 with 2 Axes>"
            ]
          },
          "metadata": {
            "tags": [],
            "needs_background": "light"
          }
        }
      ]
    },
    {
      "cell_type": "code",
      "metadata": {
        "id": "e7kkZM0_t-BT",
        "colab_type": "code",
        "outputId": "b240d3dc-092b-4133-ee77-0b742af78399",
        "colab": {
          "base_uri": "https://localhost:8080/",
          "height": 297
        }
      },
      "source": [
        "# Benchmark Different Model Accuracy\n",
        "\n",
        "model_names = ['Random Forest' , 'SVM' , 'Log. Regression']\n",
        "x_pos = np.arange(len(model_names))\n",
        "model_acc_means = [rf_cv_acc , svm_cv_acc , log_cv_acc]\n",
        "model_acc_stds = [rf_cv_std , svm_cv_std , log_cv_std]\n",
        "\n",
        "\n",
        "fig, ax = plt.subplots()\n",
        "ax.bar(x_pos, model_acc_means, yerr=model_acc_stds, align='center', alpha=0.5, ecolor='black', capsize=10)\n",
        "ax.set_ylabel('10 Fold Cross Val Accuracy')\n",
        "ax.set_xticks(x_pos)\n",
        "ax.set_xticklabels(model_names)\n",
        "ax.set_title('Text Model Accuracy Benchmarking')\n",
        "ax.yaxis.grid(True)\n",
        "\n",
        "# Save the figure and show\n",
        "plt.tight_layout()\n",
        "plt.savefig('text_model_benchmark_acc.png')\n",
        "plt.show()"
      ],
      "execution_count": 46,
      "outputs": [
        {
          "output_type": "display_data",
          "data": {
            "image/png": "[encoded data removed]",
            "text/plain": [
              "<Figure size 432x288 with 1 Axes>"
            ]
          },
          "metadata": {
            "tags": [],
            "needs_background": "light"
          }
        }
      ]
    },
    {
      "cell_type": "code",
      "metadata": {
        "id": "9gXmc6q8aFyH",
        "colab_type": "code",
        "outputId": "d2800f2a-e866-4a17-a722-4dc2f92ea47d",
        "colab": {
          "base_uri": "https://localhost:8080/",
          "height": 297
        }
      },
      "source": [
        "# Benchmarking Model F1 Scores\n",
        "\n",
        "model_names = ['Random Forest' , 'SVM' , 'Log. Regression']\n",
        "x_pos = np.arange(len(model_names))\n",
        "model_acc_means = [rf_f1_score , svm_f1_score , log_reg_f1_score]\n",
        "\n",
        "\n",
        "\n",
        "fig, ax = plt.subplots()\n",
        "ax.bar(x_pos, model_acc_means, align='center', color='green' , ecolor='black', capsize=10)\n",
        "ax.set_ylabel('F1 Score')\n",
        "ax.set_xticks(x_pos)\n",
        "ax.set_xticklabels(model_names)\n",
        "ax.set_title('Text Model F1 Score Benchmarking')\n",
        "ax.yaxis.grid(True)\n",
        "\n",
        "# Save the figure and show\n",
        "plt.tight_layout()\n",
        "plt.savefig('text_model_benchmark_f1_score.png')\n",
        "plt.show()"
      ],
      "execution_count": 47,
      "outputs": [
        {
          "output_type": "display_data",
          "data": {
            "image/png": "[encoded data removed]",
            "text/plain": [
              "<Figure size 432x288 with 1 Axes>"
            ]
          },
          "metadata": {
            "tags": [],
            "needs_background": "light"
          }
        }
      ]
    }
  ]
}