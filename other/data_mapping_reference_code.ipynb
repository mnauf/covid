{
 "cells": [
  {
   "cell_type": "markdown",
   "metadata": {},
   "source": [
    "# This work is for colab"
   ]
  },
  {
   "cell_type": "code",
   "execution_count": 0,
   "metadata": {
    "colab": {},
    "colab_type": "code",
    "id": "zm_8pDq1O2t0"
   },
   "outputs": [],
   "source": [
    "import pandas as pd\n",
    "import numpy as np\n",
    "import re\n",
    "from sklearn.ensemble import RandomForestClassifier as rf\n",
    "from sklearn.model_selection import train_test_split"
   ]
  },
  {
   "cell_type": "code",
   "execution_count": 0,
   "metadata": {
    "colab": {
     "base_uri": "https://localhost:8080/",
     "height": 252
    },
    "colab_type": "code",
    "id": "0wEQ2aUuO6yH",
    "outputId": "000c3827-23d9-4341-b1ac-218dc6f82d7f"
   },
   "outputs": [
    {
     "name": "stdout",
     "output_type": "stream",
     "text": [
      "--2020-04-15 07:30:07--  https://detect-now.org/pakistan/url/org/admin_access_data\n",
      "Resolving detect-now.org (detect-now.org)... 52.178.92.96\n",
      "Connecting to detect-now.org (detect-now.org)|52.178.92.96|:443... connected.\n",
      "HTTP request sent, awaiting response... 401 UNAUTHORIZED\n",
      "Authentication selected: Basic realm=\"Login Required\"\n",
      "Reusing existing connection to detect-now.org:443.\n",
      "HTTP request sent, awaiting response... 200 OK\n",
      "Length: 32862 (32K) [application/json]\n",
      "Saving to: ‘admin_access_data.1’\n",
      "\n",
      "\r",
      "admin_access_data.1   0%[                    ]       0  --.-KB/s               \r",
      "admin_access_data.1 100%[===================>]  32.09K  --.-KB/s    in 0.005s  \n",
      "\n",
      "2020-04-15 07:30:07 (5.81 MB/s) - ‘admin_access_data.1’ saved [32862/32862]\n",
      "\n"
     ]
    }
   ],
   "source": [
    "# Import the data files to the local directory\n",
    "\n",
    "!wget --user 'pass' --password 'pass'  'url'"
   ]
  },
  {
   "cell_type": "code",
   "execution_count": 3,
   "metadata": {
    "colab": {
     "base_uri": "https://localhost:8080/",
     "height": 400
    },
    "colab_type": "code",
    "id": "jEl_REz5O6zv",
    "outputId": "87e313d7-8625-45b3-d54d-bc790d058898"
   },
   "outputs": [],
   "source": [
    "# Extract the textual information from the .csv to a dataframe\n",
    "\n",
    "df = pd.read_json(r'/content/admin_access_data')\n",
    "df.head()"
   ]
  },
  {
   "cell_type": "code",
   "execution_count": 0,
   "metadata": {
    "colab": {},
    "colab_type": "code",
    "id": "J2Yx4bU3O631"
   },
   "outputs": [],
   "source": [
    "# For downloading CSV file\n",
    "\n",
    "df.to_csv (r'Dow_data_day3.csv', index = None)"
   ]
  },
  {
   "cell_type": "markdown",
   "metadata": {},
   "source": [
    "## Downloading this csv file into your local computer\n",
    "#### then follow the below steps on your local jupyter notebook"
   ]
  },
  {
   "cell_type": "markdown",
   "metadata": {
    "colab_type": "text",
    "id": "97Jjtbj1D4I0"
   },
   "source": [
    "**Mapping the labels and getting actual DataFrame.**"
   ]
  },
  {
   "cell_type": "code",
   "execution_count": 0,
   "metadata": {
    "colab": {},
    "colab_type": "code",
    "id": "MbcHmkHeQjuC"
   },
   "outputs": [],
   "source": [
    "# first upload the downloaded CSVs i.e. collected data and test results into correct format\n",
    "# 2nd match the correct labels with the patientIDs\n",
    "\n",
    "# For matching the patient IDs\n",
    "\n",
    "import pandas as pd\n",
    "\n",
    "ss = []\n",
    "gg = []\n",
    "matched_ids = []\n",
    "df1 = pd.read_csv(\"COVID-19-labels.csv\")\n",
    "df2 = pd.read_csv(\"Dow_data_day3.csv\")\n",
    "df2 = df2.drop(columns=[\"age\", \"consent\", \"cough_filename\" , \"data_t\", \"video_patient_finder_tip_filename\",\"patient_id\",\n",
    "                        \"sampleType\", \"corona_test\", \"patient_smartphone_used_for_data_collection\", \"breathe_filename\"])\n",
    "\n",
    "# For adding these columns into df2 dataframe.\n",
    "df2[\"age\"] = df1[\"AGE\"]\n",
    "df2[\"results\"] = df1[\"COV2_PCR_Result\"]\n",
    "\n",
    "# df2[\"results\"] = df1[\"CoV2-PCR Result\"] \n",
    "# df1['MR No'] = df1[\"MR No\"].astype(str)\n",
    "# df2['patientID'] = df2[\"patientID\"].astype(str)\n",
    "# merged = df1.merge(df2, left_on = \"MR No\", right_on = \"patientID\", how = \"outer\")\n",
    "# # merged = pd.concat([df1, df2])\n",
    "# merged.to_csv(\"output.csv\", index=False)\n",
    "for id in df1[\"MR_No\"]:\n",
    "    ss.append(id)\n",
    "#     if id in df2[\"patientID\"]:\n",
    "#         print(\"MATCHED\")\n",
    "#     else:\n",
    "#         print(\"NOT MATCHED\")\n",
    "\n",
    "for id in df2['patientID']:\n",
    "    gg.append(id)\n",
    "\n",
    "for i in ss:\n",
    "    if i in gg:\n",
    "        matched_ids.append(i)"
   ]
  },
  {
   "cell_type": "code",
   "execution_count": 2,
   "metadata": {
    "colab": {
     "base_uri": "https://localhost:8080/",
     "height": 134
    },
    "colab_type": "code",
    "id": "8oNjcx4ZO67e",
    "outputId": "7f1a00da-582d-44fc-e335-48ba1d17789e"
   },
   "outputs": [],
   "source": [
    "len(matched_ids)"
   ]
  },
  {
   "cell_type": "code",
   "execution_count": 0,
   "metadata": {
    "colab": {},
    "colab_type": "code",
    "id": "gQRzqnHhO6_O"
   },
   "outputs": [],
   "source": [
    "# For appending matched columns into new DataFrame\n",
    "df3 = pd.DataFrame()\n",
    "for i in matched_ids:\n",
    "    hh = df2[df2[\"patientID\"] == i]\n",
    "    df3 = df3.append(hh)"
   ]
  },
  {
   "cell_type": "code",
   "execution_count": 1,
   "metadata": {
    "colab": {
     "base_uri": "https://localhost:8080/",
     "height": 254
    },
    "colab_type": "code",
    "id": "YsIQwmJxO7ED",
    "outputId": "db8d3863-83e4-46c5-c6cb-6a73578521ee"
   },
   "outputs": [],
   "source": [
    "# so this is data frame which is containing actual results.\n",
    "df3.head(9)"
   ]
  },
  {
   "cell_type": "code",
   "execution_count": 0,
   "metadata": {
    "colab": {},
    "colab_type": "code",
    "id": "6SNVd39qO7II"
   },
   "outputs": [],
   "source": [
    "# For filtering no of detected samples from Non detected samples\n",
    "\n",
    "detected = df3[df3[\"results\"] == \"DETECTED\"]\n",
    "print(\"No of detected covid:\", len(detected))\n",
    "\n",
    "not_detect = df3[df3[\"results\"] == \"NOT DETECTED\"]\n",
    "print(\"Number of non-covid detected:\", len(not_detect))"
   ]
  },
  {
   "cell_type": "code",
   "execution_count": 0,
   "metadata": {
    "colab": {},
    "colab_type": "code",
    "id": "LbywHOxPO7KW"
   },
   "outputs": [],
   "source": [
    "# For visualising patientID's in integer format\n",
    "\n",
    "covid_ids = detected[\"patientID\"].astype(\"int64\")\n",
    "print(len(covid_ids))\n",
    "\n",
    "non_covid_ids = not_detect[\"patientID\"].astype(\"int64\")\n",
    "print(len(non_covid_ids))\n"
   ]
  },
  {
   "cell_type": "code",
   "execution_count": 0,
   "metadata": {
    "colab": {},
    "colab_type": "code",
    "id": "RSvCFlctO7PY"
   },
   "outputs": [],
   "source": [
    "# For moving covid patient cough into seperate folder\n",
    "\n",
    "import os \n",
    "import shutil \n",
    "\n",
    "move_from = \"Dow_data/DAY3\"\n",
    "move_to = \"Dow_data/DAY3_going/confirmed_covid\"\n",
    "\n",
    "\n",
    "def moveCovidFiles(patient_ids, move_from, move_to):\n",
    "    get_ids = []\n",
    "    for ids in patient_ids:\n",
    "        get_ids.append(ids)\n",
    "    \n",
    "    if not os.path.isdir(move_to):\n",
    "        os.mkdir(move_to)\n",
    "\n",
    "    for dirpath, dirname, filenames in os.walk(move_from):\n",
    "        for f in filenames:\n",
    "            f = f[:-4]\n",
    "            g = int(f)\n",
    "    #         print(f)\n",
    "            if g in get_ids:\n",
    "                g = str(g) + \".wav\"\n",
    "    #             print(g)\n",
    "                kk = os.path.join(dirpath, g)\n",
    "    #             print(kk)\n",
    "                dest = shutil.copy2(kk, move_to)\n",
    "        "
   ]
  },
  {
   "cell_type": "code",
   "execution_count": 0,
   "metadata": {
    "colab": {},
    "colab_type": "code",
    "id": "9qzEI4ivO7My"
   },
   "outputs": [],
   "source": [
    "moveCovidFiles(covid_ids, move_from, move_to)\n",
    "\n",
    "# if it gives [invalid literal for int() with base 10: 'dmc-18'] error.....\n",
    "# then ignore it, your function will still copy."
   ]
  },
  {
   "cell_type": "code",
   "execution_count": 0,
   "metadata": {
    "colab": {},
    "colab_type": "code",
    "id": "cJUgSkyKO7DB"
   },
   "outputs": [],
   "source": [
    "move_from = \"Dow_data/DAY3\"\n",
    "move_to = \"Dow_data/DAY3_going/negative_covid\"\n",
    "\n",
    "moveCovidFiles(non_covid_ids, move_from, move_to)"
   ]
  },
  {
   "cell_type": "code",
   "execution_count": 0,
   "metadata": {
    "colab": {},
    "colab_type": "code",
    "id": "-2rr5B-vO66X"
   },
   "outputs": [],
   "source": []
  },
  {
   "cell_type": "code",
   "execution_count": 0,
   "metadata": {
    "colab": {},
    "colab_type": "code",
    "id": "xlRkqVUcO62i"
   },
   "outputs": [],
   "source": []
  }
 ],
 "metadata": {
  "accelerator": "GPU",
  "colab": {
   "collapsed_sections": [],
   "name": "data_mapping.ipynb",
   "provenance": []
  },
  "kernelspec": {
   "display_name": "Python 3",
   "language": "python",
   "name": "python3"
  },
  "language_info": {
   "codemirror_mode": {
    "name": "ipython",
    "version": 3
   },
   "file_extension": ".py",
   "mimetype": "text/x-python",
   "name": "python",
   "nbconvert_exporter": "python",
   "pygments_lexer": "ipython3",
   "version": "3.7.6"
  }
 },
 "nbformat": 4,
 "nbformat_minor": 1
}
