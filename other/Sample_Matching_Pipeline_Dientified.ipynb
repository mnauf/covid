{
  "nbformat": 4,
  "nbformat_minor": 0,
  "metadata": {
    "colab": {
      "name": "Sample_Matching_Pipeline_Dientified.ipynb",
      "provenance": [],
      "collapsed_sections": []
    },
    "kernelspec": {
      "name": "python3",
      "display_name": "Python 3"
    }
  },
  "cells": [
    {
      "cell_type": "code",
      "metadata": {
        "id": "nnn1StEPAiKH",
        "colab_type": "code",
        "outputId": "ea9127b2-e4fa-4b8b-d6f1-70fda1f8b64d",
        "colab": {
          "base_uri": "https://localhost:8080/",
          "height": 54
        }
      },
      "source": [
        "# Imports\n",
        "\n",
        "import pandas as pd\n",
        "import os\n",
        "import numpy as np\n",
        "\n",
        "from google.colab import drive\n",
        "drive.mount('/content/drive')"
      ],
      "execution_count": 0,
      "outputs": [
        {
          "output_type": "stream",
          "text": [
            "Drive already mounted at /content/drive; to attempt to forcibly remount, call drive.mount(\"/content/drive\", force_remount=True).\n"
          ],
          "name": "stdout"
        }
      ]
    },
    {
      "cell_type": "code",
      "metadata": {
        "id": "XFrlO2eM9I-G",
        "colab_type": "code",
        "colab": {}
      },
      "source": [
        "# Retrieve the CONFIDENTIAL patient dataset with test results\n",
        "\n",
        "# You must mount your drive if you have access to the ***CONFIDENTIAL PATIENT TEST RESULTS***\n",
        "test_result_array = []\n",
        "test_results_path = \"./drive/My Drive/patient-test-results/pcr-result\"\n",
        "\n",
        "for dirpath, dnames, fnames in os.walk(test_results_path):\n",
        "    for f in fnames:\n",
        "        if f.endswith(\".csv\"):\n",
        "            print(f)\n",
        "            file_path = os.path.join(test_results_path, f)\n",
        "            test_result_array += [pd.read_csv(file_path)] # Converts to a dataframe\n",
        "   \n",
        "\n",
        "\n"
      ],
      "execution_count": 0,
      "outputs": []
    },
    {
      "cell_type": "code",
      "metadata": {
        "id": "ULdlNGnrJ7RP",
        "colab_type": "code",
        "outputId": "306870c2-6e7a-4c55-db84-adee722ef06d",
        "colab": {
          "base_uri": "https://localhost:8080/",
          "height": 255
        }
      },
      "source": [
        "# Read the Patient Raw Data \n",
        "\n",
        "# Retrieve the JSON\n",
        "!wget --user <USER> --password <PASSWORD> <LINK>\n",
        "\n"
      ],
      "execution_count": 0,
      "outputs": [
        {
          "output_type": "stream",
          "text": [
            "--2020-04-16 11:37:35--  https://detect-now.org/pakistan/url/org/admin_access_data\n",
            "Resolving detect-now.org (detect-now.org)... 52.178.92.96\n",
            "Connecting to detect-now.org (detect-now.org)|52.178.92.96|:443... connected.\n",
            "HTTP request sent, awaiting response... 401 UNAUTHORIZED\n",
            "Authentication selected: Basic realm=\"Login Required\"\n",
            "Reusing existing connection to detect-now.org:443.\n",
            "HTTP request sent, awaiting response... 200 OK\n",
            "Length: 34393 (34K) [application/json]\n",
            "Saving to: ‘admin_access_data.2’\n",
            "\n",
            "admin_access_data.2 100%[===================>]  33.59K  --.-KB/s    in 0.09s   \n",
            "\n",
            "2020-04-16 11:37:35 (355 KB/s) - ‘admin_access_data.2’ saved [34393/34393]\n",
            "\n"
          ],
          "name": "stdout"
        }
      ]
    },
    {
      "cell_type": "code",
      "metadata": {
        "id": "D-epXEfuL3z5",
        "colab_type": "code",
        "colab": {}
      },
      "source": [
        "# Convert to a df\n",
        "\n",
        "json_df = pd.read_json(r'/content/admin_access_data')\n",
        "json_df.head()\n"
      ],
      "execution_count": 0,
      "outputs": []
    },
    {
      "cell_type": "code",
      "metadata": {
        "id": "V5i8rK4R9OMQ",
        "colab_type": "code",
        "colab": {}
      },
      "source": [
        "#TO DO: iterate through all the files provided by the hospital for matching\n",
        "\n",
        "\n",
        "daily_df_hospital = test_result_array[1]\n",
        "daily_df_hospital.head()"
      ],
      "execution_count": 0,
      "outputs": []
    },
    {
      "cell_type": "code",
      "metadata": {
        "id": "nHJmBtsgIG2Q",
        "colab_type": "code",
        "outputId": "cf470442-2a74-4807-cc7f-52e78d7b6675",
        "colab": {
          "base_uri": "https://localhost:8080/",
          "height": 292
        }
      },
      "source": [
        "# Code to count the number of matches!\n",
        "\n",
        "#TO DO: iterate through all the files provided by the hospital for matching\n",
        "\n",
        "counter = 0\n",
        "match_counter = 0\n",
        "\n",
        "for patient_id in json_df['patientID']:\n",
        "  counter_1 = 0\n",
        "  for patient_id_2 in daily_df_hospital['COVID DATA 13/04/2020']: #Change the date column \n",
        "    patient_id = str(patient_id).replace('-' , '')\n",
        "    patient_id_2 = str(patient_id_2).replace('-' , '')\n",
        "    if patient_id == patient_id_2:\n",
        "      json_df['corona_test'][counter] = daily_df_hospital['Unnamed: 3'][counter_1] # Change the result column \n",
        "      match_counter += 1\n",
        "    counter_1 += 1\n",
        "  counter += 1\n",
        " \n",
        "\n",
        "\n"
      ],
      "execution_count": 0,
      "outputs": [
        {
          "output_type": "stream",
          "text": [
            "/usr/local/lib/python3.6/dist-packages/ipykernel_launcher.py:11: SettingWithCopyWarning: \n",
            "A value is trying to be set on a copy of a slice from a DataFrame\n",
            "\n",
            "See the caveats in the documentation: https://pandas.pydata.org/pandas-docs/stable/user_guide/indexing.html#returning-a-view-versus-a-copy\n",
            "  # This is added back by InteractiveShellApp.init_path()\n",
            "/usr/local/lib/python3.6/dist-packages/ipykernel_launcher.py:12: SettingWithCopyWarning: \n",
            "A value is trying to be set on a copy of a slice from a DataFrame\n",
            "\n",
            "See the caveats in the documentation: https://pandas.pydata.org/pandas-docs/stable/user_guide/indexing.html#returning-a-view-versus-a-copy\n",
            "  if sys.path[0] == '':\n",
            "/usr/local/lib/python3.6/dist-packages/ipykernel_launcher.py:13: SettingWithCopyWarning: \n",
            "A value is trying to be set on a copy of a slice from a DataFrame\n",
            "\n",
            "See the caveats in the documentation: https://pandas.pydata.org/pandas-docs/stable/user_guide/indexing.html#returning-a-view-versus-a-copy\n",
            "  del sys.path[0]\n"
          ],
          "name": "stderr"
        }
      ]
    },
    {
      "cell_type": "code",
      "metadata": {
        "id": "DBCEWEAgNbaP",
        "colab_type": "code",
        "colab": {}
      },
      "source": [
        "# Anonymize Output\n",
        "\n",
        "\n",
        "json_df = json_df.drop(columns='patient_id')\n",
        "json_df = json_df.drop(columns=\"patientID\")\n",
        "\n",
        "json_df.head()"
      ],
      "execution_count": 0,
      "outputs": []
    },
    {
      "cell_type": "code",
      "metadata": {
        "id": "2hH_nVncO8I8",
        "colab_type": "code",
        "outputId": "ba65e33f-a90f-4f71-c32d-44a561075daa",
        "colab": {
          "base_uri": "https://localhost:8080/",
          "height": 34
        }
      },
      "source": [
        "# Count the Percentage of Correctly Matched\n",
        "#counter = 0\n",
        "#for result in deleted_PatientID['corona_test']:\n",
        "# if result[-1].isupper():\n",
        "#    counter += 1\n",
        "\n",
        "\n",
        "\n",
        "print('The percentage of correctly mapped raw files is: ', round(match_counter/len(json_df['corona_test']) * 100. ,2) , '%') "
      ],
      "execution_count": 0,
      "outputs": [
        {
          "output_type": "stream",
          "text": [
            "The percentage of correctly mapped raw files is:  8.54 %\n"
          ],
          "name": "stdout"
        }
      ]
    },
    {
      "cell_type": "code",
      "metadata": {
        "id": "gXctaKQYjGeq",
        "colab_type": "code",
        "colab": {}
      },
      "source": [
        "json_df.loc[(json_df.corona_test == 'NOT DETECTED'), 'corona_test'] = 'NEGATIVE'\n",
        "json_df.loc[(json_df.corona_test == 'Negative'), 'corona_test'] = 'NEGATIVE'\n",
        "json_df.loc[(json_df.corona_test == 'DETECTED'), 'corona_test'] = 'POSTIVE'\n",
        "json_df.loc[(json_df.corona_test == 'Positive'), 'corona_test'] = 'POSTIVE'\n",
        "\n"
      ],
      "execution_count": 0,
      "outputs": []
    },
    {
      "cell_type": "code",
      "metadata": {
        "id": "7jxsv0NxDZgD",
        "colab_type": "code",
        "colab": {}
      },
      "source": [
        "# Store as a .csv\n",
        "filename = 'output-04-15-2020-1.csv'\n",
        "json_df.to_csv('/content/drive/My Drive/patient-test-results/curated-outputs/' + filename )"
      ],
      "execution_count": 0,
      "outputs": []
    },
    {
      "cell_type": "code",
      "metadata": {
        "id": "ZCOPvE4ljD36",
        "colab_type": "code",
        "colab": {}
      },
      "source": [
        ""
      ],
      "execution_count": 0,
      "outputs": []
    }
  ]
}