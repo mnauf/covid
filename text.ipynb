{
 "cells": [
  {
   "cell_type": "markdown",
   "metadata": {},
   "source": [
    "# ML Textual model Feature Engineering"
   ]
  },
  {
   "cell_type": "code",
   "execution_count": 1,
   "metadata": {},
   "outputs": [],
   "source": [
    "from sklearn.ensemble import RandomForestClassifier\n",
    "import numpy as np\n",
    "import sklearn\n",
    "from sklearn.svm import SVC\n",
    "from sklearn.model_selection import train_test_split\n",
    "from sklearn.model_selection import GridSearchCV\n",
    "from sklearn.metrics import classification_report\n",
    "from sklearn import preprocessing\n",
    "import json\n",
    "from sklearn.preprocessing import LabelEncoder\n",
    "from sklearn.preprocessing import OneHotEncoder\n",
    "from sklearn.metrics import accuracy_score\n",
    "from sklearn import metrics\n",
    "from sklearn.metrics import roc_auc_score\n",
    "from sklearn.metrics import confusion_matrix\n",
    "import itertools"
   ]
  },
  {
   "cell_type": "markdown",
   "metadata": {},
   "source": [
    "# Importing libraries"
   ]
  },
  {
   "cell_type": "code",
   "execution_count": 2,
   "metadata": {},
   "outputs": [],
   "source": [
    "import pandas as pd\n",
    "import numpy as np\n",
    "import matplotlib.pyplot as plt\n",
    "import seaborn as sns\n",
    "from sklearn.feature_extraction.text import CountVectorizer"
   ]
  },
  {
   "cell_type": "markdown",
   "metadata": {},
   "source": [
    "### Reading CSV file using pandas dataframe"
   ]
  },
  {
   "cell_type": "code",
   "execution_count": 3,
   "metadata": {},
   "outputs": [
    {
     "data": {
      "text/html": [
       "<div>\n",
       "<style scoped>\n",
       "    .dataframe tbody tr th:only-of-type {\n",
       "        vertical-align: middle;\n",
       "    }\n",
       "\n",
       "    .dataframe tbody tr th {\n",
       "        vertical-align: top;\n",
       "    }\n",
       "\n",
       "    .dataframe thead th {\n",
       "        text-align: right;\n",
       "    }\n",
       "</style>\n",
       "<table border=\"1\" class=\"dataframe\">\n",
       "  <thead>\n",
       "    <tr style=\"text-align: right;\">\n",
       "      <th></th>\n",
       "      <th>seq_id</th>\n",
       "      <th>patient_id</th>\n",
       "      <th>date</th>\n",
       "      <th>corona_test</th>\n",
       "      <th>age</th>\n",
       "      <th>gender</th>\n",
       "      <th>medical_history</th>\n",
       "      <th>smoker</th>\n",
       "      <th>patient_reported_symptoms</th>\n",
       "      <th>cough_filename</th>\n",
       "      <th>breathing_filename</th>\n",
       "      <th>finger_filename</th>\n",
       "      <th>patient_smartphone</th>\n",
       "    </tr>\n",
       "  </thead>\n",
       "  <tbody>\n",
       "    <tr>\n",
       "      <th>0</th>\n",
       "      <td>649</td>\n",
       "      <td>NaN</td>\n",
       "      <td>13-Apr</td>\n",
       "      <td>negative</td>\n",
       "      <td>32</td>\n",
       "      <td>male</td>\n",
       "      <td>NaN</td>\n",
       "      <td>NaN</td>\n",
       "      <td>Fever, chills, or sweating,</td>\n",
       "      <td>3908e5f2-4eb7-43f7-8230-00bf6216e333_158675905...</td>\n",
       "      <td>NaN</td>\n",
       "      <td>NaN</td>\n",
       "      <td>no</td>\n",
       "    </tr>\n",
       "    <tr>\n",
       "      <th>1</th>\n",
       "      <td>653</td>\n",
       "      <td>NaN</td>\n",
       "      <td>13-Apr</td>\n",
       "      <td>negative</td>\n",
       "      <td>31</td>\n",
       "      <td>male</td>\n",
       "      <td>NaN</td>\n",
       "      <td>NaN</td>\n",
       "      <td>Fever, chills, or sweating,Shortness of breath...</td>\n",
       "      <td>3a4b7a0d-84af-4cdb-8a18-9b9b2a6cfab3_158675994...</td>\n",
       "      <td>NaN</td>\n",
       "      <td>NaN</td>\n",
       "      <td>no</td>\n",
       "    </tr>\n",
       "    <tr>\n",
       "      <th>2</th>\n",
       "      <td>654</td>\n",
       "      <td>NaN</td>\n",
       "      <td>13-Apr</td>\n",
       "      <td>negative</td>\n",
       "      <td>21</td>\n",
       "      <td>female</td>\n",
       "      <td>NaN</td>\n",
       "      <td>NaN</td>\n",
       "      <td>New or worsening cough,</td>\n",
       "      <td>7a10c8b2-5716-4e28-82d0-a610399132dc_158676017...</td>\n",
       "      <td>NaN</td>\n",
       "      <td>NaN</td>\n",
       "      <td>no</td>\n",
       "    </tr>\n",
       "    <tr>\n",
       "      <th>3</th>\n",
       "      <td>655</td>\n",
       "      <td>NaN</td>\n",
       "      <td>13-Apr</td>\n",
       "      <td>negative</td>\n",
       "      <td>33</td>\n",
       "      <td>male</td>\n",
       "      <td>Asthma or chronic lung disease,</td>\n",
       "      <td>NaN</td>\n",
       "      <td>Fever, chills, or sweating,Shortness of breath...</td>\n",
       "      <td>58e53fe0-2adb-45cd-9d58-2572471d6871_158676036...</td>\n",
       "      <td>NaN</td>\n",
       "      <td>NaN</td>\n",
       "      <td>no</td>\n",
       "    </tr>\n",
       "    <tr>\n",
       "      <th>4</th>\n",
       "      <td>660</td>\n",
       "      <td>NaN</td>\n",
       "      <td>13-Apr</td>\n",
       "      <td>negative</td>\n",
       "      <td>27</td>\n",
       "      <td>male</td>\n",
       "      <td>Disease or conditions that make it harder to c...</td>\n",
       "      <td>NaN</td>\n",
       "      <td>New or worsening cough,</td>\n",
       "      <td>1de242a7-1dc8-40d1-946d-07c5927a638c_158676152...</td>\n",
       "      <td>NaN</td>\n",
       "      <td>NaN</td>\n",
       "      <td>no</td>\n",
       "    </tr>\n",
       "  </tbody>\n",
       "</table>\n",
       "</div>"
      ],
      "text/plain": [
       "   seq_id patient_id    date corona_test  age  gender  \\\n",
       "0     649        NaN  13-Apr    negative   32    male   \n",
       "1     653        NaN  13-Apr    negative   31    male   \n",
       "2     654        NaN  13-Apr    negative   21  female   \n",
       "3     655        NaN  13-Apr    negative   33    male   \n",
       "4     660        NaN  13-Apr    negative   27    male   \n",
       "\n",
       "                                     medical_history smoker  \\\n",
       "0                                                NaN    NaN   \n",
       "1                                                NaN    NaN   \n",
       "2                                                NaN    NaN   \n",
       "3                    Asthma or chronic lung disease,    NaN   \n",
       "4  Disease or conditions that make it harder to c...    NaN   \n",
       "\n",
       "                           patient_reported_symptoms  \\\n",
       "0                        Fever, chills, or sweating,   \n",
       "1  Fever, chills, or sweating,Shortness of breath...   \n",
       "2                            New or worsening cough,   \n",
       "3  Fever, chills, or sweating,Shortness of breath...   \n",
       "4                            New or worsening cough,   \n",
       "\n",
       "                                      cough_filename breathing_filename  \\\n",
       "0  3908e5f2-4eb7-43f7-8230-00bf6216e333_158675905...                NaN   \n",
       "1  3a4b7a0d-84af-4cdb-8a18-9b9b2a6cfab3_158675994...                NaN   \n",
       "2  7a10c8b2-5716-4e28-82d0-a610399132dc_158676017...                NaN   \n",
       "3  58e53fe0-2adb-45cd-9d58-2572471d6871_158676036...                NaN   \n",
       "4  1de242a7-1dc8-40d1-946d-07c5927a638c_158676152...                NaN   \n",
       "\n",
       "  finger_filename patient_smartphone  \n",
       "0             NaN                 no  \n",
       "1             NaN                 no  \n",
       "2             NaN                 no  \n",
       "3             NaN                 no  \n",
       "4             NaN                 no  "
      ]
     },
     "execution_count": 3,
     "metadata": {},
     "output_type": "execute_result"
    }
   ],
   "source": [
    "dataset = pd.read_csv(\"patient data all 119.csv\")\n",
    "dataset.head()"
   ]
  },
  {
   "cell_type": "markdown",
   "metadata": {},
   "source": [
    "### Dropping unnecessary columns"
   ]
  },
  {
   "cell_type": "code",
   "execution_count": 7,
   "metadata": {},
   "outputs": [
    {
     "data": {
      "text/html": [
       "<div>\n",
       "<style scoped>\n",
       "    .dataframe tbody tr th:only-of-type {\n",
       "        vertical-align: middle;\n",
       "    }\n",
       "\n",
       "    .dataframe tbody tr th {\n",
       "        vertical-align: top;\n",
       "    }\n",
       "\n",
       "    .dataframe thead th {\n",
       "        text-align: right;\n",
       "    }\n",
       "</style>\n",
       "<table border=\"1\" class=\"dataframe\">\n",
       "  <thead>\n",
       "    <tr style=\"text-align: right;\">\n",
       "      <th></th>\n",
       "      <th>corona_test</th>\n",
       "      <th>age</th>\n",
       "      <th>gender</th>\n",
       "      <th>medical_history</th>\n",
       "      <th>smoker</th>\n",
       "      <th>patient_reported_symptoms</th>\n",
       "    </tr>\n",
       "  </thead>\n",
       "  <tbody>\n",
       "    <tr>\n",
       "      <th>0</th>\n",
       "      <td>negative</td>\n",
       "      <td>32</td>\n",
       "      <td>male</td>\n",
       "      <td>NaN</td>\n",
       "      <td>NaN</td>\n",
       "      <td>Fever, chills, or sweating,</td>\n",
       "    </tr>\n",
       "    <tr>\n",
       "      <th>1</th>\n",
       "      <td>negative</td>\n",
       "      <td>31</td>\n",
       "      <td>male</td>\n",
       "      <td>NaN</td>\n",
       "      <td>NaN</td>\n",
       "      <td>Fever, chills, or sweating,Shortness of breath...</td>\n",
       "    </tr>\n",
       "    <tr>\n",
       "      <th>2</th>\n",
       "      <td>negative</td>\n",
       "      <td>21</td>\n",
       "      <td>female</td>\n",
       "      <td>NaN</td>\n",
       "      <td>NaN</td>\n",
       "      <td>New or worsening cough,</td>\n",
       "    </tr>\n",
       "    <tr>\n",
       "      <th>3</th>\n",
       "      <td>negative</td>\n",
       "      <td>33</td>\n",
       "      <td>male</td>\n",
       "      <td>Asthma or chronic lung disease,</td>\n",
       "      <td>NaN</td>\n",
       "      <td>Fever, chills, or sweating,Shortness of breath...</td>\n",
       "    </tr>\n",
       "    <tr>\n",
       "      <th>4</th>\n",
       "      <td>negative</td>\n",
       "      <td>27</td>\n",
       "      <td>male</td>\n",
       "      <td>Disease or conditions that make it harder to c...</td>\n",
       "      <td>NaN</td>\n",
       "      <td>New or worsening cough,</td>\n",
       "    </tr>\n",
       "  </tbody>\n",
       "</table>\n",
       "</div>"
      ],
      "text/plain": [
       "  corona_test  age  gender                                    medical_history  \\\n",
       "0    negative   32    male                                                NaN   \n",
       "1    negative   31    male                                                NaN   \n",
       "2    negative   21  female                                                NaN   \n",
       "3    negative   33    male                    Asthma or chronic lung disease,   \n",
       "4    negative   27    male  Disease or conditions that make it harder to c...   \n",
       "\n",
       "  smoker                          patient_reported_symptoms  \n",
       "0    NaN                        Fever, chills, or sweating,  \n",
       "1    NaN  Fever, chills, or sweating,Shortness of breath...  \n",
       "2    NaN                            New or worsening cough,  \n",
       "3    NaN  Fever, chills, or sweating,Shortness of breath...  \n",
       "4    NaN                            New or worsening cough,  "
      ]
     },
     "execution_count": 7,
     "metadata": {},
     "output_type": "execute_result"
    }
   ],
   "source": [
    "df_clean = dataset.drop(columns=[\"seq_id\", \"patient_id\", \"date\" , \"cough_filename\", \"finger_filename\",\n",
    "                                \"patient_smartphone\", \"breathing_filename\"])\n",
    "df_clean.head()"
   ]
  },
  {
   "cell_type": "markdown",
   "metadata": {},
   "source": [
    "### Counting number of nan values in each feature"
   ]
  },
  {
   "cell_type": "code",
   "execution_count": 8,
   "metadata": {},
   "outputs": [
    {
     "name": "stdout",
     "output_type": "stream",
     "text": [
      "3\n"
     ]
    }
   ],
   "source": [
    "ff = df_clean[\"medical_history\"].isna().sum()\n",
    "print(ff)\n",
    "\n",
    "# Filling nan values with None.\n",
    "df_clean[\"medical_history\"].fillna(\"None,\", inplace = True) \n",
    "df_clean[\"smoker\"].fillna(\"no\", inplace = True) \n",
    "df_clean[\"patient_reported_symptoms\"].fillna(\"None,\", inplace = True) "
   ]
  },
  {
   "cell_type": "code",
   "execution_count": 9,
   "metadata": {},
   "outputs": [
    {
     "data": {
      "text/html": [
       "<div>\n",
       "<style scoped>\n",
       "    .dataframe tbody tr th:only-of-type {\n",
       "        vertical-align: middle;\n",
       "    }\n",
       "\n",
       "    .dataframe tbody tr th {\n",
       "        vertical-align: top;\n",
       "    }\n",
       "\n",
       "    .dataframe thead th {\n",
       "        text-align: right;\n",
       "    }\n",
       "</style>\n",
       "<table border=\"1\" class=\"dataframe\">\n",
       "  <thead>\n",
       "    <tr style=\"text-align: right;\">\n",
       "      <th></th>\n",
       "      <th>corona_test</th>\n",
       "      <th>age</th>\n",
       "      <th>gender</th>\n",
       "      <th>medical_history</th>\n",
       "      <th>smoker</th>\n",
       "      <th>patient_reported_symptoms</th>\n",
       "    </tr>\n",
       "  </thead>\n",
       "  <tbody>\n",
       "    <tr>\n",
       "      <th>0</th>\n",
       "      <td>negative</td>\n",
       "      <td>32</td>\n",
       "      <td>male</td>\n",
       "      <td>None,</td>\n",
       "      <td>no</td>\n",
       "      <td>Fever, chills, or sweating,</td>\n",
       "    </tr>\n",
       "    <tr>\n",
       "      <th>1</th>\n",
       "      <td>negative</td>\n",
       "      <td>31</td>\n",
       "      <td>male</td>\n",
       "      <td>None,</td>\n",
       "      <td>no</td>\n",
       "      <td>Fever, chills, or sweating,Shortness of breath...</td>\n",
       "    </tr>\n",
       "    <tr>\n",
       "      <th>2</th>\n",
       "      <td>negative</td>\n",
       "      <td>21</td>\n",
       "      <td>female</td>\n",
       "      <td>None,</td>\n",
       "      <td>no</td>\n",
       "      <td>New or worsening cough,</td>\n",
       "    </tr>\n",
       "    <tr>\n",
       "      <th>3</th>\n",
       "      <td>negative</td>\n",
       "      <td>33</td>\n",
       "      <td>male</td>\n",
       "      <td>Asthma or chronic lung disease,</td>\n",
       "      <td>no</td>\n",
       "      <td>Fever, chills, or sweating,Shortness of breath...</td>\n",
       "    </tr>\n",
       "    <tr>\n",
       "      <th>4</th>\n",
       "      <td>negative</td>\n",
       "      <td>27</td>\n",
       "      <td>male</td>\n",
       "      <td>Disease or conditions that make it harder to c...</td>\n",
       "      <td>no</td>\n",
       "      <td>New or worsening cough,</td>\n",
       "    </tr>\n",
       "  </tbody>\n",
       "</table>\n",
       "</div>"
      ],
      "text/plain": [
       "  corona_test  age  gender                                    medical_history  \\\n",
       "0    negative   32    male                                              None,   \n",
       "1    negative   31    male                                              None,   \n",
       "2    negative   21  female                                              None,   \n",
       "3    negative   33    male                    Asthma or chronic lung disease,   \n",
       "4    negative   27    male  Disease or conditions that make it harder to c...   \n",
       "\n",
       "  smoker                          patient_reported_symptoms  \n",
       "0     no                        Fever, chills, or sweating,  \n",
       "1     no  Fever, chills, or sweating,Shortness of breath...  \n",
       "2     no                            New or worsening cough,  \n",
       "3     no  Fever, chills, or sweating,Shortness of breath...  \n",
       "4     no                            New or worsening cough,  "
      ]
     },
     "execution_count": 9,
     "metadata": {},
     "output_type": "execute_result"
    }
   ],
   "source": [
    "df_clean.head()"
   ]
  },
  {
   "cell_type": "code",
   "execution_count": 10,
   "metadata": {},
   "outputs": [
    {
     "data": {
      "text/plain": [
       "count     118\n",
       "unique      2\n",
       "top        no\n",
       "freq      107\n",
       "Name: smoker, dtype: object"
      ]
     },
     "execution_count": 10,
     "metadata": {},
     "output_type": "execute_result"
    }
   ],
   "source": [
    "# In order to see how many unique values are there in my column\n",
    "df_clean[\"smoker\"].describe()"
   ]
  },
  {
   "cell_type": "code",
   "execution_count": null,
   "metadata": {},
   "outputs": [],
   "source": []
  },
  {
   "cell_type": "markdown",
   "metadata": {},
   "source": [
    "### Histogram"
   ]
  },
  {
   "cell_type": "code",
   "execution_count": 11,
   "metadata": {},
   "outputs": [
    {
     "data": {
      "text/plain": [
       "<Figure size 432x288 with 0 Axes>"
      ]
     },
     "metadata": {},
     "output_type": "display_data"
    },
    {
     "data": {
      "image/png": "[encoded data removed]",
      "text/plain": [
       "<Figure size 1440x720 with 1 Axes>"
      ]
     },
     "metadata": {
      "needs_background": "light"
     },
     "output_type": "display_data"
    },
    {
     "data": {
      "image/png": "[encoded data removed]",
      "text/plain": [
       "<Figure size 1440x720 with 1 Axes>"
      ]
     },
     "metadata": {
      "needs_background": "light"
     },
     "output_type": "display_data"
    },
    {
     "data": {
      "image/png": "[encoded data removed]",
      "text/plain": [
       "<Figure size 1440x720 with 1 Axes>"
      ]
     },
     "metadata": {
      "needs_background": "light"
     },
     "output_type": "display_data"
    },
    {
     "data": {
      "image/png": "[encoded data removed]",
      "text/plain": [
       "<Figure size 1440x720 with 1 Axes>"
      ]
     },
     "metadata": {
      "needs_background": "light"
     },
     "output_type": "display_data"
    },
    {
     "data": {
      "image/png": "[encoded data removed]",
      "text/plain": [
       "<Figure size 1440x720 with 1 Axes>"
      ]
     },
     "metadata": {
      "needs_background": "light"
     },
     "output_type": "display_data"
    },
    {
     "data": {
      "image/png": "[encoded data removed]",
      "text/plain": [
       "<Figure size 1440x720 with 1 Axes>"
      ]
     },
     "metadata": {
      "needs_background": "light"
     },
     "output_type": "display_data"
    }
   ],
   "source": [
    "plt.suptitle(\"Histogram of Numerical Columns\", fontsize = 20)\n",
    "for i in range(1, df_clean.shape[1]+ 1): \n",
    "    plt.figure(figsize=(20,10))\n",
    "    plt.subplot(3, 3, i)\n",
    "    f = plt.gca()\n",
    "    f.set_title(df_clean.columns.values[i - 1])\n",
    "    vals = np.size(df_clean.iloc[:, i - 1].unique())\n",
    "    plt.hist(df_clean.iloc[:, i - 1], bins = vals, color = \"#3F5D7D\")"
   ]
  },
  {
   "cell_type": "markdown",
   "metadata": {},
   "source": [
    "# Correlation"
   ]
  },
  {
   "cell_type": "code",
   "execution_count": 12,
   "metadata": {},
   "outputs": [
    {
     "data": {
      "image/png": "[encoded data removed]",
      "text/plain": [
       "<Figure size 432x288 with 2 Axes>"
      ]
     },
     "metadata": {
      "needs_background": "light"
     },
     "output_type": "display_data"
    }
   ],
   "source": [
    "# df_clean.corrwith(df_clean.corona_test).plot.bar(figsize = (20, 10),\n",
    "#                                                 title= \"Correlation With Responsive Variable\", \n",
    "#                                                 fontsize = 15, rot = 45,\n",
    "#                                                 grid = True)\n",
    "corr = df_clean.corr()\n",
    "ax = sns.heatmap(\n",
    "    corr, \n",
    "    vmin=-1, vmax=1, center=0,\n",
    "    cmap=sns.diverging_palette(20, 220, n=200),\n",
    "    square=True\n",
    ")\n",
    "ax.set_xticklabels(\n",
    "    ax.get_xticklabels(),\n",
    "    rotation=45,\n",
    "    horizontalalignment='right'\n",
    ");\n",
    "\n",
    "# Not working properly"
   ]
  },
  {
   "cell_type": "code",
   "execution_count": 13,
   "metadata": {},
   "outputs": [
    {
     "data": {
      "text/plain": [
       "corona_test                  object\n",
       "age                           int64\n",
       "gender                       object\n",
       "medical_history              object\n",
       "smoker                       object\n",
       "patient_reported_symptoms    object\n",
       "dtype: object"
      ]
     },
     "execution_count": 13,
     "metadata": {},
     "output_type": "execute_result"
    }
   ],
   "source": [
    "# For checking the data type of all the features\n",
    "\n",
    "df_clean.dtypes"
   ]
  },
  {
   "cell_type": "code",
   "execution_count": 14,
   "metadata": {},
   "outputs": [
    {
     "data": {
      "text/plain": [
       "array(['None,', 'Asthma or chronic lung disease,',\n",
       "       'Disease or conditions that make it harder to cough,',\n",
       "       'Diabetes with complications,',\n",
       "       'Asthma or chronic lung disease,Disease or conditions that make it harder to cough,',\n",
       "       'Asthma or chronic lung disease,Diabetes with complications,',\n",
       "       'Pregnancy,',\n",
       "       'Diabetes with complications,Congestive heart failure,',\n",
       "       'Congestive heart failure,'], dtype=object)"
      ]
     },
     "execution_count": 14,
     "metadata": {},
     "output_type": "execute_result"
    }
   ],
   "source": [
    "# For checking how many unique rows in medical history.\n",
    "df_clean[\"medical_history\"].unique()"
   ]
  },
  {
   "cell_type": "code",
   "execution_count": 15,
   "metadata": {},
   "outputs": [],
   "source": [
    "# If the medial history doesnt contain \",\" at the end then add by runing below line. \n",
    "\n",
    "# df_clean[\"medical_history\"] = df_clean.medical_history.astype(str) + \",\""
   ]
  },
  {
   "cell_type": "markdown",
   "metadata": {},
   "source": [
    "### reading csv containing important medical history diseases"
   ]
  },
  {
   "cell_type": "code",
   "execution_count": 16,
   "metadata": {},
   "outputs": [
    {
     "data": {
      "text/plain": [
       "array(['None,', 'Asthma or chronic lung disease,',\n",
       "       'Disease or conditions that make it harder to cough,',\n",
       "       'Diabetes with complications,', 'Pregnancy,',\n",
       "       'Congestive heart failure,', 'Extreme obesity'], dtype=object)"
      ]
     },
     "execution_count": 16,
     "metadata": {},
     "output_type": "execute_result"
    }
   ],
   "source": [
    "top_medical_history = pd.read_csv(\"medical_history.csv\").medical_history.values\n",
    "top_medical_history"
   ]
  },
  {
   "cell_type": "markdown",
   "metadata": {},
   "source": [
    "### doing feature engineering on medical history"
   ]
  },
  {
   "cell_type": "code",
   "execution_count": 17,
   "metadata": {},
   "outputs": [],
   "source": [
    "df2 = df_clean.copy()\n",
    "for mh in top_medical_history:\n",
    "    df2[mh] = df2.medical_history.str.contains(mh).astype(int)\n",
    "    df2[\"medical_history\"] = df2.medical_history.str.replace(mh+ \",\", \"\")\n",
    "\n",
    "df2[\"total_diseases\"] = df2.medical_history.str.count(\",\")\n",
    "df2 = df2.drop(columns = [\"medical_history\", \"patient_reported_symptoms\"])\n"
   ]
  },
  {
   "cell_type": "code",
   "execution_count": 18,
   "metadata": {},
   "outputs": [
    {
     "data": {
      "text/html": [
       "<div>\n",
       "<style scoped>\n",
       "    .dataframe tbody tr th:only-of-type {\n",
       "        vertical-align: middle;\n",
       "    }\n",
       "\n",
       "    .dataframe tbody tr th {\n",
       "        vertical-align: top;\n",
       "    }\n",
       "\n",
       "    .dataframe thead th {\n",
       "        text-align: right;\n",
       "    }\n",
       "</style>\n",
       "<table border=\"1\" class=\"dataframe\">\n",
       "  <thead>\n",
       "    <tr style=\"text-align: right;\">\n",
       "      <th></th>\n",
       "      <th>corona_test</th>\n",
       "      <th>age</th>\n",
       "      <th>gender</th>\n",
       "      <th>smoker</th>\n",
       "      <th>None,</th>\n",
       "      <th>Asthma or chronic lung disease,</th>\n",
       "      <th>Disease or conditions that make it harder to cough,</th>\n",
       "      <th>Diabetes with complications,</th>\n",
       "      <th>Pregnancy,</th>\n",
       "      <th>Congestive heart failure,</th>\n",
       "      <th>Extreme obesity</th>\n",
       "      <th>total_diseases</th>\n",
       "    </tr>\n",
       "  </thead>\n",
       "  <tbody>\n",
       "    <tr>\n",
       "      <th>0</th>\n",
       "      <td>negative</td>\n",
       "      <td>32</td>\n",
       "      <td>male</td>\n",
       "      <td>no</td>\n",
       "      <td>1</td>\n",
       "      <td>0</td>\n",
       "      <td>0</td>\n",
       "      <td>0</td>\n",
       "      <td>0</td>\n",
       "      <td>0</td>\n",
       "      <td>0</td>\n",
       "      <td>1</td>\n",
       "    </tr>\n",
       "    <tr>\n",
       "      <th>1</th>\n",
       "      <td>negative</td>\n",
       "      <td>31</td>\n",
       "      <td>male</td>\n",
       "      <td>no</td>\n",
       "      <td>1</td>\n",
       "      <td>0</td>\n",
       "      <td>0</td>\n",
       "      <td>0</td>\n",
       "      <td>0</td>\n",
       "      <td>0</td>\n",
       "      <td>0</td>\n",
       "      <td>1</td>\n",
       "    </tr>\n",
       "    <tr>\n",
       "      <th>2</th>\n",
       "      <td>negative</td>\n",
       "      <td>21</td>\n",
       "      <td>female</td>\n",
       "      <td>no</td>\n",
       "      <td>1</td>\n",
       "      <td>0</td>\n",
       "      <td>0</td>\n",
       "      <td>0</td>\n",
       "      <td>0</td>\n",
       "      <td>0</td>\n",
       "      <td>0</td>\n",
       "      <td>1</td>\n",
       "    </tr>\n",
       "    <tr>\n",
       "      <th>3</th>\n",
       "      <td>negative</td>\n",
       "      <td>33</td>\n",
       "      <td>male</td>\n",
       "      <td>no</td>\n",
       "      <td>0</td>\n",
       "      <td>1</td>\n",
       "      <td>0</td>\n",
       "      <td>0</td>\n",
       "      <td>0</td>\n",
       "      <td>0</td>\n",
       "      <td>0</td>\n",
       "      <td>1</td>\n",
       "    </tr>\n",
       "    <tr>\n",
       "      <th>4</th>\n",
       "      <td>negative</td>\n",
       "      <td>27</td>\n",
       "      <td>male</td>\n",
       "      <td>no</td>\n",
       "      <td>0</td>\n",
       "      <td>0</td>\n",
       "      <td>1</td>\n",
       "      <td>0</td>\n",
       "      <td>0</td>\n",
       "      <td>0</td>\n",
       "      <td>0</td>\n",
       "      <td>1</td>\n",
       "    </tr>\n",
       "  </tbody>\n",
       "</table>\n",
       "</div>"
      ],
      "text/plain": [
       "  corona_test  age  gender smoker  None,  Asthma or chronic lung disease,  \\\n",
       "0    negative   32    male     no      1                                0   \n",
       "1    negative   31    male     no      1                                0   \n",
       "2    negative   21  female     no      1                                0   \n",
       "3    negative   33    male     no      0                                1   \n",
       "4    negative   27    male     no      0                                0   \n",
       "\n",
       "   Disease or conditions that make it harder to cough,  \\\n",
       "0                                                  0     \n",
       "1                                                  0     \n",
       "2                                                  0     \n",
       "3                                                  0     \n",
       "4                                                  1     \n",
       "\n",
       "   Diabetes with complications,  Pregnancy,  Congestive heart failure,  \\\n",
       "0                             0           0                          0   \n",
       "1                             0           0                          0   \n",
       "2                             0           0                          0   \n",
       "3                             0           0                          0   \n",
       "4                             0           0                          0   \n",
       "\n",
       "   Extreme obesity  total_diseases  \n",
       "0                0               1  \n",
       "1                0               1  \n",
       "2                0               1  \n",
       "3                0               1  \n",
       "4                0               1  "
      ]
     },
     "execution_count": 18,
     "metadata": {},
     "output_type": "execute_result"
    }
   ],
   "source": [
    "df2.head()\n"
   ]
  },
  {
   "cell_type": "markdown",
   "metadata": {},
   "source": [
    "# Doing feature engineering on reported Symptoms"
   ]
  },
  {
   "cell_type": "code",
   "execution_count": 19,
   "metadata": {},
   "outputs": [],
   "source": [
    "# For checking how many unique rows in patient_reported_symptoms.\n",
    "\n",
    "# df_clean[\"patient_reported_symptoms\"].unique()"
   ]
  },
  {
   "cell_type": "code",
   "execution_count": 20,
   "metadata": {},
   "outputs": [
    {
     "data": {
      "text/plain": [
       "array(['Fever,', 'chills,', 'or sweating,', 'Shortness of breath',\n",
       "       'Loss of taste,', 'Loss of smell,', 'New or worsening cough,',\n",
       "       'Sore throat,', 'Body aches,', 'None,'], dtype=object)"
      ]
     },
     "execution_count": 20,
     "metadata": {},
     "output_type": "execute_result"
    }
   ],
   "source": [
    "# reading csv_file of patient recorded symptoms\n",
    "\n",
    "top_symptoms = pd.read_csv(\"patient_reported_symptoms.csv\").patient_reported_symptoms.values\n",
    "top_symptoms"
   ]
  },
  {
   "cell_type": "markdown",
   "metadata": {},
   "source": [
    "#### Breaking every symptom into a feature"
   ]
  },
  {
   "cell_type": "code",
   "execution_count": 21,
   "metadata": {},
   "outputs": [],
   "source": [
    "# Experiment\n",
    "\n",
    "df3 = df_clean.copy()\n",
    "for ps in top_symptoms:\n",
    "    df3[ps] = df_clean.patient_reported_symptoms.str.contains(ps).astype(int)\n",
    "    df3[\"patient_reported_symptoms\"] = df_clean.patient_reported_symptoms.str.replace(ps+ \",\", \"\")\n",
    "\n",
    "df3[\"total symptoms\"] = df_clean.patient_reported_symptoms.str.count(\",\")\n",
    "df3 = df3.drop(columns = [\"patient_reported_symptoms\", \"medical_history\", \"corona_test\", \"age\", \"gender\", \"smoker\"])\n",
    "\n",
    "df3.rename(columns={'None,':'Nothing'}, \n",
    "                 inplace=True)"
   ]
  },
  {
   "cell_type": "code",
   "execution_count": 22,
   "metadata": {},
   "outputs": [
    {
     "data": {
      "text/html": [
       "<div>\n",
       "<style scoped>\n",
       "    .dataframe tbody tr th:only-of-type {\n",
       "        vertical-align: middle;\n",
       "    }\n",
       "\n",
       "    .dataframe tbody tr th {\n",
       "        vertical-align: top;\n",
       "    }\n",
       "\n",
       "    .dataframe thead th {\n",
       "        text-align: right;\n",
       "    }\n",
       "</style>\n",
       "<table border=\"1\" class=\"dataframe\">\n",
       "  <thead>\n",
       "    <tr style=\"text-align: right;\">\n",
       "      <th></th>\n",
       "      <th>Fever,</th>\n",
       "      <th>chills,</th>\n",
       "      <th>or sweating,</th>\n",
       "      <th>Shortness of breath</th>\n",
       "      <th>Loss of taste,</th>\n",
       "      <th>Loss of smell,</th>\n",
       "      <th>New or worsening cough,</th>\n",
       "      <th>Sore throat,</th>\n",
       "      <th>Body aches,</th>\n",
       "      <th>Nothing</th>\n",
       "      <th>total symptoms</th>\n",
       "    </tr>\n",
       "  </thead>\n",
       "  <tbody>\n",
       "    <tr>\n",
       "      <th>0</th>\n",
       "      <td>1</td>\n",
       "      <td>1</td>\n",
       "      <td>1</td>\n",
       "      <td>0</td>\n",
       "      <td>0</td>\n",
       "      <td>0</td>\n",
       "      <td>0</td>\n",
       "      <td>0</td>\n",
       "      <td>0</td>\n",
       "      <td>0</td>\n",
       "      <td>3</td>\n",
       "    </tr>\n",
       "    <tr>\n",
       "      <th>1</th>\n",
       "      <td>1</td>\n",
       "      <td>1</td>\n",
       "      <td>1</td>\n",
       "      <td>1</td>\n",
       "      <td>1</td>\n",
       "      <td>1</td>\n",
       "      <td>0</td>\n",
       "      <td>0</td>\n",
       "      <td>0</td>\n",
       "      <td>0</td>\n",
       "      <td>6</td>\n",
       "    </tr>\n",
       "    <tr>\n",
       "      <th>2</th>\n",
       "      <td>0</td>\n",
       "      <td>0</td>\n",
       "      <td>0</td>\n",
       "      <td>0</td>\n",
       "      <td>0</td>\n",
       "      <td>0</td>\n",
       "      <td>1</td>\n",
       "      <td>0</td>\n",
       "      <td>0</td>\n",
       "      <td>0</td>\n",
       "      <td>1</td>\n",
       "    </tr>\n",
       "    <tr>\n",
       "      <th>3</th>\n",
       "      <td>1</td>\n",
       "      <td>1</td>\n",
       "      <td>1</td>\n",
       "      <td>1</td>\n",
       "      <td>1</td>\n",
       "      <td>1</td>\n",
       "      <td>1</td>\n",
       "      <td>0</td>\n",
       "      <td>0</td>\n",
       "      <td>0</td>\n",
       "      <td>7</td>\n",
       "    </tr>\n",
       "    <tr>\n",
       "      <th>4</th>\n",
       "      <td>0</td>\n",
       "      <td>0</td>\n",
       "      <td>0</td>\n",
       "      <td>0</td>\n",
       "      <td>0</td>\n",
       "      <td>0</td>\n",
       "      <td>1</td>\n",
       "      <td>0</td>\n",
       "      <td>0</td>\n",
       "      <td>0</td>\n",
       "      <td>1</td>\n",
       "    </tr>\n",
       "  </tbody>\n",
       "</table>\n",
       "</div>"
      ],
      "text/plain": [
       "   Fever,  chills,  or sweating,  Shortness of breath  Loss of taste,  \\\n",
       "0       1        1             1                    0               0   \n",
       "1       1        1             1                    1               1   \n",
       "2       0        0             0                    0               0   \n",
       "3       1        1             1                    1               1   \n",
       "4       0        0             0                    0               0   \n",
       "\n",
       "   Loss of smell,  New or worsening cough,  Sore throat,  Body aches,  \\\n",
       "0               0                        0             0            0   \n",
       "1               1                        0             0            0   \n",
       "2               0                        1             0            0   \n",
       "3               1                        1             0            0   \n",
       "4               0                        1             0            0   \n",
       "\n",
       "   Nothing  total symptoms  \n",
       "0        0               3  \n",
       "1        0               6  \n",
       "2        0               1  \n",
       "3        0               7  \n",
       "4        0               1  "
      ]
     },
     "execution_count": 22,
     "metadata": {},
     "output_type": "execute_result"
    }
   ],
   "source": [
    "df3.head()"
   ]
  },
  {
   "cell_type": "markdown",
   "metadata": {},
   "source": [
    "##### Here we are merging the dataframes based on these features"
   ]
  },
  {
   "cell_type": "code",
   "execution_count": 23,
   "metadata": {},
   "outputs": [],
   "source": [
    "df4 = pd.concat([df2, df3], axis=1, ignore_index=False)"
   ]
  },
  {
   "cell_type": "code",
   "execution_count": 24,
   "metadata": {},
   "outputs": [
    {
     "data": {
      "text/html": [
       "<div>\n",
       "<style scoped>\n",
       "    .dataframe tbody tr th:only-of-type {\n",
       "        vertical-align: middle;\n",
       "    }\n",
       "\n",
       "    .dataframe tbody tr th {\n",
       "        vertical-align: top;\n",
       "    }\n",
       "\n",
       "    .dataframe thead th {\n",
       "        text-align: right;\n",
       "    }\n",
       "</style>\n",
       "<table border=\"1\" class=\"dataframe\">\n",
       "  <thead>\n",
       "    <tr style=\"text-align: right;\">\n",
       "      <th></th>\n",
       "      <th>corona_test</th>\n",
       "      <th>age</th>\n",
       "      <th>gender</th>\n",
       "      <th>smoker</th>\n",
       "      <th>None,</th>\n",
       "      <th>Asthma or chronic lung disease,</th>\n",
       "      <th>Disease or conditions that make it harder to cough,</th>\n",
       "      <th>Diabetes with complications,</th>\n",
       "      <th>Pregnancy,</th>\n",
       "      <th>Congestive heart failure,</th>\n",
       "      <th>...</th>\n",
       "      <th>chills,</th>\n",
       "      <th>or sweating,</th>\n",
       "      <th>Shortness of breath</th>\n",
       "      <th>Loss of taste,</th>\n",
       "      <th>Loss of smell,</th>\n",
       "      <th>New or worsening cough,</th>\n",
       "      <th>Sore throat,</th>\n",
       "      <th>Body aches,</th>\n",
       "      <th>Nothing</th>\n",
       "      <th>total symptoms</th>\n",
       "    </tr>\n",
       "  </thead>\n",
       "  <tbody>\n",
       "    <tr>\n",
       "      <th>0</th>\n",
       "      <td>negative</td>\n",
       "      <td>32</td>\n",
       "      <td>male</td>\n",
       "      <td>no</td>\n",
       "      <td>1</td>\n",
       "      <td>0</td>\n",
       "      <td>0</td>\n",
       "      <td>0</td>\n",
       "      <td>0</td>\n",
       "      <td>0</td>\n",
       "      <td>...</td>\n",
       "      <td>1</td>\n",
       "      <td>1</td>\n",
       "      <td>0</td>\n",
       "      <td>0</td>\n",
       "      <td>0</td>\n",
       "      <td>0</td>\n",
       "      <td>0</td>\n",
       "      <td>0</td>\n",
       "      <td>0</td>\n",
       "      <td>3</td>\n",
       "    </tr>\n",
       "    <tr>\n",
       "      <th>1</th>\n",
       "      <td>negative</td>\n",
       "      <td>31</td>\n",
       "      <td>male</td>\n",
       "      <td>no</td>\n",
       "      <td>1</td>\n",
       "      <td>0</td>\n",
       "      <td>0</td>\n",
       "      <td>0</td>\n",
       "      <td>0</td>\n",
       "      <td>0</td>\n",
       "      <td>...</td>\n",
       "      <td>1</td>\n",
       "      <td>1</td>\n",
       "      <td>1</td>\n",
       "      <td>1</td>\n",
       "      <td>1</td>\n",
       "      <td>0</td>\n",
       "      <td>0</td>\n",
       "      <td>0</td>\n",
       "      <td>0</td>\n",
       "      <td>6</td>\n",
       "    </tr>\n",
       "    <tr>\n",
       "      <th>2</th>\n",
       "      <td>negative</td>\n",
       "      <td>21</td>\n",
       "      <td>female</td>\n",
       "      <td>no</td>\n",
       "      <td>1</td>\n",
       "      <td>0</td>\n",
       "      <td>0</td>\n",
       "      <td>0</td>\n",
       "      <td>0</td>\n",
       "      <td>0</td>\n",
       "      <td>...</td>\n",
       "      <td>0</td>\n",
       "      <td>0</td>\n",
       "      <td>0</td>\n",
       "      <td>0</td>\n",
       "      <td>0</td>\n",
       "      <td>1</td>\n",
       "      <td>0</td>\n",
       "      <td>0</td>\n",
       "      <td>0</td>\n",
       "      <td>1</td>\n",
       "    </tr>\n",
       "    <tr>\n",
       "      <th>3</th>\n",
       "      <td>negative</td>\n",
       "      <td>33</td>\n",
       "      <td>male</td>\n",
       "      <td>no</td>\n",
       "      <td>0</td>\n",
       "      <td>1</td>\n",
       "      <td>0</td>\n",
       "      <td>0</td>\n",
       "      <td>0</td>\n",
       "      <td>0</td>\n",
       "      <td>...</td>\n",
       "      <td>1</td>\n",
       "      <td>1</td>\n",
       "      <td>1</td>\n",
       "      <td>1</td>\n",
       "      <td>1</td>\n",
       "      <td>1</td>\n",
       "      <td>0</td>\n",
       "      <td>0</td>\n",
       "      <td>0</td>\n",
       "      <td>7</td>\n",
       "    </tr>\n",
       "    <tr>\n",
       "      <th>4</th>\n",
       "      <td>negative</td>\n",
       "      <td>27</td>\n",
       "      <td>male</td>\n",
       "      <td>no</td>\n",
       "      <td>0</td>\n",
       "      <td>0</td>\n",
       "      <td>1</td>\n",
       "      <td>0</td>\n",
       "      <td>0</td>\n",
       "      <td>0</td>\n",
       "      <td>...</td>\n",
       "      <td>0</td>\n",
       "      <td>0</td>\n",
       "      <td>0</td>\n",
       "      <td>0</td>\n",
       "      <td>0</td>\n",
       "      <td>1</td>\n",
       "      <td>0</td>\n",
       "      <td>0</td>\n",
       "      <td>0</td>\n",
       "      <td>1</td>\n",
       "    </tr>\n",
       "  </tbody>\n",
       "</table>\n",
       "<p>5 rows × 23 columns</p>\n",
       "</div>"
      ],
      "text/plain": [
       "  corona_test  age  gender smoker  None,  Asthma or chronic lung disease,  \\\n",
       "0    negative   32    male     no      1                                0   \n",
       "1    negative   31    male     no      1                                0   \n",
       "2    negative   21  female     no      1                                0   \n",
       "3    negative   33    male     no      0                                1   \n",
       "4    negative   27    male     no      0                                0   \n",
       "\n",
       "   Disease or conditions that make it harder to cough,  \\\n",
       "0                                                  0     \n",
       "1                                                  0     \n",
       "2                                                  0     \n",
       "3                                                  0     \n",
       "4                                                  1     \n",
       "\n",
       "   Diabetes with complications,  Pregnancy,  Congestive heart failure,  ...  \\\n",
       "0                             0           0                          0  ...   \n",
       "1                             0           0                          0  ...   \n",
       "2                             0           0                          0  ...   \n",
       "3                             0           0                          0  ...   \n",
       "4                             0           0                          0  ...   \n",
       "\n",
       "   chills,  or sweating,  Shortness of breath  Loss of taste,  Loss of smell,  \\\n",
       "0        1             1                    0               0               0   \n",
       "1        1             1                    1               1               1   \n",
       "2        0             0                    0               0               0   \n",
       "3        1             1                    1               1               1   \n",
       "4        0             0                    0               0               0   \n",
       "\n",
       "   New or worsening cough,  Sore throat,  Body aches,  Nothing  total symptoms  \n",
       "0                        0             0            0        0               3  \n",
       "1                        0             0            0        0               6  \n",
       "2                        1             0            0        0               1  \n",
       "3                        1             0            0        0               7  \n",
       "4                        1             0            0        0               1  \n",
       "\n",
       "[5 rows x 23 columns]"
      ]
     },
     "execution_count": 24,
     "metadata": {},
     "output_type": "execute_result"
    }
   ],
   "source": [
    "df4.head()"
   ]
  },
  {
   "cell_type": "code",
   "execution_count": 25,
   "metadata": {},
   "outputs": [
    {
     "data": {
      "text/plain": [
       "118"
      ]
     },
     "execution_count": 25,
     "metadata": {},
     "output_type": "execute_result"
    }
   ],
   "source": [
    "len(df4)\n"
   ]
  },
  {
   "cell_type": "code",
   "execution_count": 26,
   "metadata": {},
   "outputs": [],
   "source": [
    "# here you can drop total symptoms and total diseases column as well, in order to make your algo more robust. so i m gonna do \n",
    "# the same\n",
    "\n",
    "df4 = df4.drop(columns = [\"total_diseases\", \"total symptoms\"])"
   ]
  },
  {
   "cell_type": "code",
   "execution_count": 27,
   "metadata": {},
   "outputs": [
    {
     "data": {
      "text/html": [
       "<div>\n",
       "<style scoped>\n",
       "    .dataframe tbody tr th:only-of-type {\n",
       "        vertical-align: middle;\n",
       "    }\n",
       "\n",
       "    .dataframe tbody tr th {\n",
       "        vertical-align: top;\n",
       "    }\n",
       "\n",
       "    .dataframe thead th {\n",
       "        text-align: right;\n",
       "    }\n",
       "</style>\n",
       "<table border=\"1\" class=\"dataframe\">\n",
       "  <thead>\n",
       "    <tr style=\"text-align: right;\">\n",
       "      <th></th>\n",
       "      <th>corona_test</th>\n",
       "      <th>age</th>\n",
       "      <th>gender</th>\n",
       "      <th>smoker</th>\n",
       "      <th>None,</th>\n",
       "      <th>Asthma or chronic lung disease,</th>\n",
       "      <th>Disease or conditions that make it harder to cough,</th>\n",
       "      <th>Diabetes with complications,</th>\n",
       "      <th>Pregnancy,</th>\n",
       "      <th>Congestive heart failure,</th>\n",
       "      <th>...</th>\n",
       "      <th>Fever,</th>\n",
       "      <th>chills,</th>\n",
       "      <th>or sweating,</th>\n",
       "      <th>Shortness of breath</th>\n",
       "      <th>Loss of taste,</th>\n",
       "      <th>Loss of smell,</th>\n",
       "      <th>New or worsening cough,</th>\n",
       "      <th>Sore throat,</th>\n",
       "      <th>Body aches,</th>\n",
       "      <th>Nothing</th>\n",
       "    </tr>\n",
       "  </thead>\n",
       "  <tbody>\n",
       "    <tr>\n",
       "      <th>0</th>\n",
       "      <td>negative</td>\n",
       "      <td>32</td>\n",
       "      <td>male</td>\n",
       "      <td>no</td>\n",
       "      <td>1</td>\n",
       "      <td>0</td>\n",
       "      <td>0</td>\n",
       "      <td>0</td>\n",
       "      <td>0</td>\n",
       "      <td>0</td>\n",
       "      <td>...</td>\n",
       "      <td>1</td>\n",
       "      <td>1</td>\n",
       "      <td>1</td>\n",
       "      <td>0</td>\n",
       "      <td>0</td>\n",
       "      <td>0</td>\n",
       "      <td>0</td>\n",
       "      <td>0</td>\n",
       "      <td>0</td>\n",
       "      <td>0</td>\n",
       "    </tr>\n",
       "    <tr>\n",
       "      <th>1</th>\n",
       "      <td>negative</td>\n",
       "      <td>31</td>\n",
       "      <td>male</td>\n",
       "      <td>no</td>\n",
       "      <td>1</td>\n",
       "      <td>0</td>\n",
       "      <td>0</td>\n",
       "      <td>0</td>\n",
       "      <td>0</td>\n",
       "      <td>0</td>\n",
       "      <td>...</td>\n",
       "      <td>1</td>\n",
       "      <td>1</td>\n",
       "      <td>1</td>\n",
       "      <td>1</td>\n",
       "      <td>1</td>\n",
       "      <td>1</td>\n",
       "      <td>0</td>\n",
       "      <td>0</td>\n",
       "      <td>0</td>\n",
       "      <td>0</td>\n",
       "    </tr>\n",
       "    <tr>\n",
       "      <th>2</th>\n",
       "      <td>negative</td>\n",
       "      <td>21</td>\n",
       "      <td>female</td>\n",
       "      <td>no</td>\n",
       "      <td>1</td>\n",
       "      <td>0</td>\n",
       "      <td>0</td>\n",
       "      <td>0</td>\n",
       "      <td>0</td>\n",
       "      <td>0</td>\n",
       "      <td>...</td>\n",
       "      <td>0</td>\n",
       "      <td>0</td>\n",
       "      <td>0</td>\n",
       "      <td>0</td>\n",
       "      <td>0</td>\n",
       "      <td>0</td>\n",
       "      <td>1</td>\n",
       "      <td>0</td>\n",
       "      <td>0</td>\n",
       "      <td>0</td>\n",
       "    </tr>\n",
       "    <tr>\n",
       "      <th>3</th>\n",
       "      <td>negative</td>\n",
       "      <td>33</td>\n",
       "      <td>male</td>\n",
       "      <td>no</td>\n",
       "      <td>0</td>\n",
       "      <td>1</td>\n",
       "      <td>0</td>\n",
       "      <td>0</td>\n",
       "      <td>0</td>\n",
       "      <td>0</td>\n",
       "      <td>...</td>\n",
       "      <td>1</td>\n",
       "      <td>1</td>\n",
       "      <td>1</td>\n",
       "      <td>1</td>\n",
       "      <td>1</td>\n",
       "      <td>1</td>\n",
       "      <td>1</td>\n",
       "      <td>0</td>\n",
       "      <td>0</td>\n",
       "      <td>0</td>\n",
       "    </tr>\n",
       "    <tr>\n",
       "      <th>4</th>\n",
       "      <td>negative</td>\n",
       "      <td>27</td>\n",
       "      <td>male</td>\n",
       "      <td>no</td>\n",
       "      <td>0</td>\n",
       "      <td>0</td>\n",
       "      <td>1</td>\n",
       "      <td>0</td>\n",
       "      <td>0</td>\n",
       "      <td>0</td>\n",
       "      <td>...</td>\n",
       "      <td>0</td>\n",
       "      <td>0</td>\n",
       "      <td>0</td>\n",
       "      <td>0</td>\n",
       "      <td>0</td>\n",
       "      <td>0</td>\n",
       "      <td>1</td>\n",
       "      <td>0</td>\n",
       "      <td>0</td>\n",
       "      <td>0</td>\n",
       "    </tr>\n",
       "  </tbody>\n",
       "</table>\n",
       "<p>5 rows × 21 columns</p>\n",
       "</div>"
      ],
      "text/plain": [
       "  corona_test  age  gender smoker  None,  Asthma or chronic lung disease,  \\\n",
       "0    negative   32    male     no      1                                0   \n",
       "1    negative   31    male     no      1                                0   \n",
       "2    negative   21  female     no      1                                0   \n",
       "3    negative   33    male     no      0                                1   \n",
       "4    negative   27    male     no      0                                0   \n",
       "\n",
       "   Disease or conditions that make it harder to cough,  \\\n",
       "0                                                  0     \n",
       "1                                                  0     \n",
       "2                                                  0     \n",
       "3                                                  0     \n",
       "4                                                  1     \n",
       "\n",
       "   Diabetes with complications,  Pregnancy,  Congestive heart failure,  ...  \\\n",
       "0                             0           0                          0  ...   \n",
       "1                             0           0                          0  ...   \n",
       "2                             0           0                          0  ...   \n",
       "3                             0           0                          0  ...   \n",
       "4                             0           0                          0  ...   \n",
       "\n",
       "   Fever,  chills,  or sweating,  Shortness of breath  Loss of taste,  \\\n",
       "0       1        1             1                    0               0   \n",
       "1       1        1             1                    1               1   \n",
       "2       0        0             0                    0               0   \n",
       "3       1        1             1                    1               1   \n",
       "4       0        0             0                    0               0   \n",
       "\n",
       "   Loss of smell,  New or worsening cough,  Sore throat,  Body aches,  Nothing  \n",
       "0               0                        0             0            0        0  \n",
       "1               1                        0             0            0        0  \n",
       "2               0                        1             0            0        0  \n",
       "3               1                        1             0            0        0  \n",
       "4               0                        1             0            0        0  \n",
       "\n",
       "[5 rows x 21 columns]"
      ]
     },
     "execution_count": 27,
     "metadata": {},
     "output_type": "execute_result"
    }
   ],
   "source": [
    "df4.head()"
   ]
  },
  {
   "cell_type": "code",
   "execution_count": 28,
   "metadata": {},
   "outputs": [
    {
     "data": {
      "text/html": [
       "<div>\n",
       "<style scoped>\n",
       "    .dataframe tbody tr th:only-of-type {\n",
       "        vertical-align: middle;\n",
       "    }\n",
       "\n",
       "    .dataframe tbody tr th {\n",
       "        vertical-align: top;\n",
       "    }\n",
       "\n",
       "    .dataframe thead th {\n",
       "        text-align: right;\n",
       "    }\n",
       "</style>\n",
       "<table border=\"1\" class=\"dataframe\">\n",
       "  <thead>\n",
       "    <tr style=\"text-align: right;\">\n",
       "      <th></th>\n",
       "      <th>age</th>\n",
       "      <th>None,</th>\n",
       "      <th>Asthma or chronic lung disease,</th>\n",
       "      <th>Disease or conditions that make it harder to cough,</th>\n",
       "      <th>Diabetes with complications,</th>\n",
       "      <th>Pregnancy,</th>\n",
       "      <th>Congestive heart failure,</th>\n",
       "      <th>Extreme obesity</th>\n",
       "      <th>Fever,</th>\n",
       "      <th>chills,</th>\n",
       "      <th>or sweating,</th>\n",
       "      <th>Shortness of breath</th>\n",
       "      <th>Loss of taste,</th>\n",
       "      <th>Loss of smell,</th>\n",
       "      <th>New or worsening cough,</th>\n",
       "      <th>Sore throat,</th>\n",
       "      <th>Body aches,</th>\n",
       "      <th>Nothing</th>\n",
       "    </tr>\n",
       "  </thead>\n",
       "  <tbody>\n",
       "    <tr>\n",
       "      <th>count</th>\n",
       "      <td>118.000000</td>\n",
       "      <td>118.000000</td>\n",
       "      <td>118.000000</td>\n",
       "      <td>118.000000</td>\n",
       "      <td>118.000000</td>\n",
       "      <td>118.000000</td>\n",
       "      <td>118.000000</td>\n",
       "      <td>118.0</td>\n",
       "      <td>118.000000</td>\n",
       "      <td>118.000000</td>\n",
       "      <td>118.000000</td>\n",
       "      <td>118.000000</td>\n",
       "      <td>118.000000</td>\n",
       "      <td>118.000000</td>\n",
       "      <td>118.000000</td>\n",
       "      <td>118.000000</td>\n",
       "      <td>118.000000</td>\n",
       "      <td>118.000000</td>\n",
       "    </tr>\n",
       "    <tr>\n",
       "      <th>mean</th>\n",
       "      <td>37.677966</td>\n",
       "      <td>0.711864</td>\n",
       "      <td>0.084746</td>\n",
       "      <td>0.067797</td>\n",
       "      <td>0.110169</td>\n",
       "      <td>0.016949</td>\n",
       "      <td>0.042373</td>\n",
       "      <td>0.0</td>\n",
       "      <td>0.245763</td>\n",
       "      <td>0.245763</td>\n",
       "      <td>0.245763</td>\n",
       "      <td>0.313559</td>\n",
       "      <td>0.177966</td>\n",
       "      <td>0.084746</td>\n",
       "      <td>0.381356</td>\n",
       "      <td>0.296610</td>\n",
       "      <td>0.110169</td>\n",
       "      <td>0.398305</td>\n",
       "    </tr>\n",
       "    <tr>\n",
       "      <th>std</th>\n",
       "      <td>14.503687</td>\n",
       "      <td>0.454826</td>\n",
       "      <td>0.279691</td>\n",
       "      <td>0.252469</td>\n",
       "      <td>0.314436</td>\n",
       "      <td>0.129631</td>\n",
       "      <td>0.202297</td>\n",
       "      <td>0.0</td>\n",
       "      <td>0.432374</td>\n",
       "      <td>0.432374</td>\n",
       "      <td>0.432374</td>\n",
       "      <td>0.465918</td>\n",
       "      <td>0.384115</td>\n",
       "      <td>0.279691</td>\n",
       "      <td>0.487791</td>\n",
       "      <td>0.458711</td>\n",
       "      <td>0.314436</td>\n",
       "      <td>0.491637</td>\n",
       "    </tr>\n",
       "    <tr>\n",
       "      <th>min</th>\n",
       "      <td>6.000000</td>\n",
       "      <td>0.000000</td>\n",
       "      <td>0.000000</td>\n",
       "      <td>0.000000</td>\n",
       "      <td>0.000000</td>\n",
       "      <td>0.000000</td>\n",
       "      <td>0.000000</td>\n",
       "      <td>0.0</td>\n",
       "      <td>0.000000</td>\n",
       "      <td>0.000000</td>\n",
       "      <td>0.000000</td>\n",
       "      <td>0.000000</td>\n",
       "      <td>0.000000</td>\n",
       "      <td>0.000000</td>\n",
       "      <td>0.000000</td>\n",
       "      <td>0.000000</td>\n",
       "      <td>0.000000</td>\n",
       "      <td>0.000000</td>\n",
       "    </tr>\n",
       "    <tr>\n",
       "      <th>25%</th>\n",
       "      <td>25.000000</td>\n",
       "      <td>0.000000</td>\n",
       "      <td>0.000000</td>\n",
       "      <td>0.000000</td>\n",
       "      <td>0.000000</td>\n",
       "      <td>0.000000</td>\n",
       "      <td>0.000000</td>\n",
       "      <td>0.0</td>\n",
       "      <td>0.000000</td>\n",
       "      <td>0.000000</td>\n",
       "      <td>0.000000</td>\n",
       "      <td>0.000000</td>\n",
       "      <td>0.000000</td>\n",
       "      <td>0.000000</td>\n",
       "      <td>0.000000</td>\n",
       "      <td>0.000000</td>\n",
       "      <td>0.000000</td>\n",
       "      <td>0.000000</td>\n",
       "    </tr>\n",
       "    <tr>\n",
       "      <th>50%</th>\n",
       "      <td>37.000000</td>\n",
       "      <td>1.000000</td>\n",
       "      <td>0.000000</td>\n",
       "      <td>0.000000</td>\n",
       "      <td>0.000000</td>\n",
       "      <td>0.000000</td>\n",
       "      <td>0.000000</td>\n",
       "      <td>0.0</td>\n",
       "      <td>0.000000</td>\n",
       "      <td>0.000000</td>\n",
       "      <td>0.000000</td>\n",
       "      <td>0.000000</td>\n",
       "      <td>0.000000</td>\n",
       "      <td>0.000000</td>\n",
       "      <td>0.000000</td>\n",
       "      <td>0.000000</td>\n",
       "      <td>0.000000</td>\n",
       "      <td>0.000000</td>\n",
       "    </tr>\n",
       "    <tr>\n",
       "      <th>75%</th>\n",
       "      <td>50.000000</td>\n",
       "      <td>1.000000</td>\n",
       "      <td>0.000000</td>\n",
       "      <td>0.000000</td>\n",
       "      <td>0.000000</td>\n",
       "      <td>0.000000</td>\n",
       "      <td>0.000000</td>\n",
       "      <td>0.0</td>\n",
       "      <td>0.000000</td>\n",
       "      <td>0.000000</td>\n",
       "      <td>0.000000</td>\n",
       "      <td>1.000000</td>\n",
       "      <td>0.000000</td>\n",
       "      <td>0.000000</td>\n",
       "      <td>1.000000</td>\n",
       "      <td>1.000000</td>\n",
       "      <td>0.000000</td>\n",
       "      <td>1.000000</td>\n",
       "    </tr>\n",
       "    <tr>\n",
       "      <th>max</th>\n",
       "      <td>67.000000</td>\n",
       "      <td>1.000000</td>\n",
       "      <td>1.000000</td>\n",
       "      <td>1.000000</td>\n",
       "      <td>1.000000</td>\n",
       "      <td>1.000000</td>\n",
       "      <td>1.000000</td>\n",
       "      <td>0.0</td>\n",
       "      <td>1.000000</td>\n",
       "      <td>1.000000</td>\n",
       "      <td>1.000000</td>\n",
       "      <td>1.000000</td>\n",
       "      <td>1.000000</td>\n",
       "      <td>1.000000</td>\n",
       "      <td>1.000000</td>\n",
       "      <td>1.000000</td>\n",
       "      <td>1.000000</td>\n",
       "      <td>1.000000</td>\n",
       "    </tr>\n",
       "  </tbody>\n",
       "</table>\n",
       "</div>"
      ],
      "text/plain": [
       "              age       None,  Asthma or chronic lung disease,  \\\n",
       "count  118.000000  118.000000                       118.000000   \n",
       "mean    37.677966    0.711864                         0.084746   \n",
       "std     14.503687    0.454826                         0.279691   \n",
       "min      6.000000    0.000000                         0.000000   \n",
       "25%     25.000000    0.000000                         0.000000   \n",
       "50%     37.000000    1.000000                         0.000000   \n",
       "75%     50.000000    1.000000                         0.000000   \n",
       "max     67.000000    1.000000                         1.000000   \n",
       "\n",
       "       Disease or conditions that make it harder to cough,  \\\n",
       "count                                         118.000000     \n",
       "mean                                            0.067797     \n",
       "std                                             0.252469     \n",
       "min                                             0.000000     \n",
       "25%                                             0.000000     \n",
       "50%                                             0.000000     \n",
       "75%                                             0.000000     \n",
       "max                                             1.000000     \n",
       "\n",
       "       Diabetes with complications,  Pregnancy,  Congestive heart failure,  \\\n",
       "count                    118.000000  118.000000                 118.000000   \n",
       "mean                       0.110169    0.016949                   0.042373   \n",
       "std                        0.314436    0.129631                   0.202297   \n",
       "min                        0.000000    0.000000                   0.000000   \n",
       "25%                        0.000000    0.000000                   0.000000   \n",
       "50%                        0.000000    0.000000                   0.000000   \n",
       "75%                        0.000000    0.000000                   0.000000   \n",
       "max                        1.000000    1.000000                   1.000000   \n",
       "\n",
       "       Extreme obesity      Fever,     chills,  or sweating,  \\\n",
       "count            118.0  118.000000  118.000000    118.000000   \n",
       "mean               0.0    0.245763    0.245763      0.245763   \n",
       "std                0.0    0.432374    0.432374      0.432374   \n",
       "min                0.0    0.000000    0.000000      0.000000   \n",
       "25%                0.0    0.000000    0.000000      0.000000   \n",
       "50%                0.0    0.000000    0.000000      0.000000   \n",
       "75%                0.0    0.000000    0.000000      0.000000   \n",
       "max                0.0    1.000000    1.000000      1.000000   \n",
       "\n",
       "       Shortness of breath  Loss of taste,  Loss of smell,  \\\n",
       "count           118.000000      118.000000      118.000000   \n",
       "mean              0.313559        0.177966        0.084746   \n",
       "std               0.465918        0.384115        0.279691   \n",
       "min               0.000000        0.000000        0.000000   \n",
       "25%               0.000000        0.000000        0.000000   \n",
       "50%               0.000000        0.000000        0.000000   \n",
       "75%               1.000000        0.000000        0.000000   \n",
       "max               1.000000        1.000000        1.000000   \n",
       "\n",
       "       New or worsening cough,  Sore throat,  Body aches,     Nothing  \n",
       "count               118.000000    118.000000   118.000000  118.000000  \n",
       "mean                  0.381356      0.296610     0.110169    0.398305  \n",
       "std                   0.487791      0.458711     0.314436    0.491637  \n",
       "min                   0.000000      0.000000     0.000000    0.000000  \n",
       "25%                   0.000000      0.000000     0.000000    0.000000  \n",
       "50%                   0.000000      0.000000     0.000000    0.000000  \n",
       "75%                   1.000000      1.000000     0.000000    1.000000  \n",
       "max                   1.000000      1.000000     1.000000    1.000000  "
      ]
     },
     "execution_count": 28,
     "metadata": {},
     "output_type": "execute_result"
    }
   ],
   "source": [
    "# for visualizing statistical detail of dataframe.\n",
    "df4.describe()"
   ]
  },
  {
   "cell_type": "code",
   "execution_count": 29,
   "metadata": {},
   "outputs": [
    {
     "data": {
      "text/plain": [
       "corona_test                                            object\n",
       "age                                                     int64\n",
       "gender                                                 object\n",
       "smoker                                                 object\n",
       "None,                                                   int32\n",
       "Asthma or chronic lung disease,                         int32\n",
       "Disease or conditions that make it harder to cough,     int32\n",
       "Diabetes with complications,                            int32\n",
       "Pregnancy,                                              int32\n",
       "Congestive heart failure,                               int32\n",
       "Extreme obesity                                         int32\n",
       "Fever,                                                  int32\n",
       "chills,                                                 int32\n",
       "or sweating,                                            int32\n",
       "Shortness of breath                                     int32\n",
       "Loss of taste,                                          int32\n",
       "Loss of smell,                                          int32\n",
       "New or worsening cough,                                 int32\n",
       "Sore throat,                                            int32\n",
       "Body aches,                                             int32\n",
       "Nothing                                                 int32\n",
       "dtype: object"
      ]
     },
     "execution_count": 29,
     "metadata": {},
     "output_type": "execute_result"
    }
   ],
   "source": [
    "# For checking data type of your column \n",
    "\n",
    "df4.dtypes"
   ]
  },
  {
   "cell_type": "code",
   "execution_count": 30,
   "metadata": {},
   "outputs": [
    {
     "data": {
      "text/plain": [
       "corona_test                                            0\n",
       "age                                                    0\n",
       "gender                                                 0\n",
       "smoker                                                 0\n",
       "None,                                                  0\n",
       "Asthma or chronic lung disease,                        0\n",
       "Disease or conditions that make it harder to cough,    0\n",
       "Diabetes with complications,                           0\n",
       "Pregnancy,                                             0\n",
       "Congestive heart failure,                              0\n",
       "Extreme obesity                                        0\n",
       "Fever,                                                 0\n",
       "chills,                                                0\n",
       "or sweating,                                           0\n",
       "Shortness of breath                                    0\n",
       "Loss of taste,                                         0\n",
       "Loss of smell,                                         0\n",
       "New or worsening cough,                                0\n",
       "Sore throat,                                           0\n",
       "Body aches,                                            0\n",
       "Nothing                                                0\n",
       "dtype: int64"
      ]
     },
     "execution_count": 30,
     "metadata": {},
     "output_type": "execute_result"
    }
   ],
   "source": [
    "# for checking total no of nan values in dataset.\n",
    "\n",
    "df4.isna().sum()"
   ]
  },
  {
   "cell_type": "markdown",
   "metadata": {},
   "source": [
    "### For checking class distribution"
   ]
  },
  {
   "cell_type": "code",
   "execution_count": 31,
   "metadata": {},
   "outputs": [
    {
     "name": "stdout",
     "output_type": "stream",
     "text": [
      "negative    92\n",
      "positive    26\n",
      "Name: corona_test, dtype: int64\n"
     ]
    },
    {
     "data": {
      "image/png": "[encoded data removed]",
      "text/plain": [
       "<Figure size 432x288 with 1 Axes>"
      ]
     },
     "metadata": {
      "needs_background": "light"
     },
     "output_type": "display_data"
    }
   ],
   "source": [
    "ax = sns.countplot(x = \"corona_test\", data = df4)\n",
    "print(df4[\"corona_test\"].value_counts())"
   ]
  },
  {
   "cell_type": "markdown",
   "metadata": {},
   "source": [
    "### For checking contribution from each class in terms of percentage. "
   ]
  },
  {
   "cell_type": "code",
   "execution_count": 32,
   "metadata": {},
   "outputs": [
    {
     "name": "stdout",
     "output_type": "stream",
     "text": [
      "77.96610169491525\n",
      "22.033898305084744\n"
     ]
    }
   ],
   "source": [
    "neg_per = 100 *(92 / float(df4.shape[0]))\n",
    "pos_per = 100 *(26 / float(df4.shape[0]))\n",
    "print(neg_per)\n",
    "print(pos_per)"
   ]
  },
  {
   "cell_type": "code",
   "execution_count": 33,
   "metadata": {},
   "outputs": [
    {
     "name": "stdout",
     "output_type": "stream",
     "text": [
      "Number of unique age values : 47\n",
      "20    6\n",
      "50    6\n",
      "24    5\n",
      "29    5\n",
      "46    5\n",
      "22    5\n",
      "40    5\n",
      "30    4\n",
      "17    4\n",
      "47    4\n",
      "Name: age, dtype: int64\n"
     ]
    }
   ],
   "source": [
    "# For checking distribution of values in each column or in each feature.. \n",
    "\n",
    "unique = df4[\"age\"].value_counts()\n",
    "print(\"Number of unique age values :\", unique.shape[0])\n",
    "# the top 10 ages that were repeated again and again\n",
    "print(unique.head(10))"
   ]
  },
  {
   "cell_type": "code",
   "execution_count": 34,
   "metadata": {},
   "outputs": [
    {
     "name": "stdout",
     "output_type": "stream",
     "text": [
      "Number of unique age values : 3\n",
      "male           76\n",
      "female         41\n",
      "TRANSGENDER     1\n",
      "Name: gender, dtype: int64\n"
     ]
    }
   ],
   "source": [
    "# For checking distribution of values in each column or in each feature..  (checking distribution of age)\n",
    "\n",
    "unique = df4[\"gender\"].value_counts()\n",
    "print(\"Number of unique age values :\", unique.shape[0])\n",
    "# the top 10 ages that were repeated again and again\n",
    "print(unique.head(10))"
   ]
  },
  {
   "cell_type": "code",
   "execution_count": 38,
   "metadata": {},
   "outputs": [
    {
     "name": "stdout",
     "output_type": "stream",
     "text": [
      "Number of unique age values : 2\n",
      "no     107\n",
      "yes     11\n",
      "Name: smoker, dtype: int64\n"
     ]
    }
   ],
   "source": [
    "# For checking distribution of values in each column or in each feature..  (checking distribution of )\n",
    "\n",
    "unique = df4[\"smoker\"].value_counts()\n",
    "print(\"Number of unique age values :\", unique.shape[0])\n",
    "# the top 10 ages that were repeated again and again\n",
    "print(unique.head(10))"
   ]
  },
  {
   "cell_type": "code",
   "execution_count": 39,
   "metadata": {},
   "outputs": [],
   "source": [
    "# In order to convert textural data into a numerical number for machine learning, we will use One hot encoding. \n",
    "# in pandas we have get_dummies function to convert textual data into seperate features like one hot encoder"
   ]
  },
  {
   "cell_type": "code",
   "execution_count": 40,
   "metadata": {},
   "outputs": [],
   "source": [
    "gender = pd.get_dummies(df4['gender'])\n",
    "smoker = pd.get_dummies(df4['smoker'], prefix='smoker')"
   ]
  },
  {
   "cell_type": "code",
   "execution_count": 43,
   "metadata": {},
   "outputs": [
    {
     "data": {
      "text/html": [
       "<div>\n",
       "<style scoped>\n",
       "    .dataframe tbody tr th:only-of-type {\n",
       "        vertical-align: middle;\n",
       "    }\n",
       "\n",
       "    .dataframe tbody tr th {\n",
       "        vertical-align: top;\n",
       "    }\n",
       "\n",
       "    .dataframe thead th {\n",
       "        text-align: right;\n",
       "    }\n",
       "</style>\n",
       "<table border=\"1\" class=\"dataframe\">\n",
       "  <thead>\n",
       "    <tr style=\"text-align: right;\">\n",
       "      <th></th>\n",
       "      <th>TRANSGENDER</th>\n",
       "      <th>female</th>\n",
       "      <th>male</th>\n",
       "      <th>smoker_no</th>\n",
       "      <th>smoker_yes</th>\n",
       "      <th>age</th>\n",
       "      <th>None,</th>\n",
       "      <th>Asthma or chronic lung disease,</th>\n",
       "      <th>Disease or conditions that make it harder to cough,</th>\n",
       "      <th>Diabetes with complications,</th>\n",
       "      <th>...</th>\n",
       "      <th>Fever,</th>\n",
       "      <th>chills,</th>\n",
       "      <th>or sweating,</th>\n",
       "      <th>Shortness of breath</th>\n",
       "      <th>Loss of taste,</th>\n",
       "      <th>Loss of smell,</th>\n",
       "      <th>New or worsening cough,</th>\n",
       "      <th>Sore throat,</th>\n",
       "      <th>Body aches,</th>\n",
       "      <th>Nothing</th>\n",
       "    </tr>\n",
       "  </thead>\n",
       "  <tbody>\n",
       "    <tr>\n",
       "      <th>0</th>\n",
       "      <td>0</td>\n",
       "      <td>0</td>\n",
       "      <td>1</td>\n",
       "      <td>1</td>\n",
       "      <td>0</td>\n",
       "      <td>32</td>\n",
       "      <td>1</td>\n",
       "      <td>0</td>\n",
       "      <td>0</td>\n",
       "      <td>0</td>\n",
       "      <td>...</td>\n",
       "      <td>1</td>\n",
       "      <td>1</td>\n",
       "      <td>1</td>\n",
       "      <td>0</td>\n",
       "      <td>0</td>\n",
       "      <td>0</td>\n",
       "      <td>0</td>\n",
       "      <td>0</td>\n",
       "      <td>0</td>\n",
       "      <td>0</td>\n",
       "    </tr>\n",
       "    <tr>\n",
       "      <th>1</th>\n",
       "      <td>0</td>\n",
       "      <td>0</td>\n",
       "      <td>1</td>\n",
       "      <td>1</td>\n",
       "      <td>0</td>\n",
       "      <td>31</td>\n",
       "      <td>1</td>\n",
       "      <td>0</td>\n",
       "      <td>0</td>\n",
       "      <td>0</td>\n",
       "      <td>...</td>\n",
       "      <td>1</td>\n",
       "      <td>1</td>\n",
       "      <td>1</td>\n",
       "      <td>1</td>\n",
       "      <td>1</td>\n",
       "      <td>1</td>\n",
       "      <td>0</td>\n",
       "      <td>0</td>\n",
       "      <td>0</td>\n",
       "      <td>0</td>\n",
       "    </tr>\n",
       "    <tr>\n",
       "      <th>2</th>\n",
       "      <td>0</td>\n",
       "      <td>1</td>\n",
       "      <td>0</td>\n",
       "      <td>1</td>\n",
       "      <td>0</td>\n",
       "      <td>21</td>\n",
       "      <td>1</td>\n",
       "      <td>0</td>\n",
       "      <td>0</td>\n",
       "      <td>0</td>\n",
       "      <td>...</td>\n",
       "      <td>0</td>\n",
       "      <td>0</td>\n",
       "      <td>0</td>\n",
       "      <td>0</td>\n",
       "      <td>0</td>\n",
       "      <td>0</td>\n",
       "      <td>1</td>\n",
       "      <td>0</td>\n",
       "      <td>0</td>\n",
       "      <td>0</td>\n",
       "    </tr>\n",
       "    <tr>\n",
       "      <th>3</th>\n",
       "      <td>0</td>\n",
       "      <td>0</td>\n",
       "      <td>1</td>\n",
       "      <td>1</td>\n",
       "      <td>0</td>\n",
       "      <td>33</td>\n",
       "      <td>0</td>\n",
       "      <td>1</td>\n",
       "      <td>0</td>\n",
       "      <td>0</td>\n",
       "      <td>...</td>\n",
       "      <td>1</td>\n",
       "      <td>1</td>\n",
       "      <td>1</td>\n",
       "      <td>1</td>\n",
       "      <td>1</td>\n",
       "      <td>1</td>\n",
       "      <td>1</td>\n",
       "      <td>0</td>\n",
       "      <td>0</td>\n",
       "      <td>0</td>\n",
       "    </tr>\n",
       "    <tr>\n",
       "      <th>4</th>\n",
       "      <td>0</td>\n",
       "      <td>0</td>\n",
       "      <td>1</td>\n",
       "      <td>1</td>\n",
       "      <td>0</td>\n",
       "      <td>27</td>\n",
       "      <td>0</td>\n",
       "      <td>0</td>\n",
       "      <td>1</td>\n",
       "      <td>0</td>\n",
       "      <td>...</td>\n",
       "      <td>0</td>\n",
       "      <td>0</td>\n",
       "      <td>0</td>\n",
       "      <td>0</td>\n",
       "      <td>0</td>\n",
       "      <td>0</td>\n",
       "      <td>1</td>\n",
       "      <td>0</td>\n",
       "      <td>0</td>\n",
       "      <td>0</td>\n",
       "    </tr>\n",
       "    <tr>\n",
       "      <th>5</th>\n",
       "      <td>0</td>\n",
       "      <td>1</td>\n",
       "      <td>0</td>\n",
       "      <td>1</td>\n",
       "      <td>0</td>\n",
       "      <td>22</td>\n",
       "      <td>0</td>\n",
       "      <td>0</td>\n",
       "      <td>0</td>\n",
       "      <td>1</td>\n",
       "      <td>...</td>\n",
       "      <td>0</td>\n",
       "      <td>0</td>\n",
       "      <td>0</td>\n",
       "      <td>0</td>\n",
       "      <td>0</td>\n",
       "      <td>0</td>\n",
       "      <td>0</td>\n",
       "      <td>0</td>\n",
       "      <td>0</td>\n",
       "      <td>1</td>\n",
       "    </tr>\n",
       "    <tr>\n",
       "      <th>6</th>\n",
       "      <td>0</td>\n",
       "      <td>0</td>\n",
       "      <td>1</td>\n",
       "      <td>1</td>\n",
       "      <td>0</td>\n",
       "      <td>51</td>\n",
       "      <td>1</td>\n",
       "      <td>0</td>\n",
       "      <td>0</td>\n",
       "      <td>0</td>\n",
       "      <td>...</td>\n",
       "      <td>0</td>\n",
       "      <td>0</td>\n",
       "      <td>0</td>\n",
       "      <td>0</td>\n",
       "      <td>0</td>\n",
       "      <td>0</td>\n",
       "      <td>0</td>\n",
       "      <td>0</td>\n",
       "      <td>0</td>\n",
       "      <td>1</td>\n",
       "    </tr>\n",
       "    <tr>\n",
       "      <th>7</th>\n",
       "      <td>0</td>\n",
       "      <td>0</td>\n",
       "      <td>1</td>\n",
       "      <td>1</td>\n",
       "      <td>0</td>\n",
       "      <td>24</td>\n",
       "      <td>1</td>\n",
       "      <td>0</td>\n",
       "      <td>0</td>\n",
       "      <td>0</td>\n",
       "      <td>...</td>\n",
       "      <td>1</td>\n",
       "      <td>1</td>\n",
       "      <td>1</td>\n",
       "      <td>0</td>\n",
       "      <td>0</td>\n",
       "      <td>0</td>\n",
       "      <td>0</td>\n",
       "      <td>1</td>\n",
       "      <td>0</td>\n",
       "      <td>0</td>\n",
       "    </tr>\n",
       "    <tr>\n",
       "      <th>8</th>\n",
       "      <td>0</td>\n",
       "      <td>1</td>\n",
       "      <td>0</td>\n",
       "      <td>1</td>\n",
       "      <td>0</td>\n",
       "      <td>17</td>\n",
       "      <td>1</td>\n",
       "      <td>0</td>\n",
       "      <td>0</td>\n",
       "      <td>0</td>\n",
       "      <td>...</td>\n",
       "      <td>0</td>\n",
       "      <td>0</td>\n",
       "      <td>0</td>\n",
       "      <td>1</td>\n",
       "      <td>0</td>\n",
       "      <td>0</td>\n",
       "      <td>1</td>\n",
       "      <td>0</td>\n",
       "      <td>0</td>\n",
       "      <td>0</td>\n",
       "    </tr>\n",
       "    <tr>\n",
       "      <th>9</th>\n",
       "      <td>1</td>\n",
       "      <td>0</td>\n",
       "      <td>0</td>\n",
       "      <td>1</td>\n",
       "      <td>0</td>\n",
       "      <td>55</td>\n",
       "      <td>1</td>\n",
       "      <td>0</td>\n",
       "      <td>0</td>\n",
       "      <td>0</td>\n",
       "      <td>...</td>\n",
       "      <td>1</td>\n",
       "      <td>1</td>\n",
       "      <td>1</td>\n",
       "      <td>1</td>\n",
       "      <td>0</td>\n",
       "      <td>0</td>\n",
       "      <td>0</td>\n",
       "      <td>0</td>\n",
       "      <td>0</td>\n",
       "      <td>0</td>\n",
       "    </tr>\n",
       "  </tbody>\n",
       "</table>\n",
       "<p>10 rows × 23 columns</p>\n",
       "</div>"
      ],
      "text/plain": [
       "   TRANSGENDER  female  male  smoker_no  smoker_yes  age  None,  \\\n",
       "0            0       0     1          1           0   32      1   \n",
       "1            0       0     1          1           0   31      1   \n",
       "2            0       1     0          1           0   21      1   \n",
       "3            0       0     1          1           0   33      0   \n",
       "4            0       0     1          1           0   27      0   \n",
       "5            0       1     0          1           0   22      0   \n",
       "6            0       0     1          1           0   51      1   \n",
       "7            0       0     1          1           0   24      1   \n",
       "8            0       1     0          1           0   17      1   \n",
       "9            1       0     0          1           0   55      1   \n",
       "\n",
       "   Asthma or chronic lung disease,  \\\n",
       "0                                0   \n",
       "1                                0   \n",
       "2                                0   \n",
       "3                                1   \n",
       "4                                0   \n",
       "5                                0   \n",
       "6                                0   \n",
       "7                                0   \n",
       "8                                0   \n",
       "9                                0   \n",
       "\n",
       "   Disease or conditions that make it harder to cough,  \\\n",
       "0                                                  0     \n",
       "1                                                  0     \n",
       "2                                                  0     \n",
       "3                                                  0     \n",
       "4                                                  1     \n",
       "5                                                  0     \n",
       "6                                                  0     \n",
       "7                                                  0     \n",
       "8                                                  0     \n",
       "9                                                  0     \n",
       "\n",
       "   Diabetes with complications,  ...  Fever,  chills,  or sweating,  \\\n",
       "0                             0  ...       1        1             1   \n",
       "1                             0  ...       1        1             1   \n",
       "2                             0  ...       0        0             0   \n",
       "3                             0  ...       1        1             1   \n",
       "4                             0  ...       0        0             0   \n",
       "5                             1  ...       0        0             0   \n",
       "6                             0  ...       0        0             0   \n",
       "7                             0  ...       1        1             1   \n",
       "8                             0  ...       0        0             0   \n",
       "9                             0  ...       1        1             1   \n",
       "\n",
       "   Shortness of breath  Loss of taste,  Loss of smell,  \\\n",
       "0                    0               0               0   \n",
       "1                    1               1               1   \n",
       "2                    0               0               0   \n",
       "3                    1               1               1   \n",
       "4                    0               0               0   \n",
       "5                    0               0               0   \n",
       "6                    0               0               0   \n",
       "7                    0               0               0   \n",
       "8                    1               0               0   \n",
       "9                    1               0               0   \n",
       "\n",
       "   New or worsening cough,  Sore throat,  Body aches,  Nothing  \n",
       "0                        0             0            0        0  \n",
       "1                        0             0            0        0  \n",
       "2                        1             0            0        0  \n",
       "3                        1             0            0        0  \n",
       "4                        1             0            0        0  \n",
       "5                        0             0            0        1  \n",
       "6                        0             0            0        1  \n",
       "7                        0             1            0        0  \n",
       "8                        1             0            0        0  \n",
       "9                        0             0            0        0  \n",
       "\n",
       "[10 rows x 23 columns]"
      ]
     },
     "execution_count": 43,
     "metadata": {},
     "output_type": "execute_result"
    }
   ],
   "source": [
    "# so here we are merging dataframes together\n",
    "\n",
    "df5 = pd.concat([gender, smoker, df4], axis=1, ignore_index=False)\n",
    "df5 = df5.drop(columns = [\"gender\", \"smoker\"])\n",
    "df5 = df5.replace(to_replace =\"negative\", \n",
    "                 value =0)\n",
    "df5 = df5.replace(to_replace =\"positive\", \n",
    "                 value =1)\n",
    "# df5[df5[\"corona_test\"] == \"negative\"] = 0\n",
    "# df5[df5[\"corona_test\"] == \"positive\"] = 1\n",
    "\n",
    "target_labels = df5[\"corona_test\"] \n",
    "df5 = df5.drop(columns = [\"corona_test\"])\n",
    "\n",
    "df5.head(10)\n",
    "# len(df5)"
   ]
  },
  {
   "cell_type": "code",
   "execution_count": 44,
   "metadata": {},
   "outputs": [],
   "source": [
    "# Let's try SMOTE for balancing data \n",
    "# but we will just apply smote on training data\n",
    "# blc testing data will remain original, no duplication in testing data. \n",
    "# so spliting the dataset"
   ]
  },
  {
   "cell_type": "code",
   "execution_count": 45,
   "metadata": {},
   "outputs": [],
   "source": [
    "X_train, X_test, y_train, y_test = train_test_split(df5, target_labels, test_size=0.30, random_state=20, shuffle=True)"
   ]
  },
  {
   "cell_type": "markdown",
   "metadata": {},
   "source": [
    "### Applying SMOTE"
   ]
  },
  {
   "cell_type": "code",
   "execution_count": 46,
   "metadata": {},
   "outputs": [
    {
     "name": "stdout",
     "output_type": "stream",
     "text": [
      "Before Smote:  Counter({0: 65, 1: 17})\n",
      "After Smote:  Counter({0: 65, 1: 65})\n"
     ]
    }
   ],
   "source": [
    "from imblearn.over_sampling import SMOTE\n",
    "from collections import Counter\n",
    "\n",
    "smote = SMOTE()\n",
    "\n",
    "X_train_smote , y_train_smote = smote.fit_sample(X_train.astype(\"int\"), y_train.astype(\"int\"))\n",
    "\n",
    "print(\"Before Smote: \", Counter(y_train))\n",
    "print(\"After Smote: \", Counter(y_train_smote))\n",
    "\n",
    "# so as you can say from the results that before smoting we had only 20 samples from class 1\n",
    "# and we had 74 samples from class 0 so we performed smote to make them equal. "
   ]
  },
  {
   "cell_type": "code",
   "execution_count": 47,
   "metadata": {},
   "outputs": [],
   "source": [
    "# Now building the model"
   ]
  },
  {
   "cell_type": "code",
   "execution_count": 95,
   "metadata": {},
   "outputs": [],
   "source": [
    "from sklearn.neighbors import KNeighborsClassifier\n",
    "from sklearn.metrics import accuracy_score\n",
    "from sklearn import preprocessing\n",
    "from sklearn.metrics import roc_curve\n",
    "import matplotlib.pyplot as plt\n",
    "from sklearn.metrics import classification_report\n",
    "\n",
    "# Normalising train and test data\n",
    "\n",
    "min_max_scaler = preprocessing.MinMaxScaler()\n",
    "X_train_scaled = min_max_scaler.fit_transform(X_train_smote)\n",
    "X_test_scaled = min_max_scaler.fit_transform(X_test)\n",
    "\n",
    "\n",
    "model = KNeighborsClassifier(n_neighbors=10)\n",
    "model.fit(X_train_scaled, y_train_smote)\n",
    "\n",
    "y_pred = model.predict(X_test_scaled)"
   ]
  },
  {
   "cell_type": "code",
   "execution_count": 96,
   "metadata": {},
   "outputs": [
    {
     "name": "stdout",
     "output_type": "stream",
     "text": [
      "Testing accuracy is:  0.75\n",
      "              precision    recall  f1-score   support\n",
      "\n",
      "           0       0.82      0.85      0.84        27\n",
      "           1       0.50      0.44      0.47         9\n",
      "\n",
      "    accuracy                           0.75        36\n",
      "   macro avg       0.66      0.65      0.65        36\n",
      "weighted avg       0.74      0.75      0.74        36\n",
      "\n",
      "None\n"
     ]
    },
    {
     "data": {
      "text/html": [
       "<div>\n",
       "<style scoped>\n",
       "    .dataframe tbody tr th:only-of-type {\n",
       "        vertical-align: middle;\n",
       "    }\n",
       "\n",
       "    .dataframe tbody tr th {\n",
       "        vertical-align: top;\n",
       "    }\n",
       "\n",
       "    .dataframe thead th {\n",
       "        text-align: right;\n",
       "    }\n",
       "</style>\n",
       "<table border=\"1\" class=\"dataframe\">\n",
       "  <thead>\n",
       "    <tr style=\"text-align: right;\">\n",
       "      <th>col_0</th>\n",
       "      <th>0</th>\n",
       "      <th>1</th>\n",
       "    </tr>\n",
       "    <tr>\n",
       "      <th>row_0</th>\n",
       "      <th></th>\n",
       "      <th></th>\n",
       "    </tr>\n",
       "  </thead>\n",
       "  <tbody>\n",
       "    <tr>\n",
       "      <th>0</th>\n",
       "      <td>23</td>\n",
       "      <td>4</td>\n",
       "    </tr>\n",
       "    <tr>\n",
       "      <th>1</th>\n",
       "      <td>5</td>\n",
       "      <td>4</td>\n",
       "    </tr>\n",
       "  </tbody>\n",
       "</table>\n",
       "</div>"
      ],
      "text/plain": [
       "col_0   0  1\n",
       "row_0       \n",
       "0      23  4\n",
       "1       5  4"
      ]
     },
     "execution_count": 96,
     "metadata": {},
     "output_type": "execute_result"
    }
   ],
   "source": [
    "y_test = np.array(y_test).astype(\"int\")\n",
    "# y_test\n",
    "print(\"Testing accuracy is: \", accuracy_score(y_test, y_pred))\n",
    "print(print(classification_report(y_test, y_pred)))\n",
    "pd.crosstab(y_test, y_pred)"
   ]
  },
  {
   "cell_type": "code",
   "execution_count": 97,
   "metadata": {},
   "outputs": [
    {
     "name": "stdout",
     "output_type": "stream",
     "text": [
      "\n",
      "ROC curve value is:  0.6028806584362141\n",
      "Confusion matrix, without normalization\n",
      "[[23  4]\n",
      " [ 5  4]]\n"
     ]
    },
    {
     "data": {
      "image/png": "[encoded data removed]",
      "text/plain": [
       "<Figure size 720x720 with 2 Axes>"
      ]
     },
     "metadata": {
      "needs_background": "light"
     },
     "output_type": "display_data"
    }
   ],
   "source": [
    "# Probabilities for each class\n",
    "rf_probs = model.predict_proba(X_test_scaled)[:, 1]\n",
    "\n",
    "# Calculate roc auc\n",
    "roc_value = roc_auc_score(y_test, rf_probs)\n",
    "print()\n",
    "print(\"ROC curve value is: \", roc_value)\n",
    "\n",
    "# Plotting confusion matrix\n",
    "\n",
    "def plot_confusion_matrix(cm, classes,\n",
    "                          normalize=False,\n",
    "                          title='Confusion matrix',\n",
    "                          cmap=plt.cm.Oranges):\n",
    "    \"\"\"\n",
    "    This function prints and plots the confusion matrix.\n",
    "    Normalization can be applied by setting `normalize=True`.\n",
    "    Source: http://scikit-learn.org/stable/auto_examples/model_selection/plot_confusion_matrix.html\n",
    "    \"\"\"\n",
    "    if normalize:\n",
    "        cm = cm.astype('float') / cm.sum(axis=1)[:, np.newaxis]\n",
    "        print(\"Normalized confusion matrix\")\n",
    "    else:\n",
    "        print('Confusion matrix, without normalization')\n",
    "\n",
    "    print(cm)\n",
    "\n",
    "    # Plot the confusion matrix\n",
    "    plt.figure(figsize = (10, 10))\n",
    "    plt.imshow(cm, interpolation='nearest', cmap=cmap)\n",
    "    plt.title(title, size = 24)\n",
    "    plt.colorbar(aspect=4)\n",
    "    tick_marks = np.arange(len(classes))\n",
    "    plt.xticks(tick_marks, classes, rotation=45, size = 14)\n",
    "    plt.yticks(tick_marks, classes, size = 14)\n",
    "\n",
    "    fmt = '.2f' if normalize else 'd'\n",
    "    thresh = cm.max() / 2.\n",
    "    \n",
    "    # Labeling the plot\n",
    "    for i, j in itertools.product(range(cm.shape[0]), range(cm.shape[1])):\n",
    "        plt.text(j, i, format(cm[i, j], fmt), fontsize = 20,\n",
    "                 horizontalalignment=\"center\",\n",
    "                 color=\"white\" if cm[i, j] > thresh else \"black\")\n",
    "        \n",
    "    plt.grid(None)\n",
    "    plt.tight_layout()\n",
    "    plt.ylabel('True label', size = 18)\n",
    "    plt.xlabel('Predicted label', size = 18)\n",
    "\n",
    "# Confusion matrix\n",
    "cm = confusion_matrix(y_test, y_pred)\n",
    "plot_confusion_matrix(cm, classes = ['Covid', 'Not Covid'],\n",
    "                      title = 'Health Confusion Matrix')\n",
    "\n",
    "plt.savefig('fasd.png')"
   ]
  },
  {
   "cell_type": "code",
   "execution_count": 98,
   "metadata": {},
   "outputs": [],
   "source": [
    "# calculate roc curve\n",
    "ns_probs = [0 for _ in range(len(y_test))]\n",
    "\n",
    "fpr, tpr, thresholds = roc_curve(y_test, rf_probs)"
   ]
  },
  {
   "cell_type": "code",
   "execution_count": 99,
   "metadata": {},
   "outputs": [
    {
     "data": {
      "text/plain": [
       "<matplotlib.legend.Legend at 0x20c0af01c48>"
      ]
     },
     "execution_count": 99,
     "metadata": {},
     "output_type": "execute_result"
    },
    {
     "data": {
      "image/png": "[encoded data removed]",
      "text/plain": [
       "<Figure size 432x288 with 1 Axes>"
      ]
     },
     "metadata": {
      "needs_background": "light"
     },
     "output_type": "display_data"
    }
   ],
   "source": [
    "# calculate roc curves\n",
    "ns_fpr, ns_tpr, _ = roc_curve(y_test, ns_probs)\n",
    "lr_fpr, lr_tpr, _ = roc_curve(y_test, rf_probs)\n",
    "# plot the roc curve for the model\n",
    "plt.plot(ns_fpr, ns_tpr, linestyle='--', label='No Skill')\n",
    "plt.plot(lr_fpr, lr_tpr, marker='.', label='Learning')\n",
    "# axis labels\n",
    "plt.xlabel('False Positive Rate')\n",
    "plt.ylabel('True Positive Rate')\n",
    "# show the legend\n",
    "plt.legend()"
   ]
  },
  {
   "cell_type": "code",
   "execution_count": null,
   "metadata": {},
   "outputs": [],
   "source": []
  },
  {
   "cell_type": "markdown",
   "metadata": {},
   "source": [
    "### Now down here I m gonna use XGBoost\n",
    "### along with RandomizedSearchCV for hyperparamter tuning"
   ]
  },
  {
   "cell_type": "code",
   "execution_count": 133,
   "metadata": {},
   "outputs": [
    {
     "name": "stdout",
     "output_type": "stream",
     "text": [
      "Before Smote:  Counter({0: 65, 1: 17})\n",
      "After Smote:  Counter({0: 65, 1: 65})\n"
     ]
    }
   ],
   "source": [
    "X_train, X_test, y_train, y_test = train_test_split(df5, target_labels, test_size=0.30, random_state=20, shuffle=True)\n",
    "\n",
    "# doing oversampling on train data\n",
    "X_train_smote , y_train_smote = smote.fit_sample(X_train.astype(\"int\"), y_train.astype(\"int\"))\n",
    "print(\"Before Smote: \", Counter(y_train))\n",
    "print(\"After Smote: \", Counter(y_train_smote))\n",
    "\n",
    "\n",
    "# Normalising train and test data\n",
    "\n",
    "min_max_scaler = preprocessing.MinMaxScaler()\n",
    "X_train_scaled = min_max_scaler.fit_transform(X_train_smote)\n",
    "X_test_scaled = min_max_scaler.fit_transform(X_test)"
   ]
  },
  {
   "cell_type": "code",
   "execution_count": 134,
   "metadata": {},
   "outputs": [
    {
     "name": "stdout",
     "output_type": "stream",
     "text": [
      "Fitting 5 folds for each of 5 candidates, totalling 25 fits\n"
     ]
    },
    {
     "name": "stderr",
     "output_type": "stream",
     "text": [
      "[Parallel(n_jobs=-1)]: Using backend LokyBackend with 4 concurrent workers.\n",
      "[Parallel(n_jobs=-1)]: Done  25 out of  25 | elapsed:    2.6s finished\n"
     ]
    }
   ],
   "source": [
    "from sklearn.model_selection import RandomizedSearchCV, GridSearchCV\n",
    "import xgboost\n",
    "\n",
    "## Hyper Parameter Optimization\n",
    "\n",
    "params = {\n",
    " \"learning_rate\"    : [0.05, 0.10, 0.15, 0.20, 0.25, 0.30 ] ,\n",
    " \"max_depth\"        : [ 3, 4, 5, 6, 8, 10, 12, 15],\n",
    " \"min_child_weight\" : [ 1, 3, 5, 7 ],\n",
    " \"gamma\"            : [ 0.0, 0.1, 0.2 , 0.3, 0.4 ],\n",
    " \"colsample_bytree\" : [ 0.3, 0.4, 0.5 , 0.7 ]\n",
    "    \n",
    "}\n",
    "\n",
    "\n",
    "classifier=xgboost.XGBClassifier()\n",
    "\n",
    "random_search=RandomizedSearchCV(classifier, param_distributions=params, n_iter=5,   \n",
    "                                 scoring='roc_auc', n_jobs=-1, cv=5,verbose=3)\n",
    "\n",
    "# n_iter defines how many times your hyperparamters combination will be tested. \n",
    "\n",
    "random_search_model = random_search.fit(X_train_scaled, y_train_smote)"
   ]
  },
  {
   "cell_type": "code",
   "execution_count": 135,
   "metadata": {},
   "outputs": [
    {
     "data": {
      "text/plain": [
       "XGBClassifier(base_score=0.5, booster='gbtree', colsample_bylevel=1,\n",
       "              colsample_bynode=1, colsample_bytree=0.5, gamma=0.0,\n",
       "              learning_rate=0.2, max_delta_step=0, max_depth=6,\n",
       "              min_child_weight=1, missing=None, n_estimators=100, n_jobs=1,\n",
       "              nthread=None, objective='binary:logistic', random_state=0,\n",
       "              reg_alpha=0, reg_lambda=1, scale_pos_weight=1, seed=None,\n",
       "              silent=None, subsample=1, verbosity=1)"
      ]
     },
     "execution_count": 135,
     "metadata": {},
     "output_type": "execute_result"
    }
   ],
   "source": [
    "random_search.best_estimator_"
   ]
  },
  {
   "cell_type": "code",
   "execution_count": 136,
   "metadata": {},
   "outputs": [
    {
     "data": {
      "text/plain": [
       "{'min_child_weight': 1,\n",
       " 'max_depth': 6,\n",
       " 'learning_rate': 0.2,\n",
       " 'gamma': 0.0,\n",
       " 'colsample_bytree': 0.5}"
      ]
     },
     "execution_count": 136,
     "metadata": {},
     "output_type": "execute_result"
    }
   ],
   "source": [
    "random_search.best_params_"
   ]
  },
  {
   "cell_type": "code",
   "execution_count": 137,
   "metadata": {},
   "outputs": [
    {
     "name": "stderr",
     "output_type": "stream",
     "text": [
      "C:\\Users\\Furqan Ali\\Anaconda3\\envs\\tensorflow_env\\lib\\site-packages\\sklearn\\model_selection\\_split.py:667: UserWarning: The least populated class in y has only 9 members, which is less than n_splits=10.\n",
      "  % (min_groups, self.n_splits)), UserWarning)\n"
     ]
    },
    {
     "name": "stdout",
     "output_type": "stream",
     "text": [
      "[0.5        0.75       0.5        0.5        0.75       0.5\n",
      " 0.66666667 0.66666667 0.66666667 0.66666667]\n",
      "0.6166666666666667\n"
     ]
    }
   ],
   "source": [
    "from sklearn.model_selection import cross_val_score\n",
    "score=cross_val_score(classifier, X_test_scaled, y_test ,cv=10)\n",
    "print(score)\n",
    "print(score.mean())"
   ]
  },
  {
   "cell_type": "code",
   "execution_count": 138,
   "metadata": {},
   "outputs": [],
   "source": [
    "classifier = xgboost.XGBClassifier(base_score=0.5, booster='gbtree', colsample_bylevel=1,\n",
    "              colsample_bynode=1, colsample_bytree=0.4, gamma=0.3,\n",
    "              learning_rate=0.2, max_delta_step=0, max_depth=8,\n",
    "              min_child_weight=5, missing=None, n_estimators=100, n_jobs=1,\n",
    "              nthread=None, objective='binary:logistic', random_state=0,\n",
    "              reg_alpha=0, reg_lambda=1, scale_pos_weight=1, seed=None,\n",
    "              silent=None, subsample=1, verbosity=1)"
   ]
  },
  {
   "cell_type": "code",
   "execution_count": 139,
   "metadata": {},
   "outputs": [
    {
     "name": "stdout",
     "output_type": "stream",
     "text": [
      "Testing accuracy is:  0.7222222222222222\n",
      "              precision    recall  f1-score   support\n",
      "\n",
      "           0       0.79      0.85      0.82        27\n",
      "           1       0.43      0.33      0.38         9\n",
      "\n",
      "    accuracy                           0.72        36\n",
      "   macro avg       0.61      0.59      0.60        36\n",
      "weighted avg       0.70      0.72      0.71        36\n",
      "\n",
      "None\n"
     ]
    },
    {
     "data": {
      "text/html": [
       "<div>\n",
       "<style scoped>\n",
       "    .dataframe tbody tr th:only-of-type {\n",
       "        vertical-align: middle;\n",
       "    }\n",
       "\n",
       "    .dataframe tbody tr th {\n",
       "        vertical-align: top;\n",
       "    }\n",
       "\n",
       "    .dataframe thead th {\n",
       "        text-align: right;\n",
       "    }\n",
       "</style>\n",
       "<table border=\"1\" class=\"dataframe\">\n",
       "  <thead>\n",
       "    <tr style=\"text-align: right;\">\n",
       "      <th>col_0</th>\n",
       "      <th>0</th>\n",
       "      <th>1</th>\n",
       "    </tr>\n",
       "    <tr>\n",
       "      <th>row_0</th>\n",
       "      <th></th>\n",
       "      <th></th>\n",
       "    </tr>\n",
       "  </thead>\n",
       "  <tbody>\n",
       "    <tr>\n",
       "      <th>0</th>\n",
       "      <td>23</td>\n",
       "      <td>4</td>\n",
       "    </tr>\n",
       "    <tr>\n",
       "      <th>1</th>\n",
       "      <td>6</td>\n",
       "      <td>3</td>\n",
       "    </tr>\n",
       "  </tbody>\n",
       "</table>\n",
       "</div>"
      ],
      "text/plain": [
       "col_0   0  1\n",
       "row_0       \n",
       "0      23  4\n",
       "1       6  3"
      ]
     },
     "execution_count": 139,
     "metadata": {},
     "output_type": "execute_result"
    }
   ],
   "source": [
    "classifier.fit(X_train_scaled, y_train_smote)\n",
    "\n",
    "y_pred = classifier.predict(X_test_scaled)\n",
    "\n",
    "y_test = np.array(y_test).astype(\"int\")\n",
    "# y_test\n",
    "print(\"Testing accuracy is: \", accuracy_score(y_test, y_pred))\n",
    "print(print(classification_report(y_test, y_pred)))\n",
    "pd.crosstab(y_test, y_pred)"
   ]
  },
  {
   "cell_type": "code",
   "execution_count": 132,
   "metadata": {},
   "outputs": [
    {
     "name": "stdout",
     "output_type": "stream",
     "text": [
      "\n",
      "ROC curve value is:  0.6028806584362141\n",
      "Confusion matrix, without normalization\n",
      "[[22  5]\n",
      " [ 6  3]]\n"
     ]
    },
    {
     "data": {
      "image/png": "[encoded data removed]",
      "text/plain": [
       "<Figure size 720x720 with 2 Axes>"
      ]
     },
     "metadata": {
      "needs_background": "light"
     },
     "output_type": "display_data"
    }
   ],
   "source": [
    "# Probabilities for each class\n",
    "rf_probs = model.predict_proba(X_test_scaled)[:, 1]\n",
    "\n",
    "# Calculate roc auc\n",
    "roc_value = roc_auc_score(y_test, rf_probs)\n",
    "print()\n",
    "print(\"ROC curve value is: \", roc_value)\n",
    "\n",
    "# Plotting confusion matrix\n",
    "\n",
    "def plot_confusion_matrix(cm, classes,\n",
    "                          normalize=False,\n",
    "                          title='Confusion matrix',\n",
    "                          cmap=plt.cm.Oranges):\n",
    "    \"\"\"\n",
    "    This function prints and plots the confusion matrix.\n",
    "    Normalization can be applied by setting `normalize=True`.\n",
    "    Source: http://scikit-learn.org/stable/auto_examples/model_selection/plot_confusion_matrix.html\n",
    "    \"\"\"\n",
    "    if normalize:\n",
    "        cm = cm.astype('float') / cm.sum(axis=1)[:, np.newaxis]\n",
    "        print(\"Normalized confusion matrix\")\n",
    "    else:\n",
    "        print('Confusion matrix, without normalization')\n",
    "\n",
    "    print(cm)\n",
    "\n",
    "    # Plot the confusion matrix\n",
    "    plt.figure(figsize = (10, 10))\n",
    "    plt.imshow(cm, interpolation='nearest', cmap=cmap)\n",
    "    plt.title(title, size = 24)\n",
    "    plt.colorbar(aspect=4)\n",
    "    tick_marks = np.arange(len(classes))\n",
    "    plt.xticks(tick_marks, classes, rotation=45, size = 14)\n",
    "    plt.yticks(tick_marks, classes, size = 14)\n",
    "\n",
    "    fmt = '.2f' if normalize else 'd'\n",
    "    thresh = cm.max() / 2.\n",
    "    \n",
    "    # Labeling the plot\n",
    "    for i, j in itertools.product(range(cm.shape[0]), range(cm.shape[1])):\n",
    "        plt.text(j, i, format(cm[i, j], fmt), fontsize = 20,\n",
    "                 horizontalalignment=\"center\",\n",
    "                 color=\"white\" if cm[i, j] > thresh else \"black\")\n",
    "        \n",
    "    plt.grid(None)\n",
    "    plt.tight_layout()\n",
    "    plt.ylabel('True label', size = 18)\n",
    "    plt.xlabel('Predicted label', size = 18)\n",
    "\n",
    "# Confusion matrix\n",
    "cm = confusion_matrix(y_test, y_pred)\n",
    "plot_confusion_matrix(cm, classes = ['Covid', 'Not Covid'],\n",
    "                      title = 'Health Confusion Matrix')\n",
    "\n",
    "plt.savefig('fasasdd.png')"
   ]
  },
  {
   "cell_type": "markdown",
   "metadata": {},
   "source": [
    "##### NOTE: you can make prediction using randomized_search_hyperparameter_model as well. "
   ]
  },
  {
   "cell_type": "code",
   "execution_count": 115,
   "metadata": {},
   "outputs": [
    {
     "name": "stdout",
     "output_type": "stream",
     "text": [
      "Testing accuracy is:  0.6944444444444444\n",
      "              precision    recall  f1-score   support\n",
      "\n",
      "           0       0.77      0.85      0.81        27\n",
      "           1       0.33      0.22      0.27         9\n",
      "\n",
      "    accuracy                           0.69        36\n",
      "   macro avg       0.55      0.54      0.54        36\n",
      "weighted avg       0.66      0.69      0.67        36\n",
      "\n",
      "None\n"
     ]
    },
    {
     "data": {
      "text/html": [
       "<div>\n",
       "<style scoped>\n",
       "    .dataframe tbody tr th:only-of-type {\n",
       "        vertical-align: middle;\n",
       "    }\n",
       "\n",
       "    .dataframe tbody tr th {\n",
       "        vertical-align: top;\n",
       "    }\n",
       "\n",
       "    .dataframe thead th {\n",
       "        text-align: right;\n",
       "    }\n",
       "</style>\n",
       "<table border=\"1\" class=\"dataframe\">\n",
       "  <thead>\n",
       "    <tr style=\"text-align: right;\">\n",
       "      <th>col_0</th>\n",
       "      <th>0</th>\n",
       "      <th>1</th>\n",
       "    </tr>\n",
       "    <tr>\n",
       "      <th>row_0</th>\n",
       "      <th></th>\n",
       "      <th></th>\n",
       "    </tr>\n",
       "  </thead>\n",
       "  <tbody>\n",
       "    <tr>\n",
       "      <th>0</th>\n",
       "      <td>23</td>\n",
       "      <td>4</td>\n",
       "    </tr>\n",
       "    <tr>\n",
       "      <th>1</th>\n",
       "      <td>7</td>\n",
       "      <td>2</td>\n",
       "    </tr>\n",
       "  </tbody>\n",
       "</table>\n",
       "</div>"
      ],
      "text/plain": [
       "col_0   0  1\n",
       "row_0       \n",
       "0      23  4\n",
       "1       7  2"
      ]
     },
     "execution_count": 115,
     "metadata": {},
     "output_type": "execute_result"
    }
   ],
   "source": [
    "y_pred = random_search_model.predict(X_test_scaled)\n",
    "\n",
    "y_test = np.array(y_test).astype(\"int\")\n",
    "# y_test\n",
    "print(\"Testing accuracy is: \", accuracy_score(y_test, y_pred))\n",
    "print(print(classification_report(y_test, y_pred)))\n",
    "pd.crosstab(y_test, y_pred)"
   ]
  },
  {
   "cell_type": "code",
   "execution_count": null,
   "metadata": {},
   "outputs": [],
   "source": []
  },
  {
   "cell_type": "markdown",
   "metadata": {},
   "source": [
    "# Spliting data into training, validation and testing.\n",
    "# and trying XGBoost "
   ]
  },
  {
   "cell_type": "code",
   "execution_count": 116,
   "metadata": {},
   "outputs": [
    {
     "name": "stdout",
     "output_type": "stream",
     "text": [
      "Before Smote:  Counter({0: 51, 1: 14})\n",
      "After Smote:  Counter({0: 51, 1: 51})\n"
     ]
    }
   ],
   "source": [
    "X_train, X_test, y_train, y_test = train_test_split(df5, target_labels, test_size=0.20, random_state=20, shuffle=True)\n",
    "X_train, X_val, y_train, y_val = train_test_split(X_train, y_train, test_size=0.30, random_state=20, shuffle=True)\n",
    "\n",
    "# doing over sampling\n",
    "X_train_smote , y_train_smote = smote.fit_sample(X_train.astype(\"int\"), y_train.astype(\"int\"))\n",
    "print(\"Before Smote: \", Counter(y_train))\n",
    "print(\"After Smote: \", Counter(y_train_smote))\n",
    "\n",
    "\n",
    "# Normalising train, val and test data\n",
    "\n",
    "min_max_scaler = preprocessing.MinMaxScaler()\n",
    "X_train_scaled = min_max_scaler.fit_transform(X_train_smote)\n",
    "X_val_scaled = min_max_scaler.fit_transform(X_val)\n",
    "X_test_scaled = min_max_scaler.fit_transform(X_test)"
   ]
  },
  {
   "cell_type": "code",
   "execution_count": 117,
   "metadata": {},
   "outputs": [
    {
     "name": "stdout",
     "output_type": "stream",
     "text": [
      "Fitting 5 folds for each of 5 candidates, totalling 25 fits\n"
     ]
    },
    {
     "name": "stderr",
     "output_type": "stream",
     "text": [
      "[Parallel(n_jobs=-1)]: Using backend LokyBackend with 4 concurrent workers.\n",
      "[Parallel(n_jobs=-1)]: Done  18 out of  25 | elapsed:    0.3s remaining:    0.1s\n",
      "[Parallel(n_jobs=-1)]: Done  25 out of  25 | elapsed:    0.3s finished\n"
     ]
    }
   ],
   "source": [
    "from sklearn.model_selection import RandomizedSearchCV, GridSearchCV\n",
    "import xgboost\n",
    "\n",
    "## Hyper Parameter Optimization\n",
    "\n",
    "params = {\n",
    " \"learning_rate\"    : [0.05, 0.10, 0.15, 0.20, 0.25, 0.30 ] ,\n",
    " \"max_depth\"        : [ 3, 4, 5, 6, 8, 10, 12, 15],\n",
    " \"min_child_weight\" : [ 1, 3, 5, 7 ],\n",
    " \"gamma\"            : [ 0.0, 0.1, 0.2 , 0.3, 0.4 ],\n",
    " \"colsample_bytree\" : [ 0.3, 0.4, 0.5 , 0.7 ]\n",
    "}\n",
    "\n",
    "\n",
    "classifier=xgboost.XGBClassifier()\n",
    "\n",
    "random_search=RandomizedSearchCV(classifier, param_distributions=params, n_iter=5,   \n",
    "                                 scoring='roc_auc', n_jobs=-1, cv=5,verbose=3)\n",
    "\n",
    "# n_iter defines how many times your hyperparamters combination will be tested. \n",
    "\n",
    "random_search_model = random_search.fit(X_train_scaled, y_train_smote)"
   ]
  },
  {
   "cell_type": "code",
   "execution_count": 118,
   "metadata": {},
   "outputs": [
    {
     "data": {
      "text/plain": [
       "XGBClassifier(base_score=0.5, booster='gbtree', colsample_bylevel=1,\n",
       "              colsample_bynode=1, colsample_bytree=0.7, gamma=0.3,\n",
       "              learning_rate=0.25, max_delta_step=0, max_depth=8,\n",
       "              min_child_weight=1, missing=None, n_estimators=100, n_jobs=1,\n",
       "              nthread=None, objective='binary:logistic', random_state=0,\n",
       "              reg_alpha=0, reg_lambda=1, scale_pos_weight=1, seed=None,\n",
       "              silent=None, subsample=1, verbosity=1)"
      ]
     },
     "execution_count": 118,
     "metadata": {},
     "output_type": "execute_result"
    }
   ],
   "source": [
    "# This shows best paramter for your model\n",
    "\n",
    "random_search_model.best_estimator_"
   ]
  },
  {
   "cell_type": "code",
   "execution_count": 119,
   "metadata": {},
   "outputs": [
    {
     "data": {
      "text/plain": [
       "{'min_child_weight': 1,\n",
       " 'max_depth': 8,\n",
       " 'learning_rate': 0.25,\n",
       " 'gamma': 0.3,\n",
       " 'colsample_bytree': 0.7}"
      ]
     },
     "execution_count": 119,
     "metadata": {},
     "output_type": "execute_result"
    }
   ],
   "source": [
    "# This is almost the same but less concise.\n",
    "random_search_model.best_params_"
   ]
  },
  {
   "cell_type": "code",
   "execution_count": 121,
   "metadata": {},
   "outputs": [],
   "source": [
    "classifier = xgboost.XGBClassifier(base_score=0.5, booster='gbtree', colsample_bylevel=1,\n",
    "              colsample_bynode=1, colsample_bytree=0.7, gamma=0.3,\n",
    "              learning_rate=0.25, max_delta_step=0, max_depth=8,\n",
    "              min_child_weight=1, missing=None, n_estimators=100, n_jobs=1,\n",
    "              nthread=None, objective='binary:logistic', random_state=0,\n",
    "              reg_alpha=0, reg_lambda=1, scale_pos_weight=1, seed=None,\n",
    "              silent=None, subsample=1, verbosity=1)"
   ]
  },
  {
   "cell_type": "code",
   "execution_count": 124,
   "metadata": {},
   "outputs": [
    {
     "name": "stdout",
     "output_type": "stream",
     "text": [
      "Testing accuracy is:  0.75\n",
      "              precision    recall  f1-score   support\n",
      "\n",
      "           0       0.75      1.00      0.86        18\n",
      "           1       0.00      0.00      0.00         6\n",
      "\n",
      "    accuracy                           0.75        24\n",
      "   macro avg       0.38      0.50      0.43        24\n",
      "weighted avg       0.56      0.75      0.64        24\n",
      "\n",
      "None\n"
     ]
    },
    {
     "name": "stderr",
     "output_type": "stream",
     "text": [
      "C:\\Users\\Furqan Ali\\Anaconda3\\envs\\tensorflow_env\\lib\\site-packages\\sklearn\\metrics\\_classification.py:1272: UndefinedMetricWarning: Precision and F-score are ill-defined and being set to 0.0 in labels with no predicted samples. Use `zero_division` parameter to control this behavior.\n",
      "  _warn_prf(average, modifier, msg_start, len(result))\n"
     ]
    },
    {
     "data": {
      "text/html": [
       "<div>\n",
       "<style scoped>\n",
       "    .dataframe tbody tr th:only-of-type {\n",
       "        vertical-align: middle;\n",
       "    }\n",
       "\n",
       "    .dataframe tbody tr th {\n",
       "        vertical-align: top;\n",
       "    }\n",
       "\n",
       "    .dataframe thead th {\n",
       "        text-align: right;\n",
       "    }\n",
       "</style>\n",
       "<table border=\"1\" class=\"dataframe\">\n",
       "  <thead>\n",
       "    <tr style=\"text-align: right;\">\n",
       "      <th>col_0</th>\n",
       "      <th>0</th>\n",
       "    </tr>\n",
       "    <tr>\n",
       "      <th>row_0</th>\n",
       "      <th></th>\n",
       "    </tr>\n",
       "  </thead>\n",
       "  <tbody>\n",
       "    <tr>\n",
       "      <th>0</th>\n",
       "      <td>18</td>\n",
       "    </tr>\n",
       "    <tr>\n",
       "      <th>1</th>\n",
       "      <td>6</td>\n",
       "    </tr>\n",
       "  </tbody>\n",
       "</table>\n",
       "</div>"
      ],
      "text/plain": [
       "col_0   0\n",
       "row_0    \n",
       "0      18\n",
       "1       6"
      ]
     },
     "execution_count": 124,
     "metadata": {},
     "output_type": "execute_result"
    }
   ],
   "source": [
    "classifier.fit(X_train_scaled, y_train_smote)\n",
    "\n",
    "y_pred = classifier.predict(X_test_scaled)\n",
    "\n",
    "y_test = np.array(y_test).astype(\"int\")\n",
    "# y_test\n",
    "print(\"Testing accuracy is: \", accuracy_score(y_test, y_pred))\n",
    "print(print(classification_report(y_test, y_pred)))\n",
    "pd.crosstab(y_test, y_pred)"
   ]
  },
  {
   "cell_type": "code",
   "execution_count": null,
   "metadata": {},
   "outputs": [],
   "source": []
  },
  {
   "cell_type": "code",
   "execution_count": null,
   "metadata": {},
   "outputs": [],
   "source": []
  },
  {
   "cell_type": "code",
   "execution_count": null,
   "metadata": {},
   "outputs": [],
   "source": [
    "\n",
    "# Build Models \n",
    "# Done\n",
    "\n",
    "# SVM\n",
    "# TODO\n",
    "\n",
    "# Random Forest\n",
    "# TODO\n",
    "\n",
    "# XGboost\n",
    "# Done\n"
   ]
  },
  {
   "cell_type": "code",
   "execution_count": null,
   "metadata": {},
   "outputs": [],
   "source": []
  }
 ],
 "metadata": {
  "kernelspec": {
   "display_name": "tensorflow_env",
   "language": "python",
   "name": "tensorflow_env"
  },
  "language_info": {
   "codemirror_mode": {
    "name": "ipython",
    "version": 3
   },
   "file_extension": ".py",
   "mimetype": "text/x-python",
   "name": "python",
   "nbconvert_exporter": "python",
   "pygments_lexer": "ipython3",
   "version": "3.7.6"
  }
 },
 "nbformat": 4,
 "nbformat_minor": 4
}
