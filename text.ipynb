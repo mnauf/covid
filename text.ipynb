{
  "nbformat": 4,
  "nbformat_minor": 0,
  "metadata": {
    "kernelspec": {
      "display_name": "Python 3",
      "language": "python",
      "name": "python3"
    },
    "language_info": {
      "codemirror_mode": {
        "name": "ipython",
        "version": 3
      },
      "file_extension": ".py",
      "mimetype": "text/x-python",
      "name": "python",
      "nbconvert_exporter": "python",
      "pygments_lexer": "ipython3",
      "version": "3.7.6"
    },
    "colab": {
      "name": "text.ipynb",
      "provenance": []
    }
  },
  "cells": [
    {
      "cell_type": "markdown",
      "metadata": {
        "id": "pqMjdKNqWCTn",
        "colab_type": "text"
      },
      "source": [
        "# ML Textual model Feature Engineering"
      ]
    },
    {
      "cell_type": "code",
      "metadata": {
        "id": "b8MS3rkAWCTo",
        "colab_type": "code",
        "colab": {}
      },
      "source": [
        "from sklearn.ensemble import RandomForestClassifier\n",
        "import numpy as np\n",
        "import sklearn\n",
        "from sklearn.svm import SVC\n",
        "from sklearn.model_selection import train_test_split\n",
        "from sklearn.model_selection import GridSearchCV\n",
        "from sklearn.metrics import classification_report\n",
        "from sklearn import preprocessing\n",
        "import json\n",
        "from sklearn.preprocessing import LabelEncoder\n",
        "from sklearn.preprocessing import OneHotEncoder\n",
        "from sklearn.metrics import accuracy_score\n",
        "from sklearn import metrics\n",
        "from sklearn.metrics import roc_auc_score\n",
        "from sklearn.metrics import confusion_matrix\n",
        "import itertools"
      ],
      "execution_count": 0,
      "outputs": []
    },
    {
      "cell_type": "markdown",
      "metadata": {
        "id": "jrhenf0JWCTu",
        "colab_type": "text"
      },
      "source": [
        "# Importing libraries"
      ]
    },
    {
      "cell_type": "code",
      "metadata": {
        "id": "zY8UscarWCTu",
        "colab_type": "code",
        "colab": {
          "base_uri": "https://localhost:8080/",
          "height": 51
        },
        "outputId": "0280019c-99ad-4ebf-84dd-57e0910bca07"
      },
      "source": [
        "import pandas as pd\n",
        "import numpy as np\n",
        "import matplotlib.pyplot as plt\n",
        "import seaborn as sns\n",
        "from sklearn.feature_extraction.text import CountVectorizer"
      ],
      "execution_count": 2,
      "outputs": [
        {
          "output_type": "stream",
          "text": [
            "/usr/local/lib/python3.6/dist-packages/statsmodels/tools/_testing.py:19: FutureWarning: pandas.util.testing is deprecated. Use the functions in the public API at pandas.testing instead.\n",
            "  import pandas.util.testing as tm\n"
          ],
          "name": "stderr"
        }
      ]
    },
    {
      "cell_type": "markdown",
      "metadata": {
        "id": "8qcPyRS9WCT0",
        "colab_type": "text"
      },
      "source": [
        "### Reading CSV file using pandas dataframe"
      ]
    },
    {
      "cell_type": "code",
      "metadata": {
        "id": "YTQJuI5RWCT6",
        "colab_type": "code",
        "colab": {
          "base_uri": "https://localhost:8080/",
          "height": 202
        },
        "outputId": "2ab90514-9d4b-491d-8dc7-4afc99512969"
      },
      "source": [
        "dataset = pd.read_csv(\"patient data all 119.csv\")\n",
        "df_clean = dataset.drop(columns=[\"seq_id\", \"patient_id\", \"date\" , \"cough_filename\", \"finger_filename\",\n",
        "                                \"patient_smartphone\", \"breathing_filename\"])\n",
        "df_clean.head()"
      ],
      "execution_count": 5,
      "outputs": [
        {
          "output_type": "execute_result",
          "data": {
            "text/html": [
              "<div>\n",
              "<style scoped>\n",
              "    .dataframe tbody tr th:only-of-type {\n",
              "        vertical-align: middle;\n",
              "    }\n",
              "\n",
              "    .dataframe tbody tr th {\n",
              "        vertical-align: top;\n",
              "    }\n",
              "\n",
              "    .dataframe thead th {\n",
              "        text-align: right;\n",
              "    }\n",
              "</style>\n",
              "<table border=\"1\" class=\"dataframe\">\n",
              "  <thead>\n",
              "    <tr style=\"text-align: right;\">\n",
              "      <th></th>\n",
              "      <th>corona_test</th>\n",
              "      <th>age</th>\n",
              "      <th>gender</th>\n",
              "      <th>medical_history</th>\n",
              "      <th>smoker</th>\n",
              "      <th>patient_reported_symptoms</th>\n",
              "    </tr>\n",
              "  </thead>\n",
              "  <tbody>\n",
              "    <tr>\n",
              "      <th>0</th>\n",
              "      <td>negative</td>\n",
              "      <td>32</td>\n",
              "      <td>male</td>\n",
              "      <td>NaN</td>\n",
              "      <td>NaN</td>\n",
              "      <td>Fever, chills, or sweating,</td>\n",
              "    </tr>\n",
              "    <tr>\n",
              "      <th>1</th>\n",
              "      <td>negative</td>\n",
              "      <td>31</td>\n",
              "      <td>male</td>\n",
              "      <td>NaN</td>\n",
              "      <td>NaN</td>\n",
              "      <td>Fever, chills, or sweating,Shortness of breath...</td>\n",
              "    </tr>\n",
              "    <tr>\n",
              "      <th>2</th>\n",
              "      <td>negative</td>\n",
              "      <td>21</td>\n",
              "      <td>female</td>\n",
              "      <td>NaN</td>\n",
              "      <td>NaN</td>\n",
              "      <td>New or worsening cough,</td>\n",
              "    </tr>\n",
              "    <tr>\n",
              "      <th>3</th>\n",
              "      <td>negative</td>\n",
              "      <td>33</td>\n",
              "      <td>male</td>\n",
              "      <td>Asthma or chronic lung disease,</td>\n",
              "      <td>NaN</td>\n",
              "      <td>Fever, chills, or sweating,Shortness of breath...</td>\n",
              "    </tr>\n",
              "    <tr>\n",
              "      <th>4</th>\n",
              "      <td>negative</td>\n",
              "      <td>27</td>\n",
              "      <td>male</td>\n",
              "      <td>Disease or conditions that make it harder to c...</td>\n",
              "      <td>NaN</td>\n",
              "      <td>New or worsening cough,</td>\n",
              "    </tr>\n",
              "  </tbody>\n",
              "</table>\n",
              "</div>"
            ],
            "text/plain": [
              "  corona_test  age  ... smoker                          patient_reported_symptoms\n",
              "0    negative   32  ...    NaN                        Fever, chills, or sweating,\n",
              "1    negative   31  ...    NaN  Fever, chills, or sweating,Shortness of breath...\n",
              "2    negative   21  ...    NaN                            New or worsening cough,\n",
              "3    negative   33  ...    NaN  Fever, chills, or sweating,Shortness of breath...\n",
              "4    negative   27  ...    NaN                            New or worsening cough,\n",
              "\n",
              "[5 rows x 6 columns]"
            ]
          },
          "metadata": {
            "tags": []
          },
          "execution_count": 5
        }
      ]
    },
    {
      "cell_type": "markdown",
      "metadata": {
        "id": "CPUFXYliWCUJ",
        "colab_type": "text"
      },
      "source": [
        "### Counting number of nan values in each feature"
      ]
    },
    {
      "cell_type": "code",
      "metadata": {
        "id": "eUwQXW7vWCUK",
        "colab_type": "code",
        "colab": {
          "base_uri": "https://localhost:8080/",
          "height": 34
        },
        "outputId": "a5f2c9fc-1c74-4219-8b77-af8cf4a169ae"
      },
      "source": [
        "ff = df_clean[\"medical_history\"].isna().sum()\n",
        "print(ff)\n",
        "\n",
        "# Filling nan values with None.\n",
        "df_clean[\"medical_history\"].fillna(\"None,\", inplace = True) \n",
        "df_clean[\"smoker\"].fillna(\"no\", inplace = True) \n",
        "df_clean[\"patient_reported_symptoms\"].fillna(\"None,\", inplace = True) "
      ],
      "execution_count": 6,
      "outputs": [
        {
          "output_type": "stream",
          "text": [
            "3\n"
          ],
          "name": "stdout"
        }
      ]
    },
    {
      "cell_type": "code",
      "metadata": {
        "id": "v2vOrk3TWCUO",
        "colab_type": "code",
        "colab": {
          "base_uri": "https://localhost:8080/",
          "height": 202
        },
        "outputId": "bc3c984d-4013-4eb5-d10c-fe76158d0b34"
      },
      "source": [
        "df_clean.head()"
      ],
      "execution_count": 7,
      "outputs": [
        {
          "output_type": "execute_result",
          "data": {
            "text/html": [
              "<div>\n",
              "<style scoped>\n",
              "    .dataframe tbody tr th:only-of-type {\n",
              "        vertical-align: middle;\n",
              "    }\n",
              "\n",
              "    .dataframe tbody tr th {\n",
              "        vertical-align: top;\n",
              "    }\n",
              "\n",
              "    .dataframe thead th {\n",
              "        text-align: right;\n",
              "    }\n",
              "</style>\n",
              "<table border=\"1\" class=\"dataframe\">\n",
              "  <thead>\n",
              "    <tr style=\"text-align: right;\">\n",
              "      <th></th>\n",
              "      <th>corona_test</th>\n",
              "      <th>age</th>\n",
              "      <th>gender</th>\n",
              "      <th>medical_history</th>\n",
              "      <th>smoker</th>\n",
              "      <th>patient_reported_symptoms</th>\n",
              "    </tr>\n",
              "  </thead>\n",
              "  <tbody>\n",
              "    <tr>\n",
              "      <th>0</th>\n",
              "      <td>negative</td>\n",
              "      <td>32</td>\n",
              "      <td>male</td>\n",
              "      <td>None,</td>\n",
              "      <td>no</td>\n",
              "      <td>Fever, chills, or sweating,</td>\n",
              "    </tr>\n",
              "    <tr>\n",
              "      <th>1</th>\n",
              "      <td>negative</td>\n",
              "      <td>31</td>\n",
              "      <td>male</td>\n",
              "      <td>None,</td>\n",
              "      <td>no</td>\n",
              "      <td>Fever, chills, or sweating,Shortness of breath...</td>\n",
              "    </tr>\n",
              "    <tr>\n",
              "      <th>2</th>\n",
              "      <td>negative</td>\n",
              "      <td>21</td>\n",
              "      <td>female</td>\n",
              "      <td>None,</td>\n",
              "      <td>no</td>\n",
              "      <td>New or worsening cough,</td>\n",
              "    </tr>\n",
              "    <tr>\n",
              "      <th>3</th>\n",
              "      <td>negative</td>\n",
              "      <td>33</td>\n",
              "      <td>male</td>\n",
              "      <td>Asthma or chronic lung disease,</td>\n",
              "      <td>no</td>\n",
              "      <td>Fever, chills, or sweating,Shortness of breath...</td>\n",
              "    </tr>\n",
              "    <tr>\n",
              "      <th>4</th>\n",
              "      <td>negative</td>\n",
              "      <td>27</td>\n",
              "      <td>male</td>\n",
              "      <td>Disease or conditions that make it harder to c...</td>\n",
              "      <td>no</td>\n",
              "      <td>New or worsening cough,</td>\n",
              "    </tr>\n",
              "  </tbody>\n",
              "</table>\n",
              "</div>"
            ],
            "text/plain": [
              "  corona_test  age  ... smoker                          patient_reported_symptoms\n",
              "0    negative   32  ...     no                        Fever, chills, or sweating,\n",
              "1    negative   31  ...     no  Fever, chills, or sweating,Shortness of breath...\n",
              "2    negative   21  ...     no                            New or worsening cough,\n",
              "3    negative   33  ...     no  Fever, chills, or sweating,Shortness of breath...\n",
              "4    negative   27  ...     no                            New or worsening cough,\n",
              "\n",
              "[5 rows x 6 columns]"
            ]
          },
          "metadata": {
            "tags": []
          },
          "execution_count": 7
        }
      ]
    },
    {
      "cell_type": "code",
      "metadata": {
        "id": "MD8un8TWWCUR",
        "colab_type": "code",
        "colab": {
          "base_uri": "https://localhost:8080/",
          "height": 103
        },
        "outputId": "7bf549fd-aaa4-4be0-e9cb-f45d2505a23c"
      },
      "source": [
        "# In order to see how many unique values are there in my column\n",
        "df_clean[\"medical_history\"].describe()"
      ],
      "execution_count": 9,
      "outputs": [
        {
          "output_type": "execute_result",
          "data": {
            "text/plain": [
              "count       124\n",
              "unique       11\n",
              "top       None,\n",
              "freq         84\n",
              "Name: medical_history, dtype: object"
            ]
          },
          "metadata": {
            "tags": []
          },
          "execution_count": 9
        }
      ]
    },
    {
      "cell_type": "markdown",
      "metadata": {
        "id": "3W4UKlhNWCUZ",
        "colab_type": "text"
      },
      "source": [
        "### Histogram"
      ]
    },
    {
      "cell_type": "code",
      "metadata": {
        "id": "sZRu-glOWCUb",
        "colab_type": "code",
        "colab": {
          "base_uri": "https://localhost:8080/",
          "height": 1000
        },
        "outputId": "df4d0cd9-22c0-4234-814d-10b0e148dfcd"
      },
      "source": [
        "plt.suptitle(\"Histogram of Numerical Columns\", fontsize = 20)\n",
        "for i in range(1, df_clean.shape[1]+ 1): \n",
        "    plt.figure(figsize=(20,10))\n",
        "    plt.subplot(3, 3, i)\n",
        "    f = plt.gca()\n",
        "    f.set_title(df_clean.columns.values[i - 1])\n",
        "    vals = np.size(df_clean.iloc[:, i - 1].unique())\n",
        "    plt.hist(df_clean.iloc[:, i - 1], bins = vals, color = \"#3F5D7D\")"
      ],
      "execution_count": 10,
      "outputs": [
        {
          "output_type": "display_data",
          "data": {
            "text/plain": [
              "<Figure size 432x288 with 0 Axes>"
            ]
          },
          "metadata": {
            "tags": []
          }
        },
        {
          "output_type": "display_data",
          "data": {
            "image/png": "[encoded data removed]",
            "text/plain": [
              "<Figure size 1440x720 with 1 Axes>"
            ]
          },
          "metadata": {
            "tags": [],
            "needs_background": "light"
          }
        },
        {
          "output_type": "display_data",
          "data": {
            "image/png": "[encoded data removed]",
            "text/plain": [
              "<Figure size 1440x720 with 1 Axes>"
            ]
          },
          "metadata": {
            "tags": [],
            "needs_background": "light"
          }
        },
        {
          "output_type": "display_data",
          "data": {
            "image/png": "[encoded data removed]",
            "text/plain": [
              "<Figure size 1440x720 with 1 Axes>"
            ]
          },
          "metadata": {
            "tags": [],
            "needs_background": "light"
          }
        },
        {
          "output_type": "display_data",
          "data": {
            "image/png": "[encoded data removed]",
            "text/plain": [
              "<Figure size 1440x720 with 1 Axes>"
            ]
          },
          "metadata": {
            "tags": [],
            "needs_background": "light"
          }
        },
        {
          "output_type": "display_data",
          "data": {
            "image/png": "[encoded data removed]",
            "text/plain": [
              "<Figure size 1440x720 with 1 Axes>"
            ]
          },
          "metadata": {
            "tags": [],
            "needs_background": "light"
          }
        },
        {
          "output_type": "display_data",
          "data": {
            "image/png": "[encoded data removed]",
            "text/plain": [
              "<Figure size 1440x720 with 1 Axes>"
            ]
          },
          "metadata": {
            "tags": [],
            "needs_background": "light"
          }
        }
      ]
    },
    {
      "cell_type": "markdown",
      "metadata": {
        "id": "WQE9nZPYWCUl",
        "colab_type": "text"
      },
      "source": [
        "# Correlation"
      ]
    },
    {
      "cell_type": "code",
      "metadata": {
        "id": "newyNpnFWCUl",
        "colab_type": "code",
        "colab": {
          "base_uri": "https://localhost:8080/",
          "height": 280
        },
        "outputId": "c86e1c6a-9e50-44ee-d852-361a0f2c69a6"
      },
      "source": [
        "# TODO: Not working properly\n",
        "\n",
        "# df_clean.corrwith(df_clean.corona_test).plot.bar(figsize = (20, 10),\n",
        "#                                                 title= \"Correlation With Responsive Variable\", \n",
        "#                                                 fontsize = 15, rot = 45,\n",
        "#                                                 grid = True)\n",
        "corr = df_clean.corr()\n",
        "ax = sns.heatmap(\n",
        "    corr, \n",
        "    vmin=-1, vmax=1, center=0,\n",
        "    cmap=sns.diverging_palette(20, 220, n=200),\n",
        "    square=True\n",
        ")\n",
        "ax.set_xticklabels(\n",
        "    ax.get_xticklabels(),\n",
        "    rotation=45,\n",
        "    horizontalalignment='right'\n",
        ");"
      ],
      "execution_count": 12,
      "outputs": [
        {
          "output_type": "display_data",
          "data": {
            "image/png": "[encoded data removed]",
            "text/plain": [
              "<Figure size 432x288 with 2 Axes>"
            ]
          },
          "metadata": {
            "tags": [],
            "needs_background": "light"
          }
        }
      ]
    },
    {
      "cell_type": "code",
      "metadata": {
        "id": "KUW0W_6TWCUq",
        "colab_type": "code",
        "colab": {
          "base_uri": "https://localhost:8080/",
          "height": 138
        },
        "outputId": "4e81ebff-0781-41f9-ffa9-dfdd7136c567"
      },
      "source": [
        "# For checking the data type of all the features\n",
        "df_clean.dtypes"
      ],
      "execution_count": 13,
      "outputs": [
        {
          "output_type": "execute_result",
          "data": {
            "text/plain": [
              "corona_test                  object\n",
              "age                           int64\n",
              "gender                       object\n",
              "medical_history              object\n",
              "smoker                       object\n",
              "patient_reported_symptoms    object\n",
              "dtype: object"
            ]
          },
          "metadata": {
            "tags": []
          },
          "execution_count": 13
        }
      ]
    },
    {
      "cell_type": "code",
      "metadata": {
        "id": "J_N89X2KWCUt",
        "colab_type": "code",
        "colab": {
          "base_uri": "https://localhost:8080/",
          "height": 173
        },
        "outputId": "ec59e7b8-d60a-44fe-d4c3-6cb4fa4ca48b"
      },
      "source": [
        "# For checking how many unique rows in medical history.\n",
        "df_clean[\"medical_history\"].unique()"
      ],
      "execution_count": 35,
      "outputs": [
        {
          "output_type": "execute_result",
          "data": {
            "text/plain": [
              "array(['None,', 'Asthma or chronic lung disease,',\n",
              "       'Disease or conditions that make it harder to cough,',\n",
              "       'Diabetes with complications,',\n",
              "       'Asthma or chronic lung disease,Disease or conditions that make it harder to cough,',\n",
              "       'Asthma or chronic lung disease,Diabetes with complications,',\n",
              "       'Pregnancy,',\n",
              "       'Diabetes with complications,Congestive heart failure,',\n",
              "       'Congestive heart failure,', 'none of the above',\n",
              "       'Diabetes with complications'], dtype=object)"
            ]
          },
          "metadata": {
            "tags": []
          },
          "execution_count": 35
        }
      ]
    },
    {
      "cell_type": "markdown",
      "metadata": {
        "id": "UDyR7VgkWCU1",
        "colab_type": "text"
      },
      "source": [
        "### reading csv containing important medical history diseases"
      ]
    },
    {
      "cell_type": "code",
      "metadata": {
        "id": "VsfFVP2nWCU2",
        "colab_type": "code",
        "colab": {
          "base_uri": "https://localhost:8080/",
          "height": 86
        },
        "outputId": "737e5cfc-5ad6-40fb-9b4e-4dd0aac7bdcc"
      },
      "source": [
        "top_medical_history = pd.read_csv(\"medical_history.csv\").medical_history.values\n",
        "top_medical_history"
      ],
      "execution_count": 36,
      "outputs": [
        {
          "output_type": "execute_result",
          "data": {
            "text/plain": [
              "array(['None,', 'Asthma or chronic lung disease,',\n",
              "       'Disease or conditions that make it harder to cough,',\n",
              "       'Diabetes with complications,', 'Pregnancy,',\n",
              "       'Congestive heart failure,', 'Extreme obesity'], dtype=object)"
            ]
          },
          "metadata": {
            "tags": []
          },
          "execution_count": 36
        }
      ]
    },
    {
      "cell_type": "markdown",
      "metadata": {
        "id": "6XFHTHBRWCU6",
        "colab_type": "text"
      },
      "source": [
        "### doing feature engineering on medical history"
      ]
    },
    {
      "cell_type": "code",
      "metadata": {
        "id": "kPr-7_nSWCU7",
        "colab_type": "code",
        "colab": {
          "base_uri": "https://localhost:8080/",
          "height": 450
        },
        "outputId": "ee9fb033-c436-4235-a491-b39cf6bfb743"
      },
      "source": [
        "df2 = df_clean.copy()\n",
        "for mh in top_medical_history:\n",
        "    df2[mh] = df2.medical_history.str.contains(mh).astype(int)\n",
        "    df2[\"medical_history\"] = df2.medical_history.str.replace(mh+ \",\", \"\")\n",
        "\n",
        "df2[\"total_diseases\"] = df2.medical_history.str.count(\",\")\n",
        "df2 = df2.drop(columns = [\"medical_history\", \"patient_reported_symptoms\"])\n",
        "df2"
      ],
      "execution_count": 40,
      "outputs": [
        {
          "output_type": "execute_result",
          "data": {
            "text/html": [
              "<div>\n",
              "<style scoped>\n",
              "    .dataframe tbody tr th:only-of-type {\n",
              "        vertical-align: middle;\n",
              "    }\n",
              "\n",
              "    .dataframe tbody tr th {\n",
              "        vertical-align: top;\n",
              "    }\n",
              "\n",
              "    .dataframe thead th {\n",
              "        text-align: right;\n",
              "    }\n",
              "</style>\n",
              "<table border=\"1\" class=\"dataframe\">\n",
              "  <thead>\n",
              "    <tr style=\"text-align: right;\">\n",
              "      <th></th>\n",
              "      <th>corona_test</th>\n",
              "      <th>age</th>\n",
              "      <th>gender</th>\n",
              "      <th>smoker</th>\n",
              "      <th>None,</th>\n",
              "      <th>Asthma or chronic lung disease,</th>\n",
              "      <th>Disease or conditions that make it harder to cough,</th>\n",
              "      <th>Diabetes with complications,</th>\n",
              "      <th>Pregnancy,</th>\n",
              "      <th>Congestive heart failure,</th>\n",
              "      <th>Extreme obesity</th>\n",
              "      <th>total_diseases</th>\n",
              "    </tr>\n",
              "  </thead>\n",
              "  <tbody>\n",
              "    <tr>\n",
              "      <th>0</th>\n",
              "      <td>negative</td>\n",
              "      <td>32</td>\n",
              "      <td>male</td>\n",
              "      <td>no</td>\n",
              "      <td>1</td>\n",
              "      <td>0</td>\n",
              "      <td>0</td>\n",
              "      <td>0</td>\n",
              "      <td>0</td>\n",
              "      <td>0</td>\n",
              "      <td>0</td>\n",
              "      <td>1</td>\n",
              "    </tr>\n",
              "    <tr>\n",
              "      <th>1</th>\n",
              "      <td>negative</td>\n",
              "      <td>31</td>\n",
              "      <td>male</td>\n",
              "      <td>no</td>\n",
              "      <td>1</td>\n",
              "      <td>0</td>\n",
              "      <td>0</td>\n",
              "      <td>0</td>\n",
              "      <td>0</td>\n",
              "      <td>0</td>\n",
              "      <td>0</td>\n",
              "      <td>1</td>\n",
              "    </tr>\n",
              "    <tr>\n",
              "      <th>2</th>\n",
              "      <td>negative</td>\n",
              "      <td>21</td>\n",
              "      <td>female</td>\n",
              "      <td>no</td>\n",
              "      <td>1</td>\n",
              "      <td>0</td>\n",
              "      <td>0</td>\n",
              "      <td>0</td>\n",
              "      <td>0</td>\n",
              "      <td>0</td>\n",
              "      <td>0</td>\n",
              "      <td>1</td>\n",
              "    </tr>\n",
              "    <tr>\n",
              "      <th>3</th>\n",
              "      <td>negative</td>\n",
              "      <td>33</td>\n",
              "      <td>male</td>\n",
              "      <td>no</td>\n",
              "      <td>0</td>\n",
              "      <td>1</td>\n",
              "      <td>0</td>\n",
              "      <td>0</td>\n",
              "      <td>0</td>\n",
              "      <td>0</td>\n",
              "      <td>0</td>\n",
              "      <td>1</td>\n",
              "    </tr>\n",
              "    <tr>\n",
              "      <th>4</th>\n",
              "      <td>negative</td>\n",
              "      <td>27</td>\n",
              "      <td>male</td>\n",
              "      <td>no</td>\n",
              "      <td>0</td>\n",
              "      <td>0</td>\n",
              "      <td>1</td>\n",
              "      <td>0</td>\n",
              "      <td>0</td>\n",
              "      <td>0</td>\n",
              "      <td>0</td>\n",
              "      <td>1</td>\n",
              "    </tr>\n",
              "    <tr>\n",
              "      <th>...</th>\n",
              "      <td>...</td>\n",
              "      <td>...</td>\n",
              "      <td>...</td>\n",
              "      <td>...</td>\n",
              "      <td>...</td>\n",
              "      <td>...</td>\n",
              "      <td>...</td>\n",
              "      <td>...</td>\n",
              "      <td>...</td>\n",
              "      <td>...</td>\n",
              "      <td>...</td>\n",
              "      <td>...</td>\n",
              "    </tr>\n",
              "    <tr>\n",
              "      <th>119</th>\n",
              "      <td>negative</td>\n",
              "      <td>25</td>\n",
              "      <td>female</td>\n",
              "      <td>yes</td>\n",
              "      <td>0</td>\n",
              "      <td>0</td>\n",
              "      <td>0</td>\n",
              "      <td>0</td>\n",
              "      <td>0</td>\n",
              "      <td>0</td>\n",
              "      <td>0</td>\n",
              "      <td>0</td>\n",
              "    </tr>\n",
              "    <tr>\n",
              "      <th>120</th>\n",
              "      <td>negative</td>\n",
              "      <td>30</td>\n",
              "      <td>male</td>\n",
              "      <td>no</td>\n",
              "      <td>0</td>\n",
              "      <td>0</td>\n",
              "      <td>0</td>\n",
              "      <td>0</td>\n",
              "      <td>0</td>\n",
              "      <td>0</td>\n",
              "      <td>0</td>\n",
              "      <td>0</td>\n",
              "    </tr>\n",
              "    <tr>\n",
              "      <th>121</th>\n",
              "      <td>positive</td>\n",
              "      <td>36</td>\n",
              "      <td>male</td>\n",
              "      <td>no</td>\n",
              "      <td>0</td>\n",
              "      <td>0</td>\n",
              "      <td>0</td>\n",
              "      <td>0</td>\n",
              "      <td>0</td>\n",
              "      <td>0</td>\n",
              "      <td>0</td>\n",
              "      <td>0</td>\n",
              "    </tr>\n",
              "    <tr>\n",
              "      <th>122</th>\n",
              "      <td>negative</td>\n",
              "      <td>36</td>\n",
              "      <td>male</td>\n",
              "      <td>yes</td>\n",
              "      <td>0</td>\n",
              "      <td>0</td>\n",
              "      <td>0</td>\n",
              "      <td>0</td>\n",
              "      <td>0</td>\n",
              "      <td>0</td>\n",
              "      <td>0</td>\n",
              "      <td>0</td>\n",
              "    </tr>\n",
              "    <tr>\n",
              "      <th>123</th>\n",
              "      <td>negative</td>\n",
              "      <td>48</td>\n",
              "      <td>male</td>\n",
              "      <td>no</td>\n",
              "      <td>0</td>\n",
              "      <td>0</td>\n",
              "      <td>0</td>\n",
              "      <td>0</td>\n",
              "      <td>0</td>\n",
              "      <td>0</td>\n",
              "      <td>0</td>\n",
              "      <td>0</td>\n",
              "    </tr>\n",
              "  </tbody>\n",
              "</table>\n",
              "<p>124 rows × 12 columns</p>\n",
              "</div>"
            ],
            "text/plain": [
              "    corona_test  age  ... Extreme obesity total_diseases\n",
              "0      negative   32  ...               0              1\n",
              "1      negative   31  ...               0              1\n",
              "2      negative   21  ...               0              1\n",
              "3      negative   33  ...               0              1\n",
              "4      negative   27  ...               0              1\n",
              "..          ...  ...  ...             ...            ...\n",
              "119    negative   25  ...               0              0\n",
              "120    negative   30  ...               0              0\n",
              "121    positive   36  ...               0              0\n",
              "122    negative   36  ...               0              0\n",
              "123    negative   48  ...               0              0\n",
              "\n",
              "[124 rows x 12 columns]"
            ]
          },
          "metadata": {
            "tags": []
          },
          "execution_count": 40
        }
      ]
    },
    {
      "cell_type": "markdown",
      "metadata": {
        "id": "R18PUXnMWCVC",
        "colab_type": "text"
      },
      "source": [
        "# Doing feature engineering on reported Symptoms"
      ]
    },
    {
      "cell_type": "code",
      "metadata": {
        "id": "jRZGJAoTWCVD",
        "colab_type": "code",
        "colab": {}
      },
      "source": [
        "# For checking how many unique rows in patient_reported_symptoms.\n",
        "# df_clean[\"patient_reported_symptoms\"].unique()"
      ],
      "execution_count": 0,
      "outputs": []
    },
    {
      "cell_type": "code",
      "metadata": {
        "id": "RBjvza5GWCVF",
        "colab_type": "code",
        "colab": {
          "base_uri": "https://localhost:8080/",
          "height": 69
        },
        "outputId": "dd6b690b-d454-4e46-865e-be27a3cf7a19"
      },
      "source": [
        "# reading csv_file of patient recorded symptoms\n",
        "top_symptoms = pd.read_csv(\"patient_reported_symptoms.csv\").patient_reported_symptoms.values\n",
        "top_symptoms"
      ],
      "execution_count": 41,
      "outputs": [
        {
          "output_type": "execute_result",
          "data": {
            "text/plain": [
              "array(['Fever,', 'chills,', 'or sweating,', 'Shortness of breath',\n",
              "       'Loss of taste,', 'Loss of smell,', 'New or worsening cough,',\n",
              "       'Sore throat,', 'Body aches,', 'None,'], dtype=object)"
            ]
          },
          "metadata": {
            "tags": []
          },
          "execution_count": 41
        }
      ]
    },
    {
      "cell_type": "markdown",
      "metadata": {
        "id": "oBYJjH19WCVI",
        "colab_type": "text"
      },
      "source": [
        "#### Breaking every symptom into a feature"
      ]
    },
    {
      "cell_type": "code",
      "metadata": {
        "id": "bm5mHv2iWCVJ",
        "colab_type": "code",
        "colab": {
          "base_uri": "https://localhost:8080/",
          "height": 415
        },
        "outputId": "19ed93e3-3f13-4d28-b488-f5d2c04a9814"
      },
      "source": [
        "df3 = df_clean.copy()\n",
        "for ps in top_symptoms:\n",
        "    df3[ps] = df_clean.patient_reported_symptoms.str.contains(ps).astype(int)\n",
        "    df3[\"patient_reported_symptoms\"] = df_clean.patient_reported_symptoms.str.replace(ps+ \",\", \"\")\n",
        "\n",
        "df3[\"total symptoms\"] = df_clean.patient_reported_symptoms.str.count(\",\")\n",
        "df3 = df3.drop(columns = [\"patient_reported_symptoms\", \"medical_history\", \"corona_test\", \"age\", \"gender\", \"smoker\"])\n",
        "\n",
        "df3.rename(columns={'None,':'Nothing'}, \n",
        "                 inplace=True)\n",
        "df3"
      ],
      "execution_count": 43,
      "outputs": [
        {
          "output_type": "execute_result",
          "data": {
            "text/html": [
              "<div>\n",
              "<style scoped>\n",
              "    .dataframe tbody tr th:only-of-type {\n",
              "        vertical-align: middle;\n",
              "    }\n",
              "\n",
              "    .dataframe tbody tr th {\n",
              "        vertical-align: top;\n",
              "    }\n",
              "\n",
              "    .dataframe thead th {\n",
              "        text-align: right;\n",
              "    }\n",
              "</style>\n",
              "<table border=\"1\" class=\"dataframe\">\n",
              "  <thead>\n",
              "    <tr style=\"text-align: right;\">\n",
              "      <th></th>\n",
              "      <th>Fever,</th>\n",
              "      <th>chills,</th>\n",
              "      <th>or sweating,</th>\n",
              "      <th>Shortness of breath</th>\n",
              "      <th>Loss of taste,</th>\n",
              "      <th>Loss of smell,</th>\n",
              "      <th>New or worsening cough,</th>\n",
              "      <th>Sore throat,</th>\n",
              "      <th>Body aches,</th>\n",
              "      <th>Nothing</th>\n",
              "      <th>total symptoms</th>\n",
              "    </tr>\n",
              "  </thead>\n",
              "  <tbody>\n",
              "    <tr>\n",
              "      <th>0</th>\n",
              "      <td>1</td>\n",
              "      <td>1</td>\n",
              "      <td>1</td>\n",
              "      <td>0</td>\n",
              "      <td>0</td>\n",
              "      <td>0</td>\n",
              "      <td>0</td>\n",
              "      <td>0</td>\n",
              "      <td>0</td>\n",
              "      <td>0</td>\n",
              "      <td>3</td>\n",
              "    </tr>\n",
              "    <tr>\n",
              "      <th>1</th>\n",
              "      <td>1</td>\n",
              "      <td>1</td>\n",
              "      <td>1</td>\n",
              "      <td>1</td>\n",
              "      <td>1</td>\n",
              "      <td>1</td>\n",
              "      <td>0</td>\n",
              "      <td>0</td>\n",
              "      <td>0</td>\n",
              "      <td>0</td>\n",
              "      <td>6</td>\n",
              "    </tr>\n",
              "    <tr>\n",
              "      <th>2</th>\n",
              "      <td>0</td>\n",
              "      <td>0</td>\n",
              "      <td>0</td>\n",
              "      <td>0</td>\n",
              "      <td>0</td>\n",
              "      <td>0</td>\n",
              "      <td>1</td>\n",
              "      <td>0</td>\n",
              "      <td>0</td>\n",
              "      <td>0</td>\n",
              "      <td>1</td>\n",
              "    </tr>\n",
              "    <tr>\n",
              "      <th>3</th>\n",
              "      <td>1</td>\n",
              "      <td>1</td>\n",
              "      <td>1</td>\n",
              "      <td>1</td>\n",
              "      <td>1</td>\n",
              "      <td>1</td>\n",
              "      <td>1</td>\n",
              "      <td>0</td>\n",
              "      <td>0</td>\n",
              "      <td>0</td>\n",
              "      <td>7</td>\n",
              "    </tr>\n",
              "    <tr>\n",
              "      <th>4</th>\n",
              "      <td>0</td>\n",
              "      <td>0</td>\n",
              "      <td>0</td>\n",
              "      <td>0</td>\n",
              "      <td>0</td>\n",
              "      <td>0</td>\n",
              "      <td>1</td>\n",
              "      <td>0</td>\n",
              "      <td>0</td>\n",
              "      <td>0</td>\n",
              "      <td>1</td>\n",
              "    </tr>\n",
              "    <tr>\n",
              "      <th>...</th>\n",
              "      <td>...</td>\n",
              "      <td>...</td>\n",
              "      <td>...</td>\n",
              "      <td>...</td>\n",
              "      <td>...</td>\n",
              "      <td>...</td>\n",
              "      <td>...</td>\n",
              "      <td>...</td>\n",
              "      <td>...</td>\n",
              "      <td>...</td>\n",
              "      <td>...</td>\n",
              "    </tr>\n",
              "    <tr>\n",
              "      <th>119</th>\n",
              "      <td>1</td>\n",
              "      <td>1</td>\n",
              "      <td>0</td>\n",
              "      <td>0</td>\n",
              "      <td>0</td>\n",
              "      <td>0</td>\n",
              "      <td>0</td>\n",
              "      <td>0</td>\n",
              "      <td>0</td>\n",
              "      <td>0</td>\n",
              "      <td>2</td>\n",
              "    </tr>\n",
              "    <tr>\n",
              "      <th>120</th>\n",
              "      <td>1</td>\n",
              "      <td>1</td>\n",
              "      <td>1</td>\n",
              "      <td>1</td>\n",
              "      <td>0</td>\n",
              "      <td>0</td>\n",
              "      <td>1</td>\n",
              "      <td>0</td>\n",
              "      <td>0</td>\n",
              "      <td>0</td>\n",
              "      <td>5</td>\n",
              "    </tr>\n",
              "    <tr>\n",
              "      <th>121</th>\n",
              "      <td>0</td>\n",
              "      <td>0</td>\n",
              "      <td>0</td>\n",
              "      <td>0</td>\n",
              "      <td>0</td>\n",
              "      <td>0</td>\n",
              "      <td>0</td>\n",
              "      <td>0</td>\n",
              "      <td>0</td>\n",
              "      <td>0</td>\n",
              "      <td>0</td>\n",
              "    </tr>\n",
              "    <tr>\n",
              "      <th>122</th>\n",
              "      <td>1</td>\n",
              "      <td>1</td>\n",
              "      <td>1</td>\n",
              "      <td>1</td>\n",
              "      <td>1</td>\n",
              "      <td>0</td>\n",
              "      <td>1</td>\n",
              "      <td>1</td>\n",
              "      <td>1</td>\n",
              "      <td>0</td>\n",
              "      <td>9</td>\n",
              "    </tr>\n",
              "    <tr>\n",
              "      <th>123</th>\n",
              "      <td>1</td>\n",
              "      <td>1</td>\n",
              "      <td>1</td>\n",
              "      <td>0</td>\n",
              "      <td>0</td>\n",
              "      <td>0</td>\n",
              "      <td>0</td>\n",
              "      <td>1</td>\n",
              "      <td>0</td>\n",
              "      <td>0</td>\n",
              "      <td>4</td>\n",
              "    </tr>\n",
              "  </tbody>\n",
              "</table>\n",
              "<p>124 rows × 11 columns</p>\n",
              "</div>"
            ],
            "text/plain": [
              "     Fever,  chills,  or sweating,  ...  Body aches,  Nothing  total symptoms\n",
              "0         1        1             1  ...            0        0               3\n",
              "1         1        1             1  ...            0        0               6\n",
              "2         0        0             0  ...            0        0               1\n",
              "3         1        1             1  ...            0        0               7\n",
              "4         0        0             0  ...            0        0               1\n",
              "..      ...      ...           ...  ...          ...      ...             ...\n",
              "119       1        1             0  ...            0        0               2\n",
              "120       1        1             1  ...            0        0               5\n",
              "121       0        0             0  ...            0        0               0\n",
              "122       1        1             1  ...            1        0               9\n",
              "123       1        1             1  ...            0        0               4\n",
              "\n",
              "[124 rows x 11 columns]"
            ]
          },
          "metadata": {
            "tags": []
          },
          "execution_count": 43
        }
      ]
    },
    {
      "cell_type": "markdown",
      "metadata": {
        "id": "_xkswkczWCVO",
        "colab_type": "text"
      },
      "source": [
        "##### Here we are merging the dataframes based on these features"
      ]
    },
    {
      "cell_type": "code",
      "metadata": {
        "id": "uJacLsbKWCVP",
        "colab_type": "code",
        "colab": {
          "base_uri": "https://localhost:8080/",
          "height": 504
        },
        "outputId": "afd6a1ed-4147-46a4-a63d-4602e31ff1ec"
      },
      "source": [
        "df4 = pd.concat([df2, df3], axis=1, ignore_index=False)\n",
        "# here you can drop total symptoms and total diseases column as well, in order to make your algo more robust\n",
        "df4 = df4.drop(columns = [\"total_diseases\", \"total symptoms\"])\n",
        "df4"
      ],
      "execution_count": 57,
      "outputs": [
        {
          "output_type": "execute_result",
          "data": {
            "text/html": [
              "<div>\n",
              "<style scoped>\n",
              "    .dataframe tbody tr th:only-of-type {\n",
              "        vertical-align: middle;\n",
              "    }\n",
              "\n",
              "    .dataframe tbody tr th {\n",
              "        vertical-align: top;\n",
              "    }\n",
              "\n",
              "    .dataframe thead th {\n",
              "        text-align: right;\n",
              "    }\n",
              "</style>\n",
              "<table border=\"1\" class=\"dataframe\">\n",
              "  <thead>\n",
              "    <tr style=\"text-align: right;\">\n",
              "      <th></th>\n",
              "      <th>corona_test</th>\n",
              "      <th>age</th>\n",
              "      <th>gender</th>\n",
              "      <th>smoker</th>\n",
              "      <th>None,</th>\n",
              "      <th>Asthma or chronic lung disease,</th>\n",
              "      <th>Disease or conditions that make it harder to cough,</th>\n",
              "      <th>Diabetes with complications,</th>\n",
              "      <th>Pregnancy,</th>\n",
              "      <th>Congestive heart failure,</th>\n",
              "      <th>Extreme obesity</th>\n",
              "      <th>Fever,</th>\n",
              "      <th>chills,</th>\n",
              "      <th>or sweating,</th>\n",
              "      <th>Shortness of breath</th>\n",
              "      <th>Loss of taste,</th>\n",
              "      <th>Loss of smell,</th>\n",
              "      <th>New or worsening cough,</th>\n",
              "      <th>Sore throat,</th>\n",
              "      <th>Body aches,</th>\n",
              "      <th>Nothing</th>\n",
              "    </tr>\n",
              "  </thead>\n",
              "  <tbody>\n",
              "    <tr>\n",
              "      <th>0</th>\n",
              "      <td>negative</td>\n",
              "      <td>32</td>\n",
              "      <td>male</td>\n",
              "      <td>no</td>\n",
              "      <td>1</td>\n",
              "      <td>0</td>\n",
              "      <td>0</td>\n",
              "      <td>0</td>\n",
              "      <td>0</td>\n",
              "      <td>0</td>\n",
              "      <td>0</td>\n",
              "      <td>1</td>\n",
              "      <td>1</td>\n",
              "      <td>1</td>\n",
              "      <td>0</td>\n",
              "      <td>0</td>\n",
              "      <td>0</td>\n",
              "      <td>0</td>\n",
              "      <td>0</td>\n",
              "      <td>0</td>\n",
              "      <td>0</td>\n",
              "    </tr>\n",
              "    <tr>\n",
              "      <th>1</th>\n",
              "      <td>negative</td>\n",
              "      <td>31</td>\n",
              "      <td>male</td>\n",
              "      <td>no</td>\n",
              "      <td>1</td>\n",
              "      <td>0</td>\n",
              "      <td>0</td>\n",
              "      <td>0</td>\n",
              "      <td>0</td>\n",
              "      <td>0</td>\n",
              "      <td>0</td>\n",
              "      <td>1</td>\n",
              "      <td>1</td>\n",
              "      <td>1</td>\n",
              "      <td>1</td>\n",
              "      <td>1</td>\n",
              "      <td>1</td>\n",
              "      <td>0</td>\n",
              "      <td>0</td>\n",
              "      <td>0</td>\n",
              "      <td>0</td>\n",
              "    </tr>\n",
              "    <tr>\n",
              "      <th>2</th>\n",
              "      <td>negative</td>\n",
              "      <td>21</td>\n",
              "      <td>female</td>\n",
              "      <td>no</td>\n",
              "      <td>1</td>\n",
              "      <td>0</td>\n",
              "      <td>0</td>\n",
              "      <td>0</td>\n",
              "      <td>0</td>\n",
              "      <td>0</td>\n",
              "      <td>0</td>\n",
              "      <td>0</td>\n",
              "      <td>0</td>\n",
              "      <td>0</td>\n",
              "      <td>0</td>\n",
              "      <td>0</td>\n",
              "      <td>0</td>\n",
              "      <td>1</td>\n",
              "      <td>0</td>\n",
              "      <td>0</td>\n",
              "      <td>0</td>\n",
              "    </tr>\n",
              "    <tr>\n",
              "      <th>3</th>\n",
              "      <td>negative</td>\n",
              "      <td>33</td>\n",
              "      <td>male</td>\n",
              "      <td>no</td>\n",
              "      <td>0</td>\n",
              "      <td>1</td>\n",
              "      <td>0</td>\n",
              "      <td>0</td>\n",
              "      <td>0</td>\n",
              "      <td>0</td>\n",
              "      <td>0</td>\n",
              "      <td>1</td>\n",
              "      <td>1</td>\n",
              "      <td>1</td>\n",
              "      <td>1</td>\n",
              "      <td>1</td>\n",
              "      <td>1</td>\n",
              "      <td>1</td>\n",
              "      <td>0</td>\n",
              "      <td>0</td>\n",
              "      <td>0</td>\n",
              "    </tr>\n",
              "    <tr>\n",
              "      <th>4</th>\n",
              "      <td>negative</td>\n",
              "      <td>27</td>\n",
              "      <td>male</td>\n",
              "      <td>no</td>\n",
              "      <td>0</td>\n",
              "      <td>0</td>\n",
              "      <td>1</td>\n",
              "      <td>0</td>\n",
              "      <td>0</td>\n",
              "      <td>0</td>\n",
              "      <td>0</td>\n",
              "      <td>0</td>\n",
              "      <td>0</td>\n",
              "      <td>0</td>\n",
              "      <td>0</td>\n",
              "      <td>0</td>\n",
              "      <td>0</td>\n",
              "      <td>1</td>\n",
              "      <td>0</td>\n",
              "      <td>0</td>\n",
              "      <td>0</td>\n",
              "    </tr>\n",
              "    <tr>\n",
              "      <th>...</th>\n",
              "      <td>...</td>\n",
              "      <td>...</td>\n",
              "      <td>...</td>\n",
              "      <td>...</td>\n",
              "      <td>...</td>\n",
              "      <td>...</td>\n",
              "      <td>...</td>\n",
              "      <td>...</td>\n",
              "      <td>...</td>\n",
              "      <td>...</td>\n",
              "      <td>...</td>\n",
              "      <td>...</td>\n",
              "      <td>...</td>\n",
              "      <td>...</td>\n",
              "      <td>...</td>\n",
              "      <td>...</td>\n",
              "      <td>...</td>\n",
              "      <td>...</td>\n",
              "      <td>...</td>\n",
              "      <td>...</td>\n",
              "      <td>...</td>\n",
              "    </tr>\n",
              "    <tr>\n",
              "      <th>119</th>\n",
              "      <td>negative</td>\n",
              "      <td>25</td>\n",
              "      <td>female</td>\n",
              "      <td>yes</td>\n",
              "      <td>0</td>\n",
              "      <td>0</td>\n",
              "      <td>0</td>\n",
              "      <td>0</td>\n",
              "      <td>0</td>\n",
              "      <td>0</td>\n",
              "      <td>0</td>\n",
              "      <td>1</td>\n",
              "      <td>1</td>\n",
              "      <td>0</td>\n",
              "      <td>0</td>\n",
              "      <td>0</td>\n",
              "      <td>0</td>\n",
              "      <td>0</td>\n",
              "      <td>0</td>\n",
              "      <td>0</td>\n",
              "      <td>0</td>\n",
              "    </tr>\n",
              "    <tr>\n",
              "      <th>120</th>\n",
              "      <td>negative</td>\n",
              "      <td>30</td>\n",
              "      <td>male</td>\n",
              "      <td>no</td>\n",
              "      <td>0</td>\n",
              "      <td>0</td>\n",
              "      <td>0</td>\n",
              "      <td>0</td>\n",
              "      <td>0</td>\n",
              "      <td>0</td>\n",
              "      <td>0</td>\n",
              "      <td>1</td>\n",
              "      <td>1</td>\n",
              "      <td>1</td>\n",
              "      <td>1</td>\n",
              "      <td>0</td>\n",
              "      <td>0</td>\n",
              "      <td>1</td>\n",
              "      <td>0</td>\n",
              "      <td>0</td>\n",
              "      <td>0</td>\n",
              "    </tr>\n",
              "    <tr>\n",
              "      <th>121</th>\n",
              "      <td>positive</td>\n",
              "      <td>36</td>\n",
              "      <td>male</td>\n",
              "      <td>no</td>\n",
              "      <td>0</td>\n",
              "      <td>0</td>\n",
              "      <td>0</td>\n",
              "      <td>0</td>\n",
              "      <td>0</td>\n",
              "      <td>0</td>\n",
              "      <td>0</td>\n",
              "      <td>0</td>\n",
              "      <td>0</td>\n",
              "      <td>0</td>\n",
              "      <td>0</td>\n",
              "      <td>0</td>\n",
              "      <td>0</td>\n",
              "      <td>0</td>\n",
              "      <td>0</td>\n",
              "      <td>0</td>\n",
              "      <td>0</td>\n",
              "    </tr>\n",
              "    <tr>\n",
              "      <th>122</th>\n",
              "      <td>negative</td>\n",
              "      <td>36</td>\n",
              "      <td>male</td>\n",
              "      <td>yes</td>\n",
              "      <td>0</td>\n",
              "      <td>0</td>\n",
              "      <td>0</td>\n",
              "      <td>0</td>\n",
              "      <td>0</td>\n",
              "      <td>0</td>\n",
              "      <td>0</td>\n",
              "      <td>1</td>\n",
              "      <td>1</td>\n",
              "      <td>1</td>\n",
              "      <td>1</td>\n",
              "      <td>1</td>\n",
              "      <td>0</td>\n",
              "      <td>1</td>\n",
              "      <td>1</td>\n",
              "      <td>1</td>\n",
              "      <td>0</td>\n",
              "    </tr>\n",
              "    <tr>\n",
              "      <th>123</th>\n",
              "      <td>negative</td>\n",
              "      <td>48</td>\n",
              "      <td>male</td>\n",
              "      <td>no</td>\n",
              "      <td>0</td>\n",
              "      <td>0</td>\n",
              "      <td>0</td>\n",
              "      <td>0</td>\n",
              "      <td>0</td>\n",
              "      <td>0</td>\n",
              "      <td>0</td>\n",
              "      <td>1</td>\n",
              "      <td>1</td>\n",
              "      <td>1</td>\n",
              "      <td>0</td>\n",
              "      <td>0</td>\n",
              "      <td>0</td>\n",
              "      <td>0</td>\n",
              "      <td>1</td>\n",
              "      <td>0</td>\n",
              "      <td>0</td>\n",
              "    </tr>\n",
              "  </tbody>\n",
              "</table>\n",
              "<p>124 rows × 21 columns</p>\n",
              "</div>"
            ],
            "text/plain": [
              "    corona_test  age  gender  ... Sore throat,  Body aches,  Nothing\n",
              "0      negative   32    male  ...            0            0        0\n",
              "1      negative   31    male  ...            0            0        0\n",
              "2      negative   21  female  ...            0            0        0\n",
              "3      negative   33    male  ...            0            0        0\n",
              "4      negative   27    male  ...            0            0        0\n",
              "..          ...  ...     ...  ...          ...          ...      ...\n",
              "119    negative   25  female  ...            0            0        0\n",
              "120    negative   30    male  ...            0            0        0\n",
              "121    positive   36    male  ...            0            0        0\n",
              "122    negative   36    male  ...            1            1        0\n",
              "123    negative   48    male  ...            1            0        0\n",
              "\n",
              "[124 rows x 21 columns]"
            ]
          },
          "metadata": {
            "tags": []
          },
          "execution_count": 57
        }
      ]
    },
    {
      "cell_type": "code",
      "metadata": {
        "id": "ki6VFxkxWCVe",
        "colab_type": "code",
        "colab": {
          "base_uri": "https://localhost:8080/",
          "height": 383
        },
        "outputId": "18e213c0-f99a-4273-cc8a-0c7cc7da55cb"
      },
      "source": [
        "# for visualizing statistical detail of dataframe.\n",
        "df4.describe()"
      ],
      "execution_count": 58,
      "outputs": [
        {
          "output_type": "execute_result",
          "data": {
            "text/html": [
              "<div>\n",
              "<style scoped>\n",
              "    .dataframe tbody tr th:only-of-type {\n",
              "        vertical-align: middle;\n",
              "    }\n",
              "\n",
              "    .dataframe tbody tr th {\n",
              "        vertical-align: top;\n",
              "    }\n",
              "\n",
              "    .dataframe thead th {\n",
              "        text-align: right;\n",
              "    }\n",
              "</style>\n",
              "<table border=\"1\" class=\"dataframe\">\n",
              "  <thead>\n",
              "    <tr style=\"text-align: right;\">\n",
              "      <th></th>\n",
              "      <th>age</th>\n",
              "      <th>None,</th>\n",
              "      <th>Asthma or chronic lung disease,</th>\n",
              "      <th>Disease or conditions that make it harder to cough,</th>\n",
              "      <th>Diabetes with complications,</th>\n",
              "      <th>Pregnancy,</th>\n",
              "      <th>Congestive heart failure,</th>\n",
              "      <th>Extreme obesity</th>\n",
              "      <th>Fever,</th>\n",
              "      <th>chills,</th>\n",
              "      <th>or sweating,</th>\n",
              "      <th>Shortness of breath</th>\n",
              "      <th>Loss of taste,</th>\n",
              "      <th>Loss of smell,</th>\n",
              "      <th>New or worsening cough,</th>\n",
              "      <th>Sore throat,</th>\n",
              "      <th>Body aches,</th>\n",
              "      <th>Nothing</th>\n",
              "    </tr>\n",
              "  </thead>\n",
              "  <tbody>\n",
              "    <tr>\n",
              "      <th>count</th>\n",
              "      <td>124.000000</td>\n",
              "      <td>124.000000</td>\n",
              "      <td>124.000000</td>\n",
              "      <td>124.000000</td>\n",
              "      <td>124.000000</td>\n",
              "      <td>124.000000</td>\n",
              "      <td>124.000000</td>\n",
              "      <td>124.0</td>\n",
              "      <td>124.000000</td>\n",
              "      <td>124.000000</td>\n",
              "      <td>124.000000</td>\n",
              "      <td>124.000000</td>\n",
              "      <td>124.000000</td>\n",
              "      <td>124.000000</td>\n",
              "      <td>124.000000</td>\n",
              "      <td>124.000000</td>\n",
              "      <td>124.000000</td>\n",
              "      <td>124.000000</td>\n",
              "    </tr>\n",
              "    <tr>\n",
              "      <th>mean</th>\n",
              "      <td>37.717742</td>\n",
              "      <td>0.677419</td>\n",
              "      <td>0.080645</td>\n",
              "      <td>0.064516</td>\n",
              "      <td>0.104839</td>\n",
              "      <td>0.016129</td>\n",
              "      <td>0.040323</td>\n",
              "      <td>0.0</td>\n",
              "      <td>0.266129</td>\n",
              "      <td>0.266129</td>\n",
              "      <td>0.258065</td>\n",
              "      <td>0.314516</td>\n",
              "      <td>0.177419</td>\n",
              "      <td>0.080645</td>\n",
              "      <td>0.379032</td>\n",
              "      <td>0.298387</td>\n",
              "      <td>0.112903</td>\n",
              "      <td>0.379032</td>\n",
              "    </tr>\n",
              "    <tr>\n",
              "      <th>std</th>\n",
              "      <td>14.336014</td>\n",
              "      <td>0.469360</td>\n",
              "      <td>0.273394</td>\n",
              "      <td>0.246667</td>\n",
              "      <td>0.307588</td>\n",
              "      <td>0.126483</td>\n",
              "      <td>0.197513</td>\n",
              "      <td>0.0</td>\n",
              "      <td>0.443725</td>\n",
              "      <td>0.443725</td>\n",
              "      <td>0.439345</td>\n",
              "      <td>0.466207</td>\n",
              "      <td>0.383573</td>\n",
              "      <td>0.273394</td>\n",
              "      <td>0.487114</td>\n",
              "      <td>0.459406</td>\n",
              "      <td>0.317758</td>\n",
              "      <td>0.487114</td>\n",
              "    </tr>\n",
              "    <tr>\n",
              "      <th>min</th>\n",
              "      <td>6.000000</td>\n",
              "      <td>0.000000</td>\n",
              "      <td>0.000000</td>\n",
              "      <td>0.000000</td>\n",
              "      <td>0.000000</td>\n",
              "      <td>0.000000</td>\n",
              "      <td>0.000000</td>\n",
              "      <td>0.0</td>\n",
              "      <td>0.000000</td>\n",
              "      <td>0.000000</td>\n",
              "      <td>0.000000</td>\n",
              "      <td>0.000000</td>\n",
              "      <td>0.000000</td>\n",
              "      <td>0.000000</td>\n",
              "      <td>0.000000</td>\n",
              "      <td>0.000000</td>\n",
              "      <td>0.000000</td>\n",
              "      <td>0.000000</td>\n",
              "    </tr>\n",
              "    <tr>\n",
              "      <th>25%</th>\n",
              "      <td>25.000000</td>\n",
              "      <td>0.000000</td>\n",
              "      <td>0.000000</td>\n",
              "      <td>0.000000</td>\n",
              "      <td>0.000000</td>\n",
              "      <td>0.000000</td>\n",
              "      <td>0.000000</td>\n",
              "      <td>0.0</td>\n",
              "      <td>0.000000</td>\n",
              "      <td>0.000000</td>\n",
              "      <td>0.000000</td>\n",
              "      <td>0.000000</td>\n",
              "      <td>0.000000</td>\n",
              "      <td>0.000000</td>\n",
              "      <td>0.000000</td>\n",
              "      <td>0.000000</td>\n",
              "      <td>0.000000</td>\n",
              "      <td>0.000000</td>\n",
              "    </tr>\n",
              "    <tr>\n",
              "      <th>50%</th>\n",
              "      <td>36.500000</td>\n",
              "      <td>1.000000</td>\n",
              "      <td>0.000000</td>\n",
              "      <td>0.000000</td>\n",
              "      <td>0.000000</td>\n",
              "      <td>0.000000</td>\n",
              "      <td>0.000000</td>\n",
              "      <td>0.0</td>\n",
              "      <td>0.000000</td>\n",
              "      <td>0.000000</td>\n",
              "      <td>0.000000</td>\n",
              "      <td>0.000000</td>\n",
              "      <td>0.000000</td>\n",
              "      <td>0.000000</td>\n",
              "      <td>0.000000</td>\n",
              "      <td>0.000000</td>\n",
              "      <td>0.000000</td>\n",
              "      <td>0.000000</td>\n",
              "    </tr>\n",
              "    <tr>\n",
              "      <th>75%</th>\n",
              "      <td>50.000000</td>\n",
              "      <td>1.000000</td>\n",
              "      <td>0.000000</td>\n",
              "      <td>0.000000</td>\n",
              "      <td>0.000000</td>\n",
              "      <td>0.000000</td>\n",
              "      <td>0.000000</td>\n",
              "      <td>0.0</td>\n",
              "      <td>1.000000</td>\n",
              "      <td>1.000000</td>\n",
              "      <td>1.000000</td>\n",
              "      <td>1.000000</td>\n",
              "      <td>0.000000</td>\n",
              "      <td>0.000000</td>\n",
              "      <td>1.000000</td>\n",
              "      <td>1.000000</td>\n",
              "      <td>0.000000</td>\n",
              "      <td>1.000000</td>\n",
              "    </tr>\n",
              "    <tr>\n",
              "      <th>max</th>\n",
              "      <td>67.000000</td>\n",
              "      <td>1.000000</td>\n",
              "      <td>1.000000</td>\n",
              "      <td>1.000000</td>\n",
              "      <td>1.000000</td>\n",
              "      <td>1.000000</td>\n",
              "      <td>1.000000</td>\n",
              "      <td>0.0</td>\n",
              "      <td>1.000000</td>\n",
              "      <td>1.000000</td>\n",
              "      <td>1.000000</td>\n",
              "      <td>1.000000</td>\n",
              "      <td>1.000000</td>\n",
              "      <td>1.000000</td>\n",
              "      <td>1.000000</td>\n",
              "      <td>1.000000</td>\n",
              "      <td>1.000000</td>\n",
              "      <td>1.000000</td>\n",
              "    </tr>\n",
              "  </tbody>\n",
              "</table>\n",
              "</div>"
            ],
            "text/plain": [
              "              age       None,  ...  Body aches,     Nothing\n",
              "count  124.000000  124.000000  ...   124.000000  124.000000\n",
              "mean    37.717742    0.677419  ...     0.112903    0.379032\n",
              "std     14.336014    0.469360  ...     0.317758    0.487114\n",
              "min      6.000000    0.000000  ...     0.000000    0.000000\n",
              "25%     25.000000    0.000000  ...     0.000000    0.000000\n",
              "50%     36.500000    1.000000  ...     0.000000    0.000000\n",
              "75%     50.000000    1.000000  ...     0.000000    1.000000\n",
              "max     67.000000    1.000000  ...     1.000000    1.000000\n",
              "\n",
              "[8 rows x 18 columns]"
            ]
          },
          "metadata": {
            "tags": []
          },
          "execution_count": 58
        }
      ]
    },
    {
      "cell_type": "code",
      "metadata": {
        "id": "dkMMX6scWCVh",
        "colab_type": "code",
        "colab": {
          "base_uri": "https://localhost:8080/",
          "height": 398
        },
        "outputId": "df6965a1-1796-4abd-99fb-00eae9f85995"
      },
      "source": [
        "df4.dtypes"
      ],
      "execution_count": 59,
      "outputs": [
        {
          "output_type": "execute_result",
          "data": {
            "text/plain": [
              "corona_test                                            object\n",
              "age                                                     int64\n",
              "gender                                                 object\n",
              "smoker                                                 object\n",
              "None,                                                   int64\n",
              "Asthma or chronic lung disease,                         int64\n",
              "Disease or conditions that make it harder to cough,     int64\n",
              "Diabetes with complications,                            int64\n",
              "Pregnancy,                                              int64\n",
              "Congestive heart failure,                               int64\n",
              "Extreme obesity                                         int64\n",
              "Fever,                                                  int64\n",
              "chills,                                                 int64\n",
              "or sweating,                                            int64\n",
              "Shortness of breath                                     int64\n",
              "Loss of taste,                                          int64\n",
              "Loss of smell,                                          int64\n",
              "New or worsening cough,                                 int64\n",
              "Sore throat,                                            int64\n",
              "Body aches,                                             int64\n",
              "Nothing                                                 int64\n",
              "dtype: object"
            ]
          },
          "metadata": {
            "tags": []
          },
          "execution_count": 59
        }
      ]
    },
    {
      "cell_type": "code",
      "metadata": {
        "id": "rfbcbQi4WCVl",
        "colab_type": "code",
        "colab": {
          "base_uri": "https://localhost:8080/",
          "height": 398
        },
        "outputId": "24f6b568-42b4-44ba-d268-53d920b56f14"
      },
      "source": [
        "# for checking total no of nan values in dataset.\n",
        "df4.isna().sum()"
      ],
      "execution_count": 52,
      "outputs": [
        {
          "output_type": "execute_result",
          "data": {
            "text/plain": [
              "corona_test                                            0\n",
              "age                                                    0\n",
              "gender                                                 0\n",
              "smoker                                                 0\n",
              "None,                                                  0\n",
              "Asthma or chronic lung disease,                        0\n",
              "Disease or conditions that make it harder to cough,    0\n",
              "Diabetes with complications,                           0\n",
              "Pregnancy,                                             0\n",
              "Congestive heart failure,                              0\n",
              "Extreme obesity                                        0\n",
              "Fever,                                                 0\n",
              "chills,                                                0\n",
              "or sweating,                                           0\n",
              "Shortness of breath                                    0\n",
              "Loss of taste,                                         0\n",
              "Loss of smell,                                         0\n",
              "New or worsening cough,                                0\n",
              "Sore throat,                                           0\n",
              "Body aches,                                            0\n",
              "Nothing                                                0\n",
              "dtype: int64"
            ]
          },
          "metadata": {
            "tags": []
          },
          "execution_count": 52
        }
      ]
    },
    {
      "cell_type": "markdown",
      "metadata": {
        "id": "D2H5bbgpWCVp",
        "colab_type": "text"
      },
      "source": [
        "### For checking class distribution"
      ]
    },
    {
      "cell_type": "code",
      "metadata": {
        "id": "s4BcTQu7WCVs",
        "colab_type": "code",
        "colab": {
          "base_uri": "https://localhost:8080/",
          "height": 332
        },
        "outputId": "446fece6-c06c-4017-c50c-0646f1f6c770"
      },
      "source": [
        "ax = sns.countplot(x = \"corona_test\", data = df4)\n",
        "print(df4[\"corona_test\"].value_counts())\n",
        "\n",
        "pos = df4[\"corona_test\"].value_counts()[0]\n",
        "neg = df4[\"corona_test\"].value_counts()[1]"
      ],
      "execution_count": 64,
      "outputs": [
        {
          "output_type": "stream",
          "text": [
            "negative    97\n",
            "positive    27\n",
            "Name: corona_test, dtype: int64\n"
          ],
          "name": "stdout"
        },
        {
          "output_type": "display_data",
          "data": {
            "image/png": "[encoded data removed]",
            "text/plain": [
              "<Figure size 432x288 with 1 Axes>"
            ]
          },
          "metadata": {
            "tags": [],
            "needs_background": "light"
          }
        }
      ]
    },
    {
      "cell_type": "markdown",
      "metadata": {
        "id": "ouMr2c1BWCV3",
        "colab_type": "text"
      },
      "source": [
        "### For checking contribution from each class in terms of percentage. "
      ]
    },
    {
      "cell_type": "code",
      "metadata": {
        "id": "sUCKQyL6WCV4",
        "colab_type": "code",
        "colab": {
          "base_uri": "https://localhost:8080/",
          "height": 51
        },
        "outputId": "c1b81d5d-add7-4862-9790-90bf300c288c"
      },
      "source": [
        "neg_per = 100 *(pos / float(df4.shape[0]))\n",
        "pos_per = 100 *(neg / float(df4.shape[0]))\n",
        "print(neg_per)\n",
        "print(pos_per)"
      ],
      "execution_count": 66,
      "outputs": [
        {
          "output_type": "stream",
          "text": [
            "78.2258064516129\n",
            "21.774193548387096\n"
          ],
          "name": "stdout"
        }
      ]
    },
    {
      "cell_type": "code",
      "metadata": {
        "id": "IjS_MIbRWCV8",
        "colab_type": "code",
        "colab": {
          "base_uri": "https://localhost:8080/",
          "height": 225
        },
        "outputId": "f7e61909-3492-4971-fe0c-411c3a6bfc82"
      },
      "source": [
        "# For checking distribution of values in each column or in each feature.. \n",
        "\n",
        "unique = df4[\"age\"].value_counts()\n",
        "print(\"Number of unique age values :\", unique.shape[0])\n",
        "# the top 10 ages that were repeated again and again\n",
        "print(unique.head(10))"
      ],
      "execution_count": 68,
      "outputs": [
        {
          "output_type": "stream",
          "text": [
            "Number of unique age values : 48\n",
            "20    6\n",
            "50    6\n",
            "46    5\n",
            "29    5\n",
            "30    5\n",
            "22    5\n",
            "40    5\n",
            "24    5\n",
            "17    4\n",
            "53    4\n",
            "Name: age, dtype: int64\n"
          ],
          "name": "stdout"
        }
      ]
    },
    {
      "cell_type": "code",
      "metadata": {
        "id": "-WFlewNAWCWB",
        "colab_type": "code",
        "colab": {
          "base_uri": "https://localhost:8080/",
          "height": 103
        },
        "outputId": "81a15497-46a7-4fef-e80b-883303241dea"
      },
      "source": [
        "# For checking distribution of values in each column or in each feature..  (checking distribution of age)\n",
        "\n",
        "unique = df4[\"gender\"].value_counts()\n",
        "print(\"Number of unique age values :\", unique.shape[0])\n",
        "# the top 10 ages that were repeated again and again\n",
        "print(unique.head(10))"
      ],
      "execution_count": 69,
      "outputs": [
        {
          "output_type": "stream",
          "text": [
            "Number of unique age values : 3\n",
            "male           81\n",
            "female         42\n",
            "TRANSGENDER     1\n",
            "Name: gender, dtype: int64\n"
          ],
          "name": "stdout"
        }
      ]
    },
    {
      "cell_type": "code",
      "metadata": {
        "id": "E2R-MQcBWCWE",
        "colab_type": "code",
        "colab": {
          "base_uri": "https://localhost:8080/",
          "height": 86
        },
        "outputId": "a5c9f3da-1a70-4dc9-f8b9-50daf2bfbb9a"
      },
      "source": [
        "# For checking distribution of values in each column or in each feature..  (checking distribution of )\n",
        "unique = df4[\"smoker\"].value_counts()\n",
        "print(\"Number of unique age values :\", unique.shape[0])\n",
        "# the top 10 ages that were repeated again and again\n",
        "print(unique.head(10))"
      ],
      "execution_count": 71,
      "outputs": [
        {
          "output_type": "stream",
          "text": [
            "Number of unique age values : 2\n",
            "no     111\n",
            "yes     13\n",
            "Name: smoker, dtype: int64\n"
          ],
          "name": "stdout"
        }
      ]
    },
    {
      "cell_type": "code",
      "metadata": {
        "id": "i24PS5pYWCWK",
        "colab_type": "code",
        "colab": {}
      },
      "source": [
        "# In order to convert textural data into a numerical number for machine learning, we will use One hot encoding. \n",
        "# in pandas we have get_dummies function to convert textual data into seperate features like one hot encoder"
      ],
      "execution_count": 0,
      "outputs": []
    },
    {
      "cell_type": "code",
      "metadata": {
        "id": "CxZvtZHZWCWO",
        "colab_type": "code",
        "colab": {}
      },
      "source": [
        "gender = pd.get_dummies(df4['gender'])\n",
        "smoker = pd.get_dummies(df4['smoker'], prefix='smoker')"
      ],
      "execution_count": 0,
      "outputs": []
    },
    {
      "cell_type": "code",
      "metadata": {
        "id": "lK7xCdnOWCWS",
        "colab_type": "code",
        "colab": {
          "base_uri": "https://localhost:8080/",
          "height": 504
        },
        "outputId": "c65dbb09-400f-40df-c0bd-cc12bca7c7b0"
      },
      "source": [
        "# so here we are merging dataframes together\n",
        "df5 = pd.concat([gender, smoker, df4], axis=1, ignore_index=False)\n",
        "df5 = df5.drop(columns = [\"gender\", \"smoker\"])\n",
        "df5 = df5.replace(to_replace =\"negative\", \n",
        "                 value =0)\n",
        "df5 = df5.replace(to_replace =\"positive\", \n",
        "                 value =1)\n",
        "# df5[df5[\"corona_test\"] == \"negative\"] = 0\n",
        "# df5[df5[\"corona_test\"] == \"positive\"] = 1\n",
        "\n",
        "target_labels = df5[\"corona_test\"] \n",
        "df5 = df5.drop(columns = [\"corona_test\"])\n",
        "df5"
      ],
      "execution_count": 75,
      "outputs": [
        {
          "output_type": "execute_result",
          "data": {
            "text/html": [
              "<div>\n",
              "<style scoped>\n",
              "    .dataframe tbody tr th:only-of-type {\n",
              "        vertical-align: middle;\n",
              "    }\n",
              "\n",
              "    .dataframe tbody tr th {\n",
              "        vertical-align: top;\n",
              "    }\n",
              "\n",
              "    .dataframe thead th {\n",
              "        text-align: right;\n",
              "    }\n",
              "</style>\n",
              "<table border=\"1\" class=\"dataframe\">\n",
              "  <thead>\n",
              "    <tr style=\"text-align: right;\">\n",
              "      <th></th>\n",
              "      <th>TRANSGENDER</th>\n",
              "      <th>female</th>\n",
              "      <th>male</th>\n",
              "      <th>smoker_no</th>\n",
              "      <th>smoker_yes</th>\n",
              "      <th>age</th>\n",
              "      <th>None,</th>\n",
              "      <th>Asthma or chronic lung disease,</th>\n",
              "      <th>Disease or conditions that make it harder to cough,</th>\n",
              "      <th>Diabetes with complications,</th>\n",
              "      <th>Pregnancy,</th>\n",
              "      <th>Congestive heart failure,</th>\n",
              "      <th>Extreme obesity</th>\n",
              "      <th>Fever,</th>\n",
              "      <th>chills,</th>\n",
              "      <th>or sweating,</th>\n",
              "      <th>Shortness of breath</th>\n",
              "      <th>Loss of taste,</th>\n",
              "      <th>Loss of smell,</th>\n",
              "      <th>New or worsening cough,</th>\n",
              "      <th>Sore throat,</th>\n",
              "      <th>Body aches,</th>\n",
              "      <th>Nothing</th>\n",
              "    </tr>\n",
              "  </thead>\n",
              "  <tbody>\n",
              "    <tr>\n",
              "      <th>0</th>\n",
              "      <td>0</td>\n",
              "      <td>0</td>\n",
              "      <td>1</td>\n",
              "      <td>1</td>\n",
              "      <td>0</td>\n",
              "      <td>32</td>\n",
              "      <td>1</td>\n",
              "      <td>0</td>\n",
              "      <td>0</td>\n",
              "      <td>0</td>\n",
              "      <td>0</td>\n",
              "      <td>0</td>\n",
              "      <td>0</td>\n",
              "      <td>1</td>\n",
              "      <td>1</td>\n",
              "      <td>1</td>\n",
              "      <td>0</td>\n",
              "      <td>0</td>\n",
              "      <td>0</td>\n",
              "      <td>0</td>\n",
              "      <td>0</td>\n",
              "      <td>0</td>\n",
              "      <td>0</td>\n",
              "    </tr>\n",
              "    <tr>\n",
              "      <th>1</th>\n",
              "      <td>0</td>\n",
              "      <td>0</td>\n",
              "      <td>1</td>\n",
              "      <td>1</td>\n",
              "      <td>0</td>\n",
              "      <td>31</td>\n",
              "      <td>1</td>\n",
              "      <td>0</td>\n",
              "      <td>0</td>\n",
              "      <td>0</td>\n",
              "      <td>0</td>\n",
              "      <td>0</td>\n",
              "      <td>0</td>\n",
              "      <td>1</td>\n",
              "      <td>1</td>\n",
              "      <td>1</td>\n",
              "      <td>1</td>\n",
              "      <td>1</td>\n",
              "      <td>1</td>\n",
              "      <td>0</td>\n",
              "      <td>0</td>\n",
              "      <td>0</td>\n",
              "      <td>0</td>\n",
              "    </tr>\n",
              "    <tr>\n",
              "      <th>2</th>\n",
              "      <td>0</td>\n",
              "      <td>1</td>\n",
              "      <td>0</td>\n",
              "      <td>1</td>\n",
              "      <td>0</td>\n",
              "      <td>21</td>\n",
              "      <td>1</td>\n",
              "      <td>0</td>\n",
              "      <td>0</td>\n",
              "      <td>0</td>\n",
              "      <td>0</td>\n",
              "      <td>0</td>\n",
              "      <td>0</td>\n",
              "      <td>0</td>\n",
              "      <td>0</td>\n",
              "      <td>0</td>\n",
              "      <td>0</td>\n",
              "      <td>0</td>\n",
              "      <td>0</td>\n",
              "      <td>1</td>\n",
              "      <td>0</td>\n",
              "      <td>0</td>\n",
              "      <td>0</td>\n",
              "    </tr>\n",
              "    <tr>\n",
              "      <th>3</th>\n",
              "      <td>0</td>\n",
              "      <td>0</td>\n",
              "      <td>1</td>\n",
              "      <td>1</td>\n",
              "      <td>0</td>\n",
              "      <td>33</td>\n",
              "      <td>0</td>\n",
              "      <td>1</td>\n",
              "      <td>0</td>\n",
              "      <td>0</td>\n",
              "      <td>0</td>\n",
              "      <td>0</td>\n",
              "      <td>0</td>\n",
              "      <td>1</td>\n",
              "      <td>1</td>\n",
              "      <td>1</td>\n",
              "      <td>1</td>\n",
              "      <td>1</td>\n",
              "      <td>1</td>\n",
              "      <td>1</td>\n",
              "      <td>0</td>\n",
              "      <td>0</td>\n",
              "      <td>0</td>\n",
              "    </tr>\n",
              "    <tr>\n",
              "      <th>4</th>\n",
              "      <td>0</td>\n",
              "      <td>0</td>\n",
              "      <td>1</td>\n",
              "      <td>1</td>\n",
              "      <td>0</td>\n",
              "      <td>27</td>\n",
              "      <td>0</td>\n",
              "      <td>0</td>\n",
              "      <td>1</td>\n",
              "      <td>0</td>\n",
              "      <td>0</td>\n",
              "      <td>0</td>\n",
              "      <td>0</td>\n",
              "      <td>0</td>\n",
              "      <td>0</td>\n",
              "      <td>0</td>\n",
              "      <td>0</td>\n",
              "      <td>0</td>\n",
              "      <td>0</td>\n",
              "      <td>1</td>\n",
              "      <td>0</td>\n",
              "      <td>0</td>\n",
              "      <td>0</td>\n",
              "    </tr>\n",
              "    <tr>\n",
              "      <th>...</th>\n",
              "      <td>...</td>\n",
              "      <td>...</td>\n",
              "      <td>...</td>\n",
              "      <td>...</td>\n",
              "      <td>...</td>\n",
              "      <td>...</td>\n",
              "      <td>...</td>\n",
              "      <td>...</td>\n",
              "      <td>...</td>\n",
              "      <td>...</td>\n",
              "      <td>...</td>\n",
              "      <td>...</td>\n",
              "      <td>...</td>\n",
              "      <td>...</td>\n",
              "      <td>...</td>\n",
              "      <td>...</td>\n",
              "      <td>...</td>\n",
              "      <td>...</td>\n",
              "      <td>...</td>\n",
              "      <td>...</td>\n",
              "      <td>...</td>\n",
              "      <td>...</td>\n",
              "      <td>...</td>\n",
              "    </tr>\n",
              "    <tr>\n",
              "      <th>119</th>\n",
              "      <td>0</td>\n",
              "      <td>1</td>\n",
              "      <td>0</td>\n",
              "      <td>0</td>\n",
              "      <td>1</td>\n",
              "      <td>25</td>\n",
              "      <td>0</td>\n",
              "      <td>0</td>\n",
              "      <td>0</td>\n",
              "      <td>0</td>\n",
              "      <td>0</td>\n",
              "      <td>0</td>\n",
              "      <td>0</td>\n",
              "      <td>1</td>\n",
              "      <td>1</td>\n",
              "      <td>0</td>\n",
              "      <td>0</td>\n",
              "      <td>0</td>\n",
              "      <td>0</td>\n",
              "      <td>0</td>\n",
              "      <td>0</td>\n",
              "      <td>0</td>\n",
              "      <td>0</td>\n",
              "    </tr>\n",
              "    <tr>\n",
              "      <th>120</th>\n",
              "      <td>0</td>\n",
              "      <td>0</td>\n",
              "      <td>1</td>\n",
              "      <td>1</td>\n",
              "      <td>0</td>\n",
              "      <td>30</td>\n",
              "      <td>0</td>\n",
              "      <td>0</td>\n",
              "      <td>0</td>\n",
              "      <td>0</td>\n",
              "      <td>0</td>\n",
              "      <td>0</td>\n",
              "      <td>0</td>\n",
              "      <td>1</td>\n",
              "      <td>1</td>\n",
              "      <td>1</td>\n",
              "      <td>1</td>\n",
              "      <td>0</td>\n",
              "      <td>0</td>\n",
              "      <td>1</td>\n",
              "      <td>0</td>\n",
              "      <td>0</td>\n",
              "      <td>0</td>\n",
              "    </tr>\n",
              "    <tr>\n",
              "      <th>121</th>\n",
              "      <td>0</td>\n",
              "      <td>0</td>\n",
              "      <td>1</td>\n",
              "      <td>1</td>\n",
              "      <td>0</td>\n",
              "      <td>36</td>\n",
              "      <td>0</td>\n",
              "      <td>0</td>\n",
              "      <td>0</td>\n",
              "      <td>0</td>\n",
              "      <td>0</td>\n",
              "      <td>0</td>\n",
              "      <td>0</td>\n",
              "      <td>0</td>\n",
              "      <td>0</td>\n",
              "      <td>0</td>\n",
              "      <td>0</td>\n",
              "      <td>0</td>\n",
              "      <td>0</td>\n",
              "      <td>0</td>\n",
              "      <td>0</td>\n",
              "      <td>0</td>\n",
              "      <td>0</td>\n",
              "    </tr>\n",
              "    <tr>\n",
              "      <th>122</th>\n",
              "      <td>0</td>\n",
              "      <td>0</td>\n",
              "      <td>1</td>\n",
              "      <td>0</td>\n",
              "      <td>1</td>\n",
              "      <td>36</td>\n",
              "      <td>0</td>\n",
              "      <td>0</td>\n",
              "      <td>0</td>\n",
              "      <td>0</td>\n",
              "      <td>0</td>\n",
              "      <td>0</td>\n",
              "      <td>0</td>\n",
              "      <td>1</td>\n",
              "      <td>1</td>\n",
              "      <td>1</td>\n",
              "      <td>1</td>\n",
              "      <td>1</td>\n",
              "      <td>0</td>\n",
              "      <td>1</td>\n",
              "      <td>1</td>\n",
              "      <td>1</td>\n",
              "      <td>0</td>\n",
              "    </tr>\n",
              "    <tr>\n",
              "      <th>123</th>\n",
              "      <td>0</td>\n",
              "      <td>0</td>\n",
              "      <td>1</td>\n",
              "      <td>1</td>\n",
              "      <td>0</td>\n",
              "      <td>48</td>\n",
              "      <td>0</td>\n",
              "      <td>0</td>\n",
              "      <td>0</td>\n",
              "      <td>0</td>\n",
              "      <td>0</td>\n",
              "      <td>0</td>\n",
              "      <td>0</td>\n",
              "      <td>1</td>\n",
              "      <td>1</td>\n",
              "      <td>1</td>\n",
              "      <td>0</td>\n",
              "      <td>0</td>\n",
              "      <td>0</td>\n",
              "      <td>0</td>\n",
              "      <td>1</td>\n",
              "      <td>0</td>\n",
              "      <td>0</td>\n",
              "    </tr>\n",
              "  </tbody>\n",
              "</table>\n",
              "<p>124 rows × 23 columns</p>\n",
              "</div>"
            ],
            "text/plain": [
              "     TRANSGENDER  female  male  ...  Sore throat,  Body aches,  Nothing\n",
              "0              0       0     1  ...             0            0        0\n",
              "1              0       0     1  ...             0            0        0\n",
              "2              0       1     0  ...             0            0        0\n",
              "3              0       0     1  ...             0            0        0\n",
              "4              0       0     1  ...             0            0        0\n",
              "..           ...     ...   ...  ...           ...          ...      ...\n",
              "119            0       1     0  ...             0            0        0\n",
              "120            0       0     1  ...             0            0        0\n",
              "121            0       0     1  ...             0            0        0\n",
              "122            0       0     1  ...             1            1        0\n",
              "123            0       0     1  ...             1            0        0\n",
              "\n",
              "[124 rows x 23 columns]"
            ]
          },
          "metadata": {
            "tags": []
          },
          "execution_count": 75
        }
      ]
    },
    {
      "cell_type": "code",
      "metadata": {
        "id": "pUgqRr4IWCWX",
        "colab_type": "code",
        "colab": {}
      },
      "source": [
        "# Let's try SMOTE for balancing data \n",
        "# but we will just apply smote on training data\n",
        "# blc testing data will remain original, no duplication in testing data. \n",
        "# so spliting the dataset"
      ],
      "execution_count": 0,
      "outputs": []
    },
    {
      "cell_type": "code",
      "metadata": {
        "id": "tZYanonIWCWa",
        "colab_type": "code",
        "colab": {}
      },
      "source": [
        "X_train, X_test, y_train, y_test = train_test_split(df5, target_labels, test_size=0.30, random_state=20, shuffle=True)"
      ],
      "execution_count": 0,
      "outputs": []
    },
    {
      "cell_type": "markdown",
      "metadata": {
        "id": "HEvcTDp1WCWd",
        "colab_type": "text"
      },
      "source": [
        "### Applying SMOTE"
      ]
    },
    {
      "cell_type": "code",
      "metadata": {
        "id": "02lHxo2IWCWe",
        "colab_type": "code",
        "colab": {
          "base_uri": "https://localhost:8080/",
          "height": 175
        },
        "outputId": "4d3328c5-c5ca-48c0-ef7a-6cac2334fc2e"
      },
      "source": [
        "from imblearn.over_sampling import SMOTE\n",
        "from collections import Counter\n",
        "\n",
        "smote = SMOTE(random_state=0)\n",
        "\n",
        "X_train_smote , y_train_smote = smote.fit_sample(X_train.astype(\"int\"), y_train.astype(\"int\"))\n",
        "\n",
        "print(\"Before Smote: \", Counter(y_train))\n",
        "print(\"After Smote: \", Counter(y_train_smote))\n",
        "\n",
        "# so as you can say from the results that before smoting we had only 20 samples from class 1\n",
        "# and we had 74 samples from class 0 so we performed smote to make them equal. "
      ],
      "execution_count": 78,
      "outputs": [
        {
          "output_type": "stream",
          "text": [
            "Before Smote:  Counter({0: 68, 1: 18})\n",
            "After Smote:  Counter({1: 68, 0: 68})\n"
          ],
          "name": "stdout"
        },
        {
          "output_type": "stream",
          "text": [
            "/usr/local/lib/python3.6/dist-packages/sklearn/externals/six.py:31: FutureWarning: The module is deprecated in version 0.21 and will be removed in version 0.23 since we've dropped support for Python 2.7. Please rely on the official version of six (https://pypi.org/project/six/).\n",
            "  \"(https://pypi.org/project/six/).\", FutureWarning)\n",
            "/usr/local/lib/python3.6/dist-packages/sklearn/utils/deprecation.py:144: FutureWarning: The sklearn.neighbors.base module is  deprecated in version 0.22 and will be removed in version 0.24. The corresponding classes / functions should instead be imported from sklearn.neighbors. Anything that cannot be imported from sklearn.neighbors is now part of the private API.\n",
            "  warnings.warn(message, FutureWarning)\n",
            "/usr/local/lib/python3.6/dist-packages/sklearn/utils/deprecation.py:87: FutureWarning: Function safe_indexing is deprecated; safe_indexing is deprecated in version 0.22 and will be removed in version 0.24.\n",
            "  warnings.warn(msg, category=FutureWarning)\n"
          ],
          "name": "stderr"
        }
      ]
    },
    {
      "cell_type": "markdown",
      "metadata": {
        "id": "HPHGL9gmbA_e",
        "colab_type": "text"
      },
      "source": [
        "# Now building the model"
      ]
    },
    {
      "cell_type": "code",
      "metadata": {
        "id": "kA0MeOlZWCWk",
        "colab_type": "code",
        "colab": {}
      },
      "source": [
        "from sklearn.neighbors import KNeighborsClassifier\n",
        "from sklearn.metrics import accuracy_score\n",
        "from sklearn import preprocessing\n",
        "from sklearn.metrics import roc_curve\n",
        "import matplotlib.pyplot as plt\n",
        "from sklearn.metrics import classification_report\n",
        "\n",
        "# Normalising train and test data\n",
        "min_max_scaler = preprocessing.MinMaxScaler()\n",
        "X_train_scaled = min_max_scaler.fit_transform(X_train_smote)\n",
        "X_test_scaled = min_max_scaler.fit_transform(X_test)\n",
        "\n",
        "model = KNeighborsClassifier(n_neighbors=10)\n",
        "model.fit(X_train_scaled, y_train_smote)\n",
        "\n",
        "y_pred = model.predict(X_test_scaled)"
      ],
      "execution_count": 0,
      "outputs": []
    },
    {
      "cell_type": "code",
      "metadata": {
        "id": "ps5IOVWqWCWn",
        "colab_type": "code",
        "colab": {
          "base_uri": "https://localhost:8080/",
          "height": 314
        },
        "outputId": "f1059bc2-5eb4-4fc0-a5ac-583b17cff764"
      },
      "source": [
        "y_test = np.array(y_test).astype(\"int\")\n",
        "print(\"Testing accuracy is: \", accuracy_score(y_test, y_pred))\n",
        "print(classification_report(y_test, y_pred))\n",
        "pd.crosstab(y_test, y_pred)"
      ],
      "execution_count": 87,
      "outputs": [
        {
          "output_type": "stream",
          "text": [
            "Testing accuracy is:  0.6052631578947368\n",
            "              precision    recall  f1-score   support\n",
            "\n",
            "           0       0.77      0.69      0.73        29\n",
            "           1       0.25      0.33      0.29         9\n",
            "\n",
            "    accuracy                           0.61        38\n",
            "   macro avg       0.51      0.51      0.51        38\n",
            "weighted avg       0.65      0.61      0.62        38\n",
            "\n"
          ],
          "name": "stdout"
        },
        {
          "output_type": "execute_result",
          "data": {
            "text/html": [
              "<div>\n",
              "<style scoped>\n",
              "    .dataframe tbody tr th:only-of-type {\n",
              "        vertical-align: middle;\n",
              "    }\n",
              "\n",
              "    .dataframe tbody tr th {\n",
              "        vertical-align: top;\n",
              "    }\n",
              "\n",
              "    .dataframe thead th {\n",
              "        text-align: right;\n",
              "    }\n",
              "</style>\n",
              "<table border=\"1\" class=\"dataframe\">\n",
              "  <thead>\n",
              "    <tr style=\"text-align: right;\">\n",
              "      <th>col_0</th>\n",
              "      <th>0</th>\n",
              "      <th>1</th>\n",
              "    </tr>\n",
              "    <tr>\n",
              "      <th>row_0</th>\n",
              "      <th></th>\n",
              "      <th></th>\n",
              "    </tr>\n",
              "  </thead>\n",
              "  <tbody>\n",
              "    <tr>\n",
              "      <th>0</th>\n",
              "      <td>20</td>\n",
              "      <td>9</td>\n",
              "    </tr>\n",
              "    <tr>\n",
              "      <th>1</th>\n",
              "      <td>6</td>\n",
              "      <td>3</td>\n",
              "    </tr>\n",
              "  </tbody>\n",
              "</table>\n",
              "</div>"
            ],
            "text/plain": [
              "col_0   0  1\n",
              "row_0       \n",
              "0      20  9\n",
              "1       6  3"
            ]
          },
          "metadata": {
            "tags": []
          },
          "execution_count": 87
        }
      ]
    },
    {
      "cell_type": "code",
      "metadata": {
        "id": "xUV-_aZqWCWq",
        "colab_type": "code",
        "colab": {
          "base_uri": "https://localhost:8080/",
          "height": 713
        },
        "outputId": "77b1a665-0eab-44a7-9086-715ca2bfb93d"
      },
      "source": [
        "# Probabilities for each class\n",
        "rf_probs = model.predict_proba(X_test_scaled)[:, 1]\n",
        "\n",
        "# Calculate roc auc\n",
        "roc_value = roc_auc_score(y_test, rf_probs)\n",
        "print()\n",
        "print(\"ROC curve value is: \", roc_value)\n",
        "\n",
        "# Plotting confusion matrix\n",
        "\n",
        "def plot_confusion_matrix(cm, classes,\n",
        "                          normalize=False,\n",
        "                          title='Confusion matrix',\n",
        "                          cmap=plt.cm.Oranges):\n",
        "    \"\"\"\n",
        "    This function prints and plots the confusion matrix.\n",
        "    Normalization can be applied by setting `normalize=True`.\n",
        "    Source: http://scikit-learn.org/stable/auto_examples/model_selection/plot_confusion_matrix.html\n",
        "    \"\"\"\n",
        "    if normalize:\n",
        "        cm = cm.astype('float') / cm.sum(axis=1)[:, np.newaxis]\n",
        "        print(\"Normalized confusion matrix\")\n",
        "    else:\n",
        "        print('Confusion matrix, without normalization')\n",
        "\n",
        "    print(cm)\n",
        "\n",
        "    # Plot the confusion matrix\n",
        "    plt.figure(figsize = (10, 10))\n",
        "    plt.imshow(cm, interpolation='nearest', cmap=cmap)\n",
        "    plt.title(title, size = 24)\n",
        "    plt.colorbar(aspect=4)\n",
        "    tick_marks = np.arange(len(classes))\n",
        "    plt.xticks(tick_marks, classes, rotation=45, size = 14)\n",
        "    plt.yticks(tick_marks, classes, size = 14)\n",
        "\n",
        "    fmt = '.2f' if normalize else 'd'\n",
        "    thresh = cm.max() / 2.\n",
        "    \n",
        "    # Labeling the plot\n",
        "    for i, j in itertools.product(range(cm.shape[0]), range(cm.shape[1])):\n",
        "        plt.text(j, i, format(cm[i, j], fmt), fontsize = 20,\n",
        "                 horizontalalignment=\"center\",\n",
        "                 color=\"white\" if cm[i, j] > thresh else \"black\")\n",
        "        \n",
        "    plt.grid(None)\n",
        "    plt.tight_layout()\n",
        "    plt.ylabel('True label', size = 18)\n",
        "    plt.xlabel('Predicted label', size = 18)\n",
        "\n",
        "# Confusion matrix\n",
        "cm = confusion_matrix(y_test, y_pred)\n",
        "plot_confusion_matrix(cm, classes = ['Covid', 'Not Covid'],\n",
        "                      title = 'Health Confusion Matrix')\n",
        "\n",
        "plt.savefig('text-cmat.png')"
      ],
      "execution_count": 90,
      "outputs": [
        {
          "output_type": "stream",
          "text": [
            "\n",
            "ROC curve value is:  0.5383141762452107\n",
            "Confusion matrix, without normalization\n",
            "[[20  9]\n",
            " [ 6  3]]\n"
          ],
          "name": "stdout"
        },
        {
          "output_type": "display_data",
          "data": {
            "image/png": "[encoded data removed]",
            "text/plain": [
              "<Figure size 720x720 with 2 Axes>"
            ]
          },
          "metadata": {
            "tags": [],
            "needs_background": "light"
          }
        }
      ]
    },
    {
      "cell_type": "code",
      "metadata": {
        "id": "956J2dUvWCWt",
        "colab_type": "code",
        "colab": {}
      },
      "source": [
        "# calculate roc curve\n",
        "ns_probs = [0 for _ in range(len(y_test))]\n",
        "\n",
        "fpr, tpr, thresholds = roc_curve(y_test, rf_probs)"
      ],
      "execution_count": 0,
      "outputs": []
    },
    {
      "cell_type": "code",
      "metadata": {
        "id": "LSRvLQiwWCWw",
        "colab_type": "code",
        "colab": {
          "base_uri": "https://localhost:8080/",
          "height": 296
        },
        "outputId": "95cbf640-3171-4d4c-c066-358500cd79b6"
      },
      "source": [
        "# calculate roc curves\n",
        "ns_fpr, ns_tpr, _ = roc_curve(y_test, ns_probs)\n",
        "lr_fpr, lr_tpr, _ = roc_curve(y_test, rf_probs)\n",
        "# plot the roc curve for the model\n",
        "plt.plot(ns_fpr, ns_tpr, linestyle='--', label='No Skill')\n",
        "plt.plot(lr_fpr, lr_tpr, marker='.', label='Learning')\n",
        "# axis labels\n",
        "plt.xlabel('False Positive Rate')\n",
        "plt.ylabel('True Positive Rate')\n",
        "# show the legend\n",
        "plt.legend()"
      ],
      "execution_count": 92,
      "outputs": [
        {
          "output_type": "execute_result",
          "data": {
            "text/plain": [
              "<matplotlib.legend.Legend at 0x7f48804bfa90>"
            ]
          },
          "metadata": {
            "tags": []
          },
          "execution_count": 92
        },
        {
          "output_type": "display_data",
          "data": {
            "image/png": "[encoded data removed]",
            "text/plain": [
              "<Figure size 432x288 with 1 Axes>"
            ]
          },
          "metadata": {
            "tags": [],
            "needs_background": "light"
          }
        }
      ]
    },
    {
      "cell_type": "markdown",
      "metadata": {
        "id": "FY1DxcchWCW3",
        "colab_type": "text"
      },
      "source": [
        "### Now down here I m gonna use XGBoost\n",
        "### along with RandomizedSearchCV for hyperparamter tuning"
      ]
    },
    {
      "cell_type": "code",
      "metadata": {
        "id": "oIvgVxRRWCW3",
        "colab_type": "code",
        "colab": {
          "base_uri": "https://localhost:8080/",
          "height": 106
        },
        "outputId": "3989311d-ea1e-4cd7-9514-1e6b8521b439"
      },
      "source": [
        "X_train, X_test, y_train, y_test = train_test_split(df5, target_labels, test_size=0.30, random_state=20, shuffle=True)\n",
        "\n",
        "# doing oversampling on train data\n",
        "X_train_smote , y_train_smote = smote.fit_sample(X_train.astype(\"int\"), y_train.astype(\"int\"))\n",
        "print(\"Before Smote: \", Counter(y_train))\n",
        "print(\"After Smote: \", Counter(y_train_smote))\n",
        "\n",
        "\n",
        "# Normalising train and test data\n",
        "\n",
        "min_max_scaler = preprocessing.MinMaxScaler()\n",
        "X_train_scaled = min_max_scaler.fit_transform(X_train_smote)\n",
        "X_test_scaled = min_max_scaler.fit_transform(X_test)"
      ],
      "execution_count": 93,
      "outputs": [
        {
          "output_type": "stream",
          "text": [
            "Before Smote:  Counter({0: 68, 1: 18})\n",
            "After Smote:  Counter({1: 68, 0: 68})\n"
          ],
          "name": "stdout"
        },
        {
          "output_type": "stream",
          "text": [
            "/usr/local/lib/python3.6/dist-packages/sklearn/utils/deprecation.py:87: FutureWarning: Function safe_indexing is deprecated; safe_indexing is deprecated in version 0.22 and will be removed in version 0.24.\n",
            "  warnings.warn(msg, category=FutureWarning)\n"
          ],
          "name": "stderr"
        }
      ]
    },
    {
      "cell_type": "code",
      "metadata": {
        "id": "Bd7g8xreWCXE",
        "colab_type": "code",
        "colab": {
          "base_uri": "https://localhost:8080/",
          "height": 69
        },
        "outputId": "19305ba9-d241-4e8a-917a-1ec47e3f7e65"
      },
      "source": [
        "from sklearn.model_selection import RandomizedSearchCV, GridSearchCV\n",
        "import xgboost\n",
        "\n",
        "## Hyper Parameter Optimization\n",
        "\n",
        "params = {\n",
        " \"learning_rate\"    : [0.05, 0.10, 0.15, 0.20, 0.25, 0.30 ] ,\n",
        " \"max_depth\"        : [ 3, 4, 5, 6, 8, 10, 12, 15],\n",
        " \"min_child_weight\" : [ 1, 3, 5, 7 ],\n",
        " \"gamma\"            : [ 0.0, 0.1, 0.2 , 0.3, 0.4 ],\n",
        " \"colsample_bytree\" : [ 0.3, 0.4, 0.5 , 0.7 ]\n",
        "    \n",
        "}\n",
        "\n",
        "\n",
        "classifier=xgboost.XGBClassifier()\n",
        "\n",
        "random_search=RandomizedSearchCV(classifier, param_distributions=params, n_iter=5,   \n",
        "                                 scoring='roc_auc', n_jobs=-1, cv=5,verbose=3)\n",
        "\n",
        "# n_iter defines how many times your hyperparamters combination will be tested. \n",
        "\n",
        "random_search_model = random_search.fit(X_train_scaled, y_train_smote)"
      ],
      "execution_count": 94,
      "outputs": [
        {
          "output_type": "stream",
          "text": [
            "Fitting 5 folds for each of 5 candidates, totalling 25 fits\n"
          ],
          "name": "stdout"
        },
        {
          "output_type": "stream",
          "text": [
            "[Parallel(n_jobs=-1)]: Using backend LokyBackend with 2 concurrent workers.\n",
            "[Parallel(n_jobs=-1)]: Done  25 out of  25 | elapsed:    1.6s finished\n"
          ],
          "name": "stderr"
        }
      ]
    },
    {
      "cell_type": "code",
      "metadata": {
        "id": "clHnaevIWCXV",
        "colab_type": "code",
        "colab": {
          "base_uri": "https://localhost:8080/",
          "height": 138
        },
        "outputId": "0169e93b-4273-4880-92a8-d56f1061f26c"
      },
      "source": [
        "random_search.best_estimator_"
      ],
      "execution_count": 95,
      "outputs": [
        {
          "output_type": "execute_result",
          "data": {
            "text/plain": [
              "XGBClassifier(base_score=0.5, booster='gbtree', colsample_bylevel=1,\n",
              "              colsample_bynode=1, colsample_bytree=0.4, gamma=0.1,\n",
              "              learning_rate=0.25, max_delta_step=0, max_depth=12,\n",
              "              min_child_weight=1, missing=None, n_estimators=100, n_jobs=1,\n",
              "              nthread=None, objective='binary:logistic', random_state=0,\n",
              "              reg_alpha=0, reg_lambda=1, scale_pos_weight=1, seed=None,\n",
              "              silent=None, subsample=1, verbosity=1)"
            ]
          },
          "metadata": {
            "tags": []
          },
          "execution_count": 95
        }
      ]
    },
    {
      "cell_type": "code",
      "metadata": {
        "id": "J6WqLLlPWCXn",
        "colab_type": "code",
        "colab": {
          "base_uri": "https://localhost:8080/",
          "height": 103
        },
        "outputId": "968eedcf-42d3-4358-a694-82846c06d4dd"
      },
      "source": [
        "random_search.best_params_"
      ],
      "execution_count": 96,
      "outputs": [
        {
          "output_type": "execute_result",
          "data": {
            "text/plain": [
              "{'colsample_bytree': 0.4,\n",
              " 'gamma': 0.1,\n",
              " 'learning_rate': 0.25,\n",
              " 'max_depth': 12,\n",
              " 'min_child_weight': 1}"
            ]
          },
          "metadata": {
            "tags": []
          },
          "execution_count": 96
        }
      ]
    },
    {
      "cell_type": "code",
      "metadata": {
        "id": "X4PWRmsyWCXv",
        "colab_type": "code",
        "colab": {
          "base_uri": "https://localhost:8080/",
          "height": 123
        },
        "outputId": "6c9b2942-fb0c-4732-9d8a-50764143e9c9"
      },
      "source": [
        "from sklearn.model_selection import cross_val_score\n",
        "score=cross_val_score(classifier, X_test_scaled, y_test ,cv=10)\n",
        "print(score)\n",
        "print(score.mean())"
      ],
      "execution_count": 97,
      "outputs": [
        {
          "output_type": "stream",
          "text": [
            "[0.75       0.75       0.75       0.75       0.75       0.75\n",
            " 0.75       0.25       0.66666667 1.        ]\n",
            "0.7166666666666667\n"
          ],
          "name": "stdout"
        },
        {
          "output_type": "stream",
          "text": [
            "/usr/local/lib/python3.6/dist-packages/sklearn/model_selection/_split.py:667: UserWarning: The least populated class in y has only 9 members, which is less than n_splits=10.\n",
            "  % (min_groups, self.n_splits)), UserWarning)\n"
          ],
          "name": "stderr"
        }
      ]
    },
    {
      "cell_type": "code",
      "metadata": {
        "id": "w85NfSrhWCX1",
        "colab_type": "code",
        "colab": {}
      },
      "source": [
        "classifier = xgboost.XGBClassifier(base_score=0.5, booster='gbtree', colsample_bylevel=1,\n",
        "              colsample_bynode=1, colsample_bytree=0.4, gamma=0.3,\n",
        "              learning_rate=0.2, max_delta_step=0, max_depth=8,\n",
        "              min_child_weight=5, missing=None, n_estimators=100, n_jobs=1,\n",
        "              nthread=None, objective='binary:logistic', random_state=0,\n",
        "              reg_alpha=0, reg_lambda=1, scale_pos_weight=1, seed=None,\n",
        "              silent=None, subsample=1, verbosity=1)"
      ],
      "execution_count": 0,
      "outputs": []
    },
    {
      "cell_type": "code",
      "metadata": {
        "id": "CF0rJsrlWCX9",
        "colab_type": "code",
        "colab": {
          "base_uri": "https://localhost:8080/",
          "height": 331
        },
        "outputId": "69b1f5b3-f4d7-4343-fc2d-ae1513fa53d9"
      },
      "source": [
        "classifier.fit(X_train_scaled, y_train_smote)\n",
        "\n",
        "y_pred = classifier.predict(X_test_scaled)\n",
        "\n",
        "y_test = np.array(y_test).astype(\"int\")\n",
        "# y_test\n",
        "print(\"Testing accuracy is: \", accuracy_score(y_test, y_pred))\n",
        "print(print(classification_report(y_test, y_pred)))\n",
        "pd.crosstab(y_test, y_pred)"
      ],
      "execution_count": 99,
      "outputs": [
        {
          "output_type": "stream",
          "text": [
            "Testing accuracy is:  0.6052631578947368\n",
            "              precision    recall  f1-score   support\n",
            "\n",
            "           0       0.72      0.79      0.75        29\n",
            "           1       0.00      0.00      0.00         9\n",
            "\n",
            "    accuracy                           0.61        38\n",
            "   macro avg       0.36      0.40      0.38        38\n",
            "weighted avg       0.55      0.61      0.58        38\n",
            "\n",
            "None\n"
          ],
          "name": "stdout"
        },
        {
          "output_type": "execute_result",
          "data": {
            "text/html": [
              "<div>\n",
              "<style scoped>\n",
              "    .dataframe tbody tr th:only-of-type {\n",
              "        vertical-align: middle;\n",
              "    }\n",
              "\n",
              "    .dataframe tbody tr th {\n",
              "        vertical-align: top;\n",
              "    }\n",
              "\n",
              "    .dataframe thead th {\n",
              "        text-align: right;\n",
              "    }\n",
              "</style>\n",
              "<table border=\"1\" class=\"dataframe\">\n",
              "  <thead>\n",
              "    <tr style=\"text-align: right;\">\n",
              "      <th>col_0</th>\n",
              "      <th>0</th>\n",
              "      <th>1</th>\n",
              "    </tr>\n",
              "    <tr>\n",
              "      <th>row_0</th>\n",
              "      <th></th>\n",
              "      <th></th>\n",
              "    </tr>\n",
              "  </thead>\n",
              "  <tbody>\n",
              "    <tr>\n",
              "      <th>0</th>\n",
              "      <td>23</td>\n",
              "      <td>6</td>\n",
              "    </tr>\n",
              "    <tr>\n",
              "      <th>1</th>\n",
              "      <td>9</td>\n",
              "      <td>0</td>\n",
              "    </tr>\n",
              "  </tbody>\n",
              "</table>\n",
              "</div>"
            ],
            "text/plain": [
              "col_0   0  1\n",
              "row_0       \n",
              "0      23  6\n",
              "1       9  0"
            ]
          },
          "metadata": {
            "tags": []
          },
          "execution_count": 99
        }
      ]
    },
    {
      "cell_type": "code",
      "metadata": {
        "id": "42Z61TNxWCYB",
        "colab_type": "code",
        "colab": {
          "base_uri": "https://localhost:8080/",
          "height": 713
        },
        "outputId": "ba56b280-6f36-4424-e596-619f0bd24579"
      },
      "source": [
        "# Probabilities for each class\n",
        "rf_probs = model.predict_proba(X_test_scaled)[:, 1]\n",
        "\n",
        "# Calculate roc auc\n",
        "roc_value = roc_auc_score(y_test, rf_probs)\n",
        "print()\n",
        "print(\"ROC curve value is: \", roc_value)\n",
        "\n",
        "# Plotting confusion matrix\n",
        "\n",
        "def plot_confusion_matrix(cm, classes,\n",
        "                          normalize=False,\n",
        "                          title='Confusion matrix',\n",
        "                          cmap=plt.cm.Oranges):\n",
        "    \"\"\"\n",
        "    This function prints and plots the confusion matrix.\n",
        "    Normalization can be applied by setting `normalize=True`.\n",
        "    Source: http://scikit-learn.org/stable/auto_examples/model_selection/plot_confusion_matrix.html\n",
        "    \"\"\"\n",
        "    if normalize:\n",
        "        cm = cm.astype('float') / cm.sum(axis=1)[:, np.newaxis]\n",
        "        print(\"Normalized confusion matrix\")\n",
        "    else:\n",
        "        print('Confusion matrix, without normalization')\n",
        "\n",
        "    print(cm)\n",
        "\n",
        "    # Plot the confusion matrix\n",
        "    plt.figure(figsize = (10, 10))\n",
        "    plt.imshow(cm, interpolation='nearest', cmap=cmap)\n",
        "    plt.title(title, size = 24)\n",
        "    plt.colorbar(aspect=4)\n",
        "    tick_marks = np.arange(len(classes))\n",
        "    plt.xticks(tick_marks, classes, rotation=45, size = 14)\n",
        "    plt.yticks(tick_marks, classes, size = 14)\n",
        "\n",
        "    fmt = '.2f' if normalize else 'd'\n",
        "    thresh = cm.max() / 2.\n",
        "    \n",
        "    # Labeling the plot\n",
        "    for i, j in itertools.product(range(cm.shape[0]), range(cm.shape[1])):\n",
        "        plt.text(j, i, format(cm[i, j], fmt), fontsize = 20,\n",
        "                 horizontalalignment=\"center\",\n",
        "                 color=\"white\" if cm[i, j] > thresh else \"black\")\n",
        "        \n",
        "    plt.grid(None)\n",
        "    plt.tight_layout()\n",
        "    plt.ylabel('True label', size = 18)\n",
        "    plt.xlabel('Predicted label', size = 18)\n",
        "\n",
        "# Confusion matrix\n",
        "cm = confusion_matrix(y_test, y_pred)\n",
        "plot_confusion_matrix(cm, classes = ['Covid', 'Not Covid'],\n",
        "                      title = 'Health Confusion Matrix')\n",
        "\n",
        "plt.savefig('text-cmat2.png')"
      ],
      "execution_count": 101,
      "outputs": [
        {
          "output_type": "stream",
          "text": [
            "\n",
            "ROC curve value is:  0.5383141762452107\n",
            "Confusion matrix, without normalization\n",
            "[[23  6]\n",
            " [ 9  0]]\n"
          ],
          "name": "stdout"
        },
        {
          "output_type": "display_data",
          "data": {
            "image/png": "[encoded data removed]",
            "text/plain": [
              "<Figure size 720x720 with 2 Axes>"
            ]
          },
          "metadata": {
            "tags": [],
            "needs_background": "light"
          }
        }
      ]
    },
    {
      "cell_type": "markdown",
      "metadata": {
        "id": "Mu7eRM5JWCYG",
        "colab_type": "text"
      },
      "source": [
        "##### NOTE: you can make prediction using randomized_search_hyperparameter_model as well. "
      ]
    },
    {
      "cell_type": "code",
      "metadata": {
        "id": "pWebppcPWCYH",
        "colab_type": "code",
        "colab": {
          "base_uri": "https://localhost:8080/",
          "height": 331
        },
        "outputId": "06c5a039-ce46-49a5-891b-26e42e84fadb"
      },
      "source": [
        "y_pred = random_search_model.predict(X_test_scaled)\n",
        "\n",
        "y_test = np.array(y_test).astype(\"int\")\n",
        "# y_test\n",
        "print(\"Testing accuracy is: \", accuracy_score(y_test, y_pred))\n",
        "print(print(classification_report(y_test, y_pred)))\n",
        "pd.crosstab(y_test, y_pred)"
      ],
      "execution_count": 102,
      "outputs": [
        {
          "output_type": "stream",
          "text": [
            "Testing accuracy is:  0.7105263157894737\n",
            "              precision    recall  f1-score   support\n",
            "\n",
            "           0       0.78      0.86      0.82        29\n",
            "           1       0.33      0.22      0.27         9\n",
            "\n",
            "    accuracy                           0.71        38\n",
            "   macro avg       0.56      0.54      0.54        38\n",
            "weighted avg       0.68      0.71      0.69        38\n",
            "\n",
            "None\n"
          ],
          "name": "stdout"
        },
        {
          "output_type": "execute_result",
          "data": {
            "text/html": [
              "<div>\n",
              "<style scoped>\n",
              "    .dataframe tbody tr th:only-of-type {\n",
              "        vertical-align: middle;\n",
              "    }\n",
              "\n",
              "    .dataframe tbody tr th {\n",
              "        vertical-align: top;\n",
              "    }\n",
              "\n",
              "    .dataframe thead th {\n",
              "        text-align: right;\n",
              "    }\n",
              "</style>\n",
              "<table border=\"1\" class=\"dataframe\">\n",
              "  <thead>\n",
              "    <tr style=\"text-align: right;\">\n",
              "      <th>col_0</th>\n",
              "      <th>0</th>\n",
              "      <th>1</th>\n",
              "    </tr>\n",
              "    <tr>\n",
              "      <th>row_0</th>\n",
              "      <th></th>\n",
              "      <th></th>\n",
              "    </tr>\n",
              "  </thead>\n",
              "  <tbody>\n",
              "    <tr>\n",
              "      <th>0</th>\n",
              "      <td>25</td>\n",
              "      <td>4</td>\n",
              "    </tr>\n",
              "    <tr>\n",
              "      <th>1</th>\n",
              "      <td>7</td>\n",
              "      <td>2</td>\n",
              "    </tr>\n",
              "  </tbody>\n",
              "</table>\n",
              "</div>"
            ],
            "text/plain": [
              "col_0   0  1\n",
              "row_0       \n",
              "0      25  4\n",
              "1       7  2"
            ]
          },
          "metadata": {
            "tags": []
          },
          "execution_count": 102
        }
      ]
    },
    {
      "cell_type": "markdown",
      "metadata": {
        "id": "uRYi2doMWCYW",
        "colab_type": "text"
      },
      "source": [
        "# Spliting data into training, validation and testing.\n",
        "# and trying XGBoost "
      ]
    },
    {
      "cell_type": "code",
      "metadata": {
        "id": "3GMSFmJIWCYW",
        "colab_type": "code",
        "colab": {
          "base_uri": "https://localhost:8080/",
          "height": 106
        },
        "outputId": "25b1a0fd-7285-4ce0-ade6-890dedbd20ed"
      },
      "source": [
        "X_train, X_test, y_train, y_test = train_test_split(df5, target_labels, test_size=0.20, random_state=20, shuffle=True)\n",
        "X_train, X_val, y_train, y_val = train_test_split(X_train, y_train, test_size=0.30, random_state=20, shuffle=True)\n",
        "\n",
        "# doing over sampling\n",
        "X_train_smote , y_train_smote = smote.fit_sample(X_train.astype(\"int\"), y_train.astype(\"int\"))\n",
        "print(\"Before Smote: \", Counter(y_train))\n",
        "print(\"After Smote: \", Counter(y_train_smote))\n",
        "\n",
        "\n",
        "# Normalising train, val and test data\n",
        "np.random.seed(1)\n",
        "min_max_scaler = preprocessing.MinMaxScaler()\n",
        "X_train_scaled = min_max_scaler.fit_transform(X_train_smote)\n",
        "X_val_scaled = min_max_scaler.fit_transform(X_val)\n",
        "X_test_scaled = min_max_scaler.fit_transform(X_test)"
      ],
      "execution_count": 103,
      "outputs": [
        {
          "output_type": "stream",
          "text": [
            "Before Smote:  Counter({0: 52, 1: 17})\n",
            "After Smote:  Counter({0: 52, 1: 52})\n"
          ],
          "name": "stdout"
        },
        {
          "output_type": "stream",
          "text": [
            "/usr/local/lib/python3.6/dist-packages/sklearn/utils/deprecation.py:87: FutureWarning: Function safe_indexing is deprecated; safe_indexing is deprecated in version 0.22 and will be removed in version 0.24.\n",
            "  warnings.warn(msg, category=FutureWarning)\n"
          ],
          "name": "stderr"
        }
      ]
    },
    {
      "cell_type": "code",
      "metadata": {
        "id": "5LkkcZ3SWCYZ",
        "colab_type": "code",
        "colab": {
          "base_uri": "https://localhost:8080/",
          "height": 69
        },
        "outputId": "a8eb40d3-607e-44ca-c45f-9f6ad6284a05"
      },
      "source": [
        "from sklearn.model_selection import RandomizedSearchCV, GridSearchCV\n",
        "import xgboost\n",
        "\n",
        "## Hyper Parameter Optimization\n",
        "\n",
        "params = {\n",
        " \"learning_rate\"    : [0.05, 0.10, 0.15, 0.20, 0.25, 0.30 ] ,\n",
        " \"max_depth\"        : [ 3, 4, 5, 6, 8, 10, 12, 15],\n",
        " \"min_child_weight\" : [ 1, 3, 5, 7 ],\n",
        " \"gamma\"            : [ 0.0, 0.1, 0.2 , 0.3, 0.4 ],\n",
        " \"colsample_bytree\" : [ 0.3, 0.4, 0.5 , 0.7 ]\n",
        "}\n",
        "\n",
        "\n",
        "classifier=xgboost.XGBClassifier()\n",
        "\n",
        "random_search=RandomizedSearchCV(classifier, param_distributions=params, n_iter=5,   \n",
        "                                 scoring='roc_auc', n_jobs=-1, cv=5,verbose=3)\n",
        "\n",
        "# n_iter defines how many times your hyperparamters combination will be tested. \n",
        "\n",
        "random_search_model = random_search.fit(X_train_scaled, y_train_smote)"
      ],
      "execution_count": 104,
      "outputs": [
        {
          "output_type": "stream",
          "text": [
            "Fitting 5 folds for each of 5 candidates, totalling 25 fits\n"
          ],
          "name": "stdout"
        },
        {
          "output_type": "stream",
          "text": [
            "[Parallel(n_jobs=-1)]: Using backend LokyBackend with 2 concurrent workers.\n",
            "[Parallel(n_jobs=-1)]: Done  25 out of  25 | elapsed:    0.3s finished\n"
          ],
          "name": "stderr"
        }
      ]
    },
    {
      "cell_type": "code",
      "metadata": {
        "id": "_oLpNsfAWCYe",
        "colab_type": "code",
        "colab": {
          "base_uri": "https://localhost:8080/",
          "height": 138
        },
        "outputId": "c74d2c2f-87dd-4036-d73f-04239c2daa32"
      },
      "source": [
        "# This shows best paramter for your model\n",
        "random_search_model.best_estimator_"
      ],
      "execution_count": 105,
      "outputs": [
        {
          "output_type": "execute_result",
          "data": {
            "text/plain": [
              "XGBClassifier(base_score=0.5, booster='gbtree', colsample_bylevel=1,\n",
              "              colsample_bynode=1, colsample_bytree=0.4, gamma=0.0,\n",
              "              learning_rate=0.25, max_delta_step=0, max_depth=5,\n",
              "              min_child_weight=1, missing=None, n_estimators=100, n_jobs=1,\n",
              "              nthread=None, objective='binary:logistic', random_state=0,\n",
              "              reg_alpha=0, reg_lambda=1, scale_pos_weight=1, seed=None,\n",
              "              silent=None, subsample=1, verbosity=1)"
            ]
          },
          "metadata": {
            "tags": []
          },
          "execution_count": 105
        }
      ]
    },
    {
      "cell_type": "code",
      "metadata": {
        "id": "FKLnCxC9WCYh",
        "colab_type": "code",
        "colab": {
          "base_uri": "https://localhost:8080/",
          "height": 103
        },
        "outputId": "76cdbdae-ea0c-4bfb-ca6b-4037f7926ee4"
      },
      "source": [
        "# This is almost the same but less concise.\n",
        "random_search_model.best_params_"
      ],
      "execution_count": 106,
      "outputs": [
        {
          "output_type": "execute_result",
          "data": {
            "text/plain": [
              "{'colsample_bytree': 0.4,\n",
              " 'gamma': 0.0,\n",
              " 'learning_rate': 0.25,\n",
              " 'max_depth': 5,\n",
              " 'min_child_weight': 1}"
            ]
          },
          "metadata": {
            "tags": []
          },
          "execution_count": 106
        }
      ]
    },
    {
      "cell_type": "code",
      "metadata": {
        "id": "xqGhFP1hWCYk",
        "colab_type": "code",
        "colab": {}
      },
      "source": [
        "classifier = xgboost.XGBClassifier(base_score=0.5, booster='gbtree', colsample_bylevel=1,\n",
        "              colsample_bynode=1, colsample_bytree=0.7, gamma=0.3,\n",
        "              learning_rate=0.25, max_delta_step=0, max_depth=8,\n",
        "              min_child_weight=1, missing=None, n_estimators=100, n_jobs=1,\n",
        "              nthread=None, objective='binary:logistic', random_state=0,\n",
        "              reg_alpha=0, reg_lambda=1, scale_pos_weight=1, seed=None,\n",
        "              silent=None, subsample=1, verbosity=1)"
      ],
      "execution_count": 0,
      "outputs": []
    },
    {
      "cell_type": "code",
      "metadata": {
        "id": "OIb7JCl9WCYm",
        "colab_type": "code",
        "colab": {
          "base_uri": "https://localhost:8080/",
          "height": 331
        },
        "outputId": "2b47525f-20f4-4401-8a3b-3f83507908df"
      },
      "source": [
        "classifier.fit(X_train_scaled, y_train_smote)\n",
        "\n",
        "y_pred = classifier.predict(X_test_scaled)\n",
        "\n",
        "y_test = np.array(y_test).astype(\"int\")\n",
        "# y_test\n",
        "print(\"Testing accuracy is: \", accuracy_score(y_test, y_pred))\n",
        "print(print(classification_report(y_test, y_pred)))\n",
        "pd.crosstab(y_test, y_pred)"
      ],
      "execution_count": 108,
      "outputs": [
        {
          "output_type": "stream",
          "text": [
            "Testing accuracy is:  0.6\n",
            "              precision    recall  f1-score   support\n",
            "\n",
            "           0       0.79      0.71      0.75        21\n",
            "           1       0.00      0.00      0.00         4\n",
            "\n",
            "    accuracy                           0.60        25\n",
            "   macro avg       0.39      0.36      0.38        25\n",
            "weighted avg       0.66      0.60      0.63        25\n",
            "\n",
            "None\n"
          ],
          "name": "stdout"
        },
        {
          "output_type": "execute_result",
          "data": {
            "text/html": [
              "<div>\n",
              "<style scoped>\n",
              "    .dataframe tbody tr th:only-of-type {\n",
              "        vertical-align: middle;\n",
              "    }\n",
              "\n",
              "    .dataframe tbody tr th {\n",
              "        vertical-align: top;\n",
              "    }\n",
              "\n",
              "    .dataframe thead th {\n",
              "        text-align: right;\n",
              "    }\n",
              "</style>\n",
              "<table border=\"1\" class=\"dataframe\">\n",
              "  <thead>\n",
              "    <tr style=\"text-align: right;\">\n",
              "      <th>col_0</th>\n",
              "      <th>0</th>\n",
              "      <th>1</th>\n",
              "    </tr>\n",
              "    <tr>\n",
              "      <th>row_0</th>\n",
              "      <th></th>\n",
              "      <th></th>\n",
              "    </tr>\n",
              "  </thead>\n",
              "  <tbody>\n",
              "    <tr>\n",
              "      <th>0</th>\n",
              "      <td>15</td>\n",
              "      <td>6</td>\n",
              "    </tr>\n",
              "    <tr>\n",
              "      <th>1</th>\n",
              "      <td>4</td>\n",
              "      <td>0</td>\n",
              "    </tr>\n",
              "  </tbody>\n",
              "</table>\n",
              "</div>"
            ],
            "text/plain": [
              "col_0   0  1\n",
              "row_0       \n",
              "0      15  6\n",
              "1       4  0"
            ]
          },
          "metadata": {
            "tags": []
          },
          "execution_count": 108
        }
      ]
    },
    {
      "cell_type": "markdown",
      "metadata": {
        "id": "Y5wtut3eWCYp",
        "colab_type": "text"
      },
      "source": [
        "# Naive Bayes"
      ]
    },
    {
      "cell_type": "code",
      "metadata": {
        "id": "fIdHuVsdWCYq",
        "colab_type": "code",
        "colab": {}
      },
      "source": [
        "from sklearn.naive_bayes import GaussianNB"
      ],
      "execution_count": 0,
      "outputs": []
    },
    {
      "cell_type": "code",
      "metadata": {
        "id": "ZDCfxGuxWCYt",
        "colab_type": "code",
        "colab": {
          "base_uri": "https://localhost:8080/",
          "height": 34
        },
        "outputId": "6c94e631-f313-46b2-84bb-789a11632e6b"
      },
      "source": [
        "clf = GaussianNB()\n",
        "clf.fit(X_train_scaled,y_train_smote)\n",
        "print(\"Accuracy on test dataset: \", clf.score(X_test_scaled,y_test))"
      ],
      "execution_count": 110,
      "outputs": [
        {
          "output_type": "stream",
          "text": [
            "Accuracy on test dataset:  0.32\n"
          ],
          "name": "stdout"
        }
      ]
    },
    {
      "cell_type": "markdown",
      "metadata": {
        "id": "jTlPbGF3WCYx",
        "colab_type": "text"
      },
      "source": [
        "# SVM"
      ]
    },
    {
      "cell_type": "code",
      "metadata": {
        "id": "w9PYldAxWCYy",
        "colab_type": "code",
        "colab": {}
      },
      "source": [
        "from sklearn.svm import SVC"
      ],
      "execution_count": 0,
      "outputs": []
    },
    {
      "cell_type": "code",
      "metadata": {
        "id": "uKb4qxdOWCY4",
        "colab_type": "code",
        "colab": {
          "base_uri": "https://localhost:8080/",
          "height": 86
        },
        "outputId": "71174d36-a35a-4901-d456-0fd2c41e6b3b"
      },
      "source": [
        "# with default hyper parameter\n",
        "kernel = [\"linear\",\"poly\",\"rbf\",\"sigmoid\"]\n",
        "for i in kernel:\n",
        "    clf = SVC(kernel = i)\n",
        "    clf.fit(X_train_scaled,y_train_smote)\n",
        "    pred = clf.predict(X_test_scaled)\n",
        "    print(\"Accuracy on test dataset with\",i,\"kernel: \", accuracy_score(pred,y_test)) "
      ],
      "execution_count": 112,
      "outputs": [
        {
          "output_type": "stream",
          "text": [
            "Accuracy on test dataset with linear kernel:  0.72\n",
            "Accuracy on test dataset with poly kernel:  0.6\n",
            "Accuracy on test dataset with rbf kernel:  0.76\n",
            "Accuracy on test dataset with sigmoid kernel:  0.68\n"
          ],
          "name": "stdout"
        }
      ]
    },
    {
      "cell_type": "code",
      "metadata": {
        "id": "-U1i12EfWCY7",
        "colab_type": "code",
        "colab": {}
      },
      "source": [
        "# hyper parameters for SVC\n",
        "kernel = [\"linear\",\"poly\",\"rbf\",\"sigmoid\"]\n",
        "degree = [2,3,4]\n",
        "gammas = [0.001, 0.01, 0.1, 1, 10, 100]\n",
        "# making C list  \n",
        "C=[1, 10, 100, 200, 300, 1000]\n"
      ],
      "execution_count": 0,
      "outputs": []
    },
    {
      "cell_type": "code",
      "metadata": {
        "id": "otoC1KGvWCY-",
        "colab_type": "code",
        "colab": {
          "base_uri": "https://localhost:8080/",
          "height": 1000
        },
        "outputId": "83e627cc-a749-412e-a4b9-c332415146ce"
      },
      "source": [
        "# trying to fit the model with different hyperparameters to achieve the highest accuracy\n",
        "accuracy_history = []\n",
        "for i in kernel:\n",
        "    for j in degree:\n",
        "        for k in gammas:\n",
        "            for l in C:\n",
        "                clf = SVC(kernel = i,C=l, degree = j, gamma=k,random_state=0)\n",
        "                clf.fit(X_train_scaled,y_train_smote)\n",
        "                pred = clf.predict(X_test_scaled)\n",
        "                accuracy = accuracy_score(pred,y_test)\n",
        "                print(\"Accuracy on test dataset with\",i,\"kernel\",j,\"degree\",k,\"gamma\",l,\"C: \", accuracy)\n",
        "                accuracy_history.append(accuracy)"
      ],
      "execution_count": 114,
      "outputs": [
        {
          "output_type": "stream",
          "text": [
            "Accuracy on test dataset with linear kernel 2 degree 0.001 gamma 1 C:  0.72\n",
            "Accuracy on test dataset with linear kernel 2 degree 0.001 gamma 10 C:  0.72\n",
            "Accuracy on test dataset with linear kernel 2 degree 0.001 gamma 100 C:  0.72\n",
            "Accuracy on test dataset with linear kernel 2 degree 0.001 gamma 200 C:  0.72\n",
            "Accuracy on test dataset with linear kernel 2 degree 0.001 gamma 300 C:  0.72\n",
            "Accuracy on test dataset with linear kernel 2 degree 0.001 gamma 1000 C:  0.72\n",
            "Accuracy on test dataset with linear kernel 2 degree 0.01 gamma 1 C:  0.72\n",
            "Accuracy on test dataset with linear kernel 2 degree 0.01 gamma 10 C:  0.72\n",
            "Accuracy on test dataset with linear kernel 2 degree 0.01 gamma 100 C:  0.72\n",
            "Accuracy on test dataset with linear kernel 2 degree 0.01 gamma 200 C:  0.72\n",
            "Accuracy on test dataset with linear kernel 2 degree 0.01 gamma 300 C:  0.72\n",
            "Accuracy on test dataset with linear kernel 2 degree 0.01 gamma 1000 C:  0.72\n",
            "Accuracy on test dataset with linear kernel 2 degree 0.1 gamma 1 C:  0.72\n",
            "Accuracy on test dataset with linear kernel 2 degree 0.1 gamma 10 C:  0.72\n",
            "Accuracy on test dataset with linear kernel 2 degree 0.1 gamma 100 C:  0.72\n",
            "Accuracy on test dataset with linear kernel 2 degree 0.1 gamma 200 C:  0.72\n",
            "Accuracy on test dataset with linear kernel 2 degree 0.1 gamma 300 C:  0.72\n",
            "Accuracy on test dataset with linear kernel 2 degree 0.1 gamma 1000 C:  0.72\n",
            "Accuracy on test dataset with linear kernel 2 degree 1 gamma 1 C:  0.72\n",
            "Accuracy on test dataset with linear kernel 2 degree 1 gamma 10 C:  0.72\n",
            "Accuracy on test dataset with linear kernel 2 degree 1 gamma 100 C:  0.72\n",
            "Accuracy on test dataset with linear kernel 2 degree 1 gamma 200 C:  0.72\n",
            "Accuracy on test dataset with linear kernel 2 degree 1 gamma 300 C:  0.72\n",
            "Accuracy on test dataset with linear kernel 2 degree 1 gamma 1000 C:  0.72\n",
            "Accuracy on test dataset with linear kernel 2 degree 10 gamma 1 C:  0.72\n",
            "Accuracy on test dataset with linear kernel 2 degree 10 gamma 10 C:  0.72\n",
            "Accuracy on test dataset with linear kernel 2 degree 10 gamma 100 C:  0.72\n",
            "Accuracy on test dataset with linear kernel 2 degree 10 gamma 200 C:  0.72\n",
            "Accuracy on test dataset with linear kernel 2 degree 10 gamma 300 C:  0.72\n",
            "Accuracy on test dataset with linear kernel 2 degree 10 gamma 1000 C:  0.72\n",
            "Accuracy on test dataset with linear kernel 2 degree 100 gamma 1 C:  0.72\n",
            "Accuracy on test dataset with linear kernel 2 degree 100 gamma 10 C:  0.72\n",
            "Accuracy on test dataset with linear kernel 2 degree 100 gamma 100 C:  0.72\n",
            "Accuracy on test dataset with linear kernel 2 degree 100 gamma 200 C:  0.72\n",
            "Accuracy on test dataset with linear kernel 2 degree 100 gamma 300 C:  0.72\n",
            "Accuracy on test dataset with linear kernel 2 degree 100 gamma 1000 C:  0.72\n",
            "Accuracy on test dataset with linear kernel 3 degree 0.001 gamma 1 C:  0.72\n",
            "Accuracy on test dataset with linear kernel 3 degree 0.001 gamma 10 C:  0.72\n",
            "Accuracy on test dataset with linear kernel 3 degree 0.001 gamma 100 C:  0.72\n",
            "Accuracy on test dataset with linear kernel 3 degree 0.001 gamma 200 C:  0.72\n",
            "Accuracy on test dataset with linear kernel 3 degree 0.001 gamma 300 C:  0.72\n",
            "Accuracy on test dataset with linear kernel 3 degree 0.001 gamma 1000 C:  0.72\n",
            "Accuracy on test dataset with linear kernel 3 degree 0.01 gamma 1 C:  0.72\n",
            "Accuracy on test dataset with linear kernel 3 degree 0.01 gamma 10 C:  0.72\n",
            "Accuracy on test dataset with linear kernel 3 degree 0.01 gamma 100 C:  0.72\n",
            "Accuracy on test dataset with linear kernel 3 degree 0.01 gamma 200 C:  0.72\n",
            "Accuracy on test dataset with linear kernel 3 degree 0.01 gamma 300 C:  0.72\n",
            "Accuracy on test dataset with linear kernel 3 degree 0.01 gamma 1000 C:  0.72\n",
            "Accuracy on test dataset with linear kernel 3 degree 0.1 gamma 1 C:  0.72\n",
            "Accuracy on test dataset with linear kernel 3 degree 0.1 gamma 10 C:  0.72\n",
            "Accuracy on test dataset with linear kernel 3 degree 0.1 gamma 100 C:  0.72\n",
            "Accuracy on test dataset with linear kernel 3 degree 0.1 gamma 200 C:  0.72\n",
            "Accuracy on test dataset with linear kernel 3 degree 0.1 gamma 300 C:  0.72\n",
            "Accuracy on test dataset with linear kernel 3 degree 0.1 gamma 1000 C:  0.72\n",
            "Accuracy on test dataset with linear kernel 3 degree 1 gamma 1 C:  0.72\n",
            "Accuracy on test dataset with linear kernel 3 degree 1 gamma 10 C:  0.72\n",
            "Accuracy on test dataset with linear kernel 3 degree 1 gamma 100 C:  0.72\n",
            "Accuracy on test dataset with linear kernel 3 degree 1 gamma 200 C:  0.72\n",
            "Accuracy on test dataset with linear kernel 3 degree 1 gamma 300 C:  0.72\n",
            "Accuracy on test dataset with linear kernel 3 degree 1 gamma 1000 C:  0.72\n",
            "Accuracy on test dataset with linear kernel 3 degree 10 gamma 1 C:  0.72\n",
            "Accuracy on test dataset with linear kernel 3 degree 10 gamma 10 C:  0.72\n",
            "Accuracy on test dataset with linear kernel 3 degree 10 gamma 100 C:  0.72\n",
            "Accuracy on test dataset with linear kernel 3 degree 10 gamma 200 C:  0.72\n",
            "Accuracy on test dataset with linear kernel 3 degree 10 gamma 300 C:  0.72\n",
            "Accuracy on test dataset with linear kernel 3 degree 10 gamma 1000 C:  0.72\n",
            "Accuracy on test dataset with linear kernel 3 degree 100 gamma 1 C:  0.72\n",
            "Accuracy on test dataset with linear kernel 3 degree 100 gamma 10 C:  0.72\n",
            "Accuracy on test dataset with linear kernel 3 degree 100 gamma 100 C:  0.72\n",
            "Accuracy on test dataset with linear kernel 3 degree 100 gamma 200 C:  0.72\n",
            "Accuracy on test dataset with linear kernel 3 degree 100 gamma 300 C:  0.72\n",
            "Accuracy on test dataset with linear kernel 3 degree 100 gamma 1000 C:  0.72\n",
            "Accuracy on test dataset with linear kernel 4 degree 0.001 gamma 1 C:  0.72\n",
            "Accuracy on test dataset with linear kernel 4 degree 0.001 gamma 10 C:  0.72\n",
            "Accuracy on test dataset with linear kernel 4 degree 0.001 gamma 100 C:  0.72\n",
            "Accuracy on test dataset with linear kernel 4 degree 0.001 gamma 200 C:  0.72\n",
            "Accuracy on test dataset with linear kernel 4 degree 0.001 gamma 300 C:  0.72\n",
            "Accuracy on test dataset with linear kernel 4 degree 0.001 gamma 1000 C:  0.72\n",
            "Accuracy on test dataset with linear kernel 4 degree 0.01 gamma 1 C:  0.72\n",
            "Accuracy on test dataset with linear kernel 4 degree 0.01 gamma 10 C:  0.72\n",
            "Accuracy on test dataset with linear kernel 4 degree 0.01 gamma 100 C:  0.72\n",
            "Accuracy on test dataset with linear kernel 4 degree 0.01 gamma 200 C:  0.72\n",
            "Accuracy on test dataset with linear kernel 4 degree 0.01 gamma 300 C:  0.72\n",
            "Accuracy on test dataset with linear kernel 4 degree 0.01 gamma 1000 C:  0.72\n",
            "Accuracy on test dataset with linear kernel 4 degree 0.1 gamma 1 C:  0.72\n",
            "Accuracy on test dataset with linear kernel 4 degree 0.1 gamma 10 C:  0.72\n",
            "Accuracy on test dataset with linear kernel 4 degree 0.1 gamma 100 C:  0.72\n",
            "Accuracy on test dataset with linear kernel 4 degree 0.1 gamma 200 C:  0.72\n",
            "Accuracy on test dataset with linear kernel 4 degree 0.1 gamma 300 C:  0.72\n",
            "Accuracy on test dataset with linear kernel 4 degree 0.1 gamma 1000 C:  0.72\n",
            "Accuracy on test dataset with linear kernel 4 degree 1 gamma 1 C:  0.72\n",
            "Accuracy on test dataset with linear kernel 4 degree 1 gamma 10 C:  0.72\n",
            "Accuracy on test dataset with linear kernel 4 degree 1 gamma 100 C:  0.72\n",
            "Accuracy on test dataset with linear kernel 4 degree 1 gamma 200 C:  0.72\n",
            "Accuracy on test dataset with linear kernel 4 degree 1 gamma 300 C:  0.72\n",
            "Accuracy on test dataset with linear kernel 4 degree 1 gamma 1000 C:  0.72\n",
            "Accuracy on test dataset with linear kernel 4 degree 10 gamma 1 C:  0.72\n",
            "Accuracy on test dataset with linear kernel 4 degree 10 gamma 10 C:  0.72\n",
            "Accuracy on test dataset with linear kernel 4 degree 10 gamma 100 C:  0.72\n",
            "Accuracy on test dataset with linear kernel 4 degree 10 gamma 200 C:  0.72\n",
            "Accuracy on test dataset with linear kernel 4 degree 10 gamma 300 C:  0.72\n",
            "Accuracy on test dataset with linear kernel 4 degree 10 gamma 1000 C:  0.72\n",
            "Accuracy on test dataset with linear kernel 4 degree 100 gamma 1 C:  0.72\n",
            "Accuracy on test dataset with linear kernel 4 degree 100 gamma 10 C:  0.72\n",
            "Accuracy on test dataset with linear kernel 4 degree 100 gamma 100 C:  0.72\n",
            "Accuracy on test dataset with linear kernel 4 degree 100 gamma 200 C:  0.72\n",
            "Accuracy on test dataset with linear kernel 4 degree 100 gamma 300 C:  0.72\n",
            "Accuracy on test dataset with linear kernel 4 degree 100 gamma 1000 C:  0.72\n",
            "Accuracy on test dataset with poly kernel 2 degree 0.001 gamma 1 C:  0.72\n",
            "Accuracy on test dataset with poly kernel 2 degree 0.001 gamma 10 C:  0.72\n",
            "Accuracy on test dataset with poly kernel 2 degree 0.001 gamma 100 C:  0.72\n",
            "Accuracy on test dataset with poly kernel 2 degree 0.001 gamma 200 C:  0.72\n",
            "Accuracy on test dataset with poly kernel 2 degree 0.001 gamma 300 C:  0.72\n",
            "Accuracy on test dataset with poly kernel 2 degree 0.001 gamma 1000 C:  0.72\n",
            "Accuracy on test dataset with poly kernel 2 degree 0.01 gamma 1 C:  0.72\n",
            "Accuracy on test dataset with poly kernel 2 degree 0.01 gamma 10 C:  0.72\n",
            "Accuracy on test dataset with poly kernel 2 degree 0.01 gamma 100 C:  0.72\n",
            "Accuracy on test dataset with poly kernel 2 degree 0.01 gamma 200 C:  0.6\n",
            "Accuracy on test dataset with poly kernel 2 degree 0.01 gamma 300 C:  0.64\n",
            "Accuracy on test dataset with poly kernel 2 degree 0.01 gamma 1000 C:  0.6\n",
            "Accuracy on test dataset with poly kernel 2 degree 0.1 gamma 1 C:  0.72\n",
            "Accuracy on test dataset with poly kernel 2 degree 0.1 gamma 10 C:  0.6\n",
            "Accuracy on test dataset with poly kernel 2 degree 0.1 gamma 100 C:  0.64\n",
            "Accuracy on test dataset with poly kernel 2 degree 0.1 gamma 200 C:  0.64\n",
            "Accuracy on test dataset with poly kernel 2 degree 0.1 gamma 300 C:  0.64\n",
            "Accuracy on test dataset with poly kernel 2 degree 0.1 gamma 1000 C:  0.68\n",
            "Accuracy on test dataset with poly kernel 2 degree 1 gamma 1 C:  0.64\n",
            "Accuracy on test dataset with poly kernel 2 degree 1 gamma 10 C:  0.68\n",
            "Accuracy on test dataset with poly kernel 2 degree 1 gamma 100 C:  0.64\n",
            "Accuracy on test dataset with poly kernel 2 degree 1 gamma 200 C:  0.64\n",
            "Accuracy on test dataset with poly kernel 2 degree 1 gamma 300 C:  0.64\n",
            "Accuracy on test dataset with poly kernel 2 degree 1 gamma 1000 C:  0.64\n",
            "Accuracy on test dataset with poly kernel 2 degree 10 gamma 1 C:  0.64\n",
            "Accuracy on test dataset with poly kernel 2 degree 10 gamma 10 C:  0.64\n",
            "Accuracy on test dataset with poly kernel 2 degree 10 gamma 100 C:  0.64\n",
            "Accuracy on test dataset with poly kernel 2 degree 10 gamma 200 C:  0.64\n",
            "Accuracy on test dataset with poly kernel 2 degree 10 gamma 300 C:  0.64\n",
            "Accuracy on test dataset with poly kernel 2 degree 10 gamma 1000 C:  0.64\n",
            "Accuracy on test dataset with poly kernel 2 degree 100 gamma 1 C:  0.64\n",
            "Accuracy on test dataset with poly kernel 2 degree 100 gamma 10 C:  0.64\n",
            "Accuracy on test dataset with poly kernel 2 degree 100 gamma 100 C:  0.68\n",
            "Accuracy on test dataset with poly kernel 2 degree 100 gamma 200 C:  0.68\n",
            "Accuracy on test dataset with poly kernel 2 degree 100 gamma 300 C:  0.68\n",
            "Accuracy on test dataset with poly kernel 2 degree 100 gamma 1000 C:  0.48\n",
            "Accuracy on test dataset with poly kernel 3 degree 0.001 gamma 1 C:  0.8\n",
            "Accuracy on test dataset with poly kernel 3 degree 0.001 gamma 10 C:  0.8\n",
            "Accuracy on test dataset with poly kernel 3 degree 0.001 gamma 100 C:  0.8\n",
            "Accuracy on test dataset with poly kernel 3 degree 0.001 gamma 200 C:  0.8\n",
            "Accuracy on test dataset with poly kernel 3 degree 0.001 gamma 300 C:  0.8\n",
            "Accuracy on test dataset with poly kernel 3 degree 0.001 gamma 1000 C:  0.8\n",
            "Accuracy on test dataset with poly kernel 3 degree 0.01 gamma 1 C:  0.8\n",
            "Accuracy on test dataset with poly kernel 3 degree 0.01 gamma 10 C:  0.8\n",
            "Accuracy on test dataset with poly kernel 3 degree 0.01 gamma 100 C:  0.8\n",
            "Accuracy on test dataset with poly kernel 3 degree 0.01 gamma 200 C:  0.8\n",
            "Accuracy on test dataset with poly kernel 3 degree 0.01 gamma 300 C:  0.8\n",
            "Accuracy on test dataset with poly kernel 3 degree 0.01 gamma 1000 C:  0.8\n",
            "Accuracy on test dataset with poly kernel 3 degree 0.1 gamma 1 C:  0.8\n",
            "Accuracy on test dataset with poly kernel 3 degree 0.1 gamma 10 C:  0.6\n",
            "Accuracy on test dataset with poly kernel 3 degree 0.1 gamma 100 C:  0.6\n",
            "Accuracy on test dataset with poly kernel 3 degree 0.1 gamma 200 C:  0.64\n",
            "Accuracy on test dataset with poly kernel 3 degree 0.1 gamma 300 C:  0.64\n",
            "Accuracy on test dataset with poly kernel 3 degree 0.1 gamma 1000 C:  0.68\n",
            "Accuracy on test dataset with poly kernel 3 degree 1 gamma 1 C:  0.68\n",
            "Accuracy on test dataset with poly kernel 3 degree 1 gamma 10 C:  0.64\n",
            "Accuracy on test dataset with poly kernel 3 degree 1 gamma 100 C:  0.64\n",
            "Accuracy on test dataset with poly kernel 3 degree 1 gamma 200 C:  0.64\n",
            "Accuracy on test dataset with poly kernel 3 degree 1 gamma 300 C:  0.64\n",
            "Accuracy on test dataset with poly kernel 3 degree 1 gamma 1000 C:  0.64\n",
            "Accuracy on test dataset with poly kernel 3 degree 10 gamma 1 C:  0.64\n",
            "Accuracy on test dataset with poly kernel 3 degree 10 gamma 10 C:  0.68\n",
            "Accuracy on test dataset with poly kernel 3 degree 10 gamma 100 C:  0.72\n",
            "Accuracy on test dataset with poly kernel 3 degree 10 gamma 200 C:  0.64\n",
            "Accuracy on test dataset with poly kernel 3 degree 10 gamma 300 C:  0.64\n",
            "Accuracy on test dataset with poly kernel 3 degree 10 gamma 1000 C:  0.64\n",
            "Accuracy on test dataset with poly kernel 3 degree 100 gamma 1 C:  0.52\n",
            "Accuracy on test dataset with poly kernel 3 degree 100 gamma 10 C:  0.56\n",
            "Accuracy on test dataset with poly kernel 3 degree 100 gamma 100 C:  0.56\n",
            "Accuracy on test dataset with poly kernel 3 degree 100 gamma 200 C:  0.56\n",
            "Accuracy on test dataset with poly kernel 3 degree 100 gamma 300 C:  0.56\n",
            "Accuracy on test dataset with poly kernel 3 degree 100 gamma 1000 C:  0.56\n",
            "Accuracy on test dataset with poly kernel 4 degree 0.001 gamma 1 C:  0.84\n",
            "Accuracy on test dataset with poly kernel 4 degree 0.001 gamma 10 C:  0.84\n",
            "Accuracy on test dataset with poly kernel 4 degree 0.001 gamma 100 C:  0.84\n",
            "Accuracy on test dataset with poly kernel 4 degree 0.001 gamma 200 C:  0.84\n",
            "Accuracy on test dataset with poly kernel 4 degree 0.001 gamma 300 C:  0.84\n",
            "Accuracy on test dataset with poly kernel 4 degree 0.001 gamma 1000 C:  0.84\n",
            "Accuracy on test dataset with poly kernel 4 degree 0.01 gamma 1 C:  0.84\n",
            "Accuracy on test dataset with poly kernel 4 degree 0.01 gamma 10 C:  0.84\n",
            "Accuracy on test dataset with poly kernel 4 degree 0.01 gamma 100 C:  0.84\n",
            "Accuracy on test dataset with poly kernel 4 degree 0.01 gamma 200 C:  0.84\n",
            "Accuracy on test dataset with poly kernel 4 degree 0.01 gamma 300 C:  0.84\n",
            "Accuracy on test dataset with poly kernel 4 degree 0.01 gamma 1000 C:  0.84\n",
            "Accuracy on test dataset with poly kernel 4 degree 0.1 gamma 1 C:  0.8\n",
            "Accuracy on test dataset with poly kernel 4 degree 0.1 gamma 10 C:  0.56\n",
            "Accuracy on test dataset with poly kernel 4 degree 0.1 gamma 100 C:  0.6\n",
            "Accuracy on test dataset with poly kernel 4 degree 0.1 gamma 200 C:  0.6\n",
            "Accuracy on test dataset with poly kernel 4 degree 0.1 gamma 300 C:  0.64\n",
            "Accuracy on test dataset with poly kernel 4 degree 0.1 gamma 1000 C:  0.68\n",
            "Accuracy on test dataset with poly kernel 4 degree 1 gamma 1 C:  0.6\n",
            "Accuracy on test dataset with poly kernel 4 degree 1 gamma 10 C:  0.64\n",
            "Accuracy on test dataset with poly kernel 4 degree 1 gamma 100 C:  0.68\n",
            "Accuracy on test dataset with poly kernel 4 degree 1 gamma 200 C:  0.72\n",
            "Accuracy on test dataset with poly kernel 4 degree 1 gamma 300 C:  0.68\n",
            "Accuracy on test dataset with poly kernel 4 degree 1 gamma 1000 C:  0.68\n",
            "Accuracy on test dataset with poly kernel 4 degree 10 gamma 1 C:  0.64\n",
            "Accuracy on test dataset with poly kernel 4 degree 10 gamma 10 C:  0.6\n",
            "Accuracy on test dataset with poly kernel 4 degree 10 gamma 100 C:  0.68\n",
            "Accuracy on test dataset with poly kernel 4 degree 10 gamma 200 C:  0.72\n",
            "Accuracy on test dataset with poly kernel 4 degree 10 gamma 300 C:  0.72\n",
            "Accuracy on test dataset with poly kernel 4 degree 10 gamma 1000 C:  0.72\n",
            "Accuracy on test dataset with poly kernel 4 degree 100 gamma 1 C:  0.64\n",
            "Accuracy on test dataset with poly kernel 4 degree 100 gamma 10 C:  0.64\n",
            "Accuracy on test dataset with poly kernel 4 degree 100 gamma 100 C:  0.64\n",
            "Accuracy on test dataset with poly kernel 4 degree 100 gamma 200 C:  0.64\n",
            "Accuracy on test dataset with poly kernel 4 degree 100 gamma 300 C:  0.64\n",
            "Accuracy on test dataset with poly kernel 4 degree 100 gamma 1000 C:  0.64\n",
            "Accuracy on test dataset with rbf kernel 2 degree 0.001 gamma 1 C:  0.68\n",
            "Accuracy on test dataset with rbf kernel 2 degree 0.001 gamma 10 C:  0.68\n",
            "Accuracy on test dataset with rbf kernel 2 degree 0.001 gamma 100 C:  0.68\n",
            "Accuracy on test dataset with rbf kernel 2 degree 0.001 gamma 200 C:  0.68\n",
            "Accuracy on test dataset with rbf kernel 2 degree 0.001 gamma 300 C:  0.72\n",
            "Accuracy on test dataset with rbf kernel 2 degree 0.001 gamma 1000 C:  0.72\n",
            "Accuracy on test dataset with rbf kernel 2 degree 0.01 gamma 1 C:  0.68\n",
            "Accuracy on test dataset with rbf kernel 2 degree 0.01 gamma 10 C:  0.68\n",
            "Accuracy on test dataset with rbf kernel 2 degree 0.01 gamma 100 C:  0.72\n",
            "Accuracy on test dataset with rbf kernel 2 degree 0.01 gamma 200 C:  0.72\n",
            "Accuracy on test dataset with rbf kernel 2 degree 0.01 gamma 300 C:  0.72\n",
            "Accuracy on test dataset with rbf kernel 2 degree 0.01 gamma 1000 C:  0.64\n",
            "Accuracy on test dataset with rbf kernel 2 degree 0.1 gamma 1 C:  0.76\n",
            "Accuracy on test dataset with rbf kernel 2 degree 0.1 gamma 10 C:  0.68\n",
            "Accuracy on test dataset with rbf kernel 2 degree 0.1 gamma 100 C:  0.64\n",
            "Accuracy on test dataset with rbf kernel 2 degree 0.1 gamma 200 C:  0.64\n",
            "Accuracy on test dataset with rbf kernel 2 degree 0.1 gamma 300 C:  0.68\n",
            "Accuracy on test dataset with rbf kernel 2 degree 0.1 gamma 1000 C:  0.68\n",
            "Accuracy on test dataset with rbf kernel 2 degree 1 gamma 1 C:  0.68\n",
            "Accuracy on test dataset with rbf kernel 2 degree 1 gamma 10 C:  0.72\n",
            "Accuracy on test dataset with rbf kernel 2 degree 1 gamma 100 C:  0.72\n",
            "Accuracy on test dataset with rbf kernel 2 degree 1 gamma 200 C:  0.72\n",
            "Accuracy on test dataset with rbf kernel 2 degree 1 gamma 300 C:  0.72\n",
            "Accuracy on test dataset with rbf kernel 2 degree 1 gamma 1000 C:  0.72\n",
            "Accuracy on test dataset with rbf kernel 2 degree 10 gamma 1 C:  0.76\n",
            "Accuracy on test dataset with rbf kernel 2 degree 10 gamma 10 C:  0.76\n",
            "Accuracy on test dataset with rbf kernel 2 degree 10 gamma 100 C:  0.76\n",
            "Accuracy on test dataset with rbf kernel 2 degree 10 gamma 200 C:  0.76\n",
            "Accuracy on test dataset with rbf kernel 2 degree 10 gamma 300 C:  0.76\n",
            "Accuracy on test dataset with rbf kernel 2 degree 10 gamma 1000 C:  0.72\n",
            "Accuracy on test dataset with rbf kernel 2 degree 100 gamma 1 C:  0.8\n",
            "Accuracy on test dataset with rbf kernel 2 degree 100 gamma 10 C:  0.76\n",
            "Accuracy on test dataset with rbf kernel 2 degree 100 gamma 100 C:  0.76\n",
            "Accuracy on test dataset with rbf kernel 2 degree 100 gamma 200 C:  0.76\n",
            "Accuracy on test dataset with rbf kernel 2 degree 100 gamma 300 C:  0.76\n",
            "Accuracy on test dataset with rbf kernel 2 degree 100 gamma 1000 C:  0.76\n",
            "Accuracy on test dataset with rbf kernel 3 degree 0.001 gamma 1 C:  0.68\n",
            "Accuracy on test dataset with rbf kernel 3 degree 0.001 gamma 10 C:  0.68\n",
            "Accuracy on test dataset with rbf kernel 3 degree 0.001 gamma 100 C:  0.68\n",
            "Accuracy on test dataset with rbf kernel 3 degree 0.001 gamma 200 C:  0.68\n",
            "Accuracy on test dataset with rbf kernel 3 degree 0.001 gamma 300 C:  0.72\n",
            "Accuracy on test dataset with rbf kernel 3 degree 0.001 gamma 1000 C:  0.72\n",
            "Accuracy on test dataset with rbf kernel 3 degree 0.01 gamma 1 C:  0.68\n",
            "Accuracy on test dataset with rbf kernel 3 degree 0.01 gamma 10 C:  0.68\n",
            "Accuracy on test dataset with rbf kernel 3 degree 0.01 gamma 100 C:  0.72\n",
            "Accuracy on test dataset with rbf kernel 3 degree 0.01 gamma 200 C:  0.72\n",
            "Accuracy on test dataset with rbf kernel 3 degree 0.01 gamma 300 C:  0.72\n",
            "Accuracy on test dataset with rbf kernel 3 degree 0.01 gamma 1000 C:  0.64\n",
            "Accuracy on test dataset with rbf kernel 3 degree 0.1 gamma 1 C:  0.76\n",
            "Accuracy on test dataset with rbf kernel 3 degree 0.1 gamma 10 C:  0.68\n",
            "Accuracy on test dataset with rbf kernel 3 degree 0.1 gamma 100 C:  0.64\n",
            "Accuracy on test dataset with rbf kernel 3 degree 0.1 gamma 200 C:  0.64\n",
            "Accuracy on test dataset with rbf kernel 3 degree 0.1 gamma 300 C:  0.68\n",
            "Accuracy on test dataset with rbf kernel 3 degree 0.1 gamma 1000 C:  0.68\n",
            "Accuracy on test dataset with rbf kernel 3 degree 1 gamma 1 C:  0.68\n",
            "Accuracy on test dataset with rbf kernel 3 degree 1 gamma 10 C:  0.72\n",
            "Accuracy on test dataset with rbf kernel 3 degree 1 gamma 100 C:  0.72\n",
            "Accuracy on test dataset with rbf kernel 3 degree 1 gamma 200 C:  0.72\n",
            "Accuracy on test dataset with rbf kernel 3 degree 1 gamma 300 C:  0.72\n",
            "Accuracy on test dataset with rbf kernel 3 degree 1 gamma 1000 C:  0.72\n",
            "Accuracy on test dataset with rbf kernel 3 degree 10 gamma 1 C:  0.76\n",
            "Accuracy on test dataset with rbf kernel 3 degree 10 gamma 10 C:  0.76\n",
            "Accuracy on test dataset with rbf kernel 3 degree 10 gamma 100 C:  0.76\n",
            "Accuracy on test dataset with rbf kernel 3 degree 10 gamma 200 C:  0.76\n",
            "Accuracy on test dataset with rbf kernel 3 degree 10 gamma 300 C:  0.76\n",
            "Accuracy on test dataset with rbf kernel 3 degree 10 gamma 1000 C:  0.72\n",
            "Accuracy on test dataset with rbf kernel 3 degree 100 gamma 1 C:  0.8\n",
            "Accuracy on test dataset with rbf kernel 3 degree 100 gamma 10 C:  0.76\n",
            "Accuracy on test dataset with rbf kernel 3 degree 100 gamma 100 C:  0.76\n",
            "Accuracy on test dataset with rbf kernel 3 degree 100 gamma 200 C:  0.76\n",
            "Accuracy on test dataset with rbf kernel 3 degree 100 gamma 300 C:  0.76\n",
            "Accuracy on test dataset with rbf kernel 3 degree 100 gamma 1000 C:  0.76\n",
            "Accuracy on test dataset with rbf kernel 4 degree 0.001 gamma 1 C:  0.68\n",
            "Accuracy on test dataset with rbf kernel 4 degree 0.001 gamma 10 C:  0.68\n",
            "Accuracy on test dataset with rbf kernel 4 degree 0.001 gamma 100 C:  0.68\n",
            "Accuracy on test dataset with rbf kernel 4 degree 0.001 gamma 200 C:  0.68\n",
            "Accuracy on test dataset with rbf kernel 4 degree 0.001 gamma 300 C:  0.72\n",
            "Accuracy on test dataset with rbf kernel 4 degree 0.001 gamma 1000 C:  0.72\n",
            "Accuracy on test dataset with rbf kernel 4 degree 0.01 gamma 1 C:  0.68\n",
            "Accuracy on test dataset with rbf kernel 4 degree 0.01 gamma 10 C:  0.68\n",
            "Accuracy on test dataset with rbf kernel 4 degree 0.01 gamma 100 C:  0.72\n",
            "Accuracy on test dataset with rbf kernel 4 degree 0.01 gamma 200 C:  0.72\n",
            "Accuracy on test dataset with rbf kernel 4 degree 0.01 gamma 300 C:  0.72\n",
            "Accuracy on test dataset with rbf kernel 4 degree 0.01 gamma 1000 C:  0.64\n",
            "Accuracy on test dataset with rbf kernel 4 degree 0.1 gamma 1 C:  0.76\n",
            "Accuracy on test dataset with rbf kernel 4 degree 0.1 gamma 10 C:  0.68\n",
            "Accuracy on test dataset with rbf kernel 4 degree 0.1 gamma 100 C:  0.64\n",
            "Accuracy on test dataset with rbf kernel 4 degree 0.1 gamma 200 C:  0.64\n",
            "Accuracy on test dataset with rbf kernel 4 degree 0.1 gamma 300 C:  0.68\n",
            "Accuracy on test dataset with rbf kernel 4 degree 0.1 gamma 1000 C:  0.68\n",
            "Accuracy on test dataset with rbf kernel 4 degree 1 gamma 1 C:  0.68\n",
            "Accuracy on test dataset with rbf kernel 4 degree 1 gamma 10 C:  0.72\n",
            "Accuracy on test dataset with rbf kernel 4 degree 1 gamma 100 C:  0.72\n",
            "Accuracy on test dataset with rbf kernel 4 degree 1 gamma 200 C:  0.72\n",
            "Accuracy on test dataset with rbf kernel 4 degree 1 gamma 300 C:  0.72\n",
            "Accuracy on test dataset with rbf kernel 4 degree 1 gamma 1000 C:  0.72\n",
            "Accuracy on test dataset with rbf kernel 4 degree 10 gamma 1 C:  0.76\n",
            "Accuracy on test dataset with rbf kernel 4 degree 10 gamma 10 C:  0.76\n",
            "Accuracy on test dataset with rbf kernel 4 degree 10 gamma 100 C:  0.76\n",
            "Accuracy on test dataset with rbf kernel 4 degree 10 gamma 200 C:  0.76\n",
            "Accuracy on test dataset with rbf kernel 4 degree 10 gamma 300 C:  0.76\n",
            "Accuracy on test dataset with rbf kernel 4 degree 10 gamma 1000 C:  0.72\n",
            "Accuracy on test dataset with rbf kernel 4 degree 100 gamma 1 C:  0.8\n",
            "Accuracy on test dataset with rbf kernel 4 degree 100 gamma 10 C:  0.76\n",
            "Accuracy on test dataset with rbf kernel 4 degree 100 gamma 100 C:  0.76\n",
            "Accuracy on test dataset with rbf kernel 4 degree 100 gamma 200 C:  0.76\n",
            "Accuracy on test dataset with rbf kernel 4 degree 100 gamma 300 C:  0.76\n",
            "Accuracy on test dataset with rbf kernel 4 degree 100 gamma 1000 C:  0.76\n",
            "Accuracy on test dataset with sigmoid kernel 2 degree 0.001 gamma 1 C:  0.68\n",
            "Accuracy on test dataset with sigmoid kernel 2 degree 0.001 gamma 10 C:  0.68\n",
            "Accuracy on test dataset with sigmoid kernel 2 degree 0.001 gamma 100 C:  0.68\n",
            "Accuracy on test dataset with sigmoid kernel 2 degree 0.001 gamma 200 C:  0.68\n",
            "Accuracy on test dataset with sigmoid kernel 2 degree 0.001 gamma 300 C:  0.68\n",
            "Accuracy on test dataset with sigmoid kernel 2 degree 0.001 gamma 1000 C:  0.72\n",
            "Accuracy on test dataset with sigmoid kernel 2 degree 0.01 gamma 1 C:  0.68\n",
            "Accuracy on test dataset with sigmoid kernel 2 degree 0.01 gamma 10 C:  0.68\n",
            "Accuracy on test dataset with sigmoid kernel 2 degree 0.01 gamma 100 C:  0.72\n",
            "Accuracy on test dataset with sigmoid kernel 2 degree 0.01 gamma 200 C:  0.72\n",
            "Accuracy on test dataset with sigmoid kernel 2 degree 0.01 gamma 300 C:  0.72\n",
            "Accuracy on test dataset with sigmoid kernel 2 degree 0.01 gamma 1000 C:  0.72\n",
            "Accuracy on test dataset with sigmoid kernel 2 degree 0.1 gamma 1 C:  0.68\n",
            "Accuracy on test dataset with sigmoid kernel 2 degree 0.1 gamma 10 C:  0.68\n",
            "Accuracy on test dataset with sigmoid kernel 2 degree 0.1 gamma 100 C:  0.64\n",
            "Accuracy on test dataset with sigmoid kernel 2 degree 0.1 gamma 200 C:  0.64\n",
            "Accuracy on test dataset with sigmoid kernel 2 degree 0.1 gamma 300 C:  0.64\n",
            "Accuracy on test dataset with sigmoid kernel 2 degree 0.1 gamma 1000 C:  0.6\n",
            "Accuracy on test dataset with sigmoid kernel 2 degree 1 gamma 1 C:  0.64\n",
            "Accuracy on test dataset with sigmoid kernel 2 degree 1 gamma 10 C:  0.52\n",
            "Accuracy on test dataset with sigmoid kernel 2 degree 1 gamma 100 C:  0.48\n",
            "Accuracy on test dataset with sigmoid kernel 2 degree 1 gamma 200 C:  0.48\n",
            "Accuracy on test dataset with sigmoid kernel 2 degree 1 gamma 300 C:  0.48\n",
            "Accuracy on test dataset with sigmoid kernel 2 degree 1 gamma 1000 C:  0.48\n",
            "Accuracy on test dataset with sigmoid kernel 2 degree 10 gamma 1 C:  0.24\n",
            "Accuracy on test dataset with sigmoid kernel 2 degree 10 gamma 10 C:  0.6\n",
            "Accuracy on test dataset with sigmoid kernel 2 degree 10 gamma 100 C:  0.56\n",
            "Accuracy on test dataset with sigmoid kernel 2 degree 10 gamma 200 C:  0.56\n",
            "Accuracy on test dataset with sigmoid kernel 2 degree 10 gamma 300 C:  0.56\n",
            "Accuracy on test dataset with sigmoid kernel 2 degree 10 gamma 1000 C:  0.56\n",
            "Accuracy on test dataset with sigmoid kernel 2 degree 100 gamma 1 C:  0.68\n",
            "Accuracy on test dataset with sigmoid kernel 2 degree 100 gamma 10 C:  0.68\n",
            "Accuracy on test dataset with sigmoid kernel 2 degree 100 gamma 100 C:  0.68\n",
            "Accuracy on test dataset with sigmoid kernel 2 degree 100 gamma 200 C:  0.68\n",
            "Accuracy on test dataset with sigmoid kernel 2 degree 100 gamma 300 C:  0.68\n",
            "Accuracy on test dataset with sigmoid kernel 2 degree 100 gamma 1000 C:  0.68\n",
            "Accuracy on test dataset with sigmoid kernel 3 degree 0.001 gamma 1 C:  0.68\n",
            "Accuracy on test dataset with sigmoid kernel 3 degree 0.001 gamma 10 C:  0.68\n",
            "Accuracy on test dataset with sigmoid kernel 3 degree 0.001 gamma 100 C:  0.68\n",
            "Accuracy on test dataset with sigmoid kernel 3 degree 0.001 gamma 200 C:  0.68\n",
            "Accuracy on test dataset with sigmoid kernel 3 degree 0.001 gamma 300 C:  0.68\n",
            "Accuracy on test dataset with sigmoid kernel 3 degree 0.001 gamma 1000 C:  0.72\n",
            "Accuracy on test dataset with sigmoid kernel 3 degree 0.01 gamma 1 C:  0.68\n",
            "Accuracy on test dataset with sigmoid kernel 3 degree 0.01 gamma 10 C:  0.68\n",
            "Accuracy on test dataset with sigmoid kernel 3 degree 0.01 gamma 100 C:  0.72\n",
            "Accuracy on test dataset with sigmoid kernel 3 degree 0.01 gamma 200 C:  0.72\n",
            "Accuracy on test dataset with sigmoid kernel 3 degree 0.01 gamma 300 C:  0.72\n",
            "Accuracy on test dataset with sigmoid kernel 3 degree 0.01 gamma 1000 C:  0.72\n",
            "Accuracy on test dataset with sigmoid kernel 3 degree 0.1 gamma 1 C:  0.68\n",
            "Accuracy on test dataset with sigmoid kernel 3 degree 0.1 gamma 10 C:  0.68\n",
            "Accuracy on test dataset with sigmoid kernel 3 degree 0.1 gamma 100 C:  0.64\n",
            "Accuracy on test dataset with sigmoid kernel 3 degree 0.1 gamma 200 C:  0.64\n",
            "Accuracy on test dataset with sigmoid kernel 3 degree 0.1 gamma 300 C:  0.64\n",
            "Accuracy on test dataset with sigmoid kernel 3 degree 0.1 gamma 1000 C:  0.6\n",
            "Accuracy on test dataset with sigmoid kernel 3 degree 1 gamma 1 C:  0.64\n",
            "Accuracy on test dataset with sigmoid kernel 3 degree 1 gamma 10 C:  0.52\n",
            "Accuracy on test dataset with sigmoid kernel 3 degree 1 gamma 100 C:  0.48\n",
            "Accuracy on test dataset with sigmoid kernel 3 degree 1 gamma 200 C:  0.48\n",
            "Accuracy on test dataset with sigmoid kernel 3 degree 1 gamma 300 C:  0.48\n",
            "Accuracy on test dataset with sigmoid kernel 3 degree 1 gamma 1000 C:  0.48\n",
            "Accuracy on test dataset with sigmoid kernel 3 degree 10 gamma 1 C:  0.24\n",
            "Accuracy on test dataset with sigmoid kernel 3 degree 10 gamma 10 C:  0.6\n",
            "Accuracy on test dataset with sigmoid kernel 3 degree 10 gamma 100 C:  0.56\n",
            "Accuracy on test dataset with sigmoid kernel 3 degree 10 gamma 200 C:  0.56\n",
            "Accuracy on test dataset with sigmoid kernel 3 degree 10 gamma 300 C:  0.56\n",
            "Accuracy on test dataset with sigmoid kernel 3 degree 10 gamma 1000 C:  0.56\n",
            "Accuracy on test dataset with sigmoid kernel 3 degree 100 gamma 1 C:  0.68\n",
            "Accuracy on test dataset with sigmoid kernel 3 degree 100 gamma 10 C:  0.68\n",
            "Accuracy on test dataset with sigmoid kernel 3 degree 100 gamma 100 C:  0.68\n",
            "Accuracy on test dataset with sigmoid kernel 3 degree 100 gamma 200 C:  0.68\n",
            "Accuracy on test dataset with sigmoid kernel 3 degree 100 gamma 300 C:  0.68\n",
            "Accuracy on test dataset with sigmoid kernel 3 degree 100 gamma 1000 C:  0.68\n",
            "Accuracy on test dataset with sigmoid kernel 4 degree 0.001 gamma 1 C:  0.68\n",
            "Accuracy on test dataset with sigmoid kernel 4 degree 0.001 gamma 10 C:  0.68\n",
            "Accuracy on test dataset with sigmoid kernel 4 degree 0.001 gamma 100 C:  0.68\n",
            "Accuracy on test dataset with sigmoid kernel 4 degree 0.001 gamma 200 C:  0.68\n",
            "Accuracy on test dataset with sigmoid kernel 4 degree 0.001 gamma 300 C:  0.68\n",
            "Accuracy on test dataset with sigmoid kernel 4 degree 0.001 gamma 1000 C:  0.72\n",
            "Accuracy on test dataset with sigmoid kernel 4 degree 0.01 gamma 1 C:  0.68\n",
            "Accuracy on test dataset with sigmoid kernel 4 degree 0.01 gamma 10 C:  0.68\n",
            "Accuracy on test dataset with sigmoid kernel 4 degree 0.01 gamma 100 C:  0.72\n",
            "Accuracy on test dataset with sigmoid kernel 4 degree 0.01 gamma 200 C:  0.72\n",
            "Accuracy on test dataset with sigmoid kernel 4 degree 0.01 gamma 300 C:  0.72\n",
            "Accuracy on test dataset with sigmoid kernel 4 degree 0.01 gamma 1000 C:  0.72\n",
            "Accuracy on test dataset with sigmoid kernel 4 degree 0.1 gamma 1 C:  0.68\n",
            "Accuracy on test dataset with sigmoid kernel 4 degree 0.1 gamma 10 C:  0.68\n",
            "Accuracy on test dataset with sigmoid kernel 4 degree 0.1 gamma 100 C:  0.64\n",
            "Accuracy on test dataset with sigmoid kernel 4 degree 0.1 gamma 200 C:  0.64\n",
            "Accuracy on test dataset with sigmoid kernel 4 degree 0.1 gamma 300 C:  0.64\n",
            "Accuracy on test dataset with sigmoid kernel 4 degree 0.1 gamma 1000 C:  0.6\n",
            "Accuracy on test dataset with sigmoid kernel 4 degree 1 gamma 1 C:  0.64\n",
            "Accuracy on test dataset with sigmoid kernel 4 degree 1 gamma 10 C:  0.52\n",
            "Accuracy on test dataset with sigmoid kernel 4 degree 1 gamma 100 C:  0.48\n",
            "Accuracy on test dataset with sigmoid kernel 4 degree 1 gamma 200 C:  0.48\n",
            "Accuracy on test dataset with sigmoid kernel 4 degree 1 gamma 300 C:  0.48\n",
            "Accuracy on test dataset with sigmoid kernel 4 degree 1 gamma 1000 C:  0.48\n",
            "Accuracy on test dataset with sigmoid kernel 4 degree 10 gamma 1 C:  0.24\n",
            "Accuracy on test dataset with sigmoid kernel 4 degree 10 gamma 10 C:  0.6\n",
            "Accuracy on test dataset with sigmoid kernel 4 degree 10 gamma 100 C:  0.56\n",
            "Accuracy on test dataset with sigmoid kernel 4 degree 10 gamma 200 C:  0.56\n",
            "Accuracy on test dataset with sigmoid kernel 4 degree 10 gamma 300 C:  0.56\n",
            "Accuracy on test dataset with sigmoid kernel 4 degree 10 gamma 1000 C:  0.56\n",
            "Accuracy on test dataset with sigmoid kernel 4 degree 100 gamma 1 C:  0.68\n",
            "Accuracy on test dataset with sigmoid kernel 4 degree 100 gamma 10 C:  0.68\n",
            "Accuracy on test dataset with sigmoid kernel 4 degree 100 gamma 100 C:  0.68\n",
            "Accuracy on test dataset with sigmoid kernel 4 degree 100 gamma 200 C:  0.68\n",
            "Accuracy on test dataset with sigmoid kernel 4 degree 100 gamma 300 C:  0.68\n",
            "Accuracy on test dataset with sigmoid kernel 4 degree 100 gamma 1000 C:  0.68\n"
          ],
          "name": "stdout"
        }
      ]
    },
    {
      "cell_type": "markdown",
      "metadata": {
        "id": "kUq3SLXhWCZA",
        "colab_type": "text"
      },
      "source": [
        "Following hyperparameters are doing the best, concluded from above history"
      ]
    },
    {
      "cell_type": "code",
      "metadata": {
        "id": "QoEKQvJFWCZA",
        "colab_type": "code",
        "colab": {
          "base_uri": "https://localhost:8080/",
          "height": 34
        },
        "outputId": "74305e20-0285-4745-e6d5-d43f33ab6903"
      },
      "source": [
        "clf = SVC(kernel = \"poly\", degree = 2, gamma = 0.1, C = 10,random_state=0)\n",
        "clf.fit(X_train_scaled,y_train_smote)\n",
        "pred = clf.predict(X_test_scaled)\n",
        "accuracy = accuracy_score(pred,y_test)\n",
        "print(\"Accuracy on test dataset : \", accuracy)"
      ],
      "execution_count": 115,
      "outputs": [
        {
          "output_type": "stream",
          "text": [
            "Accuracy on test dataset :  0.6\n"
          ],
          "name": "stdout"
        }
      ]
    },
    {
      "cell_type": "code",
      "metadata": {
        "id": "4I0QGKaEWCZE",
        "colab_type": "code",
        "colab": {
          "base_uri": "https://localhost:8080/",
          "height": 34
        },
        "outputId": "934261a9-7167-4189-8384-9372696703ee"
      },
      "source": [
        "clf = SVC(kernel = \"poly\", degree = 2, gamma = 0.01, C = 200,random_state =0)\n",
        "clf.fit(X_train_scaled,y_train_smote)\n",
        "pred = clf.predict(X_test_scaled)\n",
        "accuracy = accuracy_score(pred,y_test)\n",
        "print(\"Accuracy on test dataset : \", accuracy)"
      ],
      "execution_count": 116,
      "outputs": [
        {
          "output_type": "stream",
          "text": [
            "Accuracy on test dataset :  0.6\n"
          ],
          "name": "stdout"
        }
      ]
    },
    {
      "cell_type": "code",
      "metadata": {
        "id": "plZmH6ubWCZH",
        "colab_type": "code",
        "colab": {
          "base_uri": "https://localhost:8080/",
          "height": 34
        },
        "outputId": "7e752b5f-938f-4b4a-bae9-8b423e8316dd"
      },
      "source": [
        "clf = SVC(kernel = \"poly\", degree = 2, gamma = 1, C = 1,random_state = 0)\n",
        "clf.fit(X_train_scaled,y_train_smote)\n",
        "pred = clf.predict(X_test_scaled)\n",
        "accuracy = accuracy_score(pred,y_test)\n",
        "print(\"Accuracy on test dataset : \", accuracy)"
      ],
      "execution_count": 117,
      "outputs": [
        {
          "output_type": "stream",
          "text": [
            "Accuracy on test dataset :  0.64\n"
          ],
          "name": "stdout"
        }
      ]
    },
    {
      "cell_type": "code",
      "metadata": {
        "id": "3Kb_5IlsWCZJ",
        "colab_type": "code",
        "colab": {
          "base_uri": "https://localhost:8080/",
          "height": 34
        },
        "outputId": "1f0f7c31-4787-44da-e425-cea9af69e28f"
      },
      "source": [
        "clf = SVC(kernel = \"poly\", degree = 2, gamma = 0.1, C = 200,random_state = 0)\n",
        "clf.fit(X_train_scaled,y_train_smote)\n",
        "pred = clf.predict(X_test_scaled)\n",
        "accuracy = accuracy_score(pred,y_test)\n",
        "print(\"Accuracy on test dataset : \", accuracy)"
      ],
      "execution_count": 118,
      "outputs": [
        {
          "output_type": "stream",
          "text": [
            "Accuracy on test dataset :  0.64\n"
          ],
          "name": "stdout"
        }
      ]
    },
    {
      "cell_type": "markdown",
      "metadata": {
        "id": "5cJR-946WCZL",
        "colab_type": "text"
      },
      "source": [
        "# DecisionTreeClassifier"
      ]
    },
    {
      "cell_type": "code",
      "metadata": {
        "id": "u1T8vG0yWCZL",
        "colab_type": "code",
        "colab": {}
      },
      "source": [
        "from sklearn import tree"
      ],
      "execution_count": 0,
      "outputs": []
    },
    {
      "cell_type": "code",
      "metadata": {
        "id": "kLWXmuoEWCZN",
        "colab_type": "code",
        "colab": {
          "base_uri": "https://localhost:8080/",
          "height": 34
        },
        "outputId": "b1602b11-6ca1-436f-c672-1d7f3389ad39"
      },
      "source": [
        "clf = tree.DecisionTreeClassifier(min_samples_split = 5,random_state = 0)\n",
        "clf.fit(X_train_scaled,y_train_smote)\n",
        "pred = clf.predict(X_test_scaled)\n",
        "accuracy = accuracy_score(pred,y_test)\n",
        "print(\"Accuracy on test dataset : \", accuracy)"
      ],
      "execution_count": 120,
      "outputs": [
        {
          "output_type": "stream",
          "text": [
            "Accuracy on test dataset :  0.48\n"
          ],
          "name": "stdout"
        }
      ]
    },
    {
      "cell_type": "code",
      "metadata": {
        "id": "rlcBkNx_WCZP",
        "colab_type": "code",
        "colab": {}
      },
      "source": [
        "# Build Models \n",
        "\n",
        "# Random Forest\n",
        "# TODO"
      ],
      "execution_count": 0,
      "outputs": []
    }
  ]
}