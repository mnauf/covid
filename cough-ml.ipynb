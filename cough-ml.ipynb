{
  "nbformat": 4,
  "nbformat_minor": 0,
  "metadata": {
    "colab": {
      "name": "Virufy_predictions(usama)_v1.ipynb",
      "provenance": [],
      "collapsed_sections": [
        "3aGoA97aAj4f"
      ],
      "toc_visible": true
    },
    "kernelspec": {
      "display_name": "Python 3",
      "name": "python3"
    },
    "accelerator": "TPU"
  },
  "cells": [
    {
      "cell_type": "markdown",
      "metadata": {
        "id": "SmJShC36KU4_",
        "colab_type": "text"
      },
      "source": [
        "#Testing Experiments\n",
        "> The portion from Data preprocessing till final checking is on the Data online Available\n",
        "\n",
        "> Final Trial on real Data  portions contain Expermient on Real Data"
      ]
    },
    {
      "cell_type": "code",
      "metadata": {
        "id": "ZO8Uc-EVOMa1",
        "colab_type": "code",
        "colab": {}
      },
      "source": [
        "from google.colab import drive\n",
        "drive.mount('/content/drive')"
      ],
      "execution_count": 0,
      "outputs": []
    },
    {
      "cell_type": "code",
      "metadata": {
        "id": "YfC-HOV3OX3w",
        "colab_type": "code",
        "colab": {}
      },
      "source": [
        "import pandas as pd\n",
        "from  sklearn.model_selection import train_test_split\n",
        "from sklearn.preprocessing import LabelEncoder\n",
        "import librosa \n",
        "import librosa.display as dis\n",
        "import os\n",
        "import matplotlib.pyplot as plt\n",
        "import glob\n",
        "import numpy as np\n",
        "from tensorflow.keras import * "
      ],
      "execution_count": 0,
      "outputs": []
    },
    {
      "cell_type": "markdown",
      "metadata": {
        "id": "DJXL-A0XK_Cg",
        "colab_type": "text"
      },
      "source": [
        "#Data preprocessing"
      ]
    },
    {
      "cell_type": "markdown",
      "metadata": {
        "id": "sH_lw9IQUnL4",
        "colab_type": "text"
      },
      "source": [
        "#Experiments on Online Data"
      ]
    },
    {
      "cell_type": "code",
      "metadata": {
        "id": "1roJRLnbQrUI",
        "colab_type": "code",
        "colab": {}
      },
      "source": [
        "#loading data\n",
        "\n",
        "import glob\n",
        "import os\n",
        "import pandas as pd\n",
        "\n",
        "\n",
        "df = []\n",
        "for folder in [\"/content/drive/My Drive/Colab Notebooks/continuous_wavelet_transform/continuous_wavelet_transform/train/sick/**\",\n",
        "             \n",
        "               ]:\n",
        "  for fname in glob.iglob(folder):\n",
        "    if os.path.exists(fname):\n",
        "      label = os.path.basename(fname).split(\".\")[1]\n",
        "      if label  in [\"jpg\"]:\n",
        "      \n",
        "        df.append(\n",
        "              {\n",
        "                  \"filename \" : fname,\n",
        "               \"label\" : \"sick\" ,\n",
        "               \n",
        "              })\n",
        "      \n"
      ],
      "execution_count": 0,
      "outputs": []
    },
    {
      "cell_type": "code",
      "metadata": {
        "id": "3Sz80zZanKnT",
        "colab_type": "code",
        "colab": {}
      },
      "source": [
        "\n",
        "import glob\n",
        "import os\n",
        "import pandas as pd\n",
        "\n",
        "\n",
        "\n",
        "for folder in [\"/content/drive/My Drive/Colab Notebooks/continuous_wavelet_transform/continuous_wavelet_transform/train/not_sick/**\",\n",
        "             \n",
        "               ]:\n",
        "  for fname in glob.iglob(folder):\n",
        "    if os.path.exists(fname):\n",
        "      label = os.path.basename(fname).split(\".\")[1]\n",
        "      if label  in [\"jpg\"]:\n",
        "        df.append(\n",
        "              {\n",
        "                  \"filename \" : fname,\n",
        "               \"label\" : \"not_sick\" \n",
        "              })\n",
        "      "
      ],
      "execution_count": 0,
      "outputs": []
    },
    {
      "cell_type": "code",
      "metadata": {
        "id": "doPknOv-_Zi0",
        "colab_type": "code",
        "outputId": "c6a588d6-7e72-4995-dc8f-c932c9b82ce2",
        "colab": {
          "base_uri": "https://localhost:8080/",
          "height": 34
        }
      },
      "source": [
        "df"
      ],
      "execution_count": 0,
      "outputs": [
        {
          "output_type": "execute_result",
          "data": {
            "text/plain": [
              "[]"
            ]
          },
          "metadata": {
            "tags": []
          },
          "execution_count": 16
        }
      ]
    },
    {
      "cell_type": "code",
      "metadata": {
        "id": "MR3nyz0LR130",
        "colab_type": "code",
        "outputId": "f2f14b9d-26ee-4960-f0fc-941e94a5ae1d",
        "colab": {
          "base_uri": "https://localhost:8080/",
          "height": 255
        }
      },
      "source": [
        "\n",
        "data=pd.DataFrame(df)\n",
        "\n",
        "print(data.count())\n",
        "data.head()"
      ],
      "execution_count": 0,
      "outputs": [
        {
          "output_type": "stream",
          "text": [
            "filename     4945\n",
            "label        4945\n",
            "dtype: int64\n"
          ],
          "name": "stdout"
        },
        {
          "output_type": "execute_result",
          "data": {
            "text/html": [
              "<div>\n",
              "<style scoped>\n",
              "    .dataframe tbody tr th:only-of-type {\n",
              "        vertical-align: middle;\n",
              "    }\n",
              "\n",
              "    .dataframe tbody tr th {\n",
              "        vertical-align: top;\n",
              "    }\n",
              "\n",
              "    .dataframe thead th {\n",
              "        text-align: right;\n",
              "    }\n",
              "</style>\n",
              "<table border=\"1\" class=\"dataframe\">\n",
              "  <thead>\n",
              "    <tr style=\"text-align: right;\">\n",
              "      <th></th>\n",
              "      <th>filename</th>\n",
              "      <th>label</th>\n",
              "    </tr>\n",
              "  </thead>\n",
              "  <tbody>\n",
              "    <tr>\n",
              "      <th>0</th>\n",
              "      <td>/content/drive/My Drive/Colab Notebooks/contin...</td>\n",
              "      <td>sick</td>\n",
              "    </tr>\n",
              "    <tr>\n",
              "      <th>1</th>\n",
              "      <td>/content/drive/My Drive/Colab Notebooks/contin...</td>\n",
              "      <td>sick</td>\n",
              "    </tr>\n",
              "    <tr>\n",
              "      <th>2</th>\n",
              "      <td>/content/drive/My Drive/Colab Notebooks/contin...</td>\n",
              "      <td>sick</td>\n",
              "    </tr>\n",
              "    <tr>\n",
              "      <th>3</th>\n",
              "      <td>/content/drive/My Drive/Colab Notebooks/contin...</td>\n",
              "      <td>sick</td>\n",
              "    </tr>\n",
              "    <tr>\n",
              "      <th>4</th>\n",
              "      <td>/content/drive/My Drive/Colab Notebooks/contin...</td>\n",
              "      <td>sick</td>\n",
              "    </tr>\n",
              "  </tbody>\n",
              "</table>\n",
              "</div>"
            ],
            "text/plain": [
              "                                           filename  label\n",
              "0  /content/drive/My Drive/Colab Notebooks/contin...  sick\n",
              "1  /content/drive/My Drive/Colab Notebooks/contin...  sick\n",
              "2  /content/drive/My Drive/Colab Notebooks/contin...  sick\n",
              "3  /content/drive/My Drive/Colab Notebooks/contin...  sick\n",
              "4  /content/drive/My Drive/Colab Notebooks/contin...  sick"
            ]
          },
          "metadata": {
            "tags": []
          },
          "execution_count": 21
        }
      ]
    },
    {
      "cell_type": "code",
      "metadata": {
        "id": "-i6H5J8WmcO0",
        "colab_type": "code",
        "colab": {}
      },
      "source": [
        "plt.figure(figsize = (12,6))\n",
        "data['label'].value_counts().plot(kind = 'bar' , title = ' Distribution' )\n",
        "plt.show()\n",
        "print(data['label'].value_counts())"
      ],
      "execution_count": 0,
      "outputs": []
    },
    {
      "cell_type": "code",
      "metadata": {
        "id": "JiXc8vBMuxgf",
        "colab_type": "code",
        "outputId": "8401fc54-7b37-42b5-efae-1cbb6d24bd40",
        "colab": {
          "base_uri": "https://localhost:8080/",
          "height": 204
        }
      },
      "source": [
        "from sklearn.utils import shuffle\n",
        "data =shuffle(data, random_state =48)\n",
        "data.head()"
      ],
      "execution_count": 0,
      "outputs": [
        {
          "output_type": "execute_result",
          "data": {
            "text/html": [
              "<div>\n",
              "<style scoped>\n",
              "    .dataframe tbody tr th:only-of-type {\n",
              "        vertical-align: middle;\n",
              "    }\n",
              "\n",
              "    .dataframe tbody tr th {\n",
              "        vertical-align: top;\n",
              "    }\n",
              "\n",
              "    .dataframe thead th {\n",
              "        text-align: right;\n",
              "    }\n",
              "</style>\n",
              "<table border=\"1\" class=\"dataframe\">\n",
              "  <thead>\n",
              "    <tr style=\"text-align: right;\">\n",
              "      <th></th>\n",
              "      <th>filename</th>\n",
              "      <th>label</th>\n",
              "    </tr>\n",
              "  </thead>\n",
              "  <tbody>\n",
              "    <tr>\n",
              "      <th>1387</th>\n",
              "      <td>/content/drive/My Drive/Colab Notebooks/contin...</td>\n",
              "      <td>sick</td>\n",
              "    </tr>\n",
              "    <tr>\n",
              "      <th>2728</th>\n",
              "      <td>/content/drive/My Drive/Colab Notebooks/contin...</td>\n",
              "      <td>not_sick</td>\n",
              "    </tr>\n",
              "    <tr>\n",
              "      <th>759</th>\n",
              "      <td>/content/drive/My Drive/Colab Notebooks/contin...</td>\n",
              "      <td>sick</td>\n",
              "    </tr>\n",
              "    <tr>\n",
              "      <th>1049</th>\n",
              "      <td>/content/drive/My Drive/Colab Notebooks/contin...</td>\n",
              "      <td>sick</td>\n",
              "    </tr>\n",
              "    <tr>\n",
              "      <th>4288</th>\n",
              "      <td>/content/drive/My Drive/Colab Notebooks/contin...</td>\n",
              "      <td>not_sick</td>\n",
              "    </tr>\n",
              "  </tbody>\n",
              "</table>\n",
              "</div>"
            ],
            "text/plain": [
              "                                              filename      label\n",
              "1387  /content/drive/My Drive/Colab Notebooks/contin...      sick\n",
              "2728  /content/drive/My Drive/Colab Notebooks/contin...  not_sick\n",
              "759   /content/drive/My Drive/Colab Notebooks/contin...      sick\n",
              "1049  /content/drive/My Drive/Colab Notebooks/contin...      sick\n",
              "4288  /content/drive/My Drive/Colab Notebooks/contin...  not_sick"
            ]
          },
          "metadata": {
            "tags": []
          },
          "execution_count": 24
        }
      ]
    },
    {
      "cell_type": "code",
      "metadata": {
        "id": "ETtFrun12MfU",
        "colab_type": "code",
        "colab": {}
      },
      "source": [
        "def duration_file(path):\n",
        "  y,sr = librosa.load(path)\n",
        "  dur = librosa.core.get_duration(y)\n",
        "  return dur\n",
        "\n",
        "\n",
        "from tqdm import tqdm\n",
        "duration= [ ]\n",
        "\n",
        "train = data.rename(columns={'filename ': 'filename'})\n",
        "for i in tqdm(range(len(train))):\n",
        "  duration.append(duration_file(train.filename.iloc[i]))\n",
        "  \n"
      ],
      "execution_count": 0,
      "outputs": []
    },
    {
      "cell_type": "code",
      "metadata": {
        "id": "JV5YoPwuIY9w",
        "colab_type": "code",
        "colab": {}
      },
      "source": [
        "import glob\n",
        "import os\n",
        "import pandas as pd\n",
        "\n",
        "\n",
        "#val = []\n",
        "for folder in [\"/content/drive/My Drive/Colab Notebooks/continuous_wavelet_transform/continuous_wavelet_transform/validation/sick/**\",\n",
        "             \n",
        "               ]:\n",
        "  for fname in glob.iglob(folder):\n",
        "    if os.path.exists(fname):\n",
        "      label = os.path.basename(fname).split(\".\")[1]\n",
        "      if label  in [\"jpg\"]:\n",
        "        df.append(\n",
        "              {\n",
        "                  \"filename \" : fname,\n",
        "               \"label\" : \"sick\" \n",
        "              })"
      ],
      "execution_count": 0,
      "outputs": []
    },
    {
      "cell_type": "code",
      "metadata": {
        "id": "EwNLJ9EaIh7F",
        "colab_type": "code",
        "colab": {}
      },
      "source": [
        "\n",
        "import glob\n",
        "import os\n",
        "import pandas as pd\n",
        "\n",
        "\n",
        "\n",
        "for folder in [\"/content/drive/My Drive/Colab Notebooks/continuous_wavelet_transform/continuous_wavelet_transform/validation/not_sick/**\",\n",
        "             \n",
        "               ]:\n",
        "  for fname in glob.iglob(folder):\n",
        "    if os.path.exists(fname):\n",
        "      label = os.path.basename(fname).split(\".\")[1]\n",
        "      if label  in [\"jpg\"]:\n",
        "        df.append(\n",
        "              {\n",
        "                  \"filename \" : fname,\n",
        "               \"label\" : \"not_sick\" \n",
        "              })"
      ],
      "execution_count": 0,
      "outputs": []
    },
    {
      "cell_type": "code",
      "metadata": {
        "id": "mhQTUyxoItX4",
        "colab_type": "code",
        "outputId": "385112f4-02cf-4615-9cec-fb6ad493de66",
        "colab": {
          "base_uri": "https://localhost:8080/",
          "height": 255
        }
      },
      "source": [
        "validation_data=pd.DataFrame(val)\n",
        "\n",
        "print(validation_data.count())\n",
        "validation_data.head()"
      ],
      "execution_count": 0,
      "outputs": [
        {
          "output_type": "stream",
          "text": [
            "filename     1219\n",
            "label        1219\n",
            "dtype: int64\n"
          ],
          "name": "stdout"
        },
        {
          "output_type": "execute_result",
          "data": {
            "text/html": [
              "<div>\n",
              "<style scoped>\n",
              "    .dataframe tbody tr th:only-of-type {\n",
              "        vertical-align: middle;\n",
              "    }\n",
              "\n",
              "    .dataframe tbody tr th {\n",
              "        vertical-align: top;\n",
              "    }\n",
              "\n",
              "    .dataframe thead th {\n",
              "        text-align: right;\n",
              "    }\n",
              "</style>\n",
              "<table border=\"1\" class=\"dataframe\">\n",
              "  <thead>\n",
              "    <tr style=\"text-align: right;\">\n",
              "      <th></th>\n",
              "      <th>filename</th>\n",
              "      <th>label</th>\n",
              "    </tr>\n",
              "  </thead>\n",
              "  <tbody>\n",
              "    <tr>\n",
              "      <th>0</th>\n",
              "      <td>/content/drive/My Drive/Colab Notebooks/Audio ...</td>\n",
              "      <td>sick</td>\n",
              "    </tr>\n",
              "    <tr>\n",
              "      <th>1</th>\n",
              "      <td>/content/drive/My Drive/Colab Notebooks/Audio ...</td>\n",
              "      <td>sick</td>\n",
              "    </tr>\n",
              "    <tr>\n",
              "      <th>2</th>\n",
              "      <td>/content/drive/My Drive/Colab Notebooks/Audio ...</td>\n",
              "      <td>sick</td>\n",
              "    </tr>\n",
              "    <tr>\n",
              "      <th>3</th>\n",
              "      <td>/content/drive/My Drive/Colab Notebooks/Audio ...</td>\n",
              "      <td>sick</td>\n",
              "    </tr>\n",
              "    <tr>\n",
              "      <th>4</th>\n",
              "      <td>/content/drive/My Drive/Colab Notebooks/Audio ...</td>\n",
              "      <td>sick</td>\n",
              "    </tr>\n",
              "  </tbody>\n",
              "</table>\n",
              "</div>"
            ],
            "text/plain": [
              "                                           filename  label\n",
              "0  /content/drive/My Drive/Colab Notebooks/Audio ...  sick\n",
              "1  /content/drive/My Drive/Colab Notebooks/Audio ...  sick\n",
              "2  /content/drive/My Drive/Colab Notebooks/Audio ...  sick\n",
              "3  /content/drive/My Drive/Colab Notebooks/Audio ...  sick\n",
              "4  /content/drive/My Drive/Colab Notebooks/Audio ...  sick"
            ]
          },
          "metadata": {
            "tags": []
          },
          "execution_count": 14
        }
      ]
    },
    {
      "cell_type": "code",
      "metadata": {
        "id": "uFUVYmnKI482",
        "colab_type": "code",
        "outputId": "559aa131-cecc-47b3-b5c3-1ff08dccb8b8",
        "colab": {
          "base_uri": "https://localhost:8080/",
          "height": 472
        }
      },
      "source": [
        "plt.figure(figsize = (12,6))\n",
        "validation_data['label'].value_counts().plot(kind = 'bar' , title = ' Distribution' )\n",
        "plt.show()\n",
        "print(validation_data['label'].value_counts())"
      ],
      "execution_count": 0,
      "outputs": [
        {
          "output_type": "display_data",
          "data": {
            "image/png": "[encoded data removed]",
            "text/plain": [
              "<Figure size 864x432 with 1 Axes>"
            ]
          },
          "metadata": {
            "tags": [],
            "needs_background": "light"
          }
        },
        {
          "output_type": "stream",
          "text": [
            "not_sick    752\n",
            "sick        467\n",
            "Name: label, dtype: int64\n"
          ],
          "name": "stdout"
        }
      ]
    },
    {
      "cell_type": "code",
      "metadata": {
        "id": "9BNLNmh0I8A9",
        "colab_type": "code",
        "outputId": "ed256a53-7b14-4778-90f7-6ed7ee34cf3e",
        "colab": {
          "base_uri": "https://localhost:8080/",
          "height": 204
        }
      },
      "source": [
        "from sklearn.utils import shuffle\n",
        "validation_data =shuffle(data, random_state =40)\n",
        "validation_data.head()"
      ],
      "execution_count": 0,
      "outputs": [
        {
          "output_type": "execute_result",
          "data": {
            "text/html": [
              "<div>\n",
              "<style scoped>\n",
              "    .dataframe tbody tr th:only-of-type {\n",
              "        vertical-align: middle;\n",
              "    }\n",
              "\n",
              "    .dataframe tbody tr th {\n",
              "        vertical-align: top;\n",
              "    }\n",
              "\n",
              "    .dataframe thead th {\n",
              "        text-align: right;\n",
              "    }\n",
              "</style>\n",
              "<table border=\"1\" class=\"dataframe\">\n",
              "  <thead>\n",
              "    <tr style=\"text-align: right;\">\n",
              "      <th></th>\n",
              "      <th>filename</th>\n",
              "      <th>label</th>\n",
              "    </tr>\n",
              "  </thead>\n",
              "  <tbody>\n",
              "    <tr>\n",
              "      <th>2069</th>\n",
              "      <td>/content/drive/My Drive/Colab Notebooks/Audio ...</td>\n",
              "      <td>not_sick</td>\n",
              "    </tr>\n",
              "    <tr>\n",
              "      <th>2892</th>\n",
              "      <td>/content/drive/My Drive/Colab Notebooks/Audio ...</td>\n",
              "      <td>not_sick</td>\n",
              "    </tr>\n",
              "    <tr>\n",
              "      <th>126</th>\n",
              "      <td>/content/drive/My Drive/Colab Notebooks/Audio ...</td>\n",
              "      <td>sick</td>\n",
              "    </tr>\n",
              "    <tr>\n",
              "      <th>1768</th>\n",
              "      <td>/content/drive/My Drive/Colab Notebooks/Audio ...</td>\n",
              "      <td>not_sick</td>\n",
              "    </tr>\n",
              "    <tr>\n",
              "      <th>1132</th>\n",
              "      <td>/content/drive/My Drive/Colab Notebooks/Audio ...</td>\n",
              "      <td>sick</td>\n",
              "    </tr>\n",
              "  </tbody>\n",
              "</table>\n",
              "</div>"
            ],
            "text/plain": [
              "                                              filename      label\n",
              "2069  /content/drive/My Drive/Colab Notebooks/Audio ...  not_sick\n",
              "2892  /content/drive/My Drive/Colab Notebooks/Audio ...  not_sick\n",
              "126   /content/drive/My Drive/Colab Notebooks/Audio ...      sick\n",
              "1768  /content/drive/My Drive/Colab Notebooks/Audio ...  not_sick\n",
              "1132  /content/drive/My Drive/Colab Notebooks/Audio ...      sick"
            ]
          },
          "metadata": {
            "tags": []
          },
          "execution_count": 16
        }
      ]
    },
    {
      "cell_type": "markdown",
      "metadata": {
        "id": "VtJUjyuSY6at",
        "colab_type": "text"
      },
      "source": [
        "#features extracting"
      ]
    },
    {
      "cell_type": "markdown",
      "metadata": {
        "id": "3TOqP1muDM3Y",
        "colab_type": "text"
      },
      "source": [
        "**Filter Design**\n",
        "* Low Pass\n",
        "* High Pass\n",
        "*Freq domain\n",
        "* Butterworth filter\n",
        "\n",
        "   **Ongoing**\n",
        "\n",
        "* Chebyshev filters\n",
        "*Kalman filters\n",
        "*Autoregressive filters"
      ]
    },
    {
      "cell_type": "code",
      "metadata": {
        "id": "-n6X-KoIR_N1",
        "colab_type": "code",
        "colab": {}
      },
      "source": [
        "from numpy.fft import *\n",
        "from scipy import fftpack\n",
        "\n",
        "def low_pass(path, threshold=1e6):\n",
        "    s,sr = librosa.load(path)\n",
        "    fourier = rfft(s)\n",
        "    frequencies = rfftfreq(s.size, d=2e-2/s.size)\n",
        "    fourier[frequencies > threshold] = 0\n",
        "    return irfft(fourier)\n",
        "\n",
        "def high_pass(s, threshold=1e7):\n",
        "    fourier = rfft(s)\n",
        "    frequencies = rfftfreq(s.size, d=2e-2/s.size)\n",
        "    fourier[frequencies < threshold] = 0\n",
        "    return irfft(fourier)  \n",
        "\n",
        "def freqdomain(s):\n",
        "  X = fftpack.fft(s,n=400)\n",
        "  freqs = fftpack.fftfreq(n=400,d=2e-2/s.size)\n",
        "  return freqs  \n",
        "\n",
        "import scipy.signal\n",
        "\n",
        "def butter_bandpass(lowcut, highcut, fs, order=5):\n",
        "    nyq= 0.5 * fs\n",
        "    low = lowcut / nyq\n",
        "    high = highcut / nyq\n",
        "    b, a = scipy.signal.butter(order, [low, high], btype='band')\n",
        "    return b, a\n",
        "def butter_bandpass_filter(data, lowcut, highcut, fs, order=5):\n",
        "    b, a = butter_bandpass(lowcut, highcut, fs, order=order)\n",
        "    y = scipy.signal.lfilter(b, a, data)\n",
        "    return y\n"
      ],
      "execution_count": 0,
      "outputs": []
    },
    {
      "cell_type": "code",
      "metadata": {
        "id": "bs2FBw6TTeVY",
        "colab_type": "code",
        "outputId": "3d62d127-6fb6-4fc8-f020-4897657cba91",
        "colab": {
          "base_uri": "https://localhost:8080/",
          "height": 296
        }
      },
      "source": [
        "import librosa\n",
        "import librosa.display\n",
        "path = '/content/neg-3.wav'\n",
        "x,sr = librosa.load('/content/neg-3.wav')\n",
        "librosa.display.waveplot(x,sr)"
      ],
      "execution_count": 0,
      "outputs": [
        {
          "output_type": "execute_result",
          "data": {
            "text/plain": [
              "<matplotlib.collections.PolyCollection at 0x7f49afd38ac8>"
            ]
          },
          "metadata": {
            "tags": []
          },
          "execution_count": 8
        },
        {
          "output_type": "display_data",
          "data": {
            "image/png": "[encoded data removed]",
            "text/plain": [
              "<Figure size 432x288 with 1 Axes>"
            ]
          },
          "metadata": {
            "tags": [],
            "needs_background": "light"
          }
        }
      ]
    },
    {
      "cell_type": "code",
      "metadata": {
        "id": "qLr_5KuZTylA",
        "colab_type": "code",
        "outputId": "24c51f6b-ae46-480b-80c9-ac40cd5d400f",
        "colab": {
          "base_uri": "https://localhost:8080/",
          "height": 296
        }
      },
      "source": [
        "y1 = low_pass(path)\n",
        "librosa.display.waveplot(y1,sr)"
      ],
      "execution_count": 0,
      "outputs": [
        {
          "output_type": "execute_result",
          "data": {
            "text/plain": [
              "<matplotlib.collections.PolyCollection at 0x7f49afd0ecc0>"
            ]
          },
          "metadata": {
            "tags": []
          },
          "execution_count": 9
        },
        {
          "output_type": "display_data",
          "data": {
            "image/png": "[encoded data removed]",
            "text/plain": [
              "<Figure size 432x288 with 1 Axes>"
            ]
          },
          "metadata": {
            "tags": [],
            "needs_background": "light"
          }
        }
      ]
    },
    {
      "cell_type": "code",
      "metadata": {
        "id": "pcXzpB4YUTNz",
        "colab_type": "code",
        "outputId": "3b786d16-b8a4-42f4-8c5f-9c7c555a27f8",
        "colab": {
          "base_uri": "https://localhost:8080/",
          "height": 296
        }
      },
      "source": [
        "y2 = butter_bandpass_filter(x,5000,10000,fs = sr,order=4)\n",
        "librosa.display.waveplot(y2,sr)  "
      ],
      "execution_count": 0,
      "outputs": [
        {
          "output_type": "execute_result",
          "data": {
            "text/plain": [
              "<matplotlib.collections.PolyCollection at 0x7f49afdebef0>"
            ]
          },
          "metadata": {
            "tags": []
          },
          "execution_count": 11
        },
        {
          "output_type": "display_data",
          "data": {
            "image/png": "[encoded data removed]",
            "text/plain": [
              "<Figure size 432x288 with 1 Axes>"
            ]
          },
          "metadata": {
            "tags": [],
            "needs_background": "light"
          }
        }
      ]
    },
    {
      "cell_type": "code",
      "metadata": {
        "id": "yHRoBXLwVYrW",
        "colab_type": "code",
        "outputId": "7e8660a7-a78c-4f8d-a430-cf293bdbd0e6",
        "colab": {
          "base_uri": "https://localhost:8080/",
          "height": 290
        }
      },
      "source": [
        "freq = freqdomain(x)\n",
        "import matplotlib.pyplot as plt\n",
        "plt.magnitude_spectrum(freq,sr)\n",
        "plt.show()"
      ],
      "execution_count": 0,
      "outputs": [
        {
          "output_type": "display_data",
          "data": {
            "image/png": "[encoded data removed]",
            "text/plain": [
              "<Figure size 432x288 with 1 Axes>"
            ]
          },
          "metadata": {
            "tags": [],
            "needs_background": "light"
          }
        }
      ]
    },
    {
      "cell_type": "code",
      "metadata": {
        "id": "MaSfqeSrkHaT",
        "colab_type": "code",
        "outputId": "2fc2125f-89d2-4e15-b835-8c327bfae04a",
        "colab": {
          "base_uri": "https://localhost:8080/",
          "height": 279
        }
      },
      "source": [
        "import librosa\n",
        "import librosa.display\n",
        "path = '/content/neg-3.wav'\n",
        "signal,sr =librosa.load(path)\n",
        "librosa.display.waveplot(signal)\n",
        "trimmed, index = librosa.effects.trim(y2, top_db=20, frame_length=512, hop_length=64)\n"
      ],
      "execution_count": 0,
      "outputs": [
        {
          "output_type": "display_data",
          "data": {
            "image/png": "[encoded data removed]",
            "text/plain": [
              "<Figure size 432x288 with 1 Axes>"
            ]
          },
          "metadata": {
            "tags": [],
            "needs_background": "light"
          }
        }
      ]
    },
    {
      "cell_type": "markdown",
      "metadata": {
        "id": "boK3Ga4JO-8Y",
        "colab_type": "text"
      },
      "source": [
        "**The Filtered and Trimmed Wave**"
      ]
    },
    {
      "cell_type": "code",
      "metadata": {
        "id": "UyrJ2ZJZlZhq",
        "colab_type": "code",
        "outputId": "42287f6c-05c0-4e60-8385-f28224c0fc91",
        "colab": {
          "base_uri": "https://localhost:8080/",
          "height": 296
        }
      },
      "source": [
        "librosa.display.waveplot(trimmed)"
      ],
      "execution_count": 0,
      "outputs": [
        {
          "output_type": "execute_result",
          "data": {
            "text/plain": [
              "<matplotlib.collections.PolyCollection at 0x7f49b05fc978>"
            ]
          },
          "metadata": {
            "tags": []
          },
          "execution_count": 13
        },
        {
          "output_type": "display_data",
          "data": {
            "image/png": "[encoded data removed]",
            "text/plain": [
              "<Figure size 432x288 with 1 Axes>"
            ]
          },
          "metadata": {
            "tags": [],
            "needs_background": "light"
          }
        }
      ]
    },
    {
      "cell_type": "code",
      "metadata": {
        "id": "Jm6YNMWSdNHq",
        "colab_type": "code",
        "cellView": "form",
        "colab": {}
      },
      "source": [
        "#@title Filter features\n",
        "low_p=[]\n",
        "high_p=[]\n",
        "freqdom=[]\n",
        "freq_low=[]\n",
        "freq_high =[]\n",
        "def filter_features(path):\n",
        "  f,samp_rate = librosa.load(path=path,duration=4 )\n",
        "  \n",
        "  low_pass1=np.array(low_pass(f))\n",
        "  low_p.append(low_pass1)\n",
        "  \n",
        "  high_pass1=np.array(high_pass(f))\n",
        "  high_p.append(high_pass1)\n",
        "  \n",
        "  freq=np.array(freqdomain(f))\n",
        "  freqdom.append(freq)\n",
        "\n",
        "  freq_low=np.array(freqdomain(low_pass))\n",
        "  freq_low.append(freq_low)\n",
        "  \n",
        "  freq_high=np.array(freqdomain(high_pass))\n",
        "  freq_high.append(freq_high)\n",
        "\n",
        "  return low_p,high_p,freqdom,freq_high,freq_low\n",
        "  \n",
        "\n",
        "\n"
      ],
      "execution_count": 0,
      "outputs": []
    },
    {
      "cell_type": "markdown",
      "metadata": {
        "id": "8YONLkl4awEm",
        "colab_type": "text"
      },
      "source": [
        "**RESEARCHING** \n",
        ">Neural Network Approach by inputing the noising into \n",
        "CNN network signal and then calculating the MSE loss "
      ]
    },
    {
      "cell_type": "code",
      "metadata": {
        "id": "VbOrvROybEb8",
        "colab_type": "code",
        "colab": {}
      },
      "source": [
        ""
      ],
      "execution_count": 0,
      "outputs": []
    },
    {
      "cell_type": "markdown",
      "metadata": {
        "id": "oJSxJuaTQNqT",
        "colab_type": "text"
      },
      "source": [
        "#Features Engineering"
      ]
    },
    {
      "cell_type": "markdown",
      "metadata": {
        "colab_type": "text",
        "id": "0jGxn73CQURg"
      },
      "source": [
        "I  have Extract different Features down below\n",
        "* rms_energy \n",
        "* zcr \n",
        "* spectral_energy \n",
        "* centroid\n",
        "* mfcc\n",
        "* rolloff\n",
        "*pitch\n",
        "*melspectrogram\n",
        "*Constant-Q chromagram\n",
        "*DWT "
      ]
    },
    {
      "cell_type": "code",
      "metadata": {
        "id": "wBo2LS-tVidg",
        "colab_type": "code",
        "colab": {}
      },
      "source": [
        "from tqdm import tqdm\n",
        "rms = []\n",
        "zcr = []\n",
        "spectral_energy = []\n",
        "centroid=[]\n",
        "mfcc=[]\n",
        "rolloff=[]\n",
        "pitch=[]\n",
        "mel=[]\n",
        "chroma1 = []\n",
        "\n",
        "dr =10 \n",
        "\n",
        "def features1(path):\n",
        "  x,sr = librosa.load(path,duration=dr)\n",
        "  values =librosa.feature.spectral_centroid(x,sr)\n",
        "  return values\n",
        "\n",
        "def features2(path):\n",
        "  x,sr = librosa.load(path,duration=dr)\n",
        "  values = librosa.core.zero_crossings(x)\n",
        "  return values\n",
        "\n",
        "def features3(path):\n",
        "  x,sr = librosa.load(path,duration=dr)\n",
        "  values =librosa.feature.spectral_rolloff(y=x,sr=sr)\n",
        "  return values\n",
        "\n",
        "def features4(path):\n",
        "  x,sr = librosa.load(path,duration=dr)\n",
        "  values, magnitudes = librosa.piptrack(y=x, sr=sr)\n",
        "  return values\n",
        "\n",
        "def features5(path):\n",
        "  x,sr = librosa.load(path,duration=dr)\n",
        "  values =librosa.feature.mfcc(x,sr,n_mfcc=25)\n",
        "  return values\n",
        "\n",
        "\n",
        "def features6(path):\n",
        "  x,sr = librosa.load(path,duration=dr)\n",
        "  values =librosa.feature.rms(y=x)\n",
        "\n",
        "def features7(path):\n",
        "  x,sr = librosa.load(path,duration=dr)\n",
        "  values =librosa.feature.melspectrogram(y=x,sr=sr)\n",
        "  return values\n",
        "\n",
        "\n",
        "def features8(path):\n",
        "  x,sr = librosa.load(path)\n",
        "  values =librosa.get_duration(y=x,sr=sr)\n",
        "  return values\n",
        "def melfeatures(path):\n",
        "  f,samp_rate = librosa.load(path=path,duration = dr)\n",
        "  mel = librosa.feature.melspectrogram(y=f ,sr = samp_rate)\n",
        "  return mel\n",
        "def chroma(path):\n",
        "  f,samp_rate = librosa.load(path=path,duration = 10)\n",
        "  mfccs = librosa.feature.chroma_cqt(y=f,sr=samp_rate)\n",
        "  return mfccs \n",
        "\n"
      ],
      "execution_count": 0,
      "outputs": []
    },
    {
      "cell_type": "code",
      "metadata": {
        "id": "QR23CqlXQCYm",
        "colab_type": "code",
        "colab": {}
      },
      "source": [
        "import librosa\n",
        "train = data.rename(columns={'filename ': 'filename'})\n",
        "for i in tqdm(range(len(train))):\n",
        "  rms.append(features6(train.filename.iloc[i]))\n",
        "  zcr.append(features2(train.filename.iloc[i])) \n",
        "  mfcc.append(features5(train.filename.iloc[i])) \n",
        "  centroid.append(features1(train.filename.iloc[i])) \n",
        "  spectral_energy.append(features5(train.filename.iloc[i]))\n",
        "  rolloff.append(features3(train.filename.iloc[i])) \n",
        "  pitch.append(features4(train.filename.iloc[i]))\n",
        "  mel.append(melfeatures(train.filename.iloc[i]))\n",
        "  chroma1.append(chroma(train.filename.iloc[i]))\n",
        "  "
      ],
      "execution_count": 0,
      "outputs": []
    },
    {
      "cell_type": "code",
      "metadata": {
        "id": "UH7q1xGMxqCK",
        "colab_type": "code",
        "colab": {}
      },
      "source": [
        "'''\n",
        "def melfeatures(path):\n",
        "  f,samp_rate = librosa.load(path=path,duration = 4)\n",
        "  mel = librosa.feature.melspectrogram(y=f ,sr = samp_rate)\n",
        "  return mel\n",
        "def pitch_features(path):\n",
        "  y, sr = librosa.load(path ,duration = 4)\n",
        "  pitches, magnitudes = librosa.core.piptrack(y, sr)\n",
        "  return pitches\n",
        "\n",
        "def mfcc_features(path):\n",
        "\n",
        "  f,samp_rate = librosa.load(path=path,duration=4 )\n",
        "  mfccs = librosa.feature.mfcc(y=f,sr=samp_rate,n_mfcc=12)\n",
        "  return mfccs\n",
        "\n",
        "\n",
        " \n",
        "\n",
        "\n",
        "def features(path):\n",
        "\n",
        "  f,samp_rate = librosa.load(path=path,duration = 4)\n",
        "  mfccs = librosa.feature.chroma_cqt(y=f,sr=samp_rate)\n",
        "  return mfccs   \n",
        "'''"
      ],
      "execution_count": 0,
      "outputs": []
    },
    {
      "cell_type": "code",
      "metadata": {
        "id": "PkffvXjZ6oR7",
        "colab_type": "code",
        "outputId": "b7b76962-516f-41b4-cba4-c2415e494254",
        "colab": {
          "base_uri": "https://localhost:8080/",
          "height": 34
        }
      },
      "source": [
        "meltrain = np.array(meltrain)\n",
        "meltrain.shape"
      ],
      "execution_count": 0,
      "outputs": [
        {
          "output_type": "execute_result",
          "data": {
            "text/plain": [
              "(3716, 128, 173)"
            ]
          },
          "metadata": {
            "tags": []
          },
          "execution_count": 21
        }
      ]
    },
    {
      "cell_type": "code",
      "metadata": {
        "id": "71gjqq3baMYE",
        "colab_type": "code",
        "outputId": "56d1762e-5088-457d-8a01-8b405cb0c930",
        "colab": {
          "base_uri": "https://localhost:8080/",
          "height": 34
        }
      },
      "source": [
        "concat1 = np.concatenate((mfcc,meltrain),axis =1)\n",
        "concat1.shape"
      ],
      "execution_count": 0,
      "outputs": [
        {
          "output_type": "execute_result",
          "data": {
            "text/plain": [
              "(3716, 168, 173)"
            ]
          },
          "metadata": {
            "tags": []
          },
          "execution_count": 22
        }
      ]
    },
    {
      "cell_type": "code",
      "metadata": {
        "id": "kX4IkoxcZE2t",
        "colab_type": "code",
        "colab": {}
      },
      "source": [
        "def dwt_features(path):\n",
        "  f,samp_rate = librosa.load(path=path)\n",
        "  A,D=  pywt.dwt()\n",
        "  return D  \n",
        "  \n",
        "import cv2\n",
        "data_cwt=[]\n",
        "labels=[]\n",
        "from tqdm import tqdm\n",
        "\n",
        "for f in tqdm(df):\n",
        "  file = list(f.values())\n",
        "  file_path = file[0]\n",
        "  label = file[1]\n",
        "  image = cv2.imread(file_path)\n",
        "  #image = cv2.cvtColor(image, cv2.COLOR_BGR2RGB)\n",
        "  #image = cv2.resize(image, (227, 227))\n",
        "  \n",
        "  data_cwt.append(image)\n",
        "  labels.append(label)\n",
        "\n",
        "data_cwt = np.array(data_cwt)\n",
        "labels = np.array(labels)\n",
        "\n",
        "import numpy as np \n",
        "data_cwt = np.array(data_cwt)\n",
        "labels = np.array(labels)\n",
        "data_cwt.shape"
      ],
      "execution_count": 0,
      "outputs": []
    },
    {
      "cell_type": "code",
      "metadata": {
        "id": "-m21VUuV-lqs",
        "colab_type": "code",
        "colab": {}
      },
      "source": [
        "import numpy as np\n",
        "\n",
        "import librosa.core\n",
        "y, sr = librosa.load('/content/drive/My Drive/Colab Notebooks/Audio Data/train/sick/audioset_-J60og_pQtQ_0_5.wav',duration =5)\n",
        "pitches, magnitudes = librosa.core.piptrack(y, sr)\n",
        "\n",
        "pitches1 = pitches[magnitudes > np.median(magnitudes)]\n",
        "pitches2 = librosa.pitch_tuning(pitches1)\n"
      ],
      "execution_count": 0,
      "outputs": []
    },
    {
      "cell_type": "code",
      "metadata": {
        "id": "Tt22GGdASXrK",
        "colab_type": "code",
        "outputId": "e9a32b31-f2d5-4454-d666-593ecd11f8fe",
        "colab": {
          "base_uri": "https://localhost:8080/",
          "height": 296
        }
      },
      "source": [
        "import librosa.display\n",
        "librosa.display.waveplot(pitches1,sr)"
      ],
      "execution_count": 0,
      "outputs": [
        {
          "output_type": "execute_result",
          "data": {
            "text/plain": [
              "<matplotlib.collections.PolyCollection at 0x7f4fa70e2710>"
            ]
          },
          "metadata": {
            "tags": []
          },
          "execution_count": 46
        },
        {
          "output_type": "display_data",
          "data": {
            "image/png": "[encoded data removed]",
            "text/plain": [
              "<Figure size 432x288 with 1 Axes>"
            ]
          },
          "metadata": {
            "tags": [],
            "needs_background": "light"
          }
        }
      ]
    },
    {
      "cell_type": "code",
      "metadata": {
        "id": "HRHhkpM3WU9h",
        "colab_type": "code",
        "outputId": "58242d8d-54cd-44fa-8875-b05bde5b66ba",
        "colab": {
          "base_uri": "https://localhost:8080/",
          "height": 269
        }
      },
      "source": [
        "import librosa.display\n",
        "mfcc = librosa.feature.mfcc(y=y, sr=sr, n_mfcc=20)\n",
        "librosa.display.specshow(mfcc)"
      ],
      "execution_count": 0,
      "outputs": [
        {
          "output_type": "execute_result",
          "data": {
            "text/plain": [
              "<matplotlib.axes._subplots.AxesSubplot at 0x7f8f6f486be0>"
            ]
          },
          "metadata": {
            "tags": []
          },
          "execution_count": 93
        },
        {
          "output_type": "display_data",
          "data": {
            "image/png": "[encoded data removed]",
            "text/plain": [
              "<Figure size 432x288 with 1 Axes>"
            ]
          },
          "metadata": {
            "tags": []
          }
        }
      ]
    },
    {
      "cell_type": "code",
      "metadata": {
        "id": "-Q4sBnh7W0_4",
        "colab_type": "code",
        "outputId": "3b576494-b412-4bd9-a071-bac705ffd2d5",
        "colab": {
          "base_uri": "https://localhost:8080/",
          "height": 269
        }
      },
      "source": [
        "import librosa.display\n",
        "chroma = librosa.feature.chroma_cqt(y=y, sr=sr)\n",
        "librosa.display.specshow(chroma)"
      ],
      "execution_count": 0,
      "outputs": [
        {
          "output_type": "execute_result",
          "data": {
            "text/plain": [
              "<matplotlib.axes._subplots.AxesSubplot at 0x7f8f6f3e8d30>"
            ]
          },
          "metadata": {
            "tags": []
          },
          "execution_count": 94
        },
        {
          "output_type": "display_data",
          "data": {
            "image/png": "[encoded data removed]",
            "text/plain": [
              "<Figure size 432x288 with 1 Axes>"
            ]
          },
          "metadata": {
            "tags": []
          }
        }
      ]
    },
    {
      "cell_type": "code",
      "metadata": {
        "id": "Z8WWRl-EW_4X",
        "colab_type": "code",
        "outputId": "9bf09ae6-b252-4840-c556-842062d7fbcc",
        "colab": {
          "base_uri": "https://localhost:8080/",
          "height": 269
        }
      },
      "source": [
        "import librosa.display\n",
        "chroma = librosa.feature.melspectrogram(y=y, sr=sr)\n",
        "librosa.display.specshow(chroma)"
      ],
      "execution_count": 0,
      "outputs": [
        {
          "output_type": "execute_result",
          "data": {
            "text/plain": [
              "<matplotlib.axes._subplots.AxesSubplot at 0x7f8f6f3ab198>"
            ]
          },
          "metadata": {
            "tags": []
          },
          "execution_count": 95
        },
        {
          "output_type": "display_data",
          "data": {
            "image/png": "[encoded data removed]",
            "text/plain": [
              "<Figure size 432x288 with 1 Axes>"
            ]
          },
          "metadata": {
            "tags": []
          }
        }
      ]
    },
    {
      "cell_type": "code",
      "metadata": {
        "id": "EvA3MY6J-vO2",
        "colab_type": "code",
        "outputId": "4e48e168-2d5e-40ed-ffab-67648136236e",
        "colab": {
          "base_uri": "https://localhost:8080/",
          "height": 34
        }
      },
      "source": [
        "from tqdm import tqdm\n",
        "pitchfeatures = []\n",
        "train = data.rename(columns={'filename ': 'filename'})\n",
        "for i in tqdm(range(len(train))):\n",
        "  pitchfeatures.append(pitch_features(train.filename.iloc[i]))  "
      ],
      "execution_count": 0,
      "outputs": [
        {
          "output_type": "stream",
          "text": [
            "100%|██████████| 3716/3716 [33:06<00:00,  1.87it/s]\n"
          ],
          "name": "stderr"
        }
      ]
    },
    {
      "cell_type": "code",
      "metadata": {
        "id": "N6DYifbAG9K4",
        "colab_type": "code",
        "outputId": "2ec15af5-8073-49ea-8862-4f881194b165",
        "colab": {
          "base_uri": "https://localhost:8080/",
          "height": 34
        }
      },
      "source": [
        "pitchfeatures=np.array(pitchfeatures)\n",
        "pitchfeatures.shape"
      ],
      "execution_count": 0,
      "outputs": [
        {
          "output_type": "execute_result",
          "data": {
            "text/plain": [
              "(3716, 1025, 173)"
            ]
          },
          "metadata": {
            "tags": []
          },
          "execution_count": 37
        }
      ]
    },
    {
      "cell_type": "markdown",
      "metadata": {
        "id": "LKKESBIoBs9C",
        "colab_type": "text"
      },
      "source": [
        "#Data split"
      ]
    },
    {
      "cell_type": "code",
      "metadata": {
        "id": "UxXrkpGDBx0W",
        "colab_type": "code",
        "outputId": "eb821073-2b72-41ed-8ae3-f27f356ffc9f",
        "colab": {
          "base_uri": "https://localhost:8080/",
          "height": 34
        }
      },
      "source": [
        "from keras.utils import to_categorical\n",
        "from sklearn.preprocessing import LabelBinarizer\n",
        "from sklearn.model_selection import train_test_split\n",
        "from sklearn.metrics import classification_report\n",
        "from sklearn.metrics import confusion_matrix\n",
        "lb = LabelBinarizer()\n",
        "labels = lb.fit_transform(data.label)\n",
        "labelss = to_categorical(labels)\n",
        "\n"
      ],
      "execution_count": 0,
      "outputs": [
        {
          "output_type": "stream",
          "text": [
            "Using TensorFlow backend.\n"
          ],
          "name": "stderr"
        }
      ]
    },
    {
      "cell_type": "code",
      "metadata": {
        "id": "0juBiJJF9yHu",
        "colab_type": "code",
        "colab": {}
      },
      "source": [
        "from sklearn.model_selection import train_test_split\n",
        "(x_train, xtest, ytrain, ytest) = train_test_split(pitchfeatures, labels,\n",
        "\ttest_size=0.40, stratify=labels, random_state=40)\n"
      ],
      "execution_count": 0,
      "outputs": []
    },
    {
      "cell_type": "code",
      "metadata": {
        "id": "prZWZklgCAbq",
        "colab_type": "code",
        "colab": {}
      },
      "source": [
        "x_train =Xtrain.reshape(Xtrain.shape[0],Xtrain.shape[1],Xtrain.shape[2],1)\n",
        "xtest =xtest.reshape(xtest.shape[0],xtest.shape[1],xtest.shape[2],1)\n",
        "print(ytrain.shape)\n",
        "x_train.shape"
      ],
      "execution_count": 0,
      "outputs": []
    },
    {
      "cell_type": "markdown",
      "metadata": {
        "id": "8eldIxX8Bb4v",
        "colab_type": "text"
      },
      "source": [
        "#Deep Learning Models"
      ]
    },
    {
      "cell_type": "code",
      "metadata": {
        "id": "mIxbe1anBhFf",
        "colab_type": "code",
        "outputId": "945509c8-c18c-41ad-b166-d2ce2bd2cae9",
        "colab": {
          "base_uri": "https://localhost:8080/",
          "height": 527
        }
      },
      "source": [
        "from keras.layers import *\n",
        "model = Sequential()\n",
        "model.add(TimeDistributed(Conv1D(filters=64, kernel_size=3, activation='relu'),input_shape=(x_train.shape[1],x_train.shape[2],x_train.shape[3]) ))\n",
        "model.add(TimeDistributed(Conv1D(filters=64, kernel_size=3, activation='relu')))\n",
        "model.add(TimeDistributed(Dropout(0.5)))\n",
        "model.add(TimeDistributed(MaxPooling1D(pool_size=2)))\n",
        "model.add(TimeDistributed(Flatten()))\n",
        "model.add(LSTM(100,return_sequences=True))\n",
        "model.add(LSTM(100,return_sequences=True))\n",
        "model.add(LSTM(100))\n",
        "model.add(Dropout(0.5))\n",
        "model.add(Dense(100, activation='relu'))\n",
        "model.add(Dense(2, activation='softmax'))\n",
        "model.summary()\n"
      ],
      "execution_count": 0,
      "outputs": [
        {
          "output_type": "stream",
          "text": [
            "Model: \"sequential_10\"\n",
            "_________________________________________________________________\n",
            "Layer (type)                 Output Shape              Param #   \n",
            "=================================================================\n",
            "time_distributed_2 (TimeDist (None, 2, 10, 64)         33280     \n",
            "_________________________________________________________________\n",
            "time_distributed_3 (TimeDist (None, 2, 8, 64)          12352     \n",
            "_________________________________________________________________\n",
            "time_distributed_4 (TimeDist (None, 2, 8, 64)          0         \n",
            "_________________________________________________________________\n",
            "time_distributed_5 (TimeDist (None, 2, 4, 64)          0         \n",
            "_________________________________________________________________\n",
            "time_distributed_6 (TimeDist (None, 2, 256)            0         \n",
            "_________________________________________________________________\n",
            "lstm_9 (LSTM)                (None, 2, 100)            142800    \n",
            "_________________________________________________________________\n",
            "lstm_10 (LSTM)               (None, 2, 100)            80400     \n",
            "_________________________________________________________________\n",
            "lstm_11 (LSTM)               (None, 100)               80400     \n",
            "_________________________________________________________________\n",
            "dropout_10 (Dropout)         (None, 100)               0         \n",
            "_________________________________________________________________\n",
            "dense_29 (Dense)             (None, 100)               10100     \n",
            "_________________________________________________________________\n",
            "dense_30 (Dense)             (None, 2)                 202       \n",
            "=================================================================\n",
            "Total params: 359,534\n",
            "Trainable params: 359,534\n",
            "Non-trainable params: 0\n",
            "_________________________________________________________________\n"
          ],
          "name": "stdout"
        }
      ]
    },
    {
      "cell_type": "code",
      "metadata": {
        "id": "XwGI2Ht3lIPT",
        "colab_type": "code",
        "colab": {}
      },
      "source": [
        "from keras.layers import Layer\n",
        "import keras.backend as K\n",
        "class attention(Layer):\n",
        "    def __init__(self,**kwargs):\n",
        "        super(attention,self).__init__(**kwargs)\n",
        "\n",
        "    def build(self,input_shape):\n",
        "        self.W=self.add_weight(name=\"attention_weight\",shape=(input_shape[-1],1),initializer=\"normal\")\n",
        "        self.b=self.add_weight(name=\"attention_bias\",shape=(input_shape[1],1),initializer=\"zeros\")        \n",
        "        super(attention, self).build(input_shape)\n",
        "\n",
        "    def call(self,x):\n",
        "        out=K.squeeze(K.tanh(K.dot(x,self.W)+self.b),axis=-1)\n",
        "        at=K.softmax(out)\n",
        "        at=K.expand_dims(at,axis=-1)\n",
        "        output=x*at\n",
        "        return K.sum(output,axis=1)\n",
        "\n",
        "    def compute_output_shape(self,input_shape):\n",
        "        return (input_shape[0],input_shape[-1])\n",
        "\n",
        "    def get_config(self):\n",
        "        return super(attention,self).get_config()"
      ],
      "execution_count": 0,
      "outputs": []
    },
    {
      "cell_type": "code",
      "metadata": {
        "id": "SUGgjX28BnRc",
        "colab_type": "code",
        "outputId": "78a09275-9aa3-41a4-97fa-ba8f3586e763",
        "colab": {
          "base_uri": "https://localhost:8080/",
          "height": 527
        }
      },
      "source": [
        "from keras import *\n",
        "from keras.layers import *\n",
        "model = Sequential()\n",
        "model.add(TimeDistributed(Conv1D(filters=64, kernel_size=3, activation='relu'),input_shape=(227,227,3) ))\n",
        "model.add(TimeDistributed(Conv1D(filters=64, kernel_size=3, activation='relu')))\n",
        "model.add(TimeDistributed(Dropout(0.5)))\n",
        "model.add(TimeDistributed(MaxPooling1D(pool_size=2)))\n",
        "model.add(TimeDistributed(Flatten()))\n",
        "model.add(LSTM(100,return_sequences=True))\n",
        "model.add(LSTM(100,return_sequences=True,name = 'lstm2'))\n",
        "layer_name = 'lstm2'\n",
        "\n",
        "out1 =model.get_layer(layer_name).output\n",
        "attention = attention()(out1)\n",
        "out1 = (Dense(100, activation='relu'))(attention)\n",
        "out2 = (Dense(2, activation='softmax'))(out1)\n",
        "final_model=Model(inputs = model.input,outputs = out2)\n",
        "final_model.summary()\n",
        "\n",
        "\n",
        "\n"
      ],
      "execution_count": 0,
      "outputs": [
        {
          "output_type": "stream",
          "text": [
            "Model: \"model_3\"\n",
            "_________________________________________________________________\n",
            "Layer (type)                 Output Shape              Param #   \n",
            "=================================================================\n",
            "time_distributed_21_input (I (None, 227, 227, 3)       0         \n",
            "_________________________________________________________________\n",
            "time_distributed_21 (TimeDis (None, 227, 225, 64)      640       \n",
            "_________________________________________________________________\n",
            "time_distributed_22 (TimeDis (None, 227, 223, 64)      12352     \n",
            "_________________________________________________________________\n",
            "time_distributed_23 (TimeDis (None, 227, 223, 64)      0         \n",
            "_________________________________________________________________\n",
            "time_distributed_24 (TimeDis (None, 227, 111, 64)      0         \n",
            "_________________________________________________________________\n",
            "time_distributed_25 (TimeDis (None, 227, 7104)         0         \n",
            "_________________________________________________________________\n",
            "lstm_7 (LSTM)                (None, 227, 100)          2882000   \n",
            "_________________________________________________________________\n",
            "lstm2 (LSTM)                 (None, 227, 100)          80400     \n",
            "_________________________________________________________________\n",
            "attention_2 (attention)      (None, 100)               327       \n",
            "_________________________________________________________________\n",
            "dense_7 (Dense)              (None, 100)               10100     \n",
            "_________________________________________________________________\n",
            "dense_8 (Dense)              (None, 2)                 202       \n",
            "=================================================================\n",
            "Total params: 2,986,021\n",
            "Trainable params: 2,986,021\n",
            "Non-trainable params: 0\n",
            "_________________________________________________________________\n"
          ],
          "name": "stdout"
        }
      ]
    },
    {
      "cell_type": "code",
      "metadata": {
        "id": "g1xfb9p1bV-J",
        "colab_type": "code",
        "outputId": "02a4c351-7fa4-40df-c608-17f90a465625",
        "colab": {
          "base_uri": "https://localhost:8080/",
          "height": 595
        }
      },
      "source": [
        "from keras import *\n",
        "from keras.layers import *\n",
        "model = Sequential()\n",
        "model.add(Conv1D(filters=64, kernel_size=3, activation='relu',input_shape=(1308, 431 )) )\n",
        "model.add((Conv1D(filters=64, kernel_size=3, activation='relu')))\n",
        "model.add((Conv1D(filters=64, kernel_size=3, activation='relu')))\n",
        "\n",
        "model.add((Dropout(0.5)))\n",
        "model.add((MaxPooling1D(pool_size=2)))\n",
        "#model.add((Flatten()))\n",
        "model.add(LSTM(100,return_sequences=True))\n",
        "model.add(LSTM(100,return_sequences=True,name = 'lstm2'))\n",
        "model.add(LSTM(100,return_sequences=True,name = 'ls3'))\n",
        "layer_name = 'lstm2'\n",
        "\n",
        "out1 =model.get_layer(layer_name).output\n",
        "\n",
        "#attention = attention()(out1)\n",
        "out1 = Flatten()(out1)\n",
        "out1 = (Dense(100, activation='relu'))(out1)\n",
        "out1 = (Dense(100, activation='relu'))(out1)\n",
        "out1 = (Dense(100, activation='relu'))(out1)\n",
        "out2 = (Dense(2, activation='softmax'))(out1)\n",
        "finalmodel_1=Model(inputs = model.input,outputs = out2)\n",
        "finalmodel_1.summary()\n"
      ],
      "execution_count": 0,
      "outputs": [
        {
          "output_type": "stream",
          "text": [
            "Model: \"model_1\"\n",
            "_________________________________________________________________\n",
            "Layer (type)                 Output Shape              Param #   \n",
            "=================================================================\n",
            "conv1d_7_input (InputLayer)  (None, 1308, 431)         0         \n",
            "_________________________________________________________________\n",
            "conv1d_7 (Conv1D)            (None, 1306, 64)          82816     \n",
            "_________________________________________________________________\n",
            "conv1d_8 (Conv1D)            (None, 1304, 64)          12352     \n",
            "_________________________________________________________________\n",
            "conv1d_9 (Conv1D)            (None, 1302, 64)          12352     \n",
            "_________________________________________________________________\n",
            "dropout_3 (Dropout)          (None, 1302, 64)          0         \n",
            "_________________________________________________________________\n",
            "max_pooling1d_2 (MaxPooling1 (None, 651, 64)           0         \n",
            "_________________________________________________________________\n",
            "lstm_2 (LSTM)                (None, 651, 100)          66000     \n",
            "_________________________________________________________________\n",
            "lstm2 (LSTM)                 (None, 651, 100)          80400     \n",
            "_________________________________________________________________\n",
            "flatten_2 (Flatten)          (None, 65100)             0         \n",
            "_________________________________________________________________\n",
            "dense_1 (Dense)              (None, 100)               6510100   \n",
            "_________________________________________________________________\n",
            "dense_2 (Dense)              (None, 100)               10100     \n",
            "_________________________________________________________________\n",
            "dense_3 (Dense)              (None, 100)               10100     \n",
            "_________________________________________________________________\n",
            "dense_4 (Dense)              (None, 2)                 202       \n",
            "=================================================================\n",
            "Total params: 6,784,422\n",
            "Trainable params: 6,784,422\n",
            "Non-trainable params: 0\n",
            "_________________________________________________________________\n"
          ],
          "name": "stdout"
        }
      ]
    },
    {
      "cell_type": "code",
      "metadata": {
        "id": "Ambd4NUDpPKi",
        "colab_type": "code",
        "outputId": "69a56872-df7a-4e78-e028-2d88db4d1d47",
        "colab": {
          "base_uri": "https://localhost:8080/",
          "height": 527
        }
      },
      "source": [
        "from keras import *\n",
        "from keras.layers import *\n",
        "model = Sequential()\n",
        "model.add(Conv1D(filters=64, kernel_size=3,kernel_regularizer=regularizers.l2(0.001), activation='relu',input_shape=(Xtrain.shape[1],Xtrain.shape[2] )) )\n",
        "model.add((Conv1D(filters=64, kernel_size=3, kernel_regularizer=regularizers.l2(0.001),activation='relu')))\n",
        "model.add(BatchNormalization(momentum=0.99))\n",
        "model.add((Dropout(0.5)))\n",
        "model.add((MaxPooling1D(pool_size=2)))\n",
        "#model.add((Flatten()))\n",
        "model.add(LSTM(100,return_sequences=True))\n",
        "model.add(LSTM(100,return_sequences=True,name = 'lstm2'))\n",
        "layer_name = 'lstm2'\n",
        "\n",
        "out1 =model.get_layer(layer_name).output\n",
        "\n",
        "attention = attention()(out1)\n",
        "out1 = (Dense(100, activation='relu',kernel_regularizer=regularizers.l2(0.001)))(attention)\n",
        "out2 = (Dense(2, activation='softmax'))(out1)\n",
        "final_model2=Model(inputs = model.input,outputs = out2)\n",
        "final_model2.summary()"
      ],
      "execution_count": 0,
      "outputs": [
        {
          "output_type": "stream",
          "text": [
            "Model: \"model_1\"\n",
            "_________________________________________________________________\n",
            "Layer (type)                 Output Shape              Param #   \n",
            "=================================================================\n",
            "conv1d_3_input (InputLayer)  (None, 68, 159)           0         \n",
            "_________________________________________________________________\n",
            "conv1d_3 (Conv1D)            (None, 66, 64)            30592     \n",
            "_________________________________________________________________\n",
            "conv1d_4 (Conv1D)            (None, 64, 64)            12352     \n",
            "_________________________________________________________________\n",
            "batch_normalization_2 (Batch (None, 64, 64)            256       \n",
            "_________________________________________________________________\n",
            "dropout_2 (Dropout)          (None, 64, 64)            0         \n",
            "_________________________________________________________________\n",
            "max_pooling1d_2 (MaxPooling1 (None, 32, 64)            0         \n",
            "_________________________________________________________________\n",
            "lstm_2 (LSTM)                (None, 32, 100)           66000     \n",
            "_________________________________________________________________\n",
            "lstm2 (LSTM)                 (None, 32, 100)           80400     \n",
            "_________________________________________________________________\n",
            "attention_1 (attention)      (None, 100)               132       \n",
            "_________________________________________________________________\n",
            "dense_1 (Dense)              (None, 100)               10100     \n",
            "_________________________________________________________________\n",
            "dense_2 (Dense)              (None, 2)                 202       \n",
            "=================================================================\n",
            "Total params: 200,034\n",
            "Trainable params: 199,906\n",
            "Non-trainable params: 128\n",
            "_________________________________________________________________\n"
          ],
          "name": "stdout"
        }
      ]
    },
    {
      "cell_type": "code",
      "metadata": {
        "id": "UILG_pQzjbLO",
        "colab_type": "code",
        "colab": {}
      },
      "source": [
        "from keras.layers import *\n",
        "from keras import *\n",
        "model = Sequential()\n",
        "model.add(Conv2D(filters=16, kernel_size=2, input_shape=(x_train.shape[1],x_train.shape[2],3), activation='relu'))\n",
        "model.add(MaxPooling2D(pool_size=2))\n",
        "model.add(Dropout(0.2))\n",
        "\n",
        "model.add(Conv2D(filters=32, kernel_size=2, activation='relu'))\n",
        "model.add(MaxPooling2D(pool_size=2))\n",
        "model.add(Dropout(0.2))\n",
        "\n",
        "model.add(Conv2D(filters=64, kernel_size=2, activation='relu'))\n",
        "model.add(MaxPooling2D(pool_size=2))\n",
        "model.add(Dropout(0.2))\n",
        "\n",
        "model.add(Conv2D(filters=128, kernel_size=2, activation='relu'))\n",
        "model.add(MaxPooling2D(pool_size=2))\n",
        "model.add(Dropout(0.5))\n",
        "model.add(GlobalAveragePooling2D())\n",
        "\n",
        "\n",
        "model.add(Dense(2, activation='softmax'))\n",
        "model.summary()"
      ],
      "execution_count": 0,
      "outputs": []
    },
    {
      "cell_type": "markdown",
      "metadata": {
        "id": "5Skn5cOAEh0w",
        "colab_type": "text"
      },
      "source": [
        "#Train"
      ]
    },
    {
      "cell_type": "code",
      "metadata": {
        "id": "wVX9RTptEkh1",
        "colab_type": "code",
        "colab": {}
      },
      "source": [
        "model.compile(loss='binary_crossentropy', metrics=['accuracy'], optimizer='adam')\n",
        "\n",
        "history = model.fit(x_train, ytrain,\n",
        "              batch_size=100,\n",
        "            epochs=10,\n",
        "              validation_data=(xtest,ytest),\n",
        "              shuffle=True,\n",
        "              verbose=1\n",
        "            )"
      ],
      "execution_count": 0,
      "outputs": []
    },
    {
      "cell_type": "code",
      "metadata": {
        "id": "2AUWUqTLpxMX",
        "colab_type": "code",
        "colab": {}
      },
      "source": [
        "import keras\n",
        "adam=keras.optimizers.Adam(learning_rate=0.001, beta_1=0.9, beta_2=0.999, amsgrad=False, clipnorm=1.0)\n",
        "final_model2.compile(loss='binary_crossentropy', metrics=['accuracy'], optimizer=adam)\n",
        "\n",
        "history = final_model2.fit(x_train, ytrain,\n",
        "              batch_size=10,\n",
        "            epochs=40,\n",
        "              validation_data=(xtest,ytest),\n",
        "              shuffle=True,\n",
        "              verbose=1\n",
        "            )"
      ],
      "execution_count": 0,
      "outputs": []
    },
    {
      "cell_type": "code",
      "metadata": {
        "id": "6SCQZ0DnwqrD",
        "colab_type": "code",
        "outputId": "5ad5270f-1374-4ace-da60-d6bc99518df2",
        "colab": {
          "base_uri": "https://localhost:8080/",
          "height": 545
        }
      },
      "source": [
        "import matplotlib.pyplot as plt\n",
        "acc = history.history['accuracy']\n",
        "val_acc = history.history['val_accuracy']\n",
        "loss = history.history['loss']\n",
        "val_loss = history.history['val_loss']\n",
        "epochs = range(1, len(acc) + 1)\n",
        "plt.plot(epochs, acc, 'b', color='red',label='Training acc')\n",
        "plt.plot(epochs, val_acc, 'b',color='blue', label='Validation acc')\n",
        "plt.title('Training and validation accuracy')\n",
        "plt.legend()\n",
        "plt.figure()\n",
        "plt.plot(epochs, loss, '',color='red', label='Training loss')\n",
        "plt.plot(epochs, val_loss, 'b',color='blue', label='Validation loss')\n",
        "plt.title('Training and validation loss')\n",
        "plt.legend()\n",
        "plt.show()"
      ],
      "execution_count": 0,
      "outputs": [
        {
          "output_type": "display_data",
          "data": {
            "image/png": "[encoded data removed]",
            "text/plain": [
              "<Figure size 432x288 with 1 Axes>"
            ]
          },
          "metadata": {
            "tags": [],
            "needs_background": "light"
          }
        },
        {
          "output_type": "display_data",
          "data": {
            "image/png": "[encoded data removed]",
            "text/plain": [
              "<Figure size 432x288 with 1 Axes>"
            ]
          },
          "metadata": {
            "tags": [],
            "needs_background": "light"
          }
        }
      ]
    },
    {
      "cell_type": "markdown",
      "metadata": {
        "id": "vVj7OGOyK3rP",
        "colab_type": "text"
      },
      "source": [
        "# Test Data"
      ]
    },
    {
      "cell_type": "code",
      "metadata": {
        "id": "vsd9nkthpVBd",
        "colab_type": "code",
        "colab": {}
      },
      "source": [
        "from tqdm import tqdm\n",
        "mfcctest = []\n",
        "\n",
        "validation_data = validation_data.rename(columns={'filename ': 'filename'})\n",
        "for i in tqdm(range(len(validation_data))):\n",
        "  mfcctest.append(features(validation_data.filename.iloc[i]))\n"
      ],
      "execution_count": 0,
      "outputs": []
    },
    {
      "cell_type": "code",
      "metadata": {
        "id": "uxPpAw2WMJ2p",
        "colab_type": "code",
        "colab": {}
      },
      "source": [
        "from tqdm import tqdm\n",
        "meltest = []\n",
        "validation_data =validation_data.rename(columns={'filename ': 'filename'})\n",
        "for i in tqdm(range(len(validation_data))):\n",
        "  meltest.append(newfeatures(validation_data.filename.iloc[i]))"
      ],
      "execution_count": 0,
      "outputs": []
    },
    {
      "cell_type": "code",
      "metadata": {
        "id": "3FNOrp46Miq2",
        "colab_type": "code",
        "outputId": "0def9912-220d-42f6-ae11-b739a723b556",
        "colab": {
          "base_uri": "https://localhost:8080/",
          "height": 68
        }
      },
      "source": [
        "meltest = np.array(meltest)\n",
        "print(meltest.shape)\n",
        "\n",
        "mfcctest = np.load('/content/drive/My Drive/Colab Notebooks/Audio Data/mfcctest.npy')\n",
        "print(mfcctest.shape)\n",
        "concat1_test = np.concatenate((mfcctest,meltest),axis =1)\n",
        "print(concat1_test.shape)"
      ],
      "execution_count": 0,
      "outputs": [
        {
          "output_type": "stream",
          "text": [
            "(1219, 128, 173)\n",
            "(1219, 40, 173)\n",
            "(1219, 168, 173)\n"
          ],
          "name": "stdout"
        }
      ]
    },
    {
      "cell_type": "code",
      "metadata": {
        "id": "yE7q0HdiuyCX",
        "colab_type": "code",
        "outputId": "4489bc0e-5a8a-4cbf-b041-0b4f8be9e52f",
        "colab": {
          "base_uri": "https://localhost:8080/",
          "height": 34
        }
      },
      "source": [
        "labels.shape"
      ],
      "execution_count": 0,
      "outputs": [
        {
          "output_type": "execute_result",
          "data": {
            "text/plain": [
              "(1219, 1)"
            ]
          },
          "metadata": {
            "tags": []
          },
          "execution_count": 131
        }
      ]
    },
    {
      "cell_type": "code",
      "metadata": {
        "id": "Ic0P1yGxszH6",
        "colab_type": "code",
        "outputId": "8985f4f6-2eb6-439c-86e6-3663ce616a21",
        "colab": {
          "base_uri": "https://localhost:8080/",
          "height": 51
        }
      },
      "source": [
        "#Increasing Training data\n",
        "new_train=(np.concatenate((concat1,concat1_test),axis =0))\n",
        "print(new_train.shape)\n",
        "new_label=(np.concatenate((labels,label_test),axis =0))\n",
        "print(new_label.shape)\n",
        "(x_train, xtest, ytrain, ytest) = train_test_split(new_train, new_label,\n",
        "\ttest_size=0.20, random_state=32)\n"
      ],
      "execution_count": 0,
      "outputs": [
        {
          "output_type": "stream",
          "text": [
            "(4935, 168, 173)\n",
            "(4935, 2)\n"
          ],
          "name": "stdout"
        }
      ]
    },
    {
      "cell_type": "code",
      "metadata": {
        "id": "kkzs13stM79X",
        "colab_type": "code",
        "outputId": "433924df-685b-4dfd-dcd9-939f6a6ca67c",
        "colab": {
          "base_uri": "https://localhost:8080/",
          "height": 51
        }
      },
      "source": [
        "lb = LabelBinarizer()\n",
        "labels1 = lb.fit_transform(validation_data.label)\n",
        "label_test = to_categorical(labels1)\n",
        "test_data = concat1_test\n",
        "test_data = test_data.reshape(1219,168,173)\n",
        "print(label_test.shape )\n",
        "test_data.shape"
      ],
      "execution_count": 0,
      "outputs": [
        {
          "output_type": "stream",
          "text": [
            "(1219, 2)\n"
          ],
          "name": "stdout"
        },
        {
          "output_type": "execute_result",
          "data": {
            "text/plain": [
              "(1219, 168, 173)"
            ]
          },
          "metadata": {
            "tags": []
          },
          "execution_count": 133
        }
      ]
    },
    {
      "cell_type": "code",
      "metadata": {
        "id": "UponfMEcZUyr",
        "colab_type": "code",
        "outputId": "c1cfa712-2220-4656-bef4-5161fa73f31c",
        "colab": {
          "base_uri": "https://localhost:8080/",
          "height": 51
        }
      },
      "source": [
        "scores = final_model2.evaluate(test_data, label_test, verbose=1)\n",
        "\n",
        "print('Test accuracy:', scores[1]*100)"
      ],
      "execution_count": 0,
      "outputs": [
        {
          "output_type": "stream",
          "text": [
            "1219/1219 [==============================] - 2s 2ms/step\n",
            "Test accuracy: 71.6160774230957\n"
          ],
          "name": "stdout"
        }
      ]
    },
    {
      "cell_type": "code",
      "metadata": {
        "id": "8-D6o4EpElu-",
        "colab_type": "code",
        "colab": {}
      },
      "source": [
        "pred = model.predict(test_data, batch_size=100)\n",
        "pred = np.argmax(pred, axis=1)\n",
        "from sklearn.metrics import accuracy_score\n",
        "acc = accuracy_score(label_test,pred)\n"
      ],
      "execution_count": 0,
      "outputs": []
    },
    {
      "cell_type": "code",
      "metadata": {
        "id": "W_E28US8XjkK",
        "colab_type": "code",
        "colab": {}
      },
      "source": [
        "from sklearn.metrics import accuracy_score\n",
        "acc = accuracy_score(label_test,pred)"
      ],
      "execution_count": 0,
      "outputs": []
    },
    {
      "cell_type": "code",
      "metadata": {
        "id": "5_y2ghYGWdD1",
        "colab_type": "code",
        "colab": {}
      },
      "source": [
        "print(classification_report(label_test.argmax(axis=1), pred,\n",
        "\ttarget_names=lb.classes_))\n",
        "cm = confusion_matrix(label_test.argmax(axis=1), pred)\n",
        "total = sum(sum(cm))\n",
        "acc = (cm[0, 0] + cm[1, 1]) / total\n",
        "sensitivity = cm[0, 0] / (cm[0, 0] + cm[0, 1])\n",
        "specificity = cm[1, 1] / (cm[1, 0] + cm[1, 1])\n",
        "print(cm)\n",
        "print(\"acc:\" ,acc*100)\n",
        "print(\"sensitivity: {:.4f}\".format(sensitivity))\n",
        "print(\"specificity: {:.4f}\".format(specificity))"
      ],
      "execution_count": 0,
      "outputs": []
    },
    {
      "cell_type": "markdown",
      "metadata": {
        "id": "GVL5wkK4D4lL",
        "colab_type": "text"
      },
      "source": [
        "**Scaling**"
      ]
    },
    {
      "cell_type": "code",
      "metadata": {
        "id": "1dtwVeFxxds6",
        "colab_type": "code",
        "colab": {}
      },
      "source": [
        "combined_features[np.isnan(combined_features)]\n"
      ],
      "execution_count": 0,
      "outputs": []
    },
    {
      "cell_type": "code",
      "metadata": {
        "id": "2L-qD5uaNWOG",
        "colab_type": "code",
        "outputId": "34469608-23ca-4648-bd42-7cbee8548093",
        "colab": {
          "base_uri": "https://localhost:8080/",
          "height": 34
        }
      },
      "source": [
        "x_train.max()\n",
        "combined_features = np.reshape(features,(3716,-1))\n",
        "combined_features.shape"
      ],
      "execution_count": 0,
      "outputs": [
        {
          "output_type": "execute_result",
          "data": {
            "text/plain": [
              "(3716, 26296)"
            ]
          },
          "metadata": {
            "tags": []
          },
          "execution_count": 112
        }
      ]
    },
    {
      "cell_type": "code",
      "metadata": {
        "id": "4WctGWFqkGoh",
        "colab_type": "code",
        "outputId": "b2f0f7b3-dcbf-4033-d601-b58492c7ae91",
        "colab": {
          "base_uri": "https://localhost:8080/",
          "height": 34
        }
      },
      "source": [
        "import numpy as np\n",
        "from sklearn.impute import SimpleImputer\n",
        "from sklearn.preprocessing import MinMaxScaler\n",
        "scalar = MinMaxScaler()\n",
        "imp_mean = SimpleImputer(missing_values=np.nan, strategy='mean')\n",
        "imp_mean.fit(combined_features)\n",
        "combined_features = imp_mean.transform(combined_features)\n",
        "scalar.fit(combined_features)\n",
        "combined_features = scalar.transform(combined_features)\n",
        "combined_features.max()"
      ],
      "execution_count": 0,
      "outputs": [
        {
          "output_type": "execute_result",
          "data": {
            "text/plain": [
              "1.0"
            ]
          },
          "metadata": {
            "tags": []
          },
          "execution_count": 99
        }
      ]
    },
    {
      "cell_type": "code",
      "metadata": {
        "id": "_xIUY_bcqfqt",
        "colab_type": "code",
        "outputId": "cc23cad4-c54b-488d-dd01-c7abbb1e4553",
        "colab": {
          "base_uri": "https://localhost:8080/",
          "height": 34
        }
      },
      "source": [
        "scalar.fit(combined_features)\n",
        "combined_features = scalar.transform(combined_features)\n",
        "combined_features.shape"
      ],
      "execution_count": 0,
      "outputs": [
        {
          "output_type": "execute_result",
          "data": {
            "text/plain": [
              "(3716, 26296)"
            ]
          },
          "metadata": {
            "tags": []
          },
          "execution_count": 113
        }
      ]
    },
    {
      "cell_type": "markdown",
      "metadata": {
        "id": "3aGoA97aAj4f",
        "colab_type": "text"
      },
      "source": [
        "#Final Checking"
      ]
    },
    {
      "cell_type": "code",
      "metadata": {
        "id": "IKla-lQHAmha",
        "colab_type": "code",
        "outputId": "8c11f450-1d58-48d4-8760-2198dd6ee962",
        "colab": {
          "base_uri": "https://localhost:8080/",
          "height": 68
        }
      },
      "source": [
        "import librosa\n",
        "path= '/content/positiveimprove3.wav'\n",
        "testing1 = features(path)\n",
        "testing2= melfeatures(path)\n",
        "testing3=mfcc_features(path)\n",
        "print(testing1.shape)\n",
        "print(testing2.shape)\n",
        "print(testing3.shape)"
      ],
      "execution_count": 0,
      "outputs": [
        {
          "output_type": "stream",
          "text": [
            "(12, 173)\n",
            "(128, 173)\n",
            "(12, 173)\n"
          ],
          "name": "stdout"
        }
      ]
    },
    {
      "cell_type": "code",
      "metadata": {
        "id": "e7HSXHQSBUkJ",
        "colab_type": "code",
        "outputId": "ac4a1fed-d056-4fef-d23d-aacab5c3afe2",
        "colab": {
          "base_uri": "https://localhost:8080/",
          "height": 34
        }
      },
      "source": [
        "finaltesting = np.concatenate((testing1,testing2,testing3),axis=0)\n",
        "print(finaltesting.shape)\n",
        "finaltesting = finaltesting.reshape(1,finaltesting.shape[0],finaltesting.shape[1])\n",
        "\n",
        "finaltesting.shape\n",
        "finaltesting = np.reshape(finaltesting,(1,-1))"
      ],
      "execution_count": 0,
      "outputs": [
        {
          "output_type": "stream",
          "text": [
            "(152, 173)\n"
          ],
          "name": "stdout"
        }
      ]
    },
    {
      "cell_type": "code",
      "metadata": {
        "id": "aP4dpBfdVumw",
        "colab_type": "code",
        "outputId": "fd749b93-1016-47a6-c2da-f5198194adee",
        "colab": {
          "base_uri": "https://localhost:8080/",
          "height": 34
        }
      },
      "source": [
        "Rd.predict(finaltesting)"
      ],
      "execution_count": 0,
      "outputs": [
        {
          "output_type": "execute_result",
          "data": {
            "text/plain": [
              "array([[0., 1.]], dtype=float32)"
            ]
          },
          "metadata": {
            "tags": []
          },
          "execution_count": 152
        }
      ]
    },
    {
      "cell_type": "markdown",
      "metadata": {
        "id": "WS-L8bxs72_i",
        "colab_type": "text"
      },
      "source": [
        "#Experiments On Real Data\n",
        "\n",
        "> working on 32 samples \n",
        "\n",
        "> working on 64 samples\n",
        "\n",
        "\n"
      ]
    },
    {
      "cell_type": "markdown",
      "metadata": {
        "id": "eOSvYxAek4py",
        "colab_type": "text"
      },
      "source": [
        "#First Trial on Real Data"
      ]
    },
    {
      "cell_type": "markdown",
      "metadata": {
        "id": "vwTucywM0vI0",
        "colab_type": "text"
      },
      "source": [
        "> This is first trial of training on real data in this \n",
        "\n",
        "> I have 32 samples 16 positive and 16 negative samples"
      ]
    },
    {
      "cell_type": "code",
      "metadata": {
        "id": "_6F27q3G1KLM",
        "colab_type": "code",
        "colab": {}
      },
      "source": [
        ""
      ],
      "execution_count": 0,
      "outputs": []
    },
    {
      "cell_type": "markdown",
      "metadata": {
        "id": "ddoJ-1iI1KqB",
        "colab_type": "text"
      },
      "source": [
        "**Data Extracting**"
      ]
    },
    {
      "cell_type": "code",
      "metadata": {
        "id": "Oy_eVbPm8K-c",
        "colab_type": "code",
        "colab": {}
      },
      "source": [
        "\n",
        "import glob\n",
        "import os\n",
        "import pandas as pd\n",
        "\n",
        "\n",
        "df = []\n",
        "for folder in ['/content/drive/My Drive/Colab Notebooks/Audio Data/COVID-19 Converted/COVID-19 Converted/Postive-con/**',\n",
        "             \n",
        "               ]:\n",
        "  for fname in glob.iglob(folder):\n",
        "    if os.path.exists(fname):\n",
        "      label = os.path.basename(fname).split(\".\")[1]\n",
        "      if label  in [\"wav\"]:\n",
        "      \n",
        "        df.append(\n",
        "              {\n",
        "                  \"filename \" : fname,\n",
        "               \"label\" : \"positve\" ,\n",
        "               \n",
        "              })\n",
        "      "
      ],
      "execution_count": 0,
      "outputs": []
    },
    {
      "cell_type": "code",
      "metadata": {
        "id": "xA508rLy8Wtl",
        "colab_type": "code",
        "colab": {}
      },
      "source": [
        "\n",
        "import glob\n",
        "import os\n",
        "import pandas as pd\n",
        "\n",
        "\n",
        "for folder in [\"/content/drive/My Drive/Colab Notebooks/Audio Data/Real/coughs/Neg/**\",\n",
        "             \n",
        "               ]:\n",
        "  for fname in glob.iglob(folder):\n",
        "    if os.path.exists(fname):\n",
        "      label = os.path.basename(fname).split(\".\")[1]\n",
        "      \n",
        "      if label  in [\"wav\"]:\n",
        "      \n",
        "        df.append(\n",
        "              {\n",
        "                  \"filename \" : fname,\n",
        "               \"label\" : \"negative\" ,\n",
        "               \n",
        "              })\n",
        "      "
      ],
      "execution_count": 0,
      "outputs": []
    },
    {
      "cell_type": "code",
      "metadata": {
        "id": "aCoOkeae87Oa",
        "colab_type": "code",
        "outputId": "61ddef68-2ee1-48d8-8bd2-4a280b856f81",
        "colab": {
          "base_uri": "https://localhost:8080/",
          "height": 204
        }
      },
      "source": [
        "import pandas as pd\n",
        "data = pd.DataFrame(df)\n",
        "data.head()"
      ],
      "execution_count": 0,
      "outputs": [
        {
          "output_type": "execute_result",
          "data": {
            "text/html": [
              "<div>\n",
              "<style scoped>\n",
              "    .dataframe tbody tr th:only-of-type {\n",
              "        vertical-align: middle;\n",
              "    }\n",
              "\n",
              "    .dataframe tbody tr th {\n",
              "        vertical-align: top;\n",
              "    }\n",
              "\n",
              "    .dataframe thead th {\n",
              "        text-align: right;\n",
              "    }\n",
              "</style>\n",
              "<table border=\"1\" class=\"dataframe\">\n",
              "  <thead>\n",
              "    <tr style=\"text-align: right;\">\n",
              "      <th></th>\n",
              "      <th>filename</th>\n",
              "      <th>label</th>\n",
              "    </tr>\n",
              "  </thead>\n",
              "  <tbody>\n",
              "    <tr>\n",
              "      <th>0</th>\n",
              "      <td>/content/drive/My Drive/Colab Notebooks/Audio ...</td>\n",
              "      <td>positve</td>\n",
              "    </tr>\n",
              "    <tr>\n",
              "      <th>1</th>\n",
              "      <td>/content/drive/My Drive/Colab Notebooks/Audio ...</td>\n",
              "      <td>positve</td>\n",
              "    </tr>\n",
              "    <tr>\n",
              "      <th>2</th>\n",
              "      <td>/content/drive/My Drive/Colab Notebooks/Audio ...</td>\n",
              "      <td>positve</td>\n",
              "    </tr>\n",
              "    <tr>\n",
              "      <th>3</th>\n",
              "      <td>/content/drive/My Drive/Colab Notebooks/Audio ...</td>\n",
              "      <td>positve</td>\n",
              "    </tr>\n",
              "    <tr>\n",
              "      <th>4</th>\n",
              "      <td>/content/drive/My Drive/Colab Notebooks/Audio ...</td>\n",
              "      <td>positve</td>\n",
              "    </tr>\n",
              "  </tbody>\n",
              "</table>\n",
              "</div>"
            ],
            "text/plain": [
              "                                           filename     label\n",
              "0  /content/drive/My Drive/Colab Notebooks/Audio ...  positve\n",
              "1  /content/drive/My Drive/Colab Notebooks/Audio ...  positve\n",
              "2  /content/drive/My Drive/Colab Notebooks/Audio ...  positve\n",
              "3  /content/drive/My Drive/Colab Notebooks/Audio ...  positve\n",
              "4  /content/drive/My Drive/Colab Notebooks/Audio ...  positve"
            ]
          },
          "metadata": {
            "tags": []
          },
          "execution_count": 329
        }
      ]
    },
    {
      "cell_type": "code",
      "metadata": {
        "id": "X_pHOq999NfT",
        "colab_type": "code",
        "outputId": "c5eb71f9-a285-40b6-b054-aa1c63bf2676",
        "colab": {
          "base_uri": "https://localhost:8080/",
          "height": 475
        }
      },
      "source": [
        "import matplotlib.pyplot as plt\n",
        "\n",
        "plt.figure(figsize = (12,6))\n",
        "data['label'].value_counts().plot(kind = 'bar' , title = ' Distribution' )\n",
        "plt.show()\n",
        "print(data['label'].value_counts())"
      ],
      "execution_count": 0,
      "outputs": [
        {
          "output_type": "display_data",
          "data": {
            "image/png": "[encoded data removed]",
            "text/plain": [
              "<Figure size 864x432 with 1 Axes>"
            ]
          },
          "metadata": {
            "tags": [],
            "needs_background": "light"
          }
        },
        {
          "output_type": "stream",
          "text": [
            "negative    16\n",
            "positve     16\n",
            "Name: label, dtype: int64\n"
          ],
          "name": "stdout"
        }
      ]
    },
    {
      "cell_type": "code",
      "metadata": {
        "id": "2CqF-diB9gCA",
        "colab_type": "code",
        "outputId": "3e45e292-3351-4ab7-eeb4-1f4d5591e7f3",
        "colab": {
          "base_uri": "https://localhost:8080/",
          "height": 204
        }
      },
      "source": [
        "from sklearn.utils import shuffle\n",
        "data =shuffle(data, random_state =48)\n",
        "data.head()"
      ],
      "execution_count": 0,
      "outputs": [
        {
          "output_type": "execute_result",
          "data": {
            "text/html": [
              "<div>\n",
              "<style scoped>\n",
              "    .dataframe tbody tr th:only-of-type {\n",
              "        vertical-align: middle;\n",
              "    }\n",
              "\n",
              "    .dataframe tbody tr th {\n",
              "        vertical-align: top;\n",
              "    }\n",
              "\n",
              "    .dataframe thead th {\n",
              "        text-align: right;\n",
              "    }\n",
              "</style>\n",
              "<table border=\"1\" class=\"dataframe\">\n",
              "  <thead>\n",
              "    <tr style=\"text-align: right;\">\n",
              "      <th></th>\n",
              "      <th>filename</th>\n",
              "      <th>label</th>\n",
              "    </tr>\n",
              "  </thead>\n",
              "  <tbody>\n",
              "    <tr>\n",
              "      <th>29</th>\n",
              "      <td>/content/drive/My Drive/Colab Notebooks/Audio ...</td>\n",
              "      <td>negative</td>\n",
              "    </tr>\n",
              "    <tr>\n",
              "      <th>25</th>\n",
              "      <td>/content/drive/My Drive/Colab Notebooks/Audio ...</td>\n",
              "      <td>negative</td>\n",
              "    </tr>\n",
              "    <tr>\n",
              "      <th>9</th>\n",
              "      <td>/content/drive/My Drive/Colab Notebooks/Audio ...</td>\n",
              "      <td>positve</td>\n",
              "    </tr>\n",
              "    <tr>\n",
              "      <th>1</th>\n",
              "      <td>/content/drive/My Drive/Colab Notebooks/Audio ...</td>\n",
              "      <td>positve</td>\n",
              "    </tr>\n",
              "    <tr>\n",
              "      <th>18</th>\n",
              "      <td>/content/drive/My Drive/Colab Notebooks/Audio ...</td>\n",
              "      <td>negative</td>\n",
              "    </tr>\n",
              "  </tbody>\n",
              "</table>\n",
              "</div>"
            ],
            "text/plain": [
              "                                            filename      label\n",
              "29  /content/drive/My Drive/Colab Notebooks/Audio ...  negative\n",
              "25  /content/drive/My Drive/Colab Notebooks/Audio ...  negative\n",
              "9   /content/drive/My Drive/Colab Notebooks/Audio ...   positve\n",
              "1   /content/drive/My Drive/Colab Notebooks/Audio ...   positve\n",
              "18  /content/drive/My Drive/Colab Notebooks/Audio ...  negative"
            ]
          },
          "metadata": {
            "tags": []
          },
          "execution_count": 300
        }
      ]
    },
    {
      "cell_type": "markdown",
      "metadata": {
        "id": "OOInmJGm1R2r",
        "colab_type": "text"
      },
      "source": [
        "**Features Extraction**\n"
      ]
    },
    {
      "cell_type": "markdown",
      "metadata": {
        "colab_type": "text",
        "id": "E7ZMFlqjNcZS"
      },
      "source": [
        "I  have Extract different Features down below\n",
        "* rms\n",
        "* zcr \n",
        "* spectral_energy \n",
        "* centroid\n",
        "* mfcc\n",
        "* rolloff\n",
        "*pitch\n",
        "*melspectrogram\n",
        "*chroma\n"
      ]
    },
    {
      "cell_type": "code",
      "metadata": {
        "id": "xhvZwfCHFhC5",
        "colab_type": "code",
        "colab": {}
      },
      "source": [
        "from tqdm import tqdm\n",
        "rms_energy = []\n",
        "zcr = []\n",
        "spectral_energy = []\n",
        "centroid=[]\n",
        "mfcc=[]\n",
        "rolloff=[]\n",
        "pitch=[]\n",
        "mel=[]\n",
        "chroma1 = []\n",
        "\n",
        "dr =10 \n",
        "\n",
        "def features1(path):\n",
        "  x,sr = librosa.load(path,duration=dr)\n",
        "  values =librosa.feature.spectral_centroid(x,sr)\n",
        "  return values\n",
        "\n",
        "def features2(path):\n",
        "  x,sr = librosa.load(path,duration=dr)\n",
        "  values = librosa.core.zero_crossings(x)\n",
        "  return values\n",
        "\n",
        "def features3(path):\n",
        "  x,sr = librosa.load(path,duration=dr)\n",
        "  values =librosa.feature.spectral_rolloff(y=x,sr=sr)\n",
        "  return values\n",
        "\n",
        "def features4(path):\n",
        "  x,sr = librosa.load(path,duration=dr)\n",
        "  values, magnitudes = librosa.piptrack(y=x, sr=sr)\n",
        "  return values\n",
        "\n",
        "def features5(path):\n",
        "  x,sr = librosa.load(path,duration=dr)\n",
        "  values =librosa.feature.mfcc(x,sr,n_mfcc=25)\n",
        "  return values\n",
        "\n",
        "\n",
        "def features6(path):\n",
        "  x,sr = librosa.load(path,duration=dr)\n",
        "  values =librosa.feature.rms(y=x)\n",
        "\n",
        "def features7(path):\n",
        "  x,sr = librosa.load(path,duration=dr)\n",
        "  values =librosa.feature.melspectrogram(y=x,sr=sr)\n",
        "  return values\n",
        "\n",
        "\n",
        "def features8(path):\n",
        "  x,sr = librosa.load(path)\n",
        "  values =librosa.get_duration(y=x,sr=sr)\n",
        "  return values\n",
        "def melfeatures(path):\n",
        "  f,samp_rate = librosa.load(path=path,duration = dr)\n",
        "  mel = librosa.feature.melspectrogram(y=f ,sr = samp_rate)\n",
        "  return mel\n",
        "def chroma(path):\n",
        "  f,samp_rate = librosa.load(path=path,duration = 10)\n",
        "  mfccs = librosa.feature.chroma_cqt(y=f,sr=samp_rate)\n",
        "  return mfccs \n",
        "\n",
        "\n"
      ],
      "execution_count": 0,
      "outputs": []
    },
    {
      "cell_type": "code",
      "metadata": {
        "id": "JR22eyPMXn-B",
        "colab_type": "code",
        "outputId": "f18c5758-42ab-49a4-9382-5313e5461139",
        "colab": {
          "base_uri": "https://localhost:8080/",
          "height": 595
        }
      },
      "source": [
        "import librosa\n",
        "train = data.rename(columns={'filename ': 'filename'})\n",
        "for i in tqdm(range(len(train))):\n",
        "  rms_energy.append(features6(train.filename.iloc[i]))\n",
        "  zcr.append(features2(train.filename.iloc[i])) \n",
        "  mfcc.append(features5(train.filename.iloc[i])) \n",
        "  centroid.append(features1(train.filename.iloc[i])) \n",
        "  spectral_energy.append(features5(train.filename.iloc[i]))\n",
        "  rolloff.append(features3(train.filename.iloc[i])) \n",
        "  pitch.append(features4(train.filename.iloc[i]))\n",
        "  mel.append(melfeatures(train.filename.iloc[i]))\n",
        "  chroma1.append(chroma(train.filename.iloc[i]))\n",
        "  "
      ],
      "execution_count": 0,
      "outputs": [
        {
          "output_type": "stream",
          "text": [
            "\n",
            "  0%|          | 0/32 [00:00<?, ?it/s]\u001b[A\n",
            "  3%|▎         | 1/32 [00:06<03:06,  6.02s/it]\u001b[A\n",
            "  6%|▋         | 2/32 [00:12<03:00,  6.02s/it]\u001b[A\n",
            "  9%|▉         | 3/32 [00:18<02:54,  6.01s/it]\u001b[A\n",
            " 12%|█▎        | 4/32 [00:24<02:48,  6.01s/it]\u001b[A\n",
            " 16%|█▌        | 5/32 [00:30<02:41,  6.00s/it]\u001b[A\n",
            " 19%|█▉        | 6/32 [00:36<02:35,  6.00s/it]\u001b[A\n",
            " 22%|██▏       | 7/32 [00:41<02:29,  6.00s/it]\u001b[A\n",
            " 25%|██▌       | 8/32 [00:47<02:23,  5.99s/it]\u001b[A\n",
            " 28%|██▊       | 9/32 [00:53<02:17,  5.99s/it]\u001b[A\n",
            " 31%|███▏      | 10/32 [00:59<02:11,  6.00s/it]\u001b[A\n",
            " 34%|███▍      | 11/32 [01:05<02:05,  5.99s/it]\u001b[A\n",
            " 38%|███▊      | 12/32 [01:11<01:59,  5.99s/it]\u001b[A\n",
            " 41%|████      | 13/32 [01:17<01:53,  5.98s/it]\u001b[A\n",
            " 44%|████▍     | 14/32 [01:23<01:47,  5.99s/it]\u001b[A\n",
            " 47%|████▋     | 15/32 [01:29<01:41,  5.98s/it]\u001b[A\n",
            " 50%|█████     | 16/32 [01:35<01:35,  5.98s/it]\u001b[A\n",
            " 53%|█████▎    | 17/32 [01:41<01:30,  6.01s/it]\u001b[A\n",
            " 56%|█████▋    | 18/32 [01:48<01:24,  6.05s/it]\u001b[A\n",
            " 59%|█████▉    | 19/32 [01:54<01:18,  6.05s/it]\u001b[A\n",
            " 62%|██████▎   | 20/32 [02:00<01:12,  6.07s/it]\u001b[A\n",
            " 66%|██████▌   | 21/32 [02:06<01:06,  6.06s/it]\u001b[A\n",
            " 69%|██████▉   | 22/32 [02:12<01:00,  6.04s/it]\u001b[A\n",
            " 72%|███████▏  | 23/32 [02:18<00:54,  6.04s/it]\u001b[A\n",
            " 75%|███████▌  | 24/32 [02:24<00:48,  6.03s/it]\u001b[A\n",
            " 78%|███████▊  | 25/32 [02:30<00:42,  6.02s/it]\u001b[A\n",
            " 81%|████████▏ | 26/32 [02:36<00:36,  6.01s/it]\u001b[A\n",
            " 84%|████████▍ | 27/32 [02:42<00:29,  5.99s/it]\u001b[A\n",
            " 88%|████████▊ | 28/32 [02:48<00:23,  6.00s/it]\u001b[A\n",
            " 91%|█████████ | 29/32 [02:54<00:17,  5.98s/it]\u001b[A\n",
            " 94%|█████████▍| 30/32 [03:00<00:12,  6.01s/it]\u001b[A\n",
            " 97%|█████████▋| 31/32 [03:06<00:05,  6.00s/it]\u001b[A\n",
            "100%|██████████| 32/32 [03:12<00:00,  6.01s/it]\n"
          ],
          "name": "stderr"
        }
      ]
    },
    {
      "cell_type": "code",
      "metadata": {
        "id": "MgHMDLZURzgs",
        "colab_type": "code",
        "colab": {}
      },
      "source": [
        "import numpy as np\n",
        "\n",
        "rms_energy = np.array(rms_energy)\n",
        "zcr = np.array(zcr)\n",
        "spectral_energy= np.array(spectral_energy)\n",
        "centroid = np.array(centroid)\n",
        "mfcc= np.array(mfcc)\n",
        "rolloff=np.array(rolloff)\n",
        "pitch= np.array(pitch)\n",
        "mel=np.array(mel)\n",
        "chroma1 = np.array(chroma1)"
      ],
      "execution_count": 0,
      "outputs": []
    },
    {
      "cell_type": "code",
      "metadata": {
        "id": "gU1T9gLJPM-i",
        "colab_type": "code",
        "outputId": "0f82c389-5a0f-4375-a29d-8f4464962841",
        "colab": {
          "base_uri": "https://localhost:8080/",
          "height": 207
        }
      },
      "source": [
        "print(rms_energy.shape)\n",
        "print(zcr.shape)\n",
        "print(spectral_energy.shape)\n",
        "print(centroid.shape)\n",
        "print(mfcc.shape)\n",
        "print(rolloff.shape)\n",
        "print(pitch.shape)\n",
        "print(mel.shape)\n",
        "print(chroma1.shape)\n",
        "'''\n",
        "mfcc=np.save('/content/drive/My Drive/Extra/mfccc.npy',mfcc)\n",
        "labels=np.save('/content/drive/My Drive/Extra/labels.npy',labels)\n",
        "mel=np.save('/content/drive/My Drive/Extra/mel.npy',mel)\n",
        "chroma=np.save('/content/drive/My Drive/Extra/chroma.npy',chroma1)\n",
        "pitch=np.save('/content/drive/My Drive/Extra/pitch.npy',pitch)\n",
        "'''"
      ],
      "execution_count": 0,
      "outputs": [
        {
          "output_type": "stream",
          "text": [
            "(32,)\n",
            "(32, 220500)\n",
            "(32, 25, 431)\n",
            "(32, 1, 431)\n",
            "(32, 25, 431)\n",
            "(32, 1, 431)\n",
            "(32, 1025, 431)\n",
            "(32, 128, 431)\n",
            "(32, 12, 431)\n"
          ],
          "name": "stdout"
        },
        {
          "output_type": "execute_result",
          "data": {
            "text/plain": [
              "\"\\nmfcc=np.save('/content/drive/My Drive/Extra/mfccc.npy',mfcc)\\nlabels=np.save('/content/drive/My Drive/Extra/labels.npy',labels)\\nmel=np.save('/content/drive/My Drive/Extra/mel.npy',mel)\\nchroma=np.save('/content/drive/My Drive/Extra/chroma.npy',chroma1)\\npitch=np.save('/content/drive/My Drive/Extra/pitch.npy',pitch)\\n\""
            ]
          },
          "metadata": {
            "tags": []
          },
          "execution_count": 304
        }
      ]
    },
    {
      "cell_type": "code",
      "metadata": {
        "id": "OidrNalUzWIu",
        "colab_type": "code",
        "outputId": "44b0f12c-7a3f-45b6-8b73-e72808dbe73f",
        "colab": {
          "base_uri": "https://localhost:8080/",
          "height": 34
        }
      },
      "source": [
        "feature1 = np.concatenate((mel,pitch,mfcc,centroid,chroma1,rolloff),axis=1)\n",
        "#feature1 = np.concatenate((mel,pitch,mfcc,chroma1),axis=1)\n",
        "feature2= feature1.reshape(feature1.shape[0],feature1.shape[1]*feature1.shape[2])\n",
        "feature = np.concatenate((feature2,zcr),axis =1 )\n",
        "feature.shape"
      ],
      "execution_count": 0,
      "outputs": [
        {
          "output_type": "execute_result",
          "data": {
            "text/plain": [
              "(32, 734252)"
            ]
          },
          "metadata": {
            "tags": []
          },
          "execution_count": 305
        }
      ]
    },
    {
      "cell_type": "markdown",
      "metadata": {
        "id": "W0QifVdCGZvH",
        "colab_type": "text"
      },
      "source": [
        "#Feature Importance"
      ]
    },
    {
      "cell_type": "markdown",
      "metadata": {
        "id": "jk32WQ2DTEJ0",
        "colab_type": "text"
      },
      "source": [
        "Correlation between MFFC"
      ]
    },
    {
      "cell_type": "code",
      "metadata": {
        "id": "pDRZnquFHCay",
        "colab_type": "code",
        "outputId": "42311403-3ccd-44ba-ac5b-17436a0acbde",
        "colab": {
          "base_uri": "https://localhost:8080/",
          "height": 408
        }
      },
      "source": [
        "import librosa\n",
        "path1='/content/drive/My Drive/COVID-19 Converted-333/COVID-19 Converted/Postive-con/pos-7.wav'\n",
        "path2 ='/content/drive/My Drive/COVID-19 Converted-333/COVID-19 Converted/Negative-con/neg-1.wav'\n",
        "dr =10\n",
        "x,sr = librosa.load(path1,duration=dr)\n",
        "values1 =librosa.feature.mfcc(x,sr,n_mfcc=25)\n",
        "x1,sr1 = librosa.load(path1,duration=dr)\n",
        "values2 =librosa.feature.mfcc(x1,sr1,n_mfcc=25)\n",
        "mat = [values1,values2]\n",
        "mat=np.array(mat)\n",
        "mat = np.reshape(mat,(2,-1))\n",
        "mat= mat.reshape(mat.shape[1],2)\n",
        "#print(mat)\n",
        "mat1 = pd.DataFrame(data=mat,columns=['x','y'])\n",
        "\n",
        "\n",
        "print(sc.score(mat1,\"x\",\"y\"))\n",
        "\n",
        "import seaborn as sns\n",
        "df_matrix = sc.matrix(mat1)\n",
        "sns.heatmap(df_matrix, vmin=0, vmax=1, cmap=\"Blues\", linewidths=0.5, annot=True)\n"
      ],
      "execution_count": 0,
      "outputs": [
        {
          "output_type": "stream",
          "text": [
            "{'x': 'x', 'y': 'y', 'task': 'regression', 'ppscore': 0.7283461638058915, 'metric': 'mean absolute error', 'baseline_score': 26.91166976043008, 'model_score': 7.310658328809819, 'model': DecisionTreeRegressor(ccp_alpha=0.0, criterion='mse', max_depth=None,\n",
            "                      max_features=None, max_leaf_nodes=None,\n",
            "                      min_impurity_decrease=0.0, min_impurity_split=None,\n",
            "                      min_samples_leaf=1, min_samples_split=2,\n",
            "                      min_weight_fraction_leaf=0.0, presort='deprecated',\n",
            "                      random_state=None, splitter='best')}\n"
          ],
          "name": "stdout"
        },
        {
          "output_type": "execute_result",
          "data": {
            "text/plain": [
              "<matplotlib.axes._subplots.AxesSubplot at 0x7f7f3c0be518>"
            ]
          },
          "metadata": {
            "tags": []
          },
          "execution_count": 38
        },
        {
          "output_type": "display_data",
          "data": {
            "image/png": "[encoded data removed]",
            "text/plain": [
              "<Figure size 432x288 with 2 Axes>"
            ]
          },
          "metadata": {
            "tags": [],
            "needs_background": "light"
          }
        }
      ]
    },
    {
      "cell_type": "markdown",
      "metadata": {
        "id": "kKexBzLwTIJp",
        "colab_type": "text"
      },
      "source": [
        "Correlation between Constant Q Chromogram"
      ]
    },
    {
      "cell_type": "code",
      "metadata": {
        "id": "tJYYbqj-K7Cm",
        "colab_type": "code",
        "outputId": "e8be5182-c841-42a2-d989-c41fdc7e1b54",
        "colab": {
          "base_uri": "https://localhost:8080/",
          "height": 408
        }
      },
      "source": [
        "x,sr = librosa.load(path1,duration=dr)\n",
        "values1 =librosa.feature.chroma_cqt(x,sr)\n",
        "x1,sr1 = librosa.load(path1,duration=dr)\n",
        "values2 =librosa.feature.chroma_cqt(x1,sr1)\n",
        "mat = [values1[1],values2[1]]\n",
        "mat=np.array(mat)\n",
        "mat = np.reshape(mat,(2,-1))\n",
        "mat= mat.reshape(mat.shape[1],2)\n",
        "#print(mat)\n",
        "mat1 = pd.DataFrame(data=mat,columns=['x','y'])\n",
        "'''\n",
        "corr = mat1.corr()\n",
        "\n",
        "# plot the heatmap\n",
        "sns.heatmap(corr, \n",
        "        xticklabels=corr.columns,\n",
        "        yticklabels=corr.columns)\n",
        "'''\n",
        "\n",
        "print(pps.score(mat1,\"x\",\"y\"))\n",
        "\n",
        "import seaborn as sns\n",
        "df_matrix = pps.matrix(mat1)\n",
        "sns.heatmap(df_matrix, vmin=0, vmax=1, cmap=\"Blues\", linewidths=0.5, annot=True)"
      ],
      "execution_count": 0,
      "outputs": [
        {
          "output_type": "stream",
          "text": [
            "{'x': 'x', 'y': 'y', 'task': 'regression', 'ppscore': 0, 'metric': 'mean absolute error', 'baseline_score': 0.21722013359057776, 'model_score': 0.22190913712459542, 'model': DecisionTreeRegressor(ccp_alpha=0.0, criterion='mse', max_depth=None,\n",
            "                      max_features=None, max_leaf_nodes=None,\n",
            "                      min_impurity_decrease=0.0, min_impurity_split=None,\n",
            "                      min_samples_leaf=1, min_samples_split=2,\n",
            "                      min_weight_fraction_leaf=0.0, presort='deprecated',\n",
            "                      random_state=None, splitter='best')}\n"
          ],
          "name": "stdout"
        },
        {
          "output_type": "execute_result",
          "data": {
            "text/plain": [
              "<matplotlib.axes._subplots.AxesSubplot at 0x7f7f34c475f8>"
            ]
          },
          "metadata": {
            "tags": []
          },
          "execution_count": 48
        },
        {
          "output_type": "display_data",
          "data": {
            "image/png": "[encoded data removed]",
            "text/plain": [
              "<Figure size 432x288 with 2 Axes>"
            ]
          },
          "metadata": {
            "tags": [],
            "needs_background": "light"
          }
        }
      ]
    },
    {
      "cell_type": "markdown",
      "metadata": {
        "id": "QmKRAkYAS4VN",
        "colab_type": "text"
      },
      "source": [
        "Correlation between Melspectrograms"
      ]
    },
    {
      "cell_type": "code",
      "metadata": {
        "id": "8aiYh6svK8CR",
        "colab_type": "code",
        "outputId": "746a0000-dbec-46d4-c609-3432db2616d7",
        "colab": {
          "base_uri": "https://localhost:8080/",
          "height": 408
        }
      },
      "source": [
        "x,sr = librosa.load(path1,duration=dr)\n",
        "values1 =librosa.feature.melspectrogram(x,sr)\n",
        "x1,sr1 = librosa.load(path1,duration=dr)\n",
        "values2 =librosa.feature.melspectrogram(x1,sr1)\n",
        "mat = [values1[1],values2[1]]\n",
        "mat=np.array(mat)\n",
        "mat = np.reshape(mat,(2,-1))\n",
        "mat= mat.reshape(mat.shape[1],2)\n",
        "mat1 = pd.DataFrame(data=mat,columns=['x','y'])\n",
        "\n",
        "\n",
        "print(pps.score(mat1,\"x\",\"y\"))\n",
        "\n",
        "import seaborn as sns\n",
        "df_matrix = pps.matrix(mat1)\n",
        "sns.heatmap(df_matrix, vmin=0, vmax=1, cmap=\"Blues\", linewidths=0.5, annot=True)"
      ],
      "execution_count": 0,
      "outputs": [
        {
          "output_type": "stream",
          "text": [
            "{'x': 'x', 'y': 'y', 'task': 'regression', 'ppscore': 0, 'metric': 'mean absolute error', 'baseline_score': 0.005875087965101716, 'model_score': 0.008317048916141044, 'model': DecisionTreeRegressor(ccp_alpha=0.0, criterion='mse', max_depth=None,\n",
            "                      max_features=None, max_leaf_nodes=None,\n",
            "                      min_impurity_decrease=0.0, min_impurity_split=None,\n",
            "                      min_samples_leaf=1, min_samples_split=2,\n",
            "                      min_weight_fraction_leaf=0.0, presort='deprecated',\n",
            "                      random_state=None, splitter='best')}\n"
          ],
          "name": "stdout"
        },
        {
          "output_type": "execute_result",
          "data": {
            "text/plain": [
              "<matplotlib.axes._subplots.AxesSubplot at 0x7f7f3bef4550>"
            ]
          },
          "metadata": {
            "tags": []
          },
          "execution_count": 41
        },
        {
          "output_type": "display_data",
          "data": {
            "image/png": "[encoded data removed]",
            "text/plain": [
              "<Figure size 432x288 with 2 Axes>"
            ]
          },
          "metadata": {
            "tags": [],
            "needs_background": "light"
          }
        }
      ]
    },
    {
      "cell_type": "markdown",
      "metadata": {
        "id": "XdmmEM6HS0WT",
        "colab_type": "text"
      },
      "source": [
        "Correlation between Pitches"
      ]
    },
    {
      "cell_type": "code",
      "metadata": {
        "id": "zMN7yN74MV0w",
        "colab_type": "code",
        "outputId": "5cd2126c-126e-45d4-dec0-2d9b862cdd8a",
        "colab": {
          "base_uri": "https://localhost:8080/",
          "height": 408
        }
      },
      "source": [
        "x,sr = librosa.load(path1,duration=dr)\n",
        "values1 =librosa.piptrack(x,sr)\n",
        "x1,sr1 = librosa.load(path1,duration=dr)\n",
        "values2 =librosa.piptrack(x1,sr1)\n",
        "mat = [values1[1],values2[1]]\n",
        "mat=np.array(mat)\n",
        "mat = np.reshape(mat,(2,-1))\n",
        "mat= mat.reshape(mat.shape[1],2)\n",
        "mat1 = pd.DataFrame(data=mat,columns=['x','y'])\n",
        "\n",
        "\n",
        "print(sc.score(mat1,\"x\",\"y\"))\n",
        "\n",
        "import seaborn as sns\n",
        "df_matrix = sc.matrix(mat1)\n",
        "sns.heatmap(df_matrix, vmin=0, vmax=1, cmap=\"Blues\", linewidths=0.5, annot=True)"
      ],
      "execution_count": 0,
      "outputs": [
        {
          "output_type": "stream",
          "text": [
            "{'x': 'x', 'y': 'y', 'task': 'regression', 'ppscore': 0, 'metric': 'mean absolute error', 'baseline_score': 0.12622401196788996, 'model_score': 0.205598646294191, 'model': DecisionTreeRegressor(ccp_alpha=0.0, criterion='mse', max_depth=None,\n",
            "                      max_features=None, max_leaf_nodes=None,\n",
            "                      min_impurity_decrease=0.0, min_impurity_split=None,\n",
            "                      min_samples_leaf=1, min_samples_split=2,\n",
            "                      min_weight_fraction_leaf=0.0, presort='deprecated',\n",
            "                      random_state=None, splitter='best')}\n"
          ],
          "name": "stdout"
        },
        {
          "output_type": "execute_result",
          "data": {
            "text/plain": [
              "<matplotlib.axes._subplots.AxesSubplot at 0x7f7f34f42a58>"
            ]
          },
          "metadata": {
            "tags": []
          },
          "execution_count": 43
        },
        {
          "output_type": "display_data",
          "data": {
            "image/png": "[encoded data removed]",
            "text/plain": [
              "<Figure size 432x288 with 2 Axes>"
            ]
          },
          "metadata": {
            "tags": [],
            "needs_background": "light"
          }
        }
      ]
    },
    {
      "cell_type": "markdown",
      "metadata": {
        "id": "SWhAUlbOSGBg",
        "colab_type": "text"
      },
      "source": [
        "Correlation between ZCR"
      ]
    },
    {
      "cell_type": "code",
      "metadata": {
        "id": "Rxg02zm2OVzr",
        "colab_type": "code",
        "outputId": "8870c942-6e31-4652-a02a-47b13a6d9514",
        "colab": {
          "base_uri": "https://localhost:8080/",
          "height": 323
        }
      },
      "source": [
        "x,sr = librosa.load(path1,duration=dr)\n",
        "values1 =librosa.core.zero_crossings(x)\n",
        "x1,sr1 = librosa.load(path1,duration=dr)\n",
        "values2 =librosa.core.zero_crossings(x1)\n",
        "mat = [values1[1],values2[1]]\n",
        "mat=np.array(mat)\n",
        "mat = np.reshape(mat,(2,-1))\n",
        "mat= mat.reshape(mat.shape[1],2)\n",
        "mat1 = pd.DataFrame(data=mat,columns=['x','y'])\n",
        "\n",
        "\n",
        "print(sc.score(mat1,\"x\",\"y\"))\n",
        "\n",
        "import seaborn as sns\n",
        "df_matrix = sc.matrix(mat1)\n",
        "sns.heatmap(df_matrix, vmin=0, vmax=1, cmap=\"Blues\", linewidths=0.5, annot=True)"
      ],
      "execution_count": 0,
      "outputs": [
        {
          "output_type": "stream",
          "text": [
            "{'x': 'x', 'y': 'y', 'task': 'predict_constant', 'ppscore': 1, 'metric': None, 'baseline_score': 1, 'model_score': 1, 'model': None}\n"
          ],
          "name": "stdout"
        },
        {
          "output_type": "execute_result",
          "data": {
            "text/plain": [
              "<matplotlib.axes._subplots.AxesSubplot at 0x7f7f3c042828>"
            ]
          },
          "metadata": {
            "tags": []
          },
          "execution_count": 44
        },
        {
          "output_type": "display_data",
          "data": {
            "image/png": "[encoded data removed]",
            "text/plain": [
              "<Figure size 432x288 with 2 Axes>"
            ]
          },
          "metadata": {
            "tags": [],
            "needs_background": "light"
          }
        }
      ]
    },
    {
      "cell_type": "markdown",
      "metadata": {
        "id": "kxW0o9nBbCBK",
        "colab_type": "text"
      },
      "source": [
        "Correlations between Spectral Roll_off"
      ]
    },
    {
      "cell_type": "code",
      "metadata": {
        "id": "psmfL6cBSOEj",
        "colab_type": "code",
        "outputId": "a23f42a4-b8f2-47fe-a342-1aef63ec9991",
        "colab": {
          "base_uri": "https://localhost:8080/",
          "height": 408
        }
      },
      "source": [
        "x,sr = librosa.load(path1,duration=dr)\n",
        "values1 =librosa.feature.spectral_rolloff(y=x,sr=sr)\n",
        "x1,sr1 = librosa.load(path1,duration=dr)\n",
        "values2 =librosa.feature.spectral_rolloff(y=x1,sr=sr)\n",
        "mat = [values1,values2]\n",
        "mat=np.array(mat)\n",
        "mat = np.reshape(mat,(2,-1))\n",
        "mat= mat.reshape(mat.shape[1],2)\n",
        "mat1 = pd.DataFrame(data=mat,columns=['x','y'])\n",
        "\n",
        "\n",
        "print(sc.score(mat1,\"x\",\"y\"))\n",
        "\n",
        "import seaborn as sns\n",
        "df_matrix = sc.matrix(mat1)\n",
        "sns.heatmap(df_matrix, vmin=0, vmax=1, cmap=\"Blues\", linewidths=0.5, annot=True)"
      ],
      "execution_count": 0,
      "outputs": [
        {
          "output_type": "stream",
          "text": [
            "{'x': 'x', 'y': 'y', 'task': 'regression', 'ppscore': 0.4540056713689332, 'metric': 'mean absolute error', 'baseline_score': 1051.4048565291473, 'model_score': 574.0610887600749, 'model': DecisionTreeRegressor(ccp_alpha=0.0, criterion='mse', max_depth=None,\n",
            "                      max_features=None, max_leaf_nodes=None,\n",
            "                      min_impurity_decrease=0.0, min_impurity_split=None,\n",
            "                      min_samples_leaf=1, min_samples_split=2,\n",
            "                      min_weight_fraction_leaf=0.0, presort='deprecated',\n",
            "                      random_state=None, splitter='best')}\n"
          ],
          "name": "stdout"
        },
        {
          "output_type": "execute_result",
          "data": {
            "text/plain": [
              "<matplotlib.axes._subplots.AxesSubplot at 0x7f7f34bda550>"
            ]
          },
          "metadata": {
            "tags": []
          },
          "execution_count": 53
        },
        {
          "output_type": "display_data",
          "data": {
            "image/png": "[encoded data removed]",
            "text/plain": [
              "<Figure size 432x288 with 2 Axes>"
            ]
          },
          "metadata": {
            "tags": [],
            "needs_background": "light"
          }
        }
      ]
    },
    {
      "cell_type": "markdown",
      "metadata": {
        "colab_type": "text",
        "id": "XAcnOTvZcDrj"
      },
      "source": [
        "Correlations between Spectral Centroid"
      ]
    },
    {
      "cell_type": "code",
      "metadata": {
        "id": "pbR-fbOta_oM",
        "colab_type": "code",
        "outputId": "243337bd-7400-4dc5-a5b4-714517e7ec80",
        "colab": {
          "base_uri": "https://localhost:8080/",
          "height": 408
        }
      },
      "source": [
        "x,sr = librosa.load(path1,duration=dr)\n",
        "values1 =librosa.feature.spectral_centroid(x,sr)\n",
        "x1,sr1 = librosa.load(path1,duration=dr)\n",
        "values2 =librosa.feature.spectral_centroid(x1,sr)\n",
        "mat = [values1,values2]\n",
        "mat=np.array(mat)\n",
        "mat = np.reshape(mat,(2,-1))\n",
        "mat= mat.reshape(mat.shape[1],2)\n",
        "mat1 = pd.DataFrame(data=mat,columns=['x','y'])\n",
        "\n",
        "\n",
        "print(sc.score(mat1,\"x\",\"y\"))\n",
        "\n",
        "import seaborn as sns\n",
        "df_matrix = sc.matrix(mat1)\n",
        "sns.heatmap(df_matrix, vmin=0, vmax=1, cmap=\"Blues\", linewidths=0.5, annot=True)"
      ],
      "execution_count": 0,
      "outputs": [
        {
          "output_type": "stream",
          "text": [
            "{'x': 'x', 'y': 'y', 'task': 'regression', 'ppscore': 0.4379946629550828, 'metric': 'mean absolute error', 'baseline_score': 441.02828408269283, 'model_score': 247.86024944223524, 'model': DecisionTreeRegressor(ccp_alpha=0.0, criterion='mse', max_depth=None,\n",
            "                      max_features=None, max_leaf_nodes=None,\n",
            "                      min_impurity_decrease=0.0, min_impurity_split=None,\n",
            "                      min_samples_leaf=1, min_samples_split=2,\n",
            "                      min_weight_fraction_leaf=0.0, presort='deprecated',\n",
            "                      random_state=None, splitter='best')}\n"
          ],
          "name": "stdout"
        },
        {
          "output_type": "execute_result",
          "data": {
            "text/plain": [
              "<matplotlib.axes._subplots.AxesSubplot at 0x7f7f34d20b70>"
            ]
          },
          "metadata": {
            "tags": []
          },
          "execution_count": 54
        },
        {
          "output_type": "display_data",
          "data": {
            "image/png": "[encoded data removed]",
            "text/plain": [
              "<Figure size 432x288 with 2 Axes>"
            ]
          },
          "metadata": {
            "tags": [],
            "needs_background": "light"
          }
        }
      ]
    },
    {
      "cell_type": "markdown",
      "metadata": {
        "id": "_-j2Rqzv1Yny",
        "colab_type": "text"
      },
      "source": [
        "**Data Splitting**"
      ]
    },
    {
      "cell_type": "code",
      "metadata": {
        "id": "r5F2hNFzyYwt",
        "colab_type": "code",
        "colab": {}
      },
      "source": [
        "from sklearn.model_selection import train_test_split\n",
        "(x_train, xtest, ytrain, ytest) = train_test_split(feature, labels,\n",
        "\ttest_size=0.20, stratify=labels, random_state=40)"
      ],
      "execution_count": 0,
      "outputs": []
    },
    {
      "cell_type": "code",
      "metadata": {
        "id": "aWLLdAjLRuWk",
        "colab_type": "code",
        "outputId": "c4df2048-7c93-49bd-d0b2-03d7015fb6af",
        "colab": {
          "base_uri": "https://localhost:8080/",
          "height": 34
        }
      },
      "source": [
        "from keras.utils import to_categorical\n",
        "from sklearn.preprocessing import LabelBinarizer\n",
        "from sklearn.model_selection import train_test_split\n",
        "from sklearn.metrics import classification_report\n",
        "from sklearn.metrics import confusion_matrix\n",
        "lb = LabelBinarizer()\n",
        "labels = lb.fit_transform(data.label)\n",
        "lb.get_params(deep=True)\n"
      ],
      "execution_count": 0,
      "outputs": [
        {
          "output_type": "execute_result",
          "data": {
            "text/plain": [
              "{'neg_label': 0, 'pos_label': 1, 'sparse_output': False}"
            ]
          },
          "metadata": {
            "tags": []
          },
          "execution_count": 307
        }
      ]
    },
    {
      "cell_type": "markdown",
      "metadata": {
        "id": "iUAUvyiv1jhB",
        "colab_type": "text"
      },
      "source": [
        "**Model checking**"
      ]
    },
    {
      "cell_type": "code",
      "metadata": {
        "id": "wCN9wNklGy1I",
        "colab_type": "code",
        "colab": {}
      },
      "source": [
        "from sklearn.model_selection import train_test_split\n",
        "(x_train, xtest, ytrain, ytest) = train_test_split(feature, labels,\n",
        "\ttest_size=0.20, stratify=labels, random_state=40)"
      ],
      "execution_count": 0,
      "outputs": []
    },
    {
      "cell_type": "code",
      "metadata": {
        "id": "Js3hmabcKjfj",
        "colab_type": "code",
        "outputId": "52958b14-dea2-451a-bb7a-f32ff5e165b5",
        "colab": {
          "base_uri": "https://localhost:8080/",
          "height": 88
        }
      },
      "source": [
        "from sklearn.ensemble import RandomForestClassifier\n",
        "rc = RandomForestClassifier(n_estimators = 300,max_depth=50,random_state=50)\n",
        "rc .fit(x_train,ytrain)\n",
        "accuracy = rc.score(xtest,ytest)\n",
        "print(accuracy*100)"
      ],
      "execution_count": 0,
      "outputs": [
        {
          "output_type": "stream",
          "text": [
            "/usr/local/lib/python3.6/dist-packages/ipykernel_launcher.py:3: DataConversionWarning: A column-vector y was passed when a 1d array was expected. Please change the shape of y to (n_samples,), for example using ravel().\n",
            "  This is separate from the ipykernel package so we can avoid doing imports until\n"
          ],
          "name": "stderr"
        },
        {
          "output_type": "stream",
          "text": [
            "85.71428571428571\n"
          ],
          "name": "stdout"
        }
      ]
    },
    {
      "cell_type": "code",
      "metadata": {
        "id": "c-0LnCC1SARm",
        "colab_type": "code",
        "outputId": "8fe9b25e-e9f3-48dd-adf6-0a69204d3b13",
        "colab": {
          "base_uri": "https://localhost:8080/",
          "height": 204
        }
      },
      "source": [
        "pred = rc.predict(xtest)\n",
        "print(sklearn.metrics.confusion_matrix(ytest, pred))\n",
        "print(classification_report(ytest, pred)) "
      ],
      "execution_count": 0,
      "outputs": [
        {
          "output_type": "stream",
          "text": [
            "[[3 1]\n",
            " [0 3]]\n",
            "              precision    recall  f1-score   support\n",
            "\n",
            "           0       1.00      0.75      0.86         4\n",
            "           1       0.75      1.00      0.86         3\n",
            "\n",
            "    accuracy                           0.86         7\n",
            "   macro avg       0.88      0.88      0.86         7\n",
            "weighted avg       0.89      0.86      0.86         7\n",
            "\n"
          ],
          "name": "stdout"
        }
      ]
    },
    {
      "cell_type": "code",
      "metadata": {
        "id": "3WBWaZAM9pDa",
        "colab_type": "code",
        "colab": {}
      },
      "source": [
        "n_estimators = [100, 300, 500, 800, 1200]\n",
        "max_depth = [5, 8, 15, 25, 30]\n",
        "min_samples_split = [2, 5, 10, 15, 100]\n",
        "min_samples_leaf = [1, 2, 5, 10] \n",
        "\n",
        "hyperF = dict(n_estimators = n_estimators, max_depth = max_depth,  \n",
        "              min_samples_split = min_samples_split, \n",
        "             min_samples_leaf = min_samples_leaf)\n",
        "\n",
        "gridF = GridSearchCV(forest, hyperF,  verbose = 3, \n",
        "                      )\n",
        "bestF = gridF.fit(x_train, y_train)"
      ],
      "execution_count": 0,
      "outputs": []
    },
    {
      "cell_type": "markdown",
      "metadata": {
        "id": "WbWF9JEJlU_X",
        "colab_type": "text"
      },
      "source": [
        "#Second Trial On Real Data"
      ]
    },
    {
      "cell_type": "markdown",
      "metadata": {
        "colab_type": "text",
        "id": "uc2QWbrHVIrO"
      },
      "source": [
        "> This is Second trial of training on real data  \n",
        "\n",
        "> I have 63 samples"
      ]
    },
    {
      "cell_type": "code",
      "metadata": {
        "id": "3R4zwVVQ1z10",
        "colab_type": "code",
        "colab": {}
      },
      "source": [
        ""
      ],
      "execution_count": 0,
      "outputs": []
    },
    {
      "cell_type": "markdown",
      "metadata": {
        "id": "Ff7VhYof10fC",
        "colab_type": "text"
      },
      "source": [
        "**Data Extracting**"
      ]
    },
    {
      "cell_type": "code",
      "metadata": {
        "id": "Etz0gMiNlXPU",
        "colab_type": "code",
        "colab": {}
      },
      "source": [
        "\n",
        "import glob\n",
        "import os\n",
        "import pandas as pd\n",
        "\n",
        "\n",
        "df_new = []\n",
        "for folder in ['/content/drive/My Drive/Clean/Postive-con/**',\n",
        "             \n",
        "               ]:\n",
        "  for fname in glob.iglob(folder):\n",
        "    if os.path.exists(fname):\n",
        "      label = os.path.basename(fname).split(\".\")[1]\n",
        "      if label  in [\"wav\"]:\n",
        "      \n",
        "        df_new.append(\n",
        "              {\n",
        "                  \"filename \" : fname,\n",
        "               \"result\" : \"positve\" ,\n",
        "               \n",
        "              })"
      ],
      "execution_count": 0,
      "outputs": []
    },
    {
      "cell_type": "code",
      "metadata": {
        "id": "E8sPPm3Vleur",
        "colab_type": "code",
        "colab": {}
      },
      "source": [
        "\n",
        "import glob\n",
        "import os\n",
        "import pandas as pd\n",
        "\n",
        "\n",
        "for folder in [\"/content/drive/My Drive/Colab Notebooks/Audio Data/COVID-19 Converted/COVID-19 Converted/Negative-con/**\",\n",
        "             \n",
        "               ]:\n",
        "  for fname in glob.iglob(folder):\n",
        "    if os.path.exists(fname):\n",
        "      label = os.path.basename(fname).split(\".\")[1]\n",
        "      \n",
        "      if label  in [\"wav\"]:\n",
        "      \n",
        "        df_new.append(\n",
        "              {\n",
        "                  \"filename \" : fname,\n",
        "               \"result\" : \"negative\" ,\n",
        "               \n",
        "              })"
      ],
      "execution_count": 0,
      "outputs": []
    },
    {
      "cell_type": "code",
      "metadata": {
        "id": "zjORdsx5liC0",
        "colab_type": "code",
        "outputId": "496cdc3e-a581-45fb-d6e9-43afb2dfdcf1",
        "colab": {
          "base_uri": "https://localhost:8080/",
          "height": 204
        }
      },
      "source": [
        "import pandas as pd\n",
        "data_new = pd.DataFrame(df_new)\n",
        "data_new.head()"
      ],
      "execution_count": 0,
      "outputs": [
        {
          "output_type": "execute_result",
          "data": {
            "text/html": [
              "<div>\n",
              "<style scoped>\n",
              "    .dataframe tbody tr th:only-of-type {\n",
              "        vertical-align: middle;\n",
              "    }\n",
              "\n",
              "    .dataframe tbody tr th {\n",
              "        vertical-align: top;\n",
              "    }\n",
              "\n",
              "    .dataframe thead th {\n",
              "        text-align: right;\n",
              "    }\n",
              "</style>\n",
              "<table border=\"1\" class=\"dataframe\">\n",
              "  <thead>\n",
              "    <tr style=\"text-align: right;\">\n",
              "      <th></th>\n",
              "      <th>filename</th>\n",
              "      <th>result</th>\n",
              "    </tr>\n",
              "  </thead>\n",
              "  <tbody>\n",
              "    <tr>\n",
              "      <th>0</th>\n",
              "      <td>/content/drive/My Drive/Clean/Postive-con/pos-...</td>\n",
              "      <td>positve</td>\n",
              "    </tr>\n",
              "    <tr>\n",
              "      <th>1</th>\n",
              "      <td>/content/drive/My Drive/Clean/Postive-con/pos-...</td>\n",
              "      <td>positve</td>\n",
              "    </tr>\n",
              "    <tr>\n",
              "      <th>2</th>\n",
              "      <td>/content/drive/My Drive/Clean/Postive-con/pos-...</td>\n",
              "      <td>positve</td>\n",
              "    </tr>\n",
              "    <tr>\n",
              "      <th>3</th>\n",
              "      <td>/content/drive/My Drive/Clean/Postive-con/pos-...</td>\n",
              "      <td>positve</td>\n",
              "    </tr>\n",
              "    <tr>\n",
              "      <th>4</th>\n",
              "      <td>/content/drive/My Drive/Clean/Postive-con/pos-...</td>\n",
              "      <td>positve</td>\n",
              "    </tr>\n",
              "  </tbody>\n",
              "</table>\n",
              "</div>"
            ],
            "text/plain": [
              "                                           filename    result\n",
              "0  /content/drive/My Drive/Clean/Postive-con/pos-...  positve\n",
              "1  /content/drive/My Drive/Clean/Postive-con/pos-...  positve\n",
              "2  /content/drive/My Drive/Clean/Postive-con/pos-...  positve\n",
              "3  /content/drive/My Drive/Clean/Postive-con/pos-...  positve\n",
              "4  /content/drive/My Drive/Clean/Postive-con/pos-...  positve"
            ]
          },
          "metadata": {
            "tags": []
          },
          "execution_count": 4
        }
      ]
    },
    {
      "cell_type": "code",
      "metadata": {
        "id": "lmBbiveBllTs",
        "colab_type": "code",
        "outputId": "ef5d7f3f-86a1-48c4-8261-1735fb3e59a0",
        "colab": {
          "base_uri": "https://localhost:8080/",
          "height": 475
        }
      },
      "source": [
        "import matplotlib.pyplot as plt\n",
        "\n",
        "plt.figure(figsize = (12,6))\n",
        "data_new['result'].value_counts().plot(kind = 'bar' , title = ' Distribution' )\n",
        "plt.show()\n",
        "print(data_new['result'].value_counts())"
      ],
      "execution_count": 0,
      "outputs": [
        {
          "output_type": "display_data",
          "data": {
            "image/png": "[encoded data removed]",
            "text/plain": [
              "<Figure size 864x432 with 1 Axes>"
            ]
          },
          "metadata": {
            "tags": [],
            "needs_background": "light"
          }
        },
        {
          "output_type": "stream",
          "text": [
            "positve     32\n",
            "negative    32\n",
            "Name: result, dtype: int64\n"
          ],
          "name": "stdout"
        }
      ]
    },
    {
      "cell_type": "markdown",
      "metadata": {
        "id": "E0Kuedlf183T",
        "colab_type": "text"
      },
      "source": [
        "**Features Extraction**"
      ]
    },
    {
      "cell_type": "markdown",
      "metadata": {
        "colab_type": "text",
        "id": "t9fC_prYTl3r"
      },
      "source": [
        "I  have Extract different Features down below\n",
        "* rms\n",
        "* zcr \n",
        "* spectral_energy \n",
        "* centroid\n",
        "* mfcc\n",
        "* rolloff\n",
        "*pitch\n",
        "*melspectrogram\n",
        "*Constant-Q chromagram\n"
      ]
    },
    {
      "cell_type": "code",
      "metadata": {
        "id": "7phQBueRlqkk",
        "colab_type": "code",
        "colab": {}
      },
      "source": [
        "from tqdm import tqdm\n",
        "rms_energy = []\n",
        "zcr = []\n",
        "spectral_energy = []\n",
        "centroid=[]\n",
        "mfcc=[]\n",
        "rolloff=[]\n",
        "pitch=[]\n",
        "mel=[]\n",
        "chroma1 = []\n",
        "\n",
        "dr =10 \n",
        "\n",
        "def features1(path):\n",
        "  x,sr = librosa.load(path,duration=dr)\n",
        "  values =librosa.feature.spectral_centroid(x,sr)\n",
        "  return values\n",
        "\n",
        "def features2(path):\n",
        "  x,sr = librosa.load(path,duration=dr)\n",
        "  values = librosa.core.zero_crossings(x)\n",
        "  return values\n",
        "\n",
        "def features3(path):\n",
        "  x,sr = librosa.load(path,duration=dr)\n",
        "  values =librosa.feature.spectral_rolloff(y=x,sr=sr)\n",
        "  return values\n",
        "\n",
        "def features4(path):\n",
        "  x,sr = librosa.load(path,duration=dr)\n",
        "  values, magnitudes = librosa.piptrack(y=x, sr=sr)\n",
        "  return values\n",
        "\n",
        "def features5(path):\n",
        "  x,sr = librosa.load(path,duration=dr)\n",
        "  values =librosa.feature.mfcc(x,sr,n_mfcc=25)\n",
        "  return values\n",
        "\n",
        "\n",
        "def features6(path):\n",
        "  x,sr = librosa.load(path,duration=dr)\n",
        "  values =librosa.feature.rms(y=x)\n",
        "\n",
        "def features7(path):\n",
        "  x,sr = librosa.load(path,duration=dr)\n",
        "  values =librosa.feature.melspectrogram(y=x,sr=sr)\n",
        "  return values\n",
        "\n",
        "\n",
        "def features8(path):\n",
        "  x,sr = librosa.load(path)\n",
        "  values =librosa.get_duration(y=x,sr=sr)\n",
        "  return values\n",
        "def melfeatures(path):\n",
        "  f,samp_rate = librosa.load(path=path,duration = dr)\n",
        "  mel = librosa.feature.melspectrogram(y=f ,sr = samp_rate)\n",
        "  return mel\n",
        "def chroma(path):\n",
        "  f,samp_rate = librosa.load(path=path,duration = 10)\n",
        "  mfccs = librosa.feature.chroma_cqt(y=f,sr=samp_rate)\n",
        "  return mfccs \n",
        "\n",
        "\n"
      ],
      "execution_count": 0,
      "outputs": []
    },
    {
      "cell_type": "code",
      "metadata": {
        "id": "rLc1yEdplx8R",
        "colab_type": "code",
        "outputId": "b6f4c0a2-f2fa-4a6f-fd6d-ec645d95a3be",
        "colab": {
          "base_uri": "https://localhost:8080/",
          "height": 34
        }
      },
      "source": [
        "import librosa\n",
        "trai = data_new.rename(columns={'filename ': 'filename'})\n",
        "for i in tqdm(range(len(trai))):\n",
        "  rms_energy.append(features6(trai.filename.iloc[i]))\n",
        "  zcr.append(features2(trai.filename.iloc[i])) \n",
        "  mfcc.append(features5(trai.filename.iloc[i])) \n",
        "  centroid.append(features1(trai.filename.iloc[i])) \n",
        "  spectral_energy.append(features5(trai.filename.iloc[i]))\n",
        "  rolloff.append(features3(trai.filename.iloc[i])) \n",
        "  pitch.append(features4(trai.filename.iloc[i]))\n",
        "  mel.append(melfeatures(trai.filename.iloc[i]))\n",
        "  chroma1.append(chroma(trai.filename.iloc[i]))\n",
        "  "
      ],
      "execution_count": 0,
      "outputs": [
        {
          "output_type": "stream",
          "text": [
            "100%|██████████| 64/64 [06:30<00:00,  6.10s/it]\n"
          ],
          "name": "stderr"
        }
      ]
    },
    {
      "cell_type": "code",
      "metadata": {
        "id": "A2rR5HwWl3GK",
        "colab_type": "code",
        "colab": {}
      },
      "source": [
        "import numpy as np\n",
        "\n",
        "rms_energy = np.array(rms_energy)\n",
        "zcr = np.array(zcr)\n",
        "spectral_energy= np.array(spectral_energy)\n",
        "centroid = np.array(centroid)\n",
        "mfcc= np.array(mfcc)\n",
        "rolloff=np.array(rolloff)\n",
        "pitch= np.array(pitch)\n",
        "mel=np.array(mel)\n",
        "chroma1 = np.array(chroma1)"
      ],
      "execution_count": 0,
      "outputs": []
    },
    {
      "cell_type": "code",
      "metadata": {
        "id": "460Da2cnl8m6",
        "colab_type": "code",
        "outputId": "1398b18e-4ae1-4f6e-cc8d-363e8211636b",
        "colab": {
          "base_uri": "https://localhost:8080/",
          "height": 170
        }
      },
      "source": [
        "print(rms_energy.shape)\n",
        "print(zcr.shape)\n",
        "print(spectral_energy.shape)\n",
        "print(centroid.shape)\n",
        "print(mfcc.shape)\n",
        "print(rolloff.shape)\n",
        "print(pitch.shape)\n",
        "print(mel.shape)\n",
        "print(chroma1.shape)"
      ],
      "execution_count": 0,
      "outputs": [
        {
          "output_type": "stream",
          "text": [
            "(64,)\n",
            "(64, 220500)\n",
            "(64, 25, 431)\n",
            "(64, 1, 431)\n",
            "(64, 25, 431)\n",
            "(64, 1, 431)\n",
            "(64, 1025, 431)\n",
            "(64, 128, 431)\n",
            "(64, 12, 431)\n"
          ],
          "name": "stdout"
        }
      ]
    },
    {
      "cell_type": "code",
      "metadata": {
        "id": "dA4SdbWgmCNW",
        "colab_type": "code",
        "outputId": "0112975e-f8cc-420a-ef2b-dcae12d708fc",
        "colab": {
          "base_uri": "https://localhost:8080/",
          "height": 34
        }
      },
      "source": [
        "feature1_new = np.concatenate((mel,pitch,mfcc,centroid,chroma1,rolloff),axis=1)\n",
        "#feature1 = np.concatenate((mel,pitch,mfcc,chroma1),axis=1)\n",
        "feature2_new= feature1_new.reshape(feature1_new.shape[0],feature1_new.shape[1]*feature1_new.shape[2])\n",
        "feature_new = np.concatenate((feature2_new,zcr),axis =1 )\n",
        "feature_new.shape"
      ],
      "execution_count": 0,
      "outputs": [
        {
          "output_type": "execute_result",
          "data": {
            "text/plain": [
              "(64, 734252)"
            ]
          },
          "metadata": {
            "tags": []
          },
          "execution_count": 10
        }
      ]
    },
    {
      "cell_type": "markdown",
      "metadata": {
        "id": "u1jEO7Gj2EBI",
        "colab_type": "text"
      },
      "source": [
        "**Data Splitting**"
      ]
    },
    {
      "cell_type": "code",
      "metadata": {
        "id": "Np7pM8mooR5Q",
        "colab_type": "code",
        "outputId": "05a9e093-a1b3-419d-973f-8152c15f1e79",
        "colab": {
          "base_uri": "https://localhost:8080/",
          "height": 51
        }
      },
      "source": [
        "from keras.utils import to_categorical\n",
        "from sklearn.preprocessing import LabelBinarizer\n",
        "from sklearn.model_selection import train_test_split\n",
        "from sklearn.metrics import classification_report\n",
        "from sklearn.metrics import confusion_matrix\n",
        "lb = LabelBinarizer()\n",
        "results = lb.fit_transform(data_new.result)\n",
        "lb.get_params(deep=True)\n"
      ],
      "execution_count": 0,
      "outputs": [
        {
          "output_type": "stream",
          "text": [
            "Using TensorFlow backend.\n"
          ],
          "name": "stderr"
        },
        {
          "output_type": "execute_result",
          "data": {
            "text/plain": [
              "{'neg_label': 0, 'pos_label': 1, 'sparse_output': False}"
            ]
          },
          "metadata": {
            "tags": []
          },
          "execution_count": 11
        }
      ]
    },
    {
      "cell_type": "code",
      "metadata": {
        "id": "5c9gomcXoXNf",
        "colab_type": "code",
        "colab": {}
      },
      "source": [
        "from sklearn.model_selection import train_test_split\n",
        "(x_train_new, xtest_new, ytrain_new, ytest_new) = train_test_split(feature_new,results,\n",
        "\ttest_size=0.30, stratify=results, random_state=40)"
      ],
      "execution_count": 0,
      "outputs": []
    },
    {
      "cell_type": "markdown",
      "metadata": {
        "id": "K3w4Ugx52Jef",
        "colab_type": "text"
      },
      "source": [
        "**First Model Testing**"
      ]
    },
    {
      "cell_type": "code",
      "metadata": {
        "id": "CsN5QD-3o0lJ",
        "colab_type": "code",
        "outputId": "fbc5657b-d66f-478b-e348-0e095e39e25d",
        "colab": {
          "base_uri": "https://localhost:8080/",
          "height": 139
        }
      },
      "source": [
        "from sklearn.svm import SVC\n",
        "sc_new= SVC(kernel='sigmoid')\n",
        "sc_new.fit(x_train_new,ytrain_new)"
      ],
      "execution_count": 0,
      "outputs": [
        {
          "output_type": "stream",
          "text": [
            "/usr/local/lib/python3.6/dist-packages/sklearn/utils/validation.py:760: DataConversionWarning: A column-vector y was passed when a 1d array was expected. Please change the shape of y to (n_samples, ), for example using ravel().\n",
            "  y = column_or_1d(y, warn=True)\n"
          ],
          "name": "stderr"
        },
        {
          "output_type": "execute_result",
          "data": {
            "text/plain": [
              "SVC(C=1.0, break_ties=False, cache_size=200, class_weight=None, coef0=0.0,\n",
              "    decision_function_shape='ovr', degree=3, gamma='scale', kernel='sigmoid',\n",
              "    max_iter=-1, probability=False, random_state=None, shrinking=True,\n",
              "    tol=0.001, verbose=False)"
            ]
          },
          "metadata": {
            "tags": []
          },
          "execution_count": 16
        }
      ]
    },
    {
      "cell_type": "code",
      "metadata": {
        "id": "8mnlvdB6piD_",
        "colab_type": "code",
        "outputId": "7c92cd69-4a8a-4315-e8dd-ce62f338d36f",
        "colab": {
          "base_uri": "https://localhost:8080/",
          "height": 34
        }
      },
      "source": [
        "sc_new.score(xtest_new, ytest_new)"
      ],
      "execution_count": 0,
      "outputs": [
        {
          "output_type": "execute_result",
          "data": {
            "text/plain": [
              "0.7894736842105263"
            ]
          },
          "metadata": {
            "tags": []
          },
          "execution_count": 370
        }
      ]
    },
    {
      "cell_type": "code",
      "metadata": {
        "id": "g6ETVnESpqTv",
        "colab_type": "code",
        "outputId": "013176f0-362a-464f-d5df-fe1ff7352c27",
        "colab": {
          "base_uri": "https://localhost:8080/",
          "height": 204
        }
      },
      "source": [
        "pred_new = sc_new.predict(xtest_new)\n",
        "print(sklearn.metrics.confusion_matrix(ytest_new, pred_new))\n",
        "print(classification_report(ytest_new, pred_new))"
      ],
      "execution_count": 0,
      "outputs": [
        {
          "output_type": "stream",
          "text": [
            "[[7 3]\n",
            " [1 8]]\n",
            "              precision    recall  f1-score   support\n",
            "\n",
            "           0       0.88      0.70      0.78        10\n",
            "           1       0.73      0.89      0.80         9\n",
            "\n",
            "    accuracy                           0.79        19\n",
            "   macro avg       0.80      0.79      0.79        19\n",
            "weighted avg       0.81      0.79      0.79        19\n",
            "\n"
          ],
          "name": "stdout"
        }
      ]
    },
    {
      "cell_type": "markdown",
      "metadata": {
        "id": "nuZJzyQK2a6P",
        "colab_type": "text"
      },
      "source": [
        "**Second Model Testing(Coding phase)**"
      ]
    },
    {
      "cell_type": "code",
      "metadata": {
        "id": "kCidhKtQDJaS",
        "colab_type": "code",
        "colab": {}
      },
      "source": [
        "from sklearn.model_selection import train_test_split\n",
        "(x_train_new, xtest_new, ytrain_new, ytest_new) = train_test_split(feature_new,results,\n",
        "\ttest_size=0.30, stratify=results, random_state=20)"
      ],
      "execution_count": 0,
      "outputs": []
    },
    {
      "cell_type": "code",
      "metadata": {
        "id": "AzdhPXQb2YCL",
        "colab_type": "code",
        "outputId": "a276ff72-2185-4ae0-ce85-1c61c5c03a40",
        "colab": {
          "base_uri": "https://localhost:8080/",
          "height": 34
        }
      },
      "source": [
        "sc_new.score(xtest_new, ytest_new)"
      ],
      "execution_count": 0,
      "outputs": [
        {
          "output_type": "execute_result",
          "data": {
            "text/plain": [
              "0.85"
            ]
          },
          "metadata": {
            "tags": []
          },
          "execution_count": 85
        }
      ]
    },
    {
      "cell_type": "code",
      "metadata": {
        "id": "0pdBuu1Lq3Ee",
        "colab_type": "code",
        "outputId": "c3174478-2f75-4d27-849b-becab01d9bdb",
        "colab": {
          "base_uri": "https://localhost:8080/",
          "height": 204
        }
      },
      "source": [
        "import sklearn\n",
        "pred_new = sc_new.predict(xtest_new)\n",
        "print(sklearn.metrics.confusion_matrix(ytest_new, pred_new))\n",
        "print(classification_report(ytest_new, pred_new))"
      ],
      "execution_count": 0,
      "outputs": [
        {
          "output_type": "stream",
          "text": [
            "[[10  0]\n",
            " [ 3  7]]\n",
            "              precision    recall  f1-score   support\n",
            "\n",
            "           0       0.77      1.00      0.87        10\n",
            "           1       1.00      0.70      0.82        10\n",
            "\n",
            "    accuracy                           0.85        20\n",
            "   macro avg       0.88      0.85      0.85        20\n",
            "weighted avg       0.88      0.85      0.85        20\n",
            "\n"
          ],
          "name": "stdout"
        }
      ]
    },
    {
      "cell_type": "markdown",
      "metadata": {
        "id": "a7R2hUEK2uSA",
        "colab_type": "text"
      },
      "source": [
        "**Parameters Searching**\n",
        "> Still Doing"
      ]
    },
    {
      "cell_type": "code",
      "metadata": {
        "id": "x40hjk6ft8lC",
        "colab_type": "code",
        "colab": {}
      },
      "source": [
        "from sklearn.model_selection import GridSearchCV \n",
        "\n",
        "param_grid = {'C': [0.1, 1, 10, 100, 1000],  \n",
        "               \n",
        "              'kernel':  ['sigmoid']}  \n",
        " \n",
        "grid = GridSearchCV(SVC(), param_grid, refit = True, verbose = 3,cv = 3) "
      ],
      "execution_count": 0,
      "outputs": []
    },
    {
      "cell_type": "code",
      "metadata": {
        "id": "4cqY3YBgusVi",
        "colab_type": "code",
        "colab": {}
      },
      "source": [
        "grid.fit(x_train_new, ytrain_new)"
      ],
      "execution_count": 0,
      "outputs": []
    },
    {
      "cell_type": "code",
      "metadata": {
        "id": "ThnlnpecuyBE",
        "colab_type": "code",
        "outputId": "f66be579-1192-47b4-bca0-dcfbadde835b",
        "colab": {
          "base_uri": "https://localhost:8080/",
          "height": 102
        }
      },
      "source": [
        "print(grid.best_params_) \n",
        "  \n",
        "# print how our model looks after hyper-parameter tuning \n",
        "print(grid.best_estimator_)"
      ],
      "execution_count": 0,
      "outputs": [
        {
          "output_type": "stream",
          "text": [
            "{'C': 0.1, 'gamma': 1, 'kernel': 'sigmoid'}\n",
            "SVC(C=0.1, break_ties=False, cache_size=200, class_weight=None, coef0=0.0,\n",
            "    decision_function_shape='ovr', degree=3, gamma=1, kernel='sigmoid',\n",
            "    max_iter=-1, probability=False, random_state=None, shrinking=True,\n",
            "    tol=0.001, verbose=False)\n"
          ],
          "name": "stdout"
        }
      ]
    },
    {
      "cell_type": "code",
      "metadata": {
        "id": "HWkcvPPTv4cQ",
        "colab_type": "code",
        "outputId": "6ee1ffef-33cd-459c-cb06-5b8739ffd24e",
        "colab": {
          "base_uri": "https://localhost:8080/",
          "height": 204
        }
      },
      "source": [
        "import sklearn\n",
        "pred_new = sc_new.predict(xtest_new)\n",
        "print(sklearn.metrics.confusion_matrix(ytest_new, pred_new))\n",
        "print(classification_report(ytest_new, pred_new))"
      ],
      "execution_count": 0,
      "outputs": [
        {
          "output_type": "stream",
          "text": [
            "[[10  0]\n",
            " [ 3  7]]\n",
            "              precision    recall  f1-score   support\n",
            "\n",
            "           0       0.77      1.00      0.87        10\n",
            "           1       1.00      0.70      0.82        10\n",
            "\n",
            "    accuracy                           0.85        20\n",
            "   macro avg       0.88      0.85      0.85        20\n",
            "weighted avg       0.88      0.85      0.85        20\n",
            "\n"
          ],
          "name": "stdout"
        }
      ]
    },
    {
      "cell_type": "code",
      "metadata": {
        "id": "EXaIuaziHF0E",
        "colab_type": "code",
        "outputId": "2817ccfe-196e-4aaf-e516-beb0d8dc20ac",
        "colab": {
          "base_uri": "https://localhost:8080/",
          "height": 34
        }
      },
      "source": [
        "sklearn.metrics.matthews_corrcoef(ytest_new, pred_new)"
      ],
      "execution_count": 0,
      "outputs": [
        {
          "output_type": "execute_result",
          "data": {
            "text/plain": [
              "0.7337993857053428"
            ]
          },
          "metadata": {
            "tags": []
          },
          "execution_count": 88
        }
      ]
    },
    {
      "cell_type": "code",
      "metadata": {
        "id": "ebrGF8UmH0W0",
        "colab_type": "code",
        "outputId": "b6229ccb-50b1-4347-c125-b376fcbe5f4f",
        "colab": {
          "base_uri": "https://localhost:8080/",
          "height": 34
        }
      },
      "source": [
        "sklearn.metrics.roc_auc_score(ytest_new, pred_new)"
      ],
      "execution_count": 0,
      "outputs": [
        {
          "output_type": "execute_result",
          "data": {
            "text/plain": [
              "0.85"
            ]
          },
          "metadata": {
            "tags": []
          },
          "execution_count": 89
        }
      ]
    },
    {
      "cell_type": "markdown",
      "metadata": {
        "id": "v8Zp-SHBzqyf",
        "colab_type": "text"
      },
      "source": [
        "> TO DO:\n",
        "\n",
        "* Apply Cross Validation like Kfold\n",
        "\n",
        "* Working on more features and data\n",
        "\n",
        "* Filters part"
      ]
    },
    {
      "cell_type": "code",
      "metadata": {
        "id": "HK5vVp7WxtAG",
        "colab_type": "code",
        "colab": {}
      },
      "source": [
        ""
      ],
      "execution_count": 0,
      "outputs": []
    }
  ]
}