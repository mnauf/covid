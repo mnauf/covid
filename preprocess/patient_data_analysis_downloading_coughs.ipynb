{
  "nbformat": 4,
  "nbformat_minor": 0,
  "metadata": {
    "colab": {
      "name": "patient_data_analysis_downloading_coughs.ipynb",
      "provenance": [],
      "collapsed_sections": []
    },
    "kernelspec": {
      "name": "python3",
      "display_name": "Python 3"
    }
  },
  "cells": [
    {
      "cell_type": "code",
      "metadata": {
        "id": "2L_Px_Lkoy1f",
        "colab_type": "code",
        "colab": {}
      },
      "source": [
        "import numpy as np\n",
        "import pandas as pd\n",
        "import io\n",
        "import urllib.request"
      ],
      "execution_count": 0,
      "outputs": []
    },
    {
      "cell_type": "code",
      "metadata": {
        "id": "PtD8SgRIt0pz",
        "colab_type": "code",
        "colab": {}
      },
      "source": [
        "df = pd.read_csv('/content/drive/My Drive/merged(both13and14).csv') #importing csv"
      ],
      "execution_count": 0,
      "outputs": []
    },
    {
      "cell_type": "code",
      "metadata": {
        "id": "EzaFlj7CvaQQ",
        "colab_type": "code",
        "colab": {}
      },
      "source": [
        "negatives = len(df[df['labels'] == 'NOT DETECTED']) #not detected counts\n",
        "print(negatives)"
      ],
      "execution_count": 0,
      "outputs": []
    },
    {
      "cell_type": "code",
      "metadata": {
        "id": "gIkNTEkAyTrd",
        "colab_type": "code",
        "colab": {}
      },
      "source": [
        "positives = len(df[df['labels'] =='DETECTED']) #detected counts\n",
        "print(positives)"
      ],
      "execution_count": 0,
      "outputs": []
    },
    {
      "cell_type": "markdown",
      "metadata": {
        "id": "UpodYG7BGm20",
        "colab_type": "text"
      },
      "source": [
        "**NEGATIVES 28 samples**"
      ]
    },
    {
      "cell_type": "code",
      "metadata": {
        "id": "CLI52uquzZkI",
        "colab_type": "code",
        "colab": {}
      },
      "source": [
        "negative_sample = list()\n",
        "names = list()\n",
        "for lab,link in df.iterrows():\n",
        "  if link['labels'] == 'NOT DETECTED':\n",
        "    negative_sample.append(link['cough_filename']) #cough files appended to negative_sample list\n",
        "    names.append(str(link['random_id'])) #dmc numbers appended to names list"
      ],
      "execution_count": 0,
      "outputs": []
    },
    {
      "cell_type": "code",
      "metadata": {
        "id": "GffKCkhA1cHY",
        "colab_type": "code",
        "colab": {}
      },
      "source": [
        "len(negative_sample)"
      ],
      "execution_count": 0,
      "outputs": []
    },
    {
      "cell_type": "code",
      "metadata": {
        "id": "gAAK99hwCgpF",
        "colab_type": "code",
        "colab": {}
      },
      "source": [
        "print(negative_sample[-1][57:-4]) #slicing of link (slicing initial part till pakistan/)"
      ],
      "execution_count": 0,
      "outputs": []
    },
    {
      "cell_type": "code",
      "metadata": {
        "id": "34BgOBOi17pg",
        "colab_type": "code",
        "colab": {}
      },
      "source": [
        "for i in range(0,len(negative_sample)):\n",
        "    url = negative_sample[i]\n",
        "    path = '/content/not-detected/'\n",
        "    file_name = path + names[i] + '-' + negative_sample[i][57:-4] + '.wav' #filename as dmc number-link(sliced after *...pakistan/)\n",
        "    urllib.request.urlretrieve(url,file_name) "
      ],
      "execution_count": 0,
      "outputs": []
    },
    {
      "cell_type": "code",
      "metadata": {
        "id": "oK9QJqJG_GWm",
        "colab_type": "code",
        "colab": {}
      },
      "source": [
        "!zip not-detected.zip -r /content/not-detected #creating a zip file"
      ],
      "execution_count": 0,
      "outputs": []
    },
    {
      "cell_type": "code",
      "metadata": {
        "id": "kCljFrjEFT5b",
        "colab_type": "code",
        "colab": {}
      },
      "source": [
        "!mv not-detected.zip '/content/drive/My Drive/'"
      ],
      "execution_count": 0,
      "outputs": []
    },
    {
      "cell_type": "markdown",
      "metadata": {
        "id": "ZTKGQaovGuGR",
        "colab_type": "text"
      },
      "source": [
        "**POSITIVES 4 sample**"
      ]
    },
    {
      "cell_type": "code",
      "metadata": {
        "id": "xkTvbykqGtzU",
        "colab_type": "code",
        "colab": {}
      },
      "source": [
        "positive_sample = list()\n",
        "names = list()\n",
        "for lab,link in df.iterrows():\n",
        "  if link['labels'] == 'DETECTED':\n",
        "    positive_sample.append(link['cough_filename'])\n",
        "    names.append(str(link['random_id']))"
      ],
      "execution_count": 0,
      "outputs": []
    },
    {
      "cell_type": "code",
      "metadata": {
        "id": "63AVErwqGG3H",
        "colab_type": "code",
        "colab": {}
      },
      "source": [
        "len(positive_sample)"
      ],
      "execution_count": 0,
      "outputs": []
    },
    {
      "cell_type": "code",
      "metadata": {
        "id": "8ufIlivWHEp-",
        "colab_type": "code",
        "colab": {}
      },
      "source": [
        "print(positive_sample[-1][57:-4]) #slicing of link"
      ],
      "execution_count": 0,
      "outputs": []
    },
    {
      "cell_type": "code",
      "metadata": {
        "id": "uF1s4DbvHYsc",
        "colab_type": "code",
        "colab": {}
      },
      "source": [
        "for i in range(0,len(positive_sample)):\n",
        "    url = positive_sample[i]\n",
        "    path = '/content/detected/'\n",
        "    file_name = path + names[i] + '-' + positive_sample[i][57:-4] + '.wav'\n",
        "    urllib.request.urlretrieve(url,file_name)"
      ],
      "execution_count": 0,
      "outputs": []
    },
    {
      "cell_type": "code",
      "metadata": {
        "id": "iWW1a0gzHrha",
        "colab_type": "code",
        "colab": {}
      },
      "source": [
        "!zip detected.zip -r /content/detected"
      ],
      "execution_count": 0,
      "outputs": []
    },
    {
      "cell_type": "code",
      "metadata": {
        "id": "P-iiVL7OIK83",
        "colab_type": "code",
        "colab": {}
      },
      "source": [
        "!mv detected.zip '/content/drive/My Drive/'"
      ],
      "execution_count": 0,
      "outputs": []
    },
    {
      "cell_type": "code",
      "metadata": {
        "id": "7FB6MwRBIjEb",
        "colab_type": "code",
        "colab": {}
      },
      "source": [
        "!rm -r '/content/detected'"
      ],
      "execution_count": 0,
      "outputs": []
    },
    {
      "cell_type": "code",
      "metadata": {
        "id": "H79Nt7zjI5Da",
        "colab_type": "code",
        "colab": {}
      },
      "source": [
        "!rm -r '/content/not-detected'"
      ],
      "execution_count": 0,
      "outputs": []
    },
    {
      "cell_type": "code",
      "metadata": {
        "id": "v2KfTn8DI9V_",
        "colab_type": "code",
        "colab": {}
      },
      "source": [
        ""
      ],
      "execution_count": 0,
      "outputs": []
    }
  ]
}