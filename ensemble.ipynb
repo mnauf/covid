{
  "nbformat": 4,
  "nbformat_minor": 0,
  "metadata": {
    "kernelspec": {
      "display_name": "Python 3",
      "language": "python",
      "name": "python3"
    },
    "language_info": {
      "codemirror_mode": {
        "name": "ipython",
        "version": 3
      },
      "file_extension": ".py",
      "mimetype": "text/x-python",
      "name": "python",
      "nbconvert_exporter": "python",
      "pygments_lexer": "ipython3",
      "version": "3.7.6"
    },
    "colab": {
      "name": "ensemble.ipynb",
      "provenance": [],
      "collapsed_sections": []
    }
  },
  "cells": [
    {
      "cell_type": "code",
      "metadata": {
        "id": "2GBXBM1mLFxt",
        "colab_type": "code",
        "colab": {}
      },
      "source": [
        "import pandas as pd\n",
        "import numpy as np\n",
        "\n",
        "from google.colab import drive\n",
        "drive.mount('/content/drive')"
      ],
      "execution_count": 0,
      "outputs": []
    },
    {
      "cell_type": "code",
      "metadata": {
        "id": "Fo41k9e9DySO",
        "colab_type": "code",
        "colab": {
          "base_uri": "https://localhost:8080/",
          "height": 34
        },
        "outputId": "8a864c96-a920-48ad-a377-c02ca8275868"
      },
      "source": [
        "# use shorter filepaths for the data and models\n",
        "DATA_PATH = '/content/drive/My Drive/virufy/confidential data/media all - old'\n",
        "MODELS_PATH = '/content/drive/My Drive/virufy/models/'\n",
        "data_folder = '/content/data'\n",
        "models_path = '/content/models'\n",
        "\n",
        "!ln -sf \"$DATA_PATH\" \"$data_folder\"\n",
        "!ln -sf \"$MODELS_PATH\" \"$models_path\""
      ],
      "execution_count": 2,
      "outputs": [
        {
          "output_type": "stream",
          "text": [
            "ln: failed to create symbolic link '/content/models/models': Operation not supported\n"
          ],
          "name": "stdout"
        }
      ]
    },
    {
      "cell_type": "code",
      "metadata": {
        "id": "YTQJuI5RWCT6",
        "colab_type": "code",
        "colab": {}
      },
      "source": [
        "data = pd.read_csv(\"/content/drive/My Drive/virufy/confidential data/patient data all - clean.csv\")  # (m,?)"
      ],
      "execution_count": 0,
      "outputs": []
    },
    {
      "cell_type": "code",
      "metadata": {
        "id": "7dxCHVn9EmZU",
        "colab_type": "code",
        "colab": {}
      },
      "source": [
        "import sample"
      ],
      "execution_count": 0,
      "outputs": []
    },
    {
      "cell_type": "code",
      "metadata": {
        "id": "eUwQXW7vWCUK",
        "colab_type": "code",
        "colab": {}
      },
      "source": [
        "# all of below functions will return (m,1)\n",
        "sample.predict(data, models_path + 'sample.h5')\n",
        "\n",
        "#cough_ml_pred = cough_ml.predict(df, models_path + \"cough_ml.h5\")  # (m,?), remove softmax => (m,10)\n",
        "#text_pred = text.predict(df, models_path + \"text.h5\")  #(m,1)"
      ],
      "execution_count": 0,
      "outputs": []
    },
    {
      "cell_type": "code",
      "metadata": {
        "id": "46szCp8VMKqD",
        "colab_type": "code",
        "colab": {}
      },
      "source": [
        "# combine all predictions into (m,?)\n",
        "# X = np.concatenate(df, cough_ml_pred, text_pred)\n",
        "# y = df['corona_test']\n",
        "\n",
        "# let's try manual feature engineering here\n",
        "\n",
        "# output probability"
      ],
      "execution_count": 0,
      "outputs": []
    }
  ]
}