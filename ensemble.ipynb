{
  "nbformat": 4,
  "nbformat_minor": 0,
  "metadata": {
    "kernelspec": {
      "display_name": "Python 3",
      "language": "python",
      "name": "python3"
    },
    "language_info": {
      "codemirror_mode": {
        "name": "ipython",
        "version": 3
      },
      "file_extension": ".py",
      "mimetype": "text/x-python",
      "name": "python",
      "nbconvert_exporter": "python",
      "pygments_lexer": "ipython3",
      "version": "3.7.6"
    },
    "colab": {
      "name": "ensemble.ipynb",
      "provenance": [],
      "collapsed_sections": [],
      "toc_visible": true
    }
  },
  "cells": [
    {
      "cell_type": "code",
      "metadata": {
        "id": "2GBXBM1mLFxt",
        "colab_type": "code",
        "outputId": "700f55be-a5b7-4872-ddc2-833f44ef6ec5",
        "colab": {
          "base_uri": "https://localhost:8080/",
          "height": 123
        }
      },
      "source": [
        "import pandas as pd\n",
        "import numpy as np\n",
        "\n",
        "from google.colab import drive\n",
        "drive.mount('/content/drive')"
      ],
      "execution_count": 2,
      "outputs": [
        {
          "output_type": "stream",
          "text": [
            "Go to this URL in a browser: https://accounts.google.com/o/oauth2/auth?client_id=947318989803-6bn6qk8qdgf4n4g3pfee6491hc0brc4i.apps.googleusercontent.com&redirect_uri=urn%3aietf%3awg%3aoauth%3a2.0%3aoob&response_type=code&scope=email%20https%3a%2f%2fwww.googleapis.com%2fauth%2fdocs.test%20https%3a%2f%2fwww.googleapis.com%2fauth%2fdrive%20https%3a%2f%2fwww.googleapis.com%2fauth%2fdrive.photos.readonly%20https%3a%2f%2fwww.googleapis.com%2fauth%2fpeopleapi.readonly\n",
            "\n",
            "Enter your authorization code:\n",
            "··········\n",
            "Mounted at /content/drive\n"
          ],
          "name": "stdout"
        }
      ]
    },
    {
      "cell_type": "code",
      "metadata": {
        "id": "YTQJuI5RWCT6",
        "colab_type": "code",
        "colab": {}
      },
      "source": [
        "df = pd.read_csv(\"/content/drive/My Drive/virufy/Data Collection/confidential data/patient data all - clean.csv\")  # (m,13)"
      ],
      "execution_count": 0,
      "outputs": []
    },
    {
      "cell_type": "code",
      "metadata": {
        "id": "eUwQXW7vWCUK",
        "colab_type": "code",
        "colab": {}
      },
      "source": [
        "models_path = \"/content/drive/My Drive/virufy/models/\"\n",
        "\n",
        "# all of below functions will return (m,1)\n",
        "cough_ml_pred = cough_ml.predict(df, models_path + \"cough_ml.h5\")\n",
        "#cough_cnn\n",
        "text_pred = text.predict(df, models_path + \"text.h5\")"
      ],
      "execution_count": 0,
      "outputs": []
    },
    {
      "cell_type": "code",
      "metadata": {
        "id": "46szCp8VMKqD",
        "colab_type": "code",
        "colab": {}
      },
      "source": [
        "# combine all predictions into (m,y+13)\n",
        "# X = np.concatenate(df, cough_ml_pred, text_pred)\n",
        "# y = df['corona_test']\n",
        "\n",
        "# let's try manual feature engineering here\n",
        "\n",
        "# output probability"
      ],
      "execution_count": 0,
      "outputs": []
    }
  ]
}